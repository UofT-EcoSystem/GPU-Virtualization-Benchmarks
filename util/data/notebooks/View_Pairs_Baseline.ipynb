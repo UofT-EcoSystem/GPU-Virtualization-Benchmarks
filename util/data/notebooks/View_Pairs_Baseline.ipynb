{
 "cells": [
  {
   "cell_type": "code",
   "execution_count": 1,
   "metadata": {},
   "outputs": [],
   "source": [
    "%load_ext autoreload\n",
    "%autoreload 2\n",
    "\n",
    "import pandas as pd\n",
    "import os\n",
    "import sys\n",
    "from ipywidgets import widgets\n",
    "from IPython.display import display, HTML\n",
    "from IPython.display import clear_output\n",
    "import matplotlib.pyplot as plt\n",
    "import seaborn as sns\n",
    "import scipy\n",
    "import sklearn\n",
    "\n",
    "# Customized modules\n",
    "HOME = '/home/serinatan/project/GPU-Virtualization-Benchmarks/util'\n",
    "if HOME not in sys.path:\n",
    "    sys.path.append(HOME)\n",
    "\n",
    "import data.scripts.common.format as fmt\n",
    "import data.scripts.common.constants as const\n",
    "import data.scripts.gen_tables.gen_pair_configs as gen_pair\n",
    "\n",
    "SCRIPT_PATH = os.path.join(HOME, 'data/scripts') \n",
    "PKL_PATH = os.path.join(HOME, 'data/pickles') "
   ]
  },
  {
   "cell_type": "code",
   "execution_count": 2,
   "metadata": {},
   "outputs": [],
   "source": [
    "def draw_table(df, cols, hide_index=True):\n",
    "    if hide_index:\n",
    "        return df[cols].style.set_table_styles(fmt.table_style).hide_index()\n",
    "    else:\n",
    "        return df[cols].style.set_table_styles(fmt.table_style)"
   ]
  },
  {
   "cell_type": "markdown",
   "metadata": {},
   "source": [
    "# SMK w.r.t Seq"
   ]
  },
  {
   "cell_type": "code",
   "execution_count": 42,
   "metadata": {},
   "outputs": [],
   "source": [
    "gen_pair = os.path.join(SCRIPT_PATH, 'gen_tables/gen_table_pair.py')\n",
    "baseline = 'seq'\n",
    "csv = os.path.join(HOME, 'data/csv/pair_smk.csv')\n",
    "baseline_pkl = os.path.join(PKL_PATH, 'seq.pkl')\n",
    "output = os.path.join(PKL_PATH, 'smk.pkl')\n",
    "\n",
    "%run $gen_pair --csv $csv --output $output --baseline_pkl $baseline_pkl --baseline $baseline --smk"
   ]
  },
  {
   "cell_type": "code",
   "execution_count": 43,
   "metadata": {},
   "outputs": [
    {
     "data": {
      "text/html": [
       "<style  type=\"text/css\" >\n",
       "    #T_b99b2e4e_3ba7_11ea_926a_107b4493f33b tr:nth-of-type(odd) {\n",
       "          background: #eee;\n",
       "    }    #T_b99b2e4e_3ba7_11ea_926a_107b4493f33b tr:nth-of-type(even) {\n",
       "          background: white;\n",
       "    }    #T_b99b2e4e_3ba7_11ea_926a_107b4493f33b th {\n",
       "          background: #606060;\n",
       "          color: white;\n",
       "          font-family: verdana;\n",
       "          font-size: 90%;\n",
       "    }    #T_b99b2e4e_3ba7_11ea_926a_107b4493f33b td {\n",
       "          font-family: verdana;\n",
       "          font-size: 90%;\n",
       "          font-weight: bold;\n",
       "    }    #T_b99b2e4e_3ba7_11ea_926a_107b4493f33b tr:hover {\n",
       "          background-color: #ffffcc;\n",
       "    }</style><table id=\"T_b99b2e4e_3ba7_11ea_926a_107b4493f33b\" ><thead>    <tr>        <th class=\"col_heading level0 col0\" >1_bench</th>        <th class=\"col_heading level0 col1\" >2_bench</th>        <th class=\"col_heading level0 col2\" >1_sld</th>        <th class=\"col_heading level0 col3\" >2_sld</th>        <th class=\"col_heading level0 col4\" >ws</th>        <th class=\"col_heading level0 col5\" >fairness</th>        <th class=\"col_heading level0 col6\" >1_norm_mflat</th>        <th class=\"col_heading level0 col7\" >2_norm_mflat</th>    </tr></thead><tbody>\n",
       "                <tr>\n",
       "                                <td id=\"T_b99b2e4e_3ba7_11ea_926a_107b4493f33brow0_col0\" class=\"data row0 col0\" >cut_sgemm-1</td>\n",
       "                        <td id=\"T_b99b2e4e_3ba7_11ea_926a_107b4493f33brow0_col1\" class=\"data row0 col1\" >parb_lbm-0</td>\n",
       "                        <td id=\"T_b99b2e4e_3ba7_11ea_926a_107b4493f33brow0_col2\" class=\"data row0 col2\" >0.180838</td>\n",
       "                        <td id=\"T_b99b2e4e_3ba7_11ea_926a_107b4493f33brow0_col3\" class=\"data row0 col3\" >0.950202</td>\n",
       "                        <td id=\"T_b99b2e4e_3ba7_11ea_926a_107b4493f33brow0_col4\" class=\"data row0 col4\" >1.13104</td>\n",
       "                        <td id=\"T_b99b2e4e_3ba7_11ea_926a_107b4493f33brow0_col5\" class=\"data row0 col5\" >0.190316</td>\n",
       "                        <td id=\"T_b99b2e4e_3ba7_11ea_926a_107b4493f33brow0_col6\" class=\"data row0 col6\" >7.11493</td>\n",
       "                        <td id=\"T_b99b2e4e_3ba7_11ea_926a_107b4493f33brow0_col7\" class=\"data row0 col7\" >0.362547</td>\n",
       "            </tr>\n",
       "            <tr>\n",
       "                                <td id=\"T_b99b2e4e_3ba7_11ea_926a_107b4493f33brow1_col0\" class=\"data row1 col0\" >cut_sgemm-1</td>\n",
       "                        <td id=\"T_b99b2e4e_3ba7_11ea_926a_107b4493f33brow1_col1\" class=\"data row1 col1\" >parb_spmv-0</td>\n",
       "                        <td id=\"T_b99b2e4e_3ba7_11ea_926a_107b4493f33brow1_col2\" class=\"data row1 col2\" >0.954379</td>\n",
       "                        <td id=\"T_b99b2e4e_3ba7_11ea_926a_107b4493f33brow1_col3\" class=\"data row1 col3\" >0.948842</td>\n",
       "                        <td id=\"T_b99b2e4e_3ba7_11ea_926a_107b4493f33brow1_col4\" class=\"data row1 col4\" >1.90322</td>\n",
       "                        <td id=\"T_b99b2e4e_3ba7_11ea_926a_107b4493f33brow1_col5\" class=\"data row1 col5\" >0.994198</td>\n",
       "                        <td id=\"T_b99b2e4e_3ba7_11ea_926a_107b4493f33brow1_col6\" class=\"data row1 col6\" >1.00967</td>\n",
       "                        <td id=\"T_b99b2e4e_3ba7_11ea_926a_107b4493f33brow1_col7\" class=\"data row1 col7\" >0.738365</td>\n",
       "            </tr>\n",
       "            <tr>\n",
       "                                <td id=\"T_b99b2e4e_3ba7_11ea_926a_107b4493f33brow2_col0\" class=\"data row2 col0\" >cut_sgemm-1</td>\n",
       "                        <td id=\"T_b99b2e4e_3ba7_11ea_926a_107b4493f33brow2_col1\" class=\"data row2 col1\" >parb_stencil-0</td>\n",
       "                        <td id=\"T_b99b2e4e_3ba7_11ea_926a_107b4493f33brow2_col2\" class=\"data row2 col2\" >0.663187</td>\n",
       "                        <td id=\"T_b99b2e4e_3ba7_11ea_926a_107b4493f33brow2_col3\" class=\"data row2 col3\" >0.910176</td>\n",
       "                        <td id=\"T_b99b2e4e_3ba7_11ea_926a_107b4493f33brow2_col4\" class=\"data row2 col4\" >1.57336</td>\n",
       "                        <td id=\"T_b99b2e4e_3ba7_11ea_926a_107b4493f33brow2_col5\" class=\"data row2 col5\" >0.728636</td>\n",
       "                        <td id=\"T_b99b2e4e_3ba7_11ea_926a_107b4493f33brow2_col6\" class=\"data row2 col6\" >0.996778</td>\n",
       "                        <td id=\"T_b99b2e4e_3ba7_11ea_926a_107b4493f33brow2_col7\" class=\"data row2 col7\" >0.430431</td>\n",
       "            </tr>\n",
       "            <tr>\n",
       "                                <td id=\"T_b99b2e4e_3ba7_11ea_926a_107b4493f33brow3_col0\" class=\"data row3 col0\" >cut_wmma-0</td>\n",
       "                        <td id=\"T_b99b2e4e_3ba7_11ea_926a_107b4493f33brow3_col1\" class=\"data row3 col1\" >parb_lbm-0</td>\n",
       "                        <td id=\"T_b99b2e4e_3ba7_11ea_926a_107b4493f33brow3_col2\" class=\"data row3 col2\" >0.124711</td>\n",
       "                        <td id=\"T_b99b2e4e_3ba7_11ea_926a_107b4493f33brow3_col3\" class=\"data row3 col3\" >0.891608</td>\n",
       "                        <td id=\"T_b99b2e4e_3ba7_11ea_926a_107b4493f33brow3_col4\" class=\"data row3 col4\" >1.01632</td>\n",
       "                        <td id=\"T_b99b2e4e_3ba7_11ea_926a_107b4493f33brow3_col5\" class=\"data row3 col5\" >0.139872</td>\n",
       "                        <td id=\"T_b99b2e4e_3ba7_11ea_926a_107b4493f33brow3_col6\" class=\"data row3 col6\" >7.17216</td>\n",
       "                        <td id=\"T_b99b2e4e_3ba7_11ea_926a_107b4493f33brow3_col7\" class=\"data row3 col7\" >0.408079</td>\n",
       "            </tr>\n",
       "            <tr>\n",
       "                                <td id=\"T_b99b2e4e_3ba7_11ea_926a_107b4493f33brow4_col0\" class=\"data row4 col0\" >cut_wmma-0</td>\n",
       "                        <td id=\"T_b99b2e4e_3ba7_11ea_926a_107b4493f33brow4_col1\" class=\"data row4 col1\" >parb_spmv-0</td>\n",
       "                        <td id=\"T_b99b2e4e_3ba7_11ea_926a_107b4493f33brow4_col2\" class=\"data row4 col2\" >0.624722</td>\n",
       "                        <td id=\"T_b99b2e4e_3ba7_11ea_926a_107b4493f33brow4_col3\" class=\"data row4 col3\" >0.607166</td>\n",
       "                        <td id=\"T_b99b2e4e_3ba7_11ea_926a_107b4493f33brow4_col4\" class=\"data row4 col4\" >1.23189</td>\n",
       "                        <td id=\"T_b99b2e4e_3ba7_11ea_926a_107b4493f33brow4_col5\" class=\"data row4 col5\" >0.971898</td>\n",
       "                        <td id=\"T_b99b2e4e_3ba7_11ea_926a_107b4493f33brow4_col6\" class=\"data row4 col6\" >1.91941</td>\n",
       "                        <td id=\"T_b99b2e4e_3ba7_11ea_926a_107b4493f33brow4_col7\" class=\"data row4 col7\" >1</td>\n",
       "            </tr>\n",
       "            <tr>\n",
       "                                <td id=\"T_b99b2e4e_3ba7_11ea_926a_107b4493f33brow5_col0\" class=\"data row5 col0\" >cut_wmma-0</td>\n",
       "                        <td id=\"T_b99b2e4e_3ba7_11ea_926a_107b4493f33brow5_col1\" class=\"data row5 col1\" >parb_stencil-0</td>\n",
       "                        <td id=\"T_b99b2e4e_3ba7_11ea_926a_107b4493f33brow5_col2\" class=\"data row5 col2\" >0.491898</td>\n",
       "                        <td id=\"T_b99b2e4e_3ba7_11ea_926a_107b4493f33brow5_col3\" class=\"data row5 col3\" >0.671498</td>\n",
       "                        <td id=\"T_b99b2e4e_3ba7_11ea_926a_107b4493f33brow5_col4\" class=\"data row5 col4\" >1.1634</td>\n",
       "                        <td id=\"T_b99b2e4e_3ba7_11ea_926a_107b4493f33brow5_col5\" class=\"data row5 col5\" >0.732538</td>\n",
       "                        <td id=\"T_b99b2e4e_3ba7_11ea_926a_107b4493f33brow5_col6\" class=\"data row5 col6\" >2.2149</td>\n",
       "                        <td id=\"T_b99b2e4e_3ba7_11ea_926a_107b4493f33brow5_col7\" class=\"data row5 col7\" >0.713588</td>\n",
       "            </tr>\n",
       "            <tr>\n",
       "                                <td id=\"T_b99b2e4e_3ba7_11ea_926a_107b4493f33brow6_col0\" class=\"data row6 col0\" >parb_cutcp-0</td>\n",
       "                        <td id=\"T_b99b2e4e_3ba7_11ea_926a_107b4493f33brow6_col1\" class=\"data row6 col1\" >parb_lbm-0</td>\n",
       "                        <td id=\"T_b99b2e4e_3ba7_11ea_926a_107b4493f33brow6_col2\" class=\"data row6 col2\" >0.309201</td>\n",
       "                        <td id=\"T_b99b2e4e_3ba7_11ea_926a_107b4493f33brow6_col3\" class=\"data row6 col3\" >0.987677</td>\n",
       "                        <td id=\"T_b99b2e4e_3ba7_11ea_926a_107b4493f33brow6_col4\" class=\"data row6 col4\" >1.29688</td>\n",
       "                        <td id=\"T_b99b2e4e_3ba7_11ea_926a_107b4493f33brow6_col5\" class=\"data row6 col5\" >0.313059</td>\n",
       "                        <td id=\"T_b99b2e4e_3ba7_11ea_926a_107b4493f33brow6_col6\" class=\"data row6 col6\" >67.3312</td>\n",
       "                        <td id=\"T_b99b2e4e_3ba7_11ea_926a_107b4493f33brow6_col7\" class=\"data row6 col7\" >0.898802</td>\n",
       "            </tr>\n",
       "            <tr>\n",
       "                                <td id=\"T_b99b2e4e_3ba7_11ea_926a_107b4493f33brow7_col0\" class=\"data row7 col0\" >parb_cutcp-0</td>\n",
       "                        <td id=\"T_b99b2e4e_3ba7_11ea_926a_107b4493f33brow7_col1\" class=\"data row7 col1\" >parb_spmv-0</td>\n",
       "                        <td id=\"T_b99b2e4e_3ba7_11ea_926a_107b4493f33brow7_col2\" class=\"data row7 col2\" >0.879459</td>\n",
       "                        <td id=\"T_b99b2e4e_3ba7_11ea_926a_107b4493f33brow7_col3\" class=\"data row7 col3\" >0.992489</td>\n",
       "                        <td id=\"T_b99b2e4e_3ba7_11ea_926a_107b4493f33brow7_col4\" class=\"data row7 col4\" >1.87195</td>\n",
       "                        <td id=\"T_b99b2e4e_3ba7_11ea_926a_107b4493f33brow7_col5\" class=\"data row7 col5\" >0.886115</td>\n",
       "                        <td id=\"T_b99b2e4e_3ba7_11ea_926a_107b4493f33brow7_col6\" class=\"data row7 col6\" >3.54545</td>\n",
       "                        <td id=\"T_b99b2e4e_3ba7_11ea_926a_107b4493f33brow7_col7\" class=\"data row7 col7\" >0.992453</td>\n",
       "            </tr>\n",
       "            <tr>\n",
       "                                <td id=\"T_b99b2e4e_3ba7_11ea_926a_107b4493f33brow8_col0\" class=\"data row8 col0\" >parb_cutcp-0</td>\n",
       "                        <td id=\"T_b99b2e4e_3ba7_11ea_926a_107b4493f33brow8_col1\" class=\"data row8 col1\" >parb_stencil-0</td>\n",
       "                        <td id=\"T_b99b2e4e_3ba7_11ea_926a_107b4493f33brow8_col2\" class=\"data row8 col2\" >0.802363</td>\n",
       "                        <td id=\"T_b99b2e4e_3ba7_11ea_926a_107b4493f33brow8_col3\" class=\"data row8 col3\" >0.996123</td>\n",
       "                        <td id=\"T_b99b2e4e_3ba7_11ea_926a_107b4493f33brow8_col4\" class=\"data row8 col4\" >1.79849</td>\n",
       "                        <td id=\"T_b99b2e4e_3ba7_11ea_926a_107b4493f33brow8_col5\" class=\"data row8 col5\" >0.805485</td>\n",
       "                        <td id=\"T_b99b2e4e_3ba7_11ea_926a_107b4493f33brow8_col6\" class=\"data row8 col6\" >6.04545</td>\n",
       "                        <td id=\"T_b99b2e4e_3ba7_11ea_926a_107b4493f33brow8_col7\" class=\"data row8 col7\" >0.8869</td>\n",
       "            </tr>\n",
       "    </tbody></table>"
      ],
      "text/plain": [
       "<pandas.io.formats.style.Styler at 0x7f5e6dd6df28>"
      ]
     },
     "execution_count": 43,
     "metadata": {},
     "output_type": "execute_result"
    }
   ],
   "source": [
    "df_smk = pd.read_pickle(os.path.join(PKL_PATH, 'smk.pkl'))\n",
    "df_smk.sort_values(['1_bench', '2_bench'], inplace=True)\n",
    "\n",
    "col_smk = ['1_bench', '2_bench', '1_sld', '2_sld', 'ws', 'fairness', '1_norm_mflat', '2_norm_mflat']\n",
    "draw_table(df_smk, col_smk)"
   ]
  },
  {
   "cell_type": "code",
   "execution_count": 5,
   "metadata": {},
   "outputs": [
    {
     "name": "stdout",
     "output_type": "stream",
     "text": [
      "   num_legs  num_wings  num_specimen_seen    type\n",
      "0         2          2                 10  falcon\n",
      "1         4          0                  2     dog\n",
      "2         8          0                  1  spider\n",
      "3         0          0                  8    fish\n"
     ]
    }
   ],
   "source": [
    "df = pd.DataFrame({'num_legs': [2, 4, 8, 0],\n",
    "                    'num_wings': [2, 0, 0, 0],\n",
    "                    'num_specimen_seen': [10, 2, 1, 8],\n",
    "                    'type': ['falcon', 'dog', 'spider', 'fish']})\n",
    "print(df)"
   ]
  },
  {
   "cell_type": "code",
   "execution_count": null,
   "metadata": {},
   "outputs": [],
   "source": []
  }
 ],
 "metadata": {
  "kernelspec": {
   "display_name": "Python 3",
   "language": "python",
   "name": "python3"
  },
  "language_info": {
   "codemirror_mode": {
    "name": "ipython",
    "version": 3
   },
   "file_extension": ".py",
   "mimetype": "text/x-python",
   "name": "python",
   "nbconvert_exporter": "python",
   "pygments_lexer": "ipython3",
   "version": "3.6.8"
  }
 },
 "nbformat": 4,
 "nbformat_minor": 2
}
