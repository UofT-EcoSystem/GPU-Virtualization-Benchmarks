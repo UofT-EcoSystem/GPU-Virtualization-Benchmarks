{
 "cells": [
  {
   "cell_type": "code",
   "execution_count": 32,
   "metadata": {},
   "outputs": [],
   "source": [
    "import numpy as np\n",
    "from numpy.linalg import inv"
   ]
  },
  {
   "cell_type": "code",
   "execution_count": 60,
   "metadata": {},
   "outputs": [
    {
     "name": "stdout",
     "output_type": "stream",
     "text": [
      "S: [0 1 2 3 4]\n",
      "C: [ 5  6  7 14 15 16]\n",
      "B: [13 17 18 19]\n",
      "CH: [ 8  9 10 11 12]\n",
      "R: [20 21 22 23 24 25 26 27 28 29 30 31 32]\n"
     ]
    }
   ],
   "source": [
    "# bim = np.identity(35)\n",
    "bim = np.identity(33)\n",
    "\n",
    "S = np.arange(0, 5)\n",
    "print('S:', S)\n",
    "C = np.array([5,6,7,14,15,16])\n",
    "print('C:', C)\n",
    "B = np.array([13,17,18,19])\n",
    "print('B:', B)\n",
    "CH = np.arange(8, 5+8)\n",
    "print('CH:', CH)\n",
    "R = np.arange(20, 33)\n",
    "print('R:', R)\n",
    "\n",
    "bim[C[0]][R[np.array([10,9,5,0])]] = 1\n",
    "bim[C[0]][B[np.array([3,0])]] = 1\n",
    "\n",
    "bim[C[1]][R[np.array([12,11,6,1])]] = 1\n",
    "bim[C[1]][B[np.array([3,2,1])]] = 1\n",
    "\n",
    "bim[C[2]][R[np.array([9,8,7,2])]] = 1\n",
    "bim[C[2]][B[np.array([1])]] = 1\n",
    "\n",
    "bim[C[3]][R[np.array([11,10,8,3])]] = 1\n",
    "bim[C[3]][B[np.array([2,3])]] = 1\n",
    "\n",
    "bim[C[4]][R[np.array([12,9,8,5,4])]] = 1\n",
    "bim[C[4]][B[np.array([1,0])]] = 1\n"
   ]
  },
  {
   "cell_type": "code",
   "execution_count": 58,
   "metadata": {},
   "outputs": [
    {
     "data": {
      "text/plain": [
       "False"
      ]
     },
     "execution_count": 58,
     "metadata": {},
     "output_type": "execute_result"
    }
   ],
   "source": [
    "ibim = bim.transpose()\n",
    "np.allclose(np.dot(bim, ibim), np.eye(33))"
   ]
  },
  {
   "cell_type": "code",
   "execution_count": 45,
   "metadata": {},
   "outputs": [
    {
     "name": "stdout",
     "output_type": "stream",
     "text": [
      "[ 0.  0.  0.  0.  0.  0.  0.  0.  0.  0.  0.  0.  0. -1.  0.  1.  0. -1.\n",
      "  0.  0.  0.  0.  0.  0. -1. -1.  0.  0. -1. -1.  0.  0. -1.]\n"
     ]
    }
   ],
   "source": [
    "print(ibim[C[4]])"
   ]
  },
  {
   "cell_type": "code",
   "execution_count": 64,
   "metadata": {},
   "outputs": [
    {
     "ename": "KeyboardInterrupt",
     "evalue": "",
     "output_type": "error",
     "traceback": [
      "\u001b[0;31m---------------------------------------------------------------------------\u001b[0m",
      "\u001b[0;31mKeyboardInterrupt\u001b[0m                         Traceback (most recent call last)",
      "\u001b[0;32m<ipython-input-64-0aa5bc414f2d>\u001b[0m in \u001b[0;36m<module>\u001b[0;34m\u001b[0m\n\u001b[1;32m     17\u001b[0m     \u001b[0mrandbim\u001b[0m\u001b[0;34m[\u001b[0m\u001b[0mC\u001b[0m\u001b[0;34m[\u001b[0m\u001b[0;36m3\u001b[0m\u001b[0;34m]\u001b[0m\u001b[0;34m]\u001b[0m\u001b[0;34m[\u001b[0m\u001b[0mR\u001b[0m\u001b[0;34m]\u001b[0m \u001b[0;34m=\u001b[0m \u001b[0mnp\u001b[0m\u001b[0;34m.\u001b[0m\u001b[0mrandom\u001b[0m\u001b[0;34m.\u001b[0m\u001b[0mchoice\u001b[0m\u001b[0;34m(\u001b[0m\u001b[0ma\u001b[0m\u001b[0;34m=\u001b[0m\u001b[0;34m[\u001b[0m\u001b[0;36m0\u001b[0m\u001b[0;34m,\u001b[0m\u001b[0;36m1\u001b[0m\u001b[0;34m]\u001b[0m\u001b[0;34m,\u001b[0m \u001b[0msize\u001b[0m\u001b[0;34m=\u001b[0m\u001b[0mR\u001b[0m\u001b[0;34m.\u001b[0m\u001b[0mshape\u001b[0m\u001b[0;34m,\u001b[0m \u001b[0mp\u001b[0m\u001b[0;34m=\u001b[0m\u001b[0;34m[\u001b[0m\u001b[0;36m0.5\u001b[0m\u001b[0;34m,\u001b[0m\u001b[0;36m0.5\u001b[0m\u001b[0;34m]\u001b[0m\u001b[0;34m)\u001b[0m\u001b[0;34m\u001b[0m\u001b[0;34m\u001b[0m\u001b[0m\n\u001b[1;32m     18\u001b[0m \u001b[0;31m#     randbim[C[3]][B] = np.random.choice(a=[0,1], size=B.shape, p=[0.5,0.5])\u001b[0m\u001b[0;34m\u001b[0m\u001b[0;34m\u001b[0m\u001b[0;34m\u001b[0m\u001b[0m\n\u001b[0;32m---> 19\u001b[0;31m     \u001b[0mrandbim\u001b[0m\u001b[0;34m[\u001b[0m\u001b[0mC\u001b[0m\u001b[0;34m[\u001b[0m\u001b[0;36m4\u001b[0m\u001b[0;34m]\u001b[0m\u001b[0;34m]\u001b[0m\u001b[0;34m[\u001b[0m\u001b[0mR\u001b[0m\u001b[0;34m]\u001b[0m \u001b[0;34m=\u001b[0m \u001b[0mnp\u001b[0m\u001b[0;34m.\u001b[0m\u001b[0mrandom\u001b[0m\u001b[0;34m.\u001b[0m\u001b[0mchoice\u001b[0m\u001b[0;34m(\u001b[0m\u001b[0ma\u001b[0m\u001b[0;34m=\u001b[0m\u001b[0;34m[\u001b[0m\u001b[0;36m0\u001b[0m\u001b[0;34m,\u001b[0m\u001b[0;36m1\u001b[0m\u001b[0;34m]\u001b[0m\u001b[0;34m,\u001b[0m \u001b[0msize\u001b[0m\u001b[0;34m=\u001b[0m\u001b[0mR\u001b[0m\u001b[0;34m.\u001b[0m\u001b[0mshape\u001b[0m\u001b[0;34m,\u001b[0m \u001b[0mp\u001b[0m\u001b[0;34m=\u001b[0m\u001b[0;34m[\u001b[0m\u001b[0;36m0.5\u001b[0m\u001b[0;34m,\u001b[0m\u001b[0;36m0.5\u001b[0m\u001b[0;34m]\u001b[0m\u001b[0;34m)\u001b[0m\u001b[0;34m\u001b[0m\u001b[0;34m\u001b[0m\u001b[0m\n\u001b[0m\u001b[1;32m     20\u001b[0m \u001b[0;31m#     randbim[C[4]][B] = np.random.choice(a=[0,1], size=B.shape, p=[0.5,0.5])\u001b[0m\u001b[0;34m\u001b[0m\u001b[0;34m\u001b[0m\u001b[0;34m\u001b[0m\u001b[0m\n\u001b[1;32m     21\u001b[0m \u001b[0;34m\u001b[0m\u001b[0m\n",
      "\u001b[0;32mmtrand.pyx\u001b[0m in \u001b[0;36mnumpy.random.mtrand.RandomState.choice\u001b[0;34m()\u001b[0m\n",
      "\u001b[0;32m~/project/gpgpu-sim_simulations/util/job_launching/env/lib/python3.6/site-packages/numpy/core/getlimits.py\u001b[0m in \u001b[0;36m__new__\u001b[0;34m(cls, dtype)\u001b[0m\n\u001b[1;32m    363\u001b[0m     \u001b[0m_finfo_cache\u001b[0m \u001b[0;34m=\u001b[0m \u001b[0;34m{\u001b[0m\u001b[0;34m}\u001b[0m\u001b[0;34m\u001b[0m\u001b[0;34m\u001b[0m\u001b[0m\n\u001b[1;32m    364\u001b[0m \u001b[0;34m\u001b[0m\u001b[0m\n\u001b[0;32m--> 365\u001b[0;31m     \u001b[0;32mdef\u001b[0m \u001b[0m__new__\u001b[0m\u001b[0;34m(\u001b[0m\u001b[0mcls\u001b[0m\u001b[0;34m,\u001b[0m \u001b[0mdtype\u001b[0m\u001b[0;34m)\u001b[0m\u001b[0;34m:\u001b[0m\u001b[0;34m\u001b[0m\u001b[0;34m\u001b[0m\u001b[0m\n\u001b[0m\u001b[1;32m    366\u001b[0m         \u001b[0;32mtry\u001b[0m\u001b[0;34m:\u001b[0m\u001b[0;34m\u001b[0m\u001b[0;34m\u001b[0m\u001b[0m\n\u001b[1;32m    367\u001b[0m             \u001b[0mdtype\u001b[0m \u001b[0;34m=\u001b[0m \u001b[0mnumeric\u001b[0m\u001b[0;34m.\u001b[0m\u001b[0mdtype\u001b[0m\u001b[0;34m(\u001b[0m\u001b[0mdtype\u001b[0m\u001b[0;34m)\u001b[0m\u001b[0;34m\u001b[0m\u001b[0;34m\u001b[0m\u001b[0m\n",
      "\u001b[0;31mKeyboardInterrupt\u001b[0m: "
     ]
    }
   ],
   "source": [
    "randbim = np.identity(33)\n",
    "max_iters = 1000000\n",
    "np.random.seed(3)\n",
    "\n",
    "def is_odd(x):\n",
    "    return (x % 2 == 1)\n",
    "\n",
    "vec_odd = np.vectorize(is_odd)\n",
    "\n",
    "while(max_iters > 0):\n",
    "    randbim[C[0]][R] = np.random.choice(a=[0,1], size=R.shape, p=[0.5,0.5])\n",
    "#     randbim[C[0]][B] = np.random.choice(a=[0,1], size=B.shape, p=[0.5,0.5])\n",
    "    randbim[C[1]][R] = np.random.choice(a=[0,1], size=R.shape, p=[0.5,0.5])\n",
    "#     randbim[C[1]][B] = np.random.choice(a=[0,1], size=B.shape, p=[0.5,0.5])\n",
    "    randbim[C[2]][R] = np.random.choice(a=[0,1], size=R.shape, p=[0.5,0.5])\n",
    "#     randbim[C[2]][B] = np.random.choice(a=[0,1], size=B.shape, p=[0.5,0.5])\n",
    "    randbim[C[3]][R] = np.random.choice(a=[0,1], size=R.shape, p=[0.5,0.5])\n",
    "#     randbim[C[3]][B] = np.random.choice(a=[0,1], size=B.shape, p=[0.5,0.5])\n",
    "    randbim[C[4]][R] = np.random.choice(a=[0,1], size=R.shape, p=[0.5,0.5])\n",
    "#     randbim[C[4]][B] = np.random.choice(a=[0,1], size=B.shape, p=[0.5,0.5])\n",
    "    \n",
    "    max_iters -= 1\n",
    "\n",
    "    prod = vec_odd(np.dot(randbim, randbim.transpose()))\n",
    "    if np.allclose(prod, np.eye(33)):\n",
    "        print(randbim[C[0]])\n",
    "        print(randbim[C[1]])\n",
    "        print(randbim[C[2]])\n",
    "        print(randbim[C[3]])\n",
    "        print(randbim[C[4]])"
   ]
  },
  {
   "cell_type": "code",
   "execution_count": 67,
   "metadata": {},
   "outputs": [
    {
     "data": {
      "text/plain": [
       "array([[ True, False, False, False, False],\n",
       "       [False,  True, False,  True, False],\n",
       "       [False, False,  True, False,  True],\n",
       "       [False,  True, False, False, False],\n",
       "       [False, False,  True, False, False]])"
      ]
     },
     "execution_count": 67,
     "metadata": {},
     "output_type": "execute_result"
    }
   ],
   "source": [
    "good = np.array([[1,0,0,0,0], [0,1,0,0,0], [0,0,1,0,0], [0,1,0,1,0], [0,0,1,0,1]])\n",
    "vec_odd(np.dot(good, good.transpose()))"
   ]
  },
  {
   "cell_type": "code",
   "execution_count": null,
   "metadata": {},
   "outputs": [],
   "source": []
  }
 ],
 "metadata": {
  "kernelspec": {
   "display_name": "Python 3",
   "language": "python",
   "name": "python3"
  },
  "language_info": {
   "codemirror_mode": {
    "name": "ipython",
    "version": 3
   },
   "file_extension": ".py",
   "mimetype": "text/x-python",
   "name": "python",
   "nbconvert_exporter": "python",
   "pygments_lexer": "ipython3",
   "version": "3.6.8"
  }
 },
 "nbformat": 4,
 "nbformat_minor": 2
}
