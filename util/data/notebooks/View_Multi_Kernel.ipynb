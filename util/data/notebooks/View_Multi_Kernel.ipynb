{
 "cells": [
  {
   "cell_type": "code",
   "execution_count": 239,
   "metadata": {},
   "outputs": [
    {
     "name": "stdout",
     "output_type": "stream",
     "text": [
      "The autoreload extension is already loaded. To reload it, use:\n",
      "  %reload_ext autoreload\n"
     ]
    }
   ],
   "source": [
    "%load_ext autoreload\n",
    "%autoreload 2\n",
    "\n",
    "import pandas as pd\n",
    "import os\n",
    "import sys\n",
    "from ipywidgets import widgets\n",
    "from IPython.display import display, HTML\n",
    "from IPython.display import clear_output\n",
    "import matplotlib.pyplot as plt\n",
    "import seaborn as sns\n",
    "import altair as alt\n",
    "from tabulate import tabulate\n",
    "import math\n",
    "\n",
    "# Customized modules\n",
    "HOME = '/home/serinatan/project/GPU-Virtualization-Benchmarks/util'\n",
    "if HOME not in sys.path:\n",
    "    sys.path.append(HOME)\n",
    "\n",
    "import data.scripts.common.format as fmt\n",
    "import data.scripts.common.constants as const\n",
    "import data.scripts.gen_tables.gen_pair_configs as gen_pair\n",
    "import data.scripts.gen_tables.search_best_inter as search_inter\n",
    "import data.scripts.gen_graphs.gen_altair_timeline as gen_altair\n",
    "import scheduler.scheduler as scheduler\n",
    "import data.scripts.gen_tables.gen_lut_configs as lut_configs\n",
    "\n",
    "SCRIPT_PATH = os.path.join(HOME, 'data/scripts') \n",
    "PKL_PATH = os.path.join(HOME, 'data/pickles') \n",
    "CSV_PATH = os.path.join(HOME, 'data/csv') \n",
    "GRAPH_PATH = os.path.join(HOME, 'data/graphs')\n",
    "\n",
    "%config InlineBackend.figure_format ='retina'\n",
    "plt.style.use('seaborn-talk')"
   ]
  },
  {
   "cell_type": "code",
   "execution_count": 2,
   "metadata": {},
   "outputs": [],
   "source": [
    "def draw_table(df, cols, hide_index=True):\n",
    "    if hide_index:\n",
    "        return df[cols].style.set_table_styles(fmt.table_style).hide_index()\n",
    "    else:\n",
    "        return df[cols].style.set_table_styles(fmt.table_style)"
   ]
  },
  {
   "cell_type": "markdown",
   "metadata": {},
   "source": [
    "# Seq"
   ]
  },
  {
   "cell_type": "code",
   "execution_count": 3,
   "metadata": {
    "scrolled": false
   },
   "outputs": [
    {
     "name": "stdout",
     "output_type": "stream",
     "text": [
      "Index(['pair_str', 'config', 'gpusim_version', 'jobId', 'stall_icnt_to_l2',\n",
      "       'stall_l2_to_icnt', 'stall_core_ldst', 'l1D_miss_rate', 'l2_miss_rate',\n",
      "       'l2_rshr_entry_fail', 'l2_rshr_merge_fail', 'l2_total_accesses',\n",
      "       'mem_count', 'empty_warp', 'stall_warp', 'idle_warp', 'scoreboard_warp',\n",
      "       'tot_warp_insn', 'runtime', 'instructions', 'l2_bw', 'avg_mem_lat',\n",
      "       'avg_core_to_l2', 'avg_l2_to_core', 'avg_mrq_latency', 'dram_eff',\n",
      "       'dram_bw', 'row_buffer_locality', 'mem_idle', 'total_cmd', 'ipc',\n",
      "       'avg_dram_bw', 'avg_dram_eff', 'avg_row_locality', 'std_dram_bw',\n",
      "       'ratio_dram_bw', 'MPKI', 'l2_access_density', '1_kidx', 'waves'],\n",
      "      dtype='object')\n"
     ]
    }
   ],
   "source": [
    "# run python scripts to generate all the pickles needed\n",
    "gen_seq = os.path.join(SCRIPT_PATH, 'gen_tables/gen_table_seq.py')   \n",
    "seq_file = os.path.join(CSV_PATH, 'seq-multi.csv')\n",
    "seq_pkl = os.path.join(PKL_PATH, 'seq-multi.pkl')\n",
    "%run $gen_seq --multi --csv $seq_file --output $seq_pkl\n",
    "\n",
    "df_seq = pd.read_pickle(os.path.join(PKL_PATH, 'seq-multi.pkl'))\n",
    "print(df_seq.columns)"
   ]
  },
  {
   "cell_type": "code",
   "execution_count": 237,
   "metadata": {},
   "outputs": [
    {
     "data": {
      "text/html": [
       "<style  type=\"text/css\" >\n",
       "    #T_4118560c_a431_11ea_b432_107b4493f33b tr:nth-of-type(odd) {\n",
       "          background: #eee;\n",
       "    }    #T_4118560c_a431_11ea_b432_107b4493f33b tr:nth-of-type(even) {\n",
       "          background: white;\n",
       "    }    #T_4118560c_a431_11ea_b432_107b4493f33b th {\n",
       "          background: #606060;\n",
       "          color: white;\n",
       "          font-family: verdana;\n",
       "          font-size: 90%;\n",
       "    }    #T_4118560c_a431_11ea_b432_107b4493f33b td {\n",
       "          font-family: verdana;\n",
       "          font-size: 90%;\n",
       "          font-weight: bold;\n",
       "    }    #T_4118560c_a431_11ea_b432_107b4493f33b tr:hover {\n",
       "          background-color: #ffffcc;\n",
       "    }</style><table id=\"T_4118560c_a431_11ea_b432_107b4493f33b\" ><thead>    <tr>        <th class=\"col_heading level0 col0\" >pair_str</th>        <th class=\"col_heading level0 col1\" >1_kidx</th>        <th class=\"col_heading level0 col2\" >runtime</th>        <th class=\"col_heading level0 col3\" >instructions</th>        <th class=\"col_heading level0 col4\" >ipc</th>        <th class=\"col_heading level0 col5\" >avg_dram_bw</th>        <th class=\"col_heading level0 col6\" >waves</th>        <th class=\"col_heading level0 col7\" >l1D_miss_rate</th>        <th class=\"col_heading level0 col8\" >l2_miss_rate</th>    </tr></thead><tbody>\n",
       "                <tr>\n",
       "                                <td id=\"T_4118560c_a431_11ea_b432_107b4493f33brow0_col0\" class=\"data row0 col0\" >nvd_conv-0</td>\n",
       "                        <td id=\"T_4118560c_a431_11ea_b432_107b4493f33brow0_col1\" class=\"data row0 col1\" >1</td>\n",
       "                        <td id=\"T_4118560c_a431_11ea_b432_107b4493f33brow0_col2\" class=\"data row0 col2\" >190,346</td>\n",
       "                        <td id=\"T_4118560c_a431_11ea_b432_107b4493f33brow0_col3\" class=\"data row0 col3\" >405,798,912</td>\n",
       "                        <td id=\"T_4118560c_a431_11ea_b432_107b4493f33brow0_col4\" class=\"data row0 col4\" >2131.9</td>\n",
       "                        <td id=\"T_4118560c_a431_11ea_b432_107b4493f33brow0_col5\" class=\"data row0 col5\" >0.7242</td>\n",
       "                        <td id=\"T_4118560c_a431_11ea_b432_107b4493f33brow0_col6\" class=\"data row0 col6\" >7.2</td>\n",
       "                        <td id=\"T_4118560c_a431_11ea_b432_107b4493f33brow0_col7\" class=\"data row0 col7\" >0.9991</td>\n",
       "                        <td id=\"T_4118560c_a431_11ea_b432_107b4493f33brow0_col8\" class=\"data row0 col8\" >0.931</td>\n",
       "            </tr>\n",
       "            <tr>\n",
       "                                <td id=\"T_4118560c_a431_11ea_b432_107b4493f33brow1_col0\" class=\"data row1 col0\" >nvd_conv-0</td>\n",
       "                        <td id=\"T_4118560c_a431_11ea_b432_107b4493f33brow1_col1\" class=\"data row1 col1\" >2</td>\n",
       "                        <td id=\"T_4118560c_a431_11ea_b432_107b4493f33brow1_col2\" class=\"data row1 col2\" >208,164</td>\n",
       "                        <td id=\"T_4118560c_a431_11ea_b432_107b4493f33brow1_col3\" class=\"data row1 col3\" >365,518,848</td>\n",
       "                        <td id=\"T_4118560c_a431_11ea_b432_107b4493f33brow1_col4\" class=\"data row1 col4\" >1755.92</td>\n",
       "                        <td id=\"T_4118560c_a431_11ea_b432_107b4493f33brow1_col5\" class=\"data row1 col5\" >0.6698</td>\n",
       "                        <td id=\"T_4118560c_a431_11ea_b432_107b4493f33brow1_col6\" class=\"data row1 col6\" >14.4</td>\n",
       "                        <td id=\"T_4118560c_a431_11ea_b432_107b4493f33brow1_col7\" class=\"data row1 col7\" >0.9997</td>\n",
       "                        <td id=\"T_4118560c_a431_11ea_b432_107b4493f33brow1_col8\" class=\"data row1 col8\" >0.9323</td>\n",
       "            </tr>\n",
       "            <tr>\n",
       "                                <td id=\"T_4118560c_a431_11ea_b432_107b4493f33brow2_col0\" class=\"data row2 col0\" >parb_mriq-0</td>\n",
       "                        <td id=\"T_4118560c_a431_11ea_b432_107b4493f33brow2_col1\" class=\"data row2 col1\" >1</td>\n",
       "                        <td id=\"T_4118560c_a431_11ea_b432_107b4493f33brow2_col2\" class=\"data row2 col2\" >1,286</td>\n",
       "                        <td id=\"T_4118560c_a431_11ea_b432_107b4493f33brow2_col3\" class=\"data row2 col3\" >45,056</td>\n",
       "                        <td id=\"T_4118560c_a431_11ea_b432_107b4493f33brow2_col4\" class=\"data row2 col4\" >35.0358</td>\n",
       "                        <td id=\"T_4118560c_a431_11ea_b432_107b4493f33brow2_col5\" class=\"data row2 col5\" >0.0005</td>\n",
       "                        <td id=\"T_4118560c_a431_11ea_b432_107b4493f33brow2_col6\" class=\"data row2 col6\" >0.0125</td>\n",
       "                        <td id=\"T_4118560c_a431_11ea_b432_107b4493f33brow2_col7\" class=\"data row2 col7\" >1</td>\n",
       "                        <td id=\"T_4118560c_a431_11ea_b432_107b4493f33brow2_col8\" class=\"data row2 col8\" >0.3292</td>\n",
       "            </tr>\n",
       "            <tr>\n",
       "                                <td id=\"T_4118560c_a431_11ea_b432_107b4493f33brow3_col0\" class=\"data row3 col0\" >parb_mriq-0</td>\n",
       "                        <td id=\"T_4118560c_a431_11ea_b432_107b4493f33brow3_col1\" class=\"data row3 col1\" >2</td>\n",
       "                        <td id=\"T_4118560c_a431_11ea_b432_107b4493f33brow3_col2\" class=\"data row3 col2\" >3,157,989</td>\n",
       "                        <td id=\"T_4118560c_a431_11ea_b432_107b4493f33brow3_col3\" class=\"data row3 col3\" >21,735,183,780</td>\n",
       "                        <td id=\"T_4118560c_a431_11ea_b432_107b4493f33brow3_col4\" class=\"data row3 col4\" >6882.6</td>\n",
       "                        <td id=\"T_4118560c_a431_11ea_b432_107b4493f33brow3_col5\" class=\"data row3 col5\" >0.0019</td>\n",
       "                        <td id=\"T_4118560c_a431_11ea_b432_107b4493f33brow3_col6\" class=\"data row3 col6\" >1.6</td>\n",
       "                        <td id=\"T_4118560c_a431_11ea_b432_107b4493f33brow3_col7\" class=\"data row3 col7\" >0.7143</td>\n",
       "                        <td id=\"T_4118560c_a431_11ea_b432_107b4493f33brow3_col8\" class=\"data row3 col8\" >0.3666</td>\n",
       "            </tr>\n",
       "            <tr>\n",
       "                                <td id=\"T_4118560c_a431_11ea_b432_107b4493f33brow4_col0\" class=\"data row4 col0\" >parb_sad-0</td>\n",
       "                        <td id=\"T_4118560c_a431_11ea_b432_107b4493f33brow4_col1\" class=\"data row4 col1\" >1</td>\n",
       "                        <td id=\"T_4118560c_a431_11ea_b432_107b4493f33brow4_col2\" class=\"data row4 col2\" >51,633</td>\n",
       "                        <td id=\"T_4118560c_a431_11ea_b432_107b4493f33brow4_col3\" class=\"data row4 col3\" >138,709,296</td>\n",
       "                        <td id=\"T_4118560c_a431_11ea_b432_107b4493f33brow4_col4\" class=\"data row4 col4\" >2686.45</td>\n",
       "                        <td id=\"T_4118560c_a431_11ea_b432_107b4493f33brow4_col5\" class=\"data row4 col5\" >0.0061</td>\n",
       "                        <td id=\"T_4118560c_a431_11ea_b432_107b4493f33brow4_col6\" class=\"data row4 col6\" >1.16471</td>\n",
       "                        <td id=\"T_4118560c_a431_11ea_b432_107b4493f33brow4_col7\" class=\"data row4 col7\" >1</td>\n",
       "                        <td id=\"T_4118560c_a431_11ea_b432_107b4493f33brow4_col8\" class=\"data row4 col8\" >0.6109</td>\n",
       "            </tr>\n",
       "            <tr>\n",
       "                                <td id=\"T_4118560c_a431_11ea_b432_107b4493f33brow5_col0\" class=\"data row5 col0\" >parb_sad-0</td>\n",
       "                        <td id=\"T_4118560c_a431_11ea_b432_107b4493f33brow5_col1\" class=\"data row5 col1\" >2</td>\n",
       "                        <td id=\"T_4118560c_a431_11ea_b432_107b4493f33brow5_col2\" class=\"data row5 col2\" >21,556</td>\n",
       "                        <td id=\"T_4118560c_a431_11ea_b432_107b4493f33brow5_col3\" class=\"data row5 col3\" >4,380,156</td>\n",
       "                        <td id=\"T_4118560c_a431_11ea_b432_107b4493f33brow5_col4\" class=\"data row5 col4\" >203.199</td>\n",
       "                        <td id=\"T_4118560c_a431_11ea_b432_107b4493f33brow5_col5\" class=\"data row5 col5\" >0.4558</td>\n",
       "                        <td id=\"T_4118560c_a431_11ea_b432_107b4493f33brow5_col6\" class=\"data row5 col6\" >0.0773438</td>\n",
       "                        <td id=\"T_4118560c_a431_11ea_b432_107b4493f33brow5_col7\" class=\"data row5 col7\" >0.9099</td>\n",
       "                        <td id=\"T_4118560c_a431_11ea_b432_107b4493f33brow5_col8\" class=\"data row5 col8\" >0.9849</td>\n",
       "            </tr>\n",
       "            <tr>\n",
       "                                <td id=\"T_4118560c_a431_11ea_b432_107b4493f33brow6_col0\" class=\"data row6 col0\" >parb_sad-0</td>\n",
       "                        <td id=\"T_4118560c_a431_11ea_b432_107b4493f33brow6_col1\" class=\"data row6 col1\" >3</td>\n",
       "                        <td id=\"T_4118560c_a431_11ea_b432_107b4493f33brow6_col2\" class=\"data row6 col2\" >12,806</td>\n",
       "                        <td id=\"T_4118560c_a431_11ea_b432_107b4493f33brow6_col3\" class=\"data row6 col3\" >1,151,370</td>\n",
       "                        <td id=\"T_4118560c_a431_11ea_b432_107b4493f33brow6_col4\" class=\"data row6 col4\" >89.9086</td>\n",
       "                        <td id=\"T_4118560c_a431_11ea_b432_107b4493f33brow6_col5\" class=\"data row6 col5\" >0.1249</td>\n",
       "                        <td id=\"T_4118560c_a431_11ea_b432_107b4493f33brow6_col6\" class=\"data row6 col6\" >0.0386719</td>\n",
       "                        <td id=\"T_4118560c_a431_11ea_b432_107b4493f33brow6_col7\" class=\"data row6 col7\" >0.9109</td>\n",
       "                        <td id=\"T_4118560c_a431_11ea_b432_107b4493f33brow6_col8\" class=\"data row6 col8\" >0.9371</td>\n",
       "            </tr>\n",
       "            <tr>\n",
       "                                <td id=\"T_4118560c_a431_11ea_b432_107b4493f33brow7_col0\" class=\"data row7 col0\" >parb_sad-1</td>\n",
       "                        <td id=\"T_4118560c_a431_11ea_b432_107b4493f33brow7_col1\" class=\"data row7 col1\" >1</td>\n",
       "                        <td id=\"T_4118560c_a431_11ea_b432_107b4493f33brow7_col2\" class=\"data row7 col2\" >3,000,706</td>\n",
       "                        <td id=\"T_4118560c_a431_11ea_b432_107b4493f33brow7_col3\" class=\"data row7 col3\" >11,264,876,160</td>\n",
       "                        <td id=\"T_4118560c_a431_11ea_b432_107b4493f33brow7_col4\" class=\"data row7 col4\" >3754.08</td>\n",
       "                        <td id=\"T_4118560c_a431_11ea_b432_107b4493f33brow7_col5\" class=\"data row7 col5\" >0.1736</td>\n",
       "                        <td id=\"T_4118560c_a431_11ea_b432_107b4493f33brow7_col6\" class=\"data row7 col6\" >94.5882</td>\n",
       "                        <td id=\"T_4118560c_a431_11ea_b432_107b4493f33brow7_col7\" class=\"data row7 col7\" >0.9999</td>\n",
       "                        <td id=\"T_4118560c_a431_11ea_b432_107b4493f33brow7_col8\" class=\"data row7 col8\" >0.5524</td>\n",
       "            </tr>\n",
       "            <tr>\n",
       "                                <td id=\"T_4118560c_a431_11ea_b432_107b4493f33brow8_col0\" class=\"data row8 col0\" >parb_sad-1</td>\n",
       "                        <td id=\"T_4118560c_a431_11ea_b432_107b4493f33brow8_col1\" class=\"data row8 col1\" >2</td>\n",
       "                        <td id=\"T_4118560c_a431_11ea_b432_107b4493f33brow8_col2\" class=\"data row8 col2\" >2,324,970</td>\n",
       "                        <td id=\"T_4118560c_a431_11ea_b432_107b4493f33brow8_col3\" class=\"data row8 col3\" >355,721,760</td>\n",
       "                        <td id=\"T_4118560c_a431_11ea_b432_107b4493f33brow8_col4\" class=\"data row8 col4\" >153.001</td>\n",
       "                        <td id=\"T_4118560c_a431_11ea_b432_107b4493f33brow8_col5\" class=\"data row8 col5\" >0.5645</td>\n",
       "                        <td id=\"T_4118560c_a431_11ea_b432_107b4493f33brow8_col6\" class=\"data row8 col6\" >6.28125</td>\n",
       "                        <td id=\"T_4118560c_a431_11ea_b432_107b4493f33brow8_col7\" class=\"data row8 col7\" >0.9121</td>\n",
       "                        <td id=\"T_4118560c_a431_11ea_b432_107b4493f33brow8_col8\" class=\"data row8 col8\" >0.9998</td>\n",
       "            </tr>\n",
       "            <tr>\n",
       "                                <td id=\"T_4118560c_a431_11ea_b432_107b4493f33brow9_col0\" class=\"data row9 col0\" >parb_sad-1</td>\n",
       "                        <td id=\"T_4118560c_a431_11ea_b432_107b4493f33brow9_col1\" class=\"data row9 col1\" >3</td>\n",
       "                        <td id=\"T_4118560c_a431_11ea_b432_107b4493f33brow9_col2\" class=\"data row9 col2\" >541,865</td>\n",
       "                        <td id=\"T_4118560c_a431_11ea_b432_107b4493f33brow9_col3\" class=\"data row9 col3\" >93,505,200</td>\n",
       "                        <td id=\"T_4118560c_a431_11ea_b432_107b4493f33brow9_col4\" class=\"data row9 col4\" >172.562</td>\n",
       "                        <td id=\"T_4118560c_a431_11ea_b432_107b4493f33brow9_col5\" class=\"data row9 col5\" >0.5842</td>\n",
       "                        <td id=\"T_4118560c_a431_11ea_b432_107b4493f33brow9_col6\" class=\"data row9 col6\" >3.14062</td>\n",
       "                        <td id=\"T_4118560c_a431_11ea_b432_107b4493f33brow9_col7\" class=\"data row9 col7\" >0.912</td>\n",
       "                        <td id=\"T_4118560c_a431_11ea_b432_107b4493f33brow9_col8\" class=\"data row9 col8\" >0.9992</td>\n",
       "            </tr>\n",
       "            <tr>\n",
       "                                <td id=\"T_4118560c_a431_11ea_b432_107b4493f33brow10_col0\" class=\"data row10 col0\" >rod_cfd-0</td>\n",
       "                        <td id=\"T_4118560c_a431_11ea_b432_107b4493f33brow10_col1\" class=\"data row10 col1\" >4</td>\n",
       "                        <td id=\"T_4118560c_a431_11ea_b432_107b4493f33brow10_col2\" class=\"data row10 col2\" >6,614</td>\n",
       "                        <td id=\"T_4118560c_a431_11ea_b432_107b4493f33brow10_col3\" class=\"data row10 col3\" >4,663,296</td>\n",
       "                        <td id=\"T_4118560c_a431_11ea_b432_107b4493f33brow10_col4\" class=\"data row10 col4\" >705.064</td>\n",
       "                        <td id=\"T_4118560c_a431_11ea_b432_107b4493f33brow10_col5\" class=\"data row10 col5\" >0.6298</td>\n",
       "                        <td id=\"T_4118560c_a431_11ea_b432_107b4493f33brow10_col6\" class=\"data row10 col6\" >0.903571</td>\n",
       "                        <td id=\"T_4118560c_a431_11ea_b432_107b4493f33brow10_col7\" class=\"data row10 col7\" >1</td>\n",
       "                        <td id=\"T_4118560c_a431_11ea_b432_107b4493f33brow10_col8\" class=\"data row10 col8\" >0.9599</td>\n",
       "            </tr>\n",
       "            <tr>\n",
       "                                <td id=\"T_4118560c_a431_11ea_b432_107b4493f33brow11_col0\" class=\"data row11 col0\" >rod_cfd-0</td>\n",
       "                        <td id=\"T_4118560c_a431_11ea_b432_107b4493f33brow11_col1\" class=\"data row11 col1\" >5</td>\n",
       "                        <td id=\"T_4118560c_a431_11ea_b432_107b4493f33brow11_col2\" class=\"data row11 col2\" >54,921</td>\n",
       "                        <td id=\"T_4118560c_a431_11ea_b432_107b4493f33brow11_col3\" class=\"data row11 col3\" >41,460,252</td>\n",
       "                        <td id=\"T_4118560c_a431_11ea_b432_107b4493f33brow11_col4\" class=\"data row11 col4\" >754.907</td>\n",
       "                        <td id=\"T_4118560c_a431_11ea_b432_107b4493f33brow11_col5\" class=\"data row11 col5\" >0.2745</td>\n",
       "                        <td id=\"T_4118560c_a431_11ea_b432_107b4493f33brow11_col6\" class=\"data row11 col6\" >1.18594</td>\n",
       "                        <td id=\"T_4118560c_a431_11ea_b432_107b4493f33brow11_col7\" class=\"data row11 col7\" >0.8364</td>\n",
       "                        <td id=\"T_4118560c_a431_11ea_b432_107b4493f33brow11_col8\" class=\"data row11 col8\" >0.3092</td>\n",
       "            </tr>\n",
       "            <tr>\n",
       "                                <td id=\"T_4118560c_a431_11ea_b432_107b4493f33brow12_col0\" class=\"data row12 col0\" >rod_cfd-0</td>\n",
       "                        <td id=\"T_4118560c_a431_11ea_b432_107b4493f33brow12_col1\" class=\"data row12 col1\" >6</td>\n",
       "                        <td id=\"T_4118560c_a431_11ea_b432_107b4493f33brow12_col2\" class=\"data row12 col2\" >11,677</td>\n",
       "                        <td id=\"T_4118560c_a431_11ea_b432_107b4493f33brow12_col3\" class=\"data row12 col3\" >5,918,464</td>\n",
       "                        <td id=\"T_4118560c_a431_11ea_b432_107b4493f33brow12_col4\" class=\"data row12 col4\" >506.848</td>\n",
       "                        <td id=\"T_4118560c_a431_11ea_b432_107b4493f33brow12_col5\" class=\"data row12 col5\" >0.7377</td>\n",
       "                        <td id=\"T_4118560c_a431_11ea_b432_107b4493f33brow12_col6\" class=\"data row12 col6\" >0.9475</td>\n",
       "                        <td id=\"T_4118560c_a431_11ea_b432_107b4493f33brow12_col7\" class=\"data row12 col7\" >1</td>\n",
       "                        <td id=\"T_4118560c_a431_11ea_b432_107b4493f33brow12_col8\" class=\"data row12 col8\" >0.9911</td>\n",
       "            </tr>\n",
       "    </tbody></table>"
      ],
      "text/plain": [
       "<pandas.io.formats.style.Styler at 0x7f064c1a3898>"
      ]
     },
     "execution_count": 237,
     "metadata": {},
     "output_type": "execute_result"
    }
   ],
   "source": [
    "col_seq = ['pair_str', '1_kidx', 'runtime', 'instructions',\n",
    "           'ipc',\n",
    "           'avg_dram_bw', \n",
    "           'waves',\n",
    "           'l1D_miss_rate',\n",
    "           'l2_miss_rate',\n",
    "          ]\n",
    "\n",
    "draw_table(df_seq, col_seq).format({\n",
    "    'runtime': '{:,}',\n",
    "    'instructions': '{:,}',\n",
    "    'avg_dram_bw':'{:.4f}', \n",
    "    'sp_busy': '{:.2f}',\n",
    "    'dp_busy': '{:.2f}',\n",
    "    'int_busy': '{:.2f}',\n",
    "    'tensor_busy': '{:.2f}',\n",
    "    'sfu_busy': '{:.2f}',\n",
    "})"
   ]
  },
  {
   "cell_type": "code",
   "execution_count": null,
   "metadata": {},
   "outputs": [],
   "source": []
  },
  {
   "cell_type": "markdown",
   "metadata": {},
   "source": [
    "# Intra"
   ]
  },
  {
   "cell_type": "code",
   "execution_count": 161,
   "metadata": {
    "scrolled": false
   },
   "outputs": [],
   "source": [
    "gen_intra = os.path.join(SCRIPT_PATH, 'gen_tables/gen_table_intra.py')\n",
    "intra_file = os.path.join(CSV_PATH, 'intra-multi.csv')\n",
    "intra_pkl = os.path.join(PKL_PATH, 'intra-multi.pkl')\n",
    "\n",
    "%run $gen_intra --out_intra $intra_pkl --seq $seq_pkl --csv $intra_file\n",
    "\n",
    "df_intra = pd.read_pickle(intra_pkl)\n",
    "df_intra.sort_values(['pair_str', '1_kidx'], inplace=True)\n",
    "# col_intra = ['pair_str', '1_kidx', 'regs', 'thread_count', 'smem', 'intra']\n",
    "# draw_table(df_intra, col_intra)"
   ]
  },
  {
   "cell_type": "code",
   "execution_count": 162,
   "metadata": {},
   "outputs": [],
   "source": [
    "col_prod = ['pair_str_x', '1_kidx_x', 'pair_str_y', '1_kidx_y',\n",
    "            'norm_ipc_x', 'norm_ipc_y', 'diff_mflat', 'sum_ipc', \n",
    "            'intra_x', 'intra_y', \n",
    "           'sum_comp', 'sum_dram',]\n",
    "find_pair = os.path.join(SCRIPT_PATH, 'gen_tables/gen_pair_configs.py')\n",
    "pairs = df_seq.apply(lambda row: ':'.join([row['pair_str'], str(row['1_kidx'])]), axis=1)"
   ]
  },
  {
   "cell_type": "code",
   "execution_count": 165,
   "metadata": {},
   "outputs": [],
   "source": [
    "app1 = widgets.Dropdown(options=pairs, value=pairs[0], description='App 1:')\n",
    "app2 = widgets.Dropdown(options=pairs, value=pairs[1], description='App 2:')\n",
    "\n",
    "qos = widgets.FloatSlider(\n",
    "    value=0.75,\n",
    "    min=0.1,\n",
    "    max=0.95,\n",
    "    step=0.05,\n",
    "    description='QoS:',\n",
    "    readout_format='.2f',\n",
    ")\n",
    "\n",
    "button = widgets.Button(description='Calculate', button_style='info')\n",
    "\n",
    "def show_widgets_intra():\n",
    "    display(app1)\n",
    "    display(app2)\n",
    "    display(qos)\n",
    "    display(button)\n",
    "    \n",
    "\n",
    "def onclick(b):\n",
    "    clear_output()\n",
    "    show_widgets_intra()\n",
    "    %run $find_pair --app $app1.value $app2.value --qos $qos.value --intra_pkl $intra_pkl --top\n",
    "    \n",
    "    df_prod = pd.read_pickle(os.path.join(PKL_PATH, 'pair_candidates.pkl'))\n",
    "   \n",
    "    display(HTML(draw_table(df_prod, col_prod, False).render()))\n",
    "    \n",
    "    "
   ]
  },
  {
   "cell_type": "code",
   "execution_count": 166,
   "metadata": {},
   "outputs": [
    {
     "data": {
      "application/vnd.jupyter.widget-view+json": {
       "model_id": "6a4dc21816eb4a43a54b40aeb74c868e",
       "version_major": 2,
       "version_minor": 0
      },
      "text/plain": [
       "Dropdown(description='App 1:', index=8, options=('nvd_conv-0:1', 'nvd_conv-0:2', 'parb_mriq-0:1', 'parb_mriq-0…"
      ]
     },
     "metadata": {},
     "output_type": "display_data"
    },
    {
     "data": {
      "application/vnd.jupyter.widget-view+json": {
       "model_id": "2add9a0332ed45ac8f00def4941b7034",
       "version_major": 2,
       "version_minor": 0
      },
      "text/plain": [
       "Dropdown(description='App 2:', index=9, options=('nvd_conv-0:1', 'nvd_conv-0:2', 'parb_mriq-0:1', 'parb_mriq-0…"
      ]
     },
     "metadata": {},
     "output_type": "display_data"
    },
    {
     "data": {
      "application/vnd.jupyter.widget-view+json": {
       "model_id": "4c47cf867f89422882506c8f51add40a",
       "version_major": 2,
       "version_minor": 0
      },
      "text/plain": [
       "FloatSlider(value=0.75, description='QoS:', max=0.95, min=0.1, step=0.05)"
      ]
     },
     "metadata": {},
     "output_type": "display_data"
    },
    {
     "data": {
      "application/vnd.jupyter.widget-view+json": {
       "model_id": "0b92eeeac32e4294a5a39dab7a7bcbb4",
       "version_major": 2,
       "version_minor": 0
      },
      "text/plain": [
       "Button(button_style='info', description='Calculate', style=ButtonStyle())"
      ]
     },
     "metadata": {},
     "output_type": "display_data"
    }
   ],
   "source": [
    "show_widgets_intra()\n",
    "button.on_click(onclick)"
   ]
  },
  {
   "cell_type": "code",
   "execution_count": null,
   "metadata": {},
   "outputs": [],
   "source": []
  },
  {
   "cell_type": "markdown",
   "metadata": {},
   "source": [
    "# Pair-Dynamic"
   ]
  },
  {
   "cell_type": "code",
   "execution_count": 167,
   "metadata": {},
   "outputs": [
    {
     "name": "stdout",
     "output_type": "stream",
     "text": [
      "Index(['pair_str', 'config', 'gpusim_version', 'jobId', 'stall_icnt_to_l2',\n",
      "       'stall_l2_to_icnt', 'stall_core_ldst', 'l1D_miss_rate', 'l2_miss_rate',\n",
      "       'l2_rshr_entry_fail', 'l2_rshr_merge_fail', 'l2_total_accesses',\n",
      "       'mem_count', 'empty_warp', 'stall_warp', 'idle_warp', 'scoreboard_warp',\n",
      "       'tot_warp_insn', 'runtime', 'instructions', 'l2_bw', 'avg_mem_lat',\n",
      "       'avg_core_to_l2', 'avg_l2_to_core', 'avg_mrq_latency', 'dram_eff',\n",
      "       'dram_bw', 'row_buffer_locality', 'mem_idle', 'total_cmd'],\n",
      "      dtype='object')\n"
     ]
    }
   ],
   "source": [
    "dynamic_csv = os.path.join(CSV_PATH, 'pair_dynamic_multi.csv')\n",
    "dynamic_output = os.path.join(PKL_PATH, 'pair_dynamic_multi.pkl')\n",
    "%run $gen_pair --csv $dynamic_csv --output $dynamic_output --seq_pkl $seq_pkl --qos 0.5 --how dynamic --multi --isolated_pkl $intra_pkl"
   ]
  },
  {
   "cell_type": "code",
   "execution_count": 168,
   "metadata": {},
   "outputs": [],
   "source": [
    "df_dynamic = pd.read_pickle(dynamic_output)\n",
    "col_dynamic = ['1_bench', '1_kidx', '1_intra', '2_bench', '2_kidx', '2_intra', 'sld', 'ws', \n",
    "               'importance', 'weighted_increase', 'sum_increase']\n",
    "\n",
    "df_dynamic_show = df_dynamic[(df_dynamic['1_bench'] == 'parb_sad-0') & (df_dynamic['1_kidx'] == 2)].sort_values(\n",
    "    '2_kidx')\n",
    "# df_dynamic_show[col_dynamic]"
   ]
  },
  {
   "cell_type": "code",
   "execution_count": 171,
   "metadata": {},
   "outputs": [],
   "source": [
    "df_seq_index = df_seq.set_index(['pair_str', '1_kidx'])\n",
    "df_intra_index = df_intra.set_index(['pair_str', '1_kidx', 'intra'])"
   ]
  },
  {
   "cell_type": "code",
   "execution_count": 246,
   "metadata": {
    "scrolled": false
   },
   "outputs": [
    {
     "data": {
      "application/vnd.jupyter.widget-view+json": {
       "model_id": "7bcec30cddf448a985592ef037fd888f",
       "version_major": 2,
       "version_minor": 0
      },
      "text/plain": [
       "Dropdown(description='Pair:', options=('parb_mriq-0-parb_sad-1', 'parb_sad-0-nvd_conv-0', 'parb_sad-1-nvd_conv…"
      ]
     },
     "metadata": {},
     "output_type": "display_data"
    },
    {
     "data": {
      "application/vnd.jupyter.widget-view+json": {
       "model_id": "d31a5927acc74eb1bfc6ee766609c6d1",
       "version_major": 2,
       "version_minor": 0
      },
      "text/plain": [
       "Dropdown(description='Type', options=('Local', 'Global (weighted)'), value='Local')"
      ]
     },
     "metadata": {},
     "output_type": "display_data"
    },
    {
     "data": {
      "application/vnd.jupyter.widget-view+json": {
       "model_id": "e7fb69152b72406b84d0b5e2fc8c3c73",
       "version_major": 2,
       "version_minor": 0
      },
      "text/plain": [
       "Button(button_style='info', description='Best', style=ButtonStyle())"
      ]
     },
     "metadata": {},
     "output_type": "display_data"
    },
    {
     "name": "stdout",
     "output_type": "stream",
     "text": [
      "parb_mriq-0 configs\n",
      "              parb_mriq-0:1  parb_mriq-0:2  parb_mriq-0:3\n",
      "parb_sad-1:1              1              2              2\n",
      "parb_sad-1:2              1              7              7\n",
      "parb_sad-1:3              1              7              7\n",
      "--------------------------------------------------\n",
      "parb_sad-1 configs\n",
      "              parb_mriq-0:1  parb_mriq-0:2  parb_mriq-0:3\n",
      "parb_sad-1:1             16              8              8\n",
      "parb_sad-1:2              2              2              2\n",
      "parb_sad-1:3              4              4              4\n",
      "--------------------------------------------------\n",
      "parb_mriq-0 slowdown\n",
      "              parb_mriq-0:1  parb_mriq-0:2  parb_mriq-0:3\n",
      "parb_sad-1:1       1.452014       0.484120       0.484120\n",
      "parb_sad-1:2       0.549948       0.957547       0.957547\n",
      "parb_sad-1:3       1.032784       0.984955       0.984955\n",
      "--------------------------------------------------\n",
      "parb_sad-1 slowdown\n",
      "              parb_mriq-0:1  parb_mriq-0:2  parb_mriq-0:3\n",
      "parb_sad-1:1       0.930188       0.886864       0.886864\n",
      "parb_sad-1:2       2.285286       1.332333       1.332333\n",
      "parb_sad-1:3       1.936311       1.226965       1.226965\n",
      "--------------------------------------------------\n",
      "\n",
      "\n",
      "Execution context utilization:\n",
      ">>> App 1\n",
      "cta_ratio 0.219\n",
      "thread_ratio 0.875\n",
      "smem_ratio 0.0\n",
      "reg_ratio 0.766\n",
      "avg_dram_bw 0.00191\n",
      ">>> App 2\n",
      "cta_ratio 0.5\n",
      "thread_ratio 0.5\n",
      "smem_ratio 0.00521\n",
      "reg_ratio 0.906\n",
      "avg_dram_bw 0.677\n",
      "\n",
      "\n",
      "=================================== Full Simulation QoS Info ===================================\n",
      "App0 has 3 kernels, App1 has 3 kernels\n",
      "Actual calculated QOS losses are [0.6362118205774351, 1.0533950411157813]\n",
      "Predicted weighted speedup: 1.6896068616932163\n"
     ]
    },
    {
     "data": {
      "text/html": [
       "\n",
       "<div id=\"altair-viz-84cda5814f2c46578ab5517ed77aa39a\"></div>\n",
       "<script type=\"text/javascript\">\n",
       "  (function(spec, embedOpt){\n",
       "    let outputDiv = document.currentScript.previousElementSibling;\n",
       "    if (outputDiv.id !== \"altair-viz-84cda5814f2c46578ab5517ed77aa39a\") {\n",
       "      outputDiv = document.getElementById(\"altair-viz-84cda5814f2c46578ab5517ed77aa39a\");\n",
       "    }\n",
       "    const paths = {\n",
       "      \"vega\": \"https://cdn.jsdelivr.net/npm//vega@5?noext\",\n",
       "      \"vega-lib\": \"https://cdn.jsdelivr.net/npm//vega-lib?noext\",\n",
       "      \"vega-lite\": \"https://cdn.jsdelivr.net/npm//vega-lite@4.8.1?noext\",\n",
       "      \"vega-embed\": \"https://cdn.jsdelivr.net/npm//vega-embed@6?noext\",\n",
       "    };\n",
       "\n",
       "    function loadScript(lib) {\n",
       "      return new Promise(function(resolve, reject) {\n",
       "        var s = document.createElement('script');\n",
       "        s.src = paths[lib];\n",
       "        s.async = true;\n",
       "        s.onload = () => resolve(paths[lib]);\n",
       "        s.onerror = () => reject(`Error loading script: ${paths[lib]}`);\n",
       "        document.getElementsByTagName(\"head\")[0].appendChild(s);\n",
       "      });\n",
       "    }\n",
       "\n",
       "    function showError(err) {\n",
       "      outputDiv.innerHTML = `<div class=\"error\" style=\"color:red;\">${err}</div>`;\n",
       "      throw err;\n",
       "    }\n",
       "\n",
       "    function displayChart(vegaEmbed) {\n",
       "      vegaEmbed(outputDiv, spec, embedOpt)\n",
       "        .catch(err => showError(`Javascript Error: ${err.message}<br>This usually means there's a typo in your chart specification. See the javascript console for the full traceback.`));\n",
       "    }\n",
       "\n",
       "    if(typeof define === \"function\" && define.amd) {\n",
       "      requirejs.config({paths});\n",
       "      require([\"vega-embed\"], displayChart, err => showError(`Error loading script: ${err.message}`));\n",
       "    } else if (typeof vegaEmbed === \"function\") {\n",
       "      displayChart(vegaEmbed);\n",
       "    } else {\n",
       "      loadScript(\"vega\")\n",
       "        .then(() => loadScript(\"vega-lite\"))\n",
       "        .then(() => loadScript(\"vega-embed\"))\n",
       "        .catch(showError)\n",
       "        .then(() => displayChart(vegaEmbed));\n",
       "    }\n",
       "  })({\"config\": {\"view\": {\"continuousWidth\": 400, \"continuousHeight\": 300}, \"axis\": {\"grid\": false}, \"header\": {\"titleColor\": \"black\", \"titleFontSize\": 14}}, \"layer\": [{\"mark\": \"bar\", \"encoding\": {\"color\": {\"type\": \"nominal\", \"field\": \"kernel\", \"legend\": null, \"scale\": {\"scheme\": \"pastel1\"}}, \"x\": {\"type\": \"quantitative\", \"field\": \"start\", \"title\": \"Cycles\"}, \"x2\": {\"field\": \"end\"}, \"y\": {\"type\": \"nominal\", \"field\": \"stream\", \"sort\": null}}, \"height\": 100, \"title\": \"Prediction\", \"width\": 900}, {\"mark\": {\"type\": \"text\", \"align\": \"center\", \"angle\": 90, \"baseline\": \"middle\", \"color\": \"black\", \"fontSize\": 12}, \"encoding\": {\"text\": {\"type\": \"quantitative\", \"field\": \"norm\"}, \"x\": {\"type\": \"quantitative\", \"field\": \"position\"}, \"y\": {\"type\": \"nominal\", \"field\": \"stream\", \"sort\": null, \"title\": null}}}], \"data\": {\"name\": \"data-add9f574f9318768816b3db4ee725022\"}, \"$schema\": \"https://vega.github.io/schema/vega-lite/v4.8.1.json\", \"datasets\": {\"data-add9f574f9318768816b3db4ee725022\": [{\"start\": 0, \"end\": 885, \"stream\": \"1: parb_mriq-0\", \"kernel\": \"1:1\", \"position\": 442.5, \"norm\": 1.45}, {\"start\": 885, \"end\": 4971282, \"stream\": \"1: parb_mriq-0\", \"kernel\": \"1:2\", \"position\": 2486083.5, \"norm\": 0.64}, {\"start\": 4971282, \"end\": 9929498, \"stream\": \"1: parb_mriq-0\", \"kernel\": \"1:1\", \"position\": 7450390.0, \"norm\": 0.64}, {\"start\": 0, \"end\": 3383457, \"stream\": \"2: parb_sad-1\", \"kernel\": \"2:1\", \"position\": 1691728.5, \"norm\": 0.89}, {\"start\": 3383457, \"end\": 5128494, \"stream\": \"2: parb_sad-1\", \"kernel\": \"2:2\", \"position\": 4255975.5, \"norm\": 1.33}, {\"start\": 5128494, \"end\": 5570124, \"stream\": \"2: parb_sad-1\", \"kernel\": \"2:3\", \"position\": 5349309.0, \"norm\": 1.23}, {\"start\": 5570124, \"end\": 8953625, \"stream\": \"2: parb_sad-1\", \"kernel\": \"2:1\", \"position\": 7261874.5, \"norm\": 0.89}, {\"start\": 8953625, \"end\": 10954280, \"stream\": \"2: parb_sad-1\", \"kernel\": \"2:2\", \"position\": 9953952.5, \"norm\": 1.16}, {\"start\": 10954280, \"end\": 11496145, \"stream\": \"2: parb_sad-1\", \"kernel\": \"2:3\", \"position\": 11225212.5, \"norm\": 1.0}]}}, {\"mode\": \"vega-lite\"});\n",
       "</script>"
      ],
      "text/plain": [
       "alt.LayerChart(...)"
      ]
     },
     "metadata": {},
     "output_type": "display_data"
    }
   ],
   "source": [
    "def show_widgets_best():\n",
    "    display(best_dd)\n",
    "    display(best_type_dd)\n",
    "    display(best_btn)\n",
    "    \n",
    "\n",
    "def best_onclick(b):\n",
    "    clear_output()\n",
    "    show_widgets_best()\n",
    "    \n",
    "    # apps = best_dd.value.split('+')\n",
    "    apps = re.split(r'-(?=\\D)', best_dd.value)\n",
    "           \n",
    "    # Output LUT resource configuration \n",
    "    weighted = (best_type_dd.value == 'Global (weighted)')\n",
    "    \n",
    "    configs, interference = lut_configs.get_lut_matrix(apps, df_dynamic, weighted)\n",
    "\n",
    "    headers = [const.gen_kernel_headers(apps[0]), const.gen_kernel_headers(apps[1])]\n",
    "    \n",
    "    lut_configs.pretty_print_matrix(apps, 'configs', configs, headers)\n",
    "    lut_configs.pretty_print_matrix(apps, 'slowdown', interference, headers)\n",
    "    print('\\n')\n",
    "   \n",
    "    lut_configs.print_rsrc_usage(configs, headers, df_intra_index)\n",
    "    print('\\n')\n",
    "    \n",
    "    # Run simulation to predict final slowdown\n",
    "    scaled_runtime, norm_ipc = lut_configs.predict_app(apps, interference, df_seq_index)\n",
    "    \n",
    "    row = pd.Series({'1_bench': apps[0], '2_bench': apps[1], \n",
    "                     'runtime': scaled_runtime, 'norm_ipc': norm_ipc})\n",
    "    \n",
    "    gen_altair.draw_altair_timeline(row, title='Prediction').display()  \n",
    "\n",
    "\n",
    "best_dd = widgets.Dropdown(options=df_dynamic['pair_str'].unique(), description='Pair:')\n",
    "best_type_dd = widgets.Dropdown(options=['Local', 'Global (weighted)'], value='Local', description='Type')\n",
    "best_btn = widgets.Button(description='Best', button_style='info')\n",
    "\n",
    "\n",
    "show_widgets_best()\n",
    "best_btn.on_click(best_onclick)\n"
   ]
  },
  {
   "cell_type": "code",
   "execution_count": null,
   "metadata": {},
   "outputs": [],
   "source": []
  },
  {
   "cell_type": "markdown",
   "metadata": {},
   "source": [
    "# CTX Ratio"
   ]
  },
  {
   "cell_type": "code",
   "execution_count": 183,
   "metadata": {},
   "outputs": [],
   "source": [
    "gen_pair = os.path.join(SCRIPT_PATH, 'gen_tables/gen_table_pair.py')\n",
    "ctx_csv = os.path.join(HOME, 'data/csv/ctx.csv')\n",
    "output = os.path.join(PKL_PATH, 'pair_ctx.pkl')\n"
   ]
  },
  {
   "cell_type": "code",
   "execution_count": 189,
   "metadata": {
    "scrolled": false
   },
   "outputs": [
    {
     "name": "stdout",
     "output_type": "stream",
     "text": [
      "Index(['pair_str', 'config', 'gpusim_version', 'jobId', 'stall_icnt_to_l2',\n",
      "       'stall_l2_to_icnt', 'stall_core_ldst', 'l1D_miss_rate', 'l2_miss_rate',\n",
      "       'l2_rshr_entry_fail', 'l2_rshr_merge_fail', 'l2_total_accesses',\n",
      "       'mem_count', 'empty_warp', 'stall_warp', 'idle_warp', 'scoreboard_warp',\n",
      "       'tot_warp_insn', 'runtime', 'instructions', 'l2_bw', 'avg_mem_lat',\n",
      "       'avg_core_to_l2', 'avg_l2_to_core', 'avg_mrq_latency', 'dram_eff',\n",
      "       'dram_bw', 'row_buffer_locality', 'mem_idle', 'total_cmd'],\n",
      "      dtype='object')\n",
      "parb_mriq-0 dict_keys([1, 2]) 3\n",
      "parb_mriq-0 dict_keys([1, 2]) 3\n",
      "parb_mriq-0 dict_keys([1, 2]) 3\n"
     ]
    }
   ],
   "source": [
    "%run $gen_pair --csv $ctx_csv --output $output --seq_pkl $seq_pkl --qos 0.5 --multi --how ctx"
   ]
  },
  {
   "cell_type": "code",
   "execution_count": 190,
   "metadata": {},
   "outputs": [
    {
     "data": {
      "text/html": [
       "<style  type=\"text/css\" >\n",
       "    #T_26be9a7a_a41b_11ea_b432_107b4493f33b tr:nth-of-type(odd) {\n",
       "          background: #eee;\n",
       "    }    #T_26be9a7a_a41b_11ea_b432_107b4493f33b tr:nth-of-type(even) {\n",
       "          background: white;\n",
       "    }    #T_26be9a7a_a41b_11ea_b432_107b4493f33b th {\n",
       "          background: #606060;\n",
       "          color: white;\n",
       "          font-family: verdana;\n",
       "          font-size: 90%;\n",
       "    }    #T_26be9a7a_a41b_11ea_b432_107b4493f33b td {\n",
       "          font-family: verdana;\n",
       "          font-size: 90%;\n",
       "          font-weight: bold;\n",
       "    }    #T_26be9a7a_a41b_11ea_b432_107b4493f33b tr:hover {\n",
       "          background-color: #ffffcc;\n",
       "    }</style><table id=\"T_26be9a7a_a41b_11ea_b432_107b4493f33b\" ><thead>    <tr>        <th class=\"col_heading level0 col0\" >1_bench</th>        <th class=\"col_heading level0 col1\" >2_bench</th>        <th class=\"col_heading level0 col2\" >1_ctx</th>        <th class=\"col_heading level0 col3\" >2_ctx</th>        <th class=\"col_heading level0 col4\" >cta_quota</th>    </tr></thead><tbody>\n",
       "                <tr>\n",
       "                                <td id=\"T_26be9a7a_a41b_11ea_b432_107b4493f33brow0_col0\" class=\"data row0 col0\" >parb_mriq-0</td>\n",
       "                        <td id=\"T_26be9a7a_a41b_11ea_b432_107b4493f33brow0_col1\" class=\"data row0 col1\" >parb_sad-1</td>\n",
       "                        <td id=\"T_26be9a7a_a41b_11ea_b432_107b4493f33brow0_col2\" class=\"data row0 col2\" >0.25</td>\n",
       "                        <td id=\"T_26be9a7a_a41b_11ea_b432_107b4493f33brow0_col3\" class=\"data row0 col3\" >0.75</td>\n",
       "                        <td id=\"T_26be9a7a_a41b_11ea_b432_107b4493f33brow0_col4\" class=\"data row0 col4\" >[[], [1, 2], [12, 12, 24]]</td>\n",
       "            </tr>\n",
       "            <tr>\n",
       "                                <td id=\"T_26be9a7a_a41b_11ea_b432_107b4493f33brow1_col0\" class=\"data row1 col0\" >parb_mriq-0</td>\n",
       "                        <td id=\"T_26be9a7a_a41b_11ea_b432_107b4493f33brow1_col1\" class=\"data row1 col1\" >parb_sad-1</td>\n",
       "                        <td id=\"T_26be9a7a_a41b_11ea_b432_107b4493f33brow1_col2\" class=\"data row1 col2\" >0.5</td>\n",
       "                        <td id=\"T_26be9a7a_a41b_11ea_b432_107b4493f33brow1_col3\" class=\"data row1 col3\" >0.5</td>\n",
       "                        <td id=\"T_26be9a7a_a41b_11ea_b432_107b4493f33brow1_col4\" class=\"data row1 col4\" >[[], [1, 4], [8, 8, 16]]</td>\n",
       "            </tr>\n",
       "            <tr>\n",
       "                                <td id=\"T_26be9a7a_a41b_11ea_b432_107b4493f33brow2_col0\" class=\"data row2 col0\" >parb_sad-0</td>\n",
       "                        <td id=\"T_26be9a7a_a41b_11ea_b432_107b4493f33brow2_col1\" class=\"data row2 col1\" >nvd_conv-0</td>\n",
       "                        <td id=\"T_26be9a7a_a41b_11ea_b432_107b4493f33brow2_col2\" class=\"data row2 col2\" >0.5</td>\n",
       "                        <td id=\"T_26be9a7a_a41b_11ea_b432_107b4493f33brow2_col3\" class=\"data row2 col3\" >0.5</td>\n",
       "                        <td id=\"T_26be9a7a_a41b_11ea_b432_107b4493f33brow2_col4\" class=\"data row2 col4\" >[[], [8, 2, 2], [16, 8]]</td>\n",
       "            </tr>\n",
       "            <tr>\n",
       "                                <td id=\"T_26be9a7a_a41b_11ea_b432_107b4493f33brow3_col0\" class=\"data row3 col0\" >parb_sad-0</td>\n",
       "                        <td id=\"T_26be9a7a_a41b_11ea_b432_107b4493f33brow3_col1\" class=\"data row3 col1\" >nvd_conv-0</td>\n",
       "                        <td id=\"T_26be9a7a_a41b_11ea_b432_107b4493f33brow3_col2\" class=\"data row3 col2\" >0.75</td>\n",
       "                        <td id=\"T_26be9a7a_a41b_11ea_b432_107b4493f33brow3_col3\" class=\"data row3 col3\" >0.25</td>\n",
       "                        <td id=\"T_26be9a7a_a41b_11ea_b432_107b4493f33brow3_col4\" class=\"data row3 col4\" >[[], [12, 2, 2], [8, 4]]</td>\n",
       "            </tr>\n",
       "            <tr>\n",
       "                                <td id=\"T_26be9a7a_a41b_11ea_b432_107b4493f33brow4_col0\" class=\"data row4 col0\" >parb_sad-0</td>\n",
       "                        <td id=\"T_26be9a7a_a41b_11ea_b432_107b4493f33brow4_col1\" class=\"data row4 col1\" >nvd_conv-0</td>\n",
       "                        <td id=\"T_26be9a7a_a41b_11ea_b432_107b4493f33brow4_col2\" class=\"data row4 col2\" >0.25</td>\n",
       "                        <td id=\"T_26be9a7a_a41b_11ea_b432_107b4493f33brow4_col3\" class=\"data row4 col3\" >0.75</td>\n",
       "                        <td id=\"T_26be9a7a_a41b_11ea_b432_107b4493f33brow4_col4\" class=\"data row4 col4\" >[[], [4, 2, 2], [24, 12]]</td>\n",
       "            </tr>\n",
       "            <tr>\n",
       "                                <td id=\"T_26be9a7a_a41b_11ea_b432_107b4493f33brow5_col0\" class=\"data row5 col0\" >parb_sad-1</td>\n",
       "                        <td id=\"T_26be9a7a_a41b_11ea_b432_107b4493f33brow5_col1\" class=\"data row5 col1\" >nvd_conv-0</td>\n",
       "                        <td id=\"T_26be9a7a_a41b_11ea_b432_107b4493f33brow5_col2\" class=\"data row5 col2\" >0.75</td>\n",
       "                        <td id=\"T_26be9a7a_a41b_11ea_b432_107b4493f33brow5_col3\" class=\"data row5 col3\" >0.25</td>\n",
       "                        <td id=\"T_26be9a7a_a41b_11ea_b432_107b4493f33brow5_col4\" class=\"data row5 col4\" >[[], [12, 12, 24], [8, 4]]</td>\n",
       "            </tr>\n",
       "            <tr>\n",
       "                                <td id=\"T_26be9a7a_a41b_11ea_b432_107b4493f33brow6_col0\" class=\"data row6 col0\" >parb_sad-1</td>\n",
       "                        <td id=\"T_26be9a7a_a41b_11ea_b432_107b4493f33brow6_col1\" class=\"data row6 col1\" >nvd_conv-0</td>\n",
       "                        <td id=\"T_26be9a7a_a41b_11ea_b432_107b4493f33brow6_col2\" class=\"data row6 col2\" >0.25</td>\n",
       "                        <td id=\"T_26be9a7a_a41b_11ea_b432_107b4493f33brow6_col3\" class=\"data row6 col3\" >0.75</td>\n",
       "                        <td id=\"T_26be9a7a_a41b_11ea_b432_107b4493f33brow6_col4\" class=\"data row6 col4\" >[[], [4, 4, 8], [24, 12]]</td>\n",
       "            </tr>\n",
       "            <tr>\n",
       "                                <td id=\"T_26be9a7a_a41b_11ea_b432_107b4493f33brow7_col0\" class=\"data row7 col0\" >parb_sad-1</td>\n",
       "                        <td id=\"T_26be9a7a_a41b_11ea_b432_107b4493f33brow7_col1\" class=\"data row7 col1\" >nvd_conv-0</td>\n",
       "                        <td id=\"T_26be9a7a_a41b_11ea_b432_107b4493f33brow7_col2\" class=\"data row7 col2\" >0.5</td>\n",
       "                        <td id=\"T_26be9a7a_a41b_11ea_b432_107b4493f33brow7_col3\" class=\"data row7 col3\" >0.5</td>\n",
       "                        <td id=\"T_26be9a7a_a41b_11ea_b432_107b4493f33brow7_col4\" class=\"data row7 col4\" >[[], [8, 8, 16], [16, 8]]</td>\n",
       "            </tr>\n",
       "            <tr>\n",
       "                                <td id=\"T_26be9a7a_a41b_11ea_b432_107b4493f33brow8_col0\" class=\"data row8 col0\" >parb_mriq-0</td>\n",
       "                        <td id=\"T_26be9a7a_a41b_11ea_b432_107b4493f33brow8_col1\" class=\"data row8 col1\" >parb_sad-0</td>\n",
       "                        <td id=\"T_26be9a7a_a41b_11ea_b432_107b4493f33brow8_col2\" class=\"data row8 col2\" >0.75</td>\n",
       "                        <td id=\"T_26be9a7a_a41b_11ea_b432_107b4493f33brow8_col3\" class=\"data row8 col3\" >0.25</td>\n",
       "                        <td id=\"T_26be9a7a_a41b_11ea_b432_107b4493f33brow8_col4\" class=\"data row8 col4\" >[[], [1, 6], [4, 2, 2]]</td>\n",
       "            </tr>\n",
       "    </tbody></table>"
      ],
      "text/plain": [
       "<pandas.io.formats.style.Styler at 0x7f064caf5860>"
      ]
     },
     "execution_count": 190,
     "metadata": {},
     "output_type": "execute_result"
    }
   ],
   "source": [
    "df_ctx= pd.read_pickle(output)\n",
    "uniq_pairs = df_ctx[['1_bench', '2_bench']].drop_duplicates().values\n",
    "uniq_pairs = ['+'.join(x) for x in uniq_pairs]\n",
    "\n",
    "col_ctx = ['1_bench', '2_bench', '1_ctx', '2_ctx', \n",
    "           'cta_quota',\n",
    "#            'runtime', 'norm_runtime'\n",
    "          ]\n",
    "draw_table(df_ctx, col_ctx)"
   ]
  },
  {
   "cell_type": "code",
   "execution_count": 191,
   "metadata": {},
   "outputs": [],
   "source": [
    "df_dynamic_index = df_dynamic.set_index(['1_bench', '1_intra', '2_bench', '2_intra'])"
   ]
  },
  {
   "cell_type": "code",
   "execution_count": 192,
   "metadata": {
    "scrolled": false
   },
   "outputs": [
    {
     "data": {
      "application/vnd.jupyter.widget-view+json": {
       "model_id": "1e91c386e7cf4be6861282af62d3a4d7",
       "version_major": 2,
       "version_minor": 0
      },
      "text/plain": [
       "Dropdown(description='Pair:', options=('parb_mriq-0+parb_sad-1', 'parb_sad-0+nvd_conv-0', 'parb_sad-1+nvd_conv…"
      ]
     },
     "metadata": {},
     "output_type": "display_data"
    },
    {
     "data": {
      "application/vnd.jupyter.widget-view+json": {
       "model_id": "242b1f3e276c412685326dd6edd002a9",
       "version_major": 2,
       "version_minor": 0
      },
      "text/plain": [
       "Button(button_style='info', description='Display', style=ButtonStyle())"
      ]
     },
     "metadata": {},
     "output_type": "display_data"
    },
    {
     "data": {
      "text/html": [
       "\n",
       "<div id=\"altair-viz-5be6543161e64bcd9726146d2ce08c90\"></div>\n",
       "<script type=\"text/javascript\">\n",
       "  (function(spec, embedOpt){\n",
       "    let outputDiv = document.currentScript.previousElementSibling;\n",
       "    if (outputDiv.id !== \"altair-viz-5be6543161e64bcd9726146d2ce08c90\") {\n",
       "      outputDiv = document.getElementById(\"altair-viz-5be6543161e64bcd9726146d2ce08c90\");\n",
       "    }\n",
       "    const paths = {\n",
       "      \"vega\": \"https://cdn.jsdelivr.net/npm//vega@5?noext\",\n",
       "      \"vega-lib\": \"https://cdn.jsdelivr.net/npm//vega-lib?noext\",\n",
       "      \"vega-lite\": \"https://cdn.jsdelivr.net/npm//vega-lite@4.8.1?noext\",\n",
       "      \"vega-embed\": \"https://cdn.jsdelivr.net/npm//vega-embed@6?noext\",\n",
       "    };\n",
       "\n",
       "    function loadScript(lib) {\n",
       "      return new Promise(function(resolve, reject) {\n",
       "        var s = document.createElement('script');\n",
       "        s.src = paths[lib];\n",
       "        s.async = true;\n",
       "        s.onload = () => resolve(paths[lib]);\n",
       "        s.onerror = () => reject(`Error loading script: ${paths[lib]}`);\n",
       "        document.getElementsByTagName(\"head\")[0].appendChild(s);\n",
       "      });\n",
       "    }\n",
       "\n",
       "    function showError(err) {\n",
       "      outputDiv.innerHTML = `<div class=\"error\" style=\"color:red;\">${err}</div>`;\n",
       "      throw err;\n",
       "    }\n",
       "\n",
       "    function displayChart(vegaEmbed) {\n",
       "      vegaEmbed(outputDiv, spec, embedOpt)\n",
       "        .catch(err => showError(`Javascript Error: ${err.message}<br>This usually means there's a typo in your chart specification. See the javascript console for the full traceback.`));\n",
       "    }\n",
       "\n",
       "    if(typeof define === \"function\" && define.amd) {\n",
       "      requirejs.config({paths});\n",
       "      require([\"vega-embed\"], displayChart, err => showError(`Error loading script: ${err.message}`));\n",
       "    } else if (typeof vegaEmbed === \"function\") {\n",
       "      displayChart(vegaEmbed);\n",
       "    } else {\n",
       "      loadScript(\"vega\")\n",
       "        .then(() => loadScript(\"vega-lite\"))\n",
       "        .then(() => loadScript(\"vega-embed\"))\n",
       "        .catch(showError)\n",
       "        .then(() => displayChart(vegaEmbed));\n",
       "    }\n",
       "  })({\"config\": {\"view\": {\"continuousWidth\": 400, \"continuousHeight\": 300}, \"axis\": {\"grid\": false}, \"header\": {\"titleColor\": \"black\", \"titleFontSize\": 14}}, \"layer\": [{\"mark\": \"bar\", \"encoding\": {\"color\": {\"type\": \"nominal\", \"field\": \"kernel\", \"legend\": null, \"scale\": {\"scheme\": \"pastel1\"}}, \"x\": {\"type\": \"quantitative\", \"field\": \"start\", \"title\": \"Cycles\"}, \"x2\": {\"field\": \"end\"}, \"y\": {\"type\": \"nominal\", \"field\": \"stream\", \"sort\": null}}, \"height\": 100, \"title\": \"1_ctx = 0.25\", \"width\": 900}, {\"mark\": {\"type\": \"text\", \"align\": \"center\", \"angle\": 90, \"baseline\": \"middle\", \"color\": \"black\", \"fontSize\": 12}, \"encoding\": {\"text\": {\"type\": \"quantitative\", \"field\": \"norm\"}, \"x\": {\"type\": \"quantitative\", \"field\": \"position\"}, \"y\": {\"type\": \"nominal\", \"field\": \"stream\", \"sort\": null, \"title\": null}}}], \"data\": {\"name\": \"data-cb64d64d5418a5ffc89d1961b2cdbef6\"}, \"$schema\": \"https://vega.github.io/schema/vega-lite/v4.8.1.json\", \"datasets\": {\"data-cb64d64d5418a5ffc89d1961b2cdbef6\": [{\"start\": 0, \"end\": 1703, \"stream\": \"1: parb_mriq-0\", \"kernel\": \"1:1\", \"position\": 851.5, \"norm\": 0.76}, {\"start\": 1703, \"end\": 6108895, \"stream\": \"1: parb_mriq-0\", \"kernel\": \"1:2\", \"position\": 3055299.0, \"norm\": 0.52}, {\"start\": 6108895, \"end\": 12198724, \"stream\": \"1: parb_mriq-0\", \"kernel\": \"1:1\", \"position\": 9153809.5, \"norm\": 0.52}, {\"start\": 0, \"end\": 3560548, \"stream\": \"2: parb_sad-1\", \"kernel\": \"2:1\", \"position\": 1780274.0, \"norm\": 0.84}, {\"start\": 3560548, \"end\": 5842994, \"stream\": \"2: parb_sad-1\", \"kernel\": \"2:2\", \"position\": 4701771.0, \"norm\": 1.02}, {\"start\": 5842994, \"end\": 6372670, \"stream\": \"2: parb_sad-1\", \"kernel\": \"2:3\", \"position\": 6107832.0, \"norm\": 1.02}, {\"start\": 6372670, \"end\": 9930316, \"stream\": \"2: parb_sad-1\", \"kernel\": \"2:1\", \"position\": 8151493.0, \"norm\": 0.84}, {\"start\": 9930316, \"end\": 12218028, \"stream\": \"2: parb_sad-1\", \"kernel\": \"2:2\", \"position\": 11074172.0, \"norm\": 1.02}, {\"start\": 12218028, \"end\": 12741814, \"stream\": \"2: parb_sad-1\", \"kernel\": \"2:3\", \"position\": 12479921.0, \"norm\": 1.03}]}}, {\"mode\": \"vega-lite\"});\n",
       "</script>"
      ],
      "text/plain": [
       "alt.LayerChart(...)"
      ]
     },
     "metadata": {},
     "output_type": "display_data"
    },
    {
     "name": "stdout",
     "output_type": "stream",
     "text": [
      "parb_mriq-0 : [1, 2] CTAs/SM\n",
      "parb_sad-1 : [12, 12, 24] CTAs/SM\n",
      "slowdown: [0, 0.25898405439782063, 0.9207351078904132]\n",
      "weighted speedup: 1.179719162288234\n",
      "----------------------------------------------------------------------------------------------------\n"
     ]
    },
    {
     "data": {
      "text/html": [
       "\n",
       "<div id=\"altair-viz-c2e801870e3a4a1ab1b5719b7a7019c8\"></div>\n",
       "<script type=\"text/javascript\">\n",
       "  (function(spec, embedOpt){\n",
       "    let outputDiv = document.currentScript.previousElementSibling;\n",
       "    if (outputDiv.id !== \"altair-viz-c2e801870e3a4a1ab1b5719b7a7019c8\") {\n",
       "      outputDiv = document.getElementById(\"altair-viz-c2e801870e3a4a1ab1b5719b7a7019c8\");\n",
       "    }\n",
       "    const paths = {\n",
       "      \"vega\": \"https://cdn.jsdelivr.net/npm//vega@5?noext\",\n",
       "      \"vega-lib\": \"https://cdn.jsdelivr.net/npm//vega-lib?noext\",\n",
       "      \"vega-lite\": \"https://cdn.jsdelivr.net/npm//vega-lite@4.8.1?noext\",\n",
       "      \"vega-embed\": \"https://cdn.jsdelivr.net/npm//vega-embed@6?noext\",\n",
       "    };\n",
       "\n",
       "    function loadScript(lib) {\n",
       "      return new Promise(function(resolve, reject) {\n",
       "        var s = document.createElement('script');\n",
       "        s.src = paths[lib];\n",
       "        s.async = true;\n",
       "        s.onload = () => resolve(paths[lib]);\n",
       "        s.onerror = () => reject(`Error loading script: ${paths[lib]}`);\n",
       "        document.getElementsByTagName(\"head\")[0].appendChild(s);\n",
       "      });\n",
       "    }\n",
       "\n",
       "    function showError(err) {\n",
       "      outputDiv.innerHTML = `<div class=\"error\" style=\"color:red;\">${err}</div>`;\n",
       "      throw err;\n",
       "    }\n",
       "\n",
       "    function displayChart(vegaEmbed) {\n",
       "      vegaEmbed(outputDiv, spec, embedOpt)\n",
       "        .catch(err => showError(`Javascript Error: ${err.message}<br>This usually means there's a typo in your chart specification. See the javascript console for the full traceback.`));\n",
       "    }\n",
       "\n",
       "    if(typeof define === \"function\" && define.amd) {\n",
       "      requirejs.config({paths});\n",
       "      require([\"vega-embed\"], displayChart, err => showError(`Error loading script: ${err.message}`));\n",
       "    } else if (typeof vegaEmbed === \"function\") {\n",
       "      displayChart(vegaEmbed);\n",
       "    } else {\n",
       "      loadScript(\"vega\")\n",
       "        .then(() => loadScript(\"vega-lite\"))\n",
       "        .then(() => loadScript(\"vega-embed\"))\n",
       "        .catch(showError)\n",
       "        .then(() => displayChart(vegaEmbed));\n",
       "    }\n",
       "  })({\"config\": {\"view\": {\"continuousWidth\": 400, \"continuousHeight\": 300}, \"axis\": {\"grid\": false}, \"header\": {\"titleColor\": \"black\", \"titleFontSize\": 14}}, \"layer\": [{\"mark\": \"bar\", \"encoding\": {\"color\": {\"type\": \"nominal\", \"field\": \"kernel\", \"legend\": null, \"scale\": {\"scheme\": \"pastel1\"}}, \"x\": {\"type\": \"quantitative\", \"field\": \"start\", \"title\": \"Cycles\"}, \"x2\": {\"field\": \"end\"}, \"y\": {\"type\": \"nominal\", \"field\": \"stream\", \"sort\": null}}, \"height\": 100, \"title\": \"1_ctx = 0.5\", \"width\": 900}, {\"mark\": {\"type\": \"text\", \"align\": \"center\", \"angle\": 90, \"baseline\": \"middle\", \"color\": \"black\", \"fontSize\": 12}, \"encoding\": {\"text\": {\"type\": \"quantitative\", \"field\": \"norm\"}, \"x\": {\"type\": \"quantitative\", \"field\": \"position\"}, \"y\": {\"type\": \"nominal\", \"field\": \"stream\", \"sort\": null, \"title\": null}}}], \"data\": {\"name\": \"data-b1d2652bd29508330be85770ec015538\"}, \"$schema\": \"https://vega.github.io/schema/vega-lite/v4.8.1.json\", \"datasets\": {\"data-b1d2652bd29508330be85770ec015538\": [{\"start\": 0, \"end\": 1510, \"stream\": \"1: parb_mriq-0\", \"kernel\": \"1:1\", \"position\": 755.0, \"norm\": 0.85}, {\"start\": 1510, \"end\": 4809593, \"stream\": \"1: parb_mriq-0\", \"kernel\": \"1:2\", \"position\": 2405551.5, \"norm\": 0.66}, {\"start\": 4809593, \"end\": 8966012, \"stream\": \"1: parb_mriq-0\", \"kernel\": \"1:1\", \"position\": 6887802.5, \"norm\": 0.76}, {\"start\": 0, \"end\": 4385105, \"stream\": \"2: parb_sad-1\", \"kernel\": \"2:1\", \"position\": 2192552.5, \"norm\": 0.68}, {\"start\": 4385105, \"end\": 6565295, \"stream\": \"2: parb_sad-1\", \"kernel\": \"2:2\", \"position\": 5475200.0, \"norm\": 1.07}, {\"start\": 6565295, \"end\": 7043987, \"stream\": \"2: parb_sad-1\", \"kernel\": \"2:3\", \"position\": 6804641.0, \"norm\": 1.13}, {\"start\": 7043987, \"end\": 10364630, \"stream\": \"2: parb_sad-1\", \"kernel\": \"2:1\", \"position\": 8704308.5, \"norm\": 0.9}, {\"start\": 10364630, \"end\": 12535878, \"stream\": \"2: parb_sad-1\", \"kernel\": \"2:2\", \"position\": 11450254.0, \"norm\": 1.07}, {\"start\": 12535878, \"end\": 13008188, \"stream\": \"2: parb_sad-1\", \"kernel\": \"2:3\", \"position\": 12772033.0, \"norm\": 1.15}]}}, {\"mode\": \"vega-lite\"});\n",
       "</script>"
      ],
      "text/plain": [
       "alt.LayerChart(...)"
      ]
     },
     "metadata": {},
     "output_type": "display_data"
    },
    {
     "name": "stdout",
     "output_type": "stream",
     "text": [
      "parb_mriq-0 : [1, 4] CTAs/SM\n",
      "parb_sad-1 : [8, 8, 16] CTAs/SM\n",
      "slowdown: [0, 0.35236122815807075, 0.8329857792185023]\n",
      "weighted speedup: 1.185347007376573\n",
      "----------------------------------------------------------------------------------------------------\n"
     ]
    }
   ],
   "source": [
    "ctx_dd = widgets.Dropdown(options=uniq_pairs, value=uniq_pairs[0], description='Pair:')\n",
    "ctx_btn = widgets.Button(description='Display', button_style='info')\n",
    "\n",
    "def show_widgets_ctx():\n",
    "    display(ctx_dd)\n",
    "    display(ctx_btn)\n",
    "    \n",
    "\n",
    "def ctx_onclick(b):\n",
    "    clear_output()\n",
    "    show_widgets_ctx()\n",
    "    \n",
    "    apps = ctx_dd.value.split('+')\n",
    "    df_apps = df_ctx[(df_ctx['1_bench'] == apps[0]) & (df_ctx['2_bench'] == apps[1])]\n",
    "    df_apps = df_apps.sort_values('1_ctx')\n",
    "    for rid, row in df_apps.iterrows():\n",
    "        app1 = row['1_bench']\n",
    "        app2 = row['2_bench']\n",
    "        # Show actual timeline\n",
    "        gen_altair.draw_altair_timeline(row, col_title='1_ctx').display()  \n",
    "        # Print ctas/SM for each kernel in each app\n",
    "        print(app1, ':', row['cta_quota'][1], 'CTAs/SM')\n",
    "        print(app2, ':', row['cta_quota'][2], 'CTAs/SM')\n",
    "        \n",
    "        print('slowdown:', row['sld'])\n",
    "        print('weighted speedup:', row['ws'])\n",
    "        \n",
    "        # Show predicted timeline based on df_dynamic info\n",
    "        matrix_size = (len(const.kernel_yaml[app2]), len(const.kernel_yaml[app1]))\n",
    "        interference_1 = np.zeros(matrix_size)\n",
    "        interference_2 = np.zeros(matrix_size)\n",
    "\n",
    "        no_predict = False\n",
    "        # Build interference matrix\n",
    "        for kernel_1 in const.kernel_yaml[app1]:\n",
    "            if not no_predict:\n",
    "                for kernel_2 in const.kernel_yaml[app2]:\n",
    "                    cta_1 = row['cta_quota'][1][kernel_1-1]\n",
    "                    cta_2 = row['cta_quota'][2][kernel_2-1]\n",
    "                    dynamic_idx = (app1, int(cta_1), app2, int(cta_2))\n",
    "\n",
    "                    if dynamic_idx not in df_dynamic_index.index:\n",
    "                        no_predict = True\n",
    "                        break\n",
    "\n",
    "                    sld_1 = df_dynamic_index.loc[dynamic_idx, 'sld'].to_list()[0][1]\n",
    "                    sld_2 = df_dynamic_index.loc[dynamic_idx, 'sld'].to_list()[0][2]\n",
    "\n",
    "                    matrix_idx = (kernel_2-1, kernel_1-1)\n",
    "\n",
    "                    interference_1[matrix_idx] = sld_1\n",
    "                    interference_2[matrix_idx] = sld_2\n",
    "        \n",
    "        if not no_predict:\n",
    "            # Get baseline runtime\n",
    "            runtimes = [get_runtime(row['1_bench']), get_runtime(row['2_bench'])]\n",
    "            interference = [interference_1, interference_2]\n",
    "            \n",
    "            app1_kernels = ['{0}:{1}'.format(app1, kernel) for kernel in const.kernel_yaml[app1]]\n",
    "            app2_kernels = ['{0}:{1}'.format(app2, kernel) for kernel in const.kernel_yaml[app2]]\n",
    "\n",
    "            df_header = (app2_kernels, app1_kernels)\n",
    "            print_table(apps, 'slowdown', interference, df_header)\n",
    "\n",
    "\n",
    "            # Predict app slowdown\n",
    "            predict_app(runtimes, interference, [app1, app2])\n",
    "        \n",
    "        print('-' * 100)\n",
    "\n",
    "show_widgets_ctx()\n",
    "ctx_btn.on_click(ctx_onclick)\n",
    " "
   ]
  },
  {
   "cell_type": "code",
   "execution_count": null,
   "metadata": {},
   "outputs": [],
   "source": []
  },
  {
   "cell_type": "markdown",
   "metadata": {},
   "source": [
    "# CTA LUT"
   ]
  },
  {
   "cell_type": "code",
   "execution_count": 112,
   "metadata": {},
   "outputs": [
    {
     "name": "stdout",
     "output_type": "stream",
     "text": [
      "Index(['pair_str', 'config', 'gpusim_version', 'jobId', 'stall_icnt_to_l2',\n",
      "       'stall_l2_to_icnt', 'stall_core_ldst', 'l1D_miss_rate', 'l2_miss_rate',\n",
      "       'l2_rshr_entry_fail', 'l2_rshr_merge_fail', 'l2_total_accesses',\n",
      "       'mem_count', 'empty_warp', 'stall_warp', 'idle_warp', 'scoreboard_warp',\n",
      "       'tot_warp_insn', 'runtime', 'instructions', 'l2_bw', 'avg_mem_lat',\n",
      "       'avg_core_to_l2', 'avg_l2_to_core', 'avg_mrq_latency', 'dram_eff',\n",
      "       'dram_bw', 'row_buffer_locality', 'mem_idle', 'total_cmd'],\n",
      "      dtype='object')\n"
     ]
    }
   ],
   "source": [
    "lut_csv = os.path.join(HOME, 'data/csv/pair_lut.csv')\n",
    "lut_out = os.path.join(PKL_PATH, 'pair_lut.pkl')\n",
    "\n",
    "%run $gen_pair --csv $lut_csv --output $lut_out --seq_pkl $seq_pkl --multi --how lut"
   ]
  },
  {
   "cell_type": "code",
   "execution_count": 113,
   "metadata": {},
   "outputs": [],
   "source": [
    "df_lut = pd.read_pickle(lut_out)\n",
    "col_lut = ['pair_str', '1_bench', '2_bench', 'norm_ipc', 'runtime'] \n",
    "# draw_table(df_lut, col_lut)"
   ]
  },
  {
   "cell_type": "code",
   "execution_count": 114,
   "metadata": {},
   "outputs": [
    {
     "data": {
      "application/vnd.jupyter.widget-view+json": {
       "model_id": "03b33f9298e143b2a6c0d6072989b7fc",
       "version_major": 2,
       "version_minor": 0
      },
      "text/plain": [
       "Dropdown(description='Pair:', index=1, options=('parb_sad-0-nvd_conv-0', 'parb_sad-1-nvd_conv-0'), value='parb…"
      ]
     },
     "metadata": {},
     "output_type": "display_data"
    },
    {
     "data": {
      "application/vnd.jupyter.widget-view+json": {
       "model_id": "8efc2743c46e445c97eb9460299429de",
       "version_major": 2,
       "version_minor": 0
      },
      "text/plain": [
       "Button(button_style='info', description='Display', style=ButtonStyle())"
      ]
     },
     "metadata": {},
     "output_type": "display_data"
    },
    {
     "data": {
      "text/html": [
       "\n",
       "<div id=\"altair-viz-c90e2858eff74d4ea7ba3f1812b93d12\"></div>\n",
       "<script type=\"text/javascript\">\n",
       "  (function(spec, embedOpt){\n",
       "    let outputDiv = document.currentScript.previousElementSibling;\n",
       "    if (outputDiv.id !== \"altair-viz-c90e2858eff74d4ea7ba3f1812b93d12\") {\n",
       "      outputDiv = document.getElementById(\"altair-viz-c90e2858eff74d4ea7ba3f1812b93d12\");\n",
       "    }\n",
       "    const paths = {\n",
       "      \"vega\": \"https://cdn.jsdelivr.net/npm//vega@5?noext\",\n",
       "      \"vega-lib\": \"https://cdn.jsdelivr.net/npm//vega-lib?noext\",\n",
       "      \"vega-lite\": \"https://cdn.jsdelivr.net/npm//vega-lite@4.8.1?noext\",\n",
       "      \"vega-embed\": \"https://cdn.jsdelivr.net/npm//vega-embed@6?noext\",\n",
       "    };\n",
       "\n",
       "    function loadScript(lib) {\n",
       "      return new Promise(function(resolve, reject) {\n",
       "        var s = document.createElement('script');\n",
       "        s.src = paths[lib];\n",
       "        s.async = true;\n",
       "        s.onload = () => resolve(paths[lib]);\n",
       "        s.onerror = () => reject(`Error loading script: ${paths[lib]}`);\n",
       "        document.getElementsByTagName(\"head\")[0].appendChild(s);\n",
       "      });\n",
       "    }\n",
       "\n",
       "    function showError(err) {\n",
       "      outputDiv.innerHTML = `<div class=\"error\" style=\"color:red;\">${err}</div>`;\n",
       "      throw err;\n",
       "    }\n",
       "\n",
       "    function displayChart(vegaEmbed) {\n",
       "      vegaEmbed(outputDiv, spec, embedOpt)\n",
       "        .catch(err => showError(`Javascript Error: ${err.message}<br>This usually means there's a typo in your chart specification. See the javascript console for the full traceback.`));\n",
       "    }\n",
       "\n",
       "    if(typeof define === \"function\" && define.amd) {\n",
       "      requirejs.config({paths});\n",
       "      require([\"vega-embed\"], displayChart, err => showError(`Error loading script: ${err.message}`));\n",
       "    } else if (typeof vegaEmbed === \"function\") {\n",
       "      displayChart(vegaEmbed);\n",
       "    } else {\n",
       "      loadScript(\"vega\")\n",
       "        .then(() => loadScript(\"vega-lite\"))\n",
       "        .then(() => loadScript(\"vega-embed\"))\n",
       "        .catch(showError)\n",
       "        .then(() => displayChart(vegaEmbed));\n",
       "    }\n",
       "  })({\"config\": {\"view\": {\"continuousWidth\": 400, \"continuousHeight\": 300}, \"axis\": {\"grid\": false}, \"header\": {\"titleColor\": \"black\", \"titleFontSize\": 14}}, \"layer\": [{\"mark\": \"bar\", \"encoding\": {\"color\": {\"type\": \"nominal\", \"field\": \"kernel\", \"legend\": null, \"scale\": {\"scheme\": \"pastel1\"}}, \"x\": {\"type\": \"quantitative\", \"field\": \"start\", \"title\": \"Cycles\"}, \"x2\": {\"field\": \"end\"}, \"y\": {\"type\": \"nominal\", \"field\": \"stream\", \"sort\": null}}, \"height\": 100, \"title\": \"CTA LUT\", \"width\": 900}, {\"mark\": {\"type\": \"text\", \"align\": \"center\", \"angle\": 90, \"baseline\": \"middle\", \"color\": \"black\", \"fontSize\": 12}, \"encoding\": {\"text\": {\"type\": \"quantitative\", \"field\": \"norm\"}, \"x\": {\"type\": \"quantitative\", \"field\": \"position\"}, \"y\": {\"type\": \"nominal\", \"field\": \"stream\", \"sort\": null, \"title\": null}}}], \"data\": {\"name\": \"data-70ada3700c4466cdd7042d424e022639\"}, \"$schema\": \"https://vega.github.io/schema/vega-lite/v4.8.1.json\", \"datasets\": {\"data-70ada3700c4466cdd7042d424e022639\": [{\"start\": 0, \"end\": 3903782, \"stream\": \"1: parb_sad-1\", \"kernel\": \"1:1\", \"position\": 1951891.0, \"norm\": 0.77}, {\"start\": 3903782, \"end\": 7018203, \"stream\": \"1: parb_sad-1\", \"kernel\": \"1:2\", \"position\": 5460992.5, \"norm\": 0.75}, {\"start\": 7018203, \"end\": 7834764, \"stream\": \"1: parb_sad-1\", \"kernel\": \"1:3\", \"position\": 7426483.5, \"norm\": 0.66}, {\"start\": 0, \"end\": 251500, \"stream\": \"2: nvd_conv-0\", \"kernel\": \"2:1\", \"position\": 125750.0, \"norm\": 0.76}, {\"start\": 251500, \"end\": 482923, \"stream\": \"2: nvd_conv-0\", \"kernel\": \"2:2\", \"position\": 367211.5, \"norm\": 0.9}, {\"start\": 482923, \"end\": 730723, \"stream\": \"2: nvd_conv-0\", \"kernel\": \"2:1\", \"position\": 606823.0, \"norm\": 0.77}, {\"start\": 730723, \"end\": 954989, \"stream\": \"2: nvd_conv-0\", \"kernel\": \"2:2\", \"position\": 842856.0, \"norm\": 0.93}, {\"start\": 954989, \"end\": 1205269, \"stream\": \"2: nvd_conv-0\", \"kernel\": \"2:1\", \"position\": 1080129.0, \"norm\": 0.76}, {\"start\": 1205269, \"end\": 1431743, \"stream\": \"2: nvd_conv-0\", \"kernel\": \"2:2\", \"position\": 1318506.0, \"norm\": 0.92}, {\"start\": 1431743, \"end\": 1678406, \"stream\": \"2: nvd_conv-0\", \"kernel\": \"2:1\", \"position\": 1555074.5, \"norm\": 0.77}, {\"start\": 1678406, \"end\": 1904531, \"stream\": \"2: nvd_conv-0\", \"kernel\": \"2:2\", \"position\": 1791468.5, \"norm\": 0.92}, {\"start\": 1904531, \"end\": 2149949, \"stream\": \"2: nvd_conv-0\", \"kernel\": \"2:1\", \"position\": 2027240.0, \"norm\": 0.78}, {\"start\": 2149949, \"end\": 2375787, \"stream\": \"2: nvd_conv-0\", \"kernel\": \"2:2\", \"position\": 2262868.0, \"norm\": 0.92}, {\"start\": 2375787, \"end\": 2622218, \"stream\": \"2: nvd_conv-0\", \"kernel\": \"2:1\", \"position\": 2499002.5, \"norm\": 0.77}, {\"start\": 2622218, \"end\": 2847361, \"stream\": \"2: nvd_conv-0\", \"kernel\": \"2:2\", \"position\": 2734789.5, \"norm\": 0.92}, {\"start\": 2847361, \"end\": 3098447, \"stream\": \"2: nvd_conv-0\", \"kernel\": \"2:1\", \"position\": 2972904.0, \"norm\": 0.76}, {\"start\": 3098447, \"end\": 3326296, \"stream\": \"2: nvd_conv-0\", \"kernel\": \"2:2\", \"position\": 3212371.5, \"norm\": 0.91}, {\"start\": 3326296, \"end\": 3574526, \"stream\": \"2: nvd_conv-0\", \"kernel\": \"2:1\", \"position\": 3450411.0, \"norm\": 0.77}, {\"start\": 3574526, \"end\": 3801096, \"stream\": \"2: nvd_conv-0\", \"kernel\": \"2:2\", \"position\": 3687811.0, \"norm\": 0.92}, {\"start\": 3801096, \"end\": 4128120, \"stream\": \"2: nvd_conv-0\", \"kernel\": \"2:1\", \"position\": 3964608.0, \"norm\": 0.58}, {\"start\": 4128120, \"end\": 4564514, \"stream\": \"2: nvd_conv-0\", \"kernel\": \"2:2\", \"position\": 4346317.0, \"norm\": 0.48}, {\"start\": 4564514, \"end\": 4973870, \"stream\": \"2: nvd_conv-0\", \"kernel\": \"2:1\", \"position\": 4769192.0, \"norm\": 0.46}, {\"start\": 4973870, \"end\": 5388932, \"stream\": \"2: nvd_conv-0\", \"kernel\": \"2:2\", \"position\": 5181401.0, \"norm\": 0.5}, {\"start\": 5388932, \"end\": 5760987, \"stream\": \"2: nvd_conv-0\", \"kernel\": \"2:1\", \"position\": 5574959.5, \"norm\": 0.51}, {\"start\": 5760987, \"end\": 6180552, \"stream\": \"2: nvd_conv-0\", \"kernel\": \"2:2\", \"position\": 5970769.5, \"norm\": 0.5}, {\"start\": 6180552, \"end\": 6564565, \"stream\": \"2: nvd_conv-0\", \"kernel\": \"2:1\", \"position\": 6372558.5, \"norm\": 0.5}, {\"start\": 6564565, \"end\": 6995694, \"stream\": \"2: nvd_conv-0\", \"kernel\": \"2:2\", \"position\": 6780129.5, \"norm\": 0.48}, {\"start\": 6995694, \"end\": 7318876, \"stream\": \"2: nvd_conv-0\", \"kernel\": \"2:1\", \"position\": 7157285.0, \"norm\": 0.59}, {\"start\": 7318876, \"end\": 7728172, \"stream\": \"2: nvd_conv-0\", \"kernel\": \"2:2\", \"position\": 7523524.0, \"norm\": 0.51}, {\"start\": 7728172, \"end\": 7949173, \"stream\": \"2: nvd_conv-0\", \"kernel\": \"2:1\", \"position\": 7838672.5, \"norm\": 0.86}, {\"start\": 7949173, \"end\": 8155589, \"stream\": \"2: nvd_conv-0\", \"kernel\": \"2:2\", \"position\": 8052381.0, \"norm\": 1.01}]}}, {\"mode\": \"vega-lite\"});\n",
       "</script>"
      ],
      "text/plain": [
       "alt.LayerChart(...)"
      ]
     },
     "metadata": {},
     "output_type": "display_data"
    },
    {
     "name": "stdout",
     "output_type": "stream",
     "text": [
      "Note:\n",
      "runtime: [[], [3903782, 3114421, 816561], [251500, 231423, 247800, 224266, 250280, 226474, 246663, 226125, 245418, 225838, 246431, 225143, 251086, 227849, 248230, 226570, 327024, 436394, 409356, 415062, 372055, 419565, 384013, 431129, 323182, 409296, 221001, 206416]]\n",
      "slowdown: [0, 0.7489110074023927, 0.6703564568697488]\n",
      "weighted speedup: 1.4192674642721415\n",
      "----------------------------------------------------------------------------------------------------\n"
     ]
    }
   ],
   "source": [
    "lut_dd = widgets.Dropdown(options=df_lut['pair_str'], value=df_lut.iloc[0]['pair_str'], description='Pair:')\n",
    "\n",
    "lut_btn = widgets.Button(description='Display', button_style='info')\n",
    "\n",
    "def show_widgets_lut():\n",
    "    display(lut_dd)\n",
    "    display(lut_btn)\n",
    "    \n",
    "\n",
    "def lut_onclick(b):\n",
    "    clear_output()\n",
    "    show_widgets_lut()\n",
    "    \n",
    "    apps = re.split(r'-(?=\\D)', lut_dd.value)\n",
    "    df_apps = df_lut[(df_lut['1_bench'] == apps[0]) & (df_lut['2_bench'] == apps[1])]\n",
    "    for rid, row in df_apps.iterrows():\n",
    "        gen_altair.draw_altair_timeline(row, title='CTA LUT').display()  \n",
    "        \n",
    "        print('Note:')\n",
    "#         print(row['1_bench'], ':', row['cta_quota'][1], 'CTAs/SM')\n",
    "#         print(row['2_bench'], ':', row['cta_quota'][2], 'CTAs/SM')\n",
    "        \n",
    "        print('runtime:', row['runtime'])\n",
    "        print('slowdown:', row['sld'])\n",
    "        print('weighted speedup:', row['ws'])\n",
    "        print('-' * 100)\n",
    "\n",
    "show_widgets_lut()\n",
    "lut_btn.on_click(lut_onclick)\n",
    " "
   ]
  },
  {
   "cell_type": "code",
   "execution_count": 24,
   "metadata": {},
   "outputs": [
    {
     "name": "stdout",
     "output_type": "stream",
     "text": [
      "[0]\n"
     ]
    }
   ],
   "source": [
    "test = [0, 1]\n",
    "print(test[0:-1])"
   ]
  },
  {
   "cell_type": "code",
   "execution_count": 176,
   "metadata": {},
   "outputs": [
    {
     "name": "stdout",
     "output_type": "stream",
     "text": [
      "0\n"
     ]
    }
   ],
   "source": [
    "for r in range(1):\n",
    "    print(r)"
   ]
  },
  {
   "cell_type": "code",
   "execution_count": null,
   "metadata": {},
   "outputs": [],
   "source": []
  }
 ],
 "metadata": {
  "kernelspec": {
   "display_name": "Python 3",
   "language": "python",
   "name": "python3"
  },
  "language_info": {
   "codemirror_mode": {
    "name": "ipython",
    "version": 3
   },
   "file_extension": ".py",
   "mimetype": "text/x-python",
   "name": "python",
   "nbconvert_exporter": "python",
   "pygments_lexer": "ipython3",
   "version": "3.6.8"
  }
 },
 "nbformat": 4,
 "nbformat_minor": 4
}
