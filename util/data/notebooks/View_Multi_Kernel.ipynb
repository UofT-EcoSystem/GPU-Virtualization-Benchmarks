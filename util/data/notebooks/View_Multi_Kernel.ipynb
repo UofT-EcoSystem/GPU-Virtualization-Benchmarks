{
 "cells": [
  {
   "cell_type": "code",
   "execution_count": 1,
   "metadata": {},
   "outputs": [],
   "source": [
    "%load_ext autoreload\n",
    "%autoreload 2\n",
    "\n",
    "import pandas as pd\n",
    "import os\n",
    "import sys\n",
    "from ipywidgets import widgets\n",
    "from IPython.display import display, HTML\n",
    "from IPython.display import clear_output\n",
    "import matplotlib.pyplot as plt\n",
    "import seaborn as sns\n",
    "import altair as alt\n",
    "from tabulate import tabulate\n",
    "import math\n",
    "\n",
    "# Customized modules\n",
    "HOME = '/home/serinatan/project/GPU-Virtualization-Benchmarks/util'\n",
    "if HOME not in sys.path:\n",
    "    sys.path.append(HOME)\n",
    "\n",
    "import data.scripts.common.format as fmt\n",
    "import data.scripts.common.constants as const\n",
    "import data.scripts.gen_tables.gen_pair_configs as gen_pair\n",
    "import data.scripts.gen_tables.search_best_inter as search_inter\n",
    "import data.scripts.gen_graphs.gen_altair_timeline as gen_altair\n",
    "import scheduler.scheduler as scheduler\n",
    "\n",
    "SCRIPT_PATH = os.path.join(HOME, 'data/scripts') \n",
    "PKL_PATH = os.path.join(HOME, 'data/pickles') \n",
    "CSV_PATH = os.path.join(HOME, 'data/csv') \n",
    "GRAPH_PATH = os.path.join(HOME, 'data/graphs')\n",
    "\n",
    "%config InlineBackend.figure_format ='retina'\n",
    "plt.style.use('seaborn-talk')"
   ]
  },
  {
   "cell_type": "code",
   "execution_count": 2,
   "metadata": {},
   "outputs": [],
   "source": [
    "def draw_table(df, cols, hide_index=True):\n",
    "    if hide_index:\n",
    "        return df[cols].style.set_table_styles(fmt.table_style).hide_index()\n",
    "    else:\n",
    "        return df[cols].style.set_table_styles(fmt.table_style)"
   ]
  },
  {
   "cell_type": "markdown",
   "metadata": {},
   "source": [
    "# Seq"
   ]
  },
  {
   "cell_type": "code",
   "execution_count": 3,
   "metadata": {
    "scrolled": false
   },
   "outputs": [
    {
     "name": "stdout",
     "output_type": "stream",
     "text": [
      "Index(['pair_str', 'config', 'gpusim_version', 'jobId', 'stall_icnt_to_l2',\n",
      "       'stall_l2_to_icnt', 'stall_core_ldst', 'l1D_miss_rate', 'l2_miss_rate',\n",
      "       'l2_rshr_entry_fail', 'l2_rshr_merge_fail', 'l2_total_accesses',\n",
      "       'mem_count', 'empty_warp', 'stall_warp', 'idle_warp', 'scoreboard_warp',\n",
      "       'tot_warp_insn', 'runtime', 'instructions', 'l2_bw', 'avg_mem_lat',\n",
      "       'avg_core_to_l2', 'avg_l2_to_core', 'avg_mrq_latency', 'dram_eff',\n",
      "       'dram_bw', 'row_buffer_locality', 'mem_idle', 'total_cmd', 'ipc',\n",
      "       'avg_dram_bw', 'avg_dram_eff', 'avg_row_locality', 'std_dram_bw',\n",
      "       'ratio_dram_bw', 'MPKI', 'l2_access_density', '1_kidx', 'waves'],\n",
      "      dtype='object')\n"
     ]
    }
   ],
   "source": [
    "# run python scripts to generate all the pickles needed\n",
    "gen_seq = os.path.join(SCRIPT_PATH, 'gen_tables/gen_table_seq.py')   \n",
    "seq_file = os.path.join(CSV_PATH, 'seq-multi.csv')\n",
    "seq_pkl = os.path.join(PKL_PATH, 'seq-multi.pkl')\n",
    "%run $gen_seq --multi --csv $seq_file --output $seq_pkl\n",
    "\n",
    "df_seq = pd.read_pickle(os.path.join(PKL_PATH, 'seq-multi.pkl'))\n",
    "print(df_seq.columns)"
   ]
  },
  {
   "cell_type": "code",
   "execution_count": 4,
   "metadata": {},
   "outputs": [
    {
     "data": {
      "text/html": [
       "<style  type=\"text/css\" >\n",
       "    #T_970e8db6_9f8a_11ea_b432_107b4493f33b tr:nth-of-type(odd) {\n",
       "          background: #eee;\n",
       "    }    #T_970e8db6_9f8a_11ea_b432_107b4493f33b tr:nth-of-type(even) {\n",
       "          background: white;\n",
       "    }    #T_970e8db6_9f8a_11ea_b432_107b4493f33b th {\n",
       "          background: #606060;\n",
       "          color: white;\n",
       "          font-family: verdana;\n",
       "          font-size: 90%;\n",
       "    }    #T_970e8db6_9f8a_11ea_b432_107b4493f33b td {\n",
       "          font-family: verdana;\n",
       "          font-size: 90%;\n",
       "          font-weight: bold;\n",
       "    }    #T_970e8db6_9f8a_11ea_b432_107b4493f33b tr:hover {\n",
       "          background-color: #ffffcc;\n",
       "    }</style><table id=\"T_970e8db6_9f8a_11ea_b432_107b4493f33b\" ><thead>    <tr>        <th class=\"col_heading level0 col0\" >pair_str</th>        <th class=\"col_heading level0 col1\" >1_kidx</th>        <th class=\"col_heading level0 col2\" >runtime</th>        <th class=\"col_heading level0 col3\" >ipc</th>        <th class=\"col_heading level0 col4\" >avg_dram_bw</th>        <th class=\"col_heading level0 col5\" >waves</th>        <th class=\"col_heading level0 col6\" >l1D_miss_rate</th>        <th class=\"col_heading level0 col7\" >l2_miss_rate</th>    </tr></thead><tbody>\n",
       "                <tr>\n",
       "                                <td id=\"T_970e8db6_9f8a_11ea_b432_107b4493f33brow0_col0\" class=\"data row0 col0\" >nvd_conv-0</td>\n",
       "                        <td id=\"T_970e8db6_9f8a_11ea_b432_107b4493f33brow0_col1\" class=\"data row0 col1\" >1</td>\n",
       "                        <td id=\"T_970e8db6_9f8a_11ea_b432_107b4493f33brow0_col2\" class=\"data row0 col2\" >190,346</td>\n",
       "                        <td id=\"T_970e8db6_9f8a_11ea_b432_107b4493f33brow0_col3\" class=\"data row0 col3\" >2131.9</td>\n",
       "                        <td id=\"T_970e8db6_9f8a_11ea_b432_107b4493f33brow0_col4\" class=\"data row0 col4\" >0.7242</td>\n",
       "                        <td id=\"T_970e8db6_9f8a_11ea_b432_107b4493f33brow0_col5\" class=\"data row0 col5\" >7.2</td>\n",
       "                        <td id=\"T_970e8db6_9f8a_11ea_b432_107b4493f33brow0_col6\" class=\"data row0 col6\" >0.9991</td>\n",
       "                        <td id=\"T_970e8db6_9f8a_11ea_b432_107b4493f33brow0_col7\" class=\"data row0 col7\" >0.931</td>\n",
       "            </tr>\n",
       "            <tr>\n",
       "                                <td id=\"T_970e8db6_9f8a_11ea_b432_107b4493f33brow1_col0\" class=\"data row1 col0\" >nvd_conv-0</td>\n",
       "                        <td id=\"T_970e8db6_9f8a_11ea_b432_107b4493f33brow1_col1\" class=\"data row1 col1\" >2</td>\n",
       "                        <td id=\"T_970e8db6_9f8a_11ea_b432_107b4493f33brow1_col2\" class=\"data row1 col2\" >208,164</td>\n",
       "                        <td id=\"T_970e8db6_9f8a_11ea_b432_107b4493f33brow1_col3\" class=\"data row1 col3\" >1755.92</td>\n",
       "                        <td id=\"T_970e8db6_9f8a_11ea_b432_107b4493f33brow1_col4\" class=\"data row1 col4\" >0.6698</td>\n",
       "                        <td id=\"T_970e8db6_9f8a_11ea_b432_107b4493f33brow1_col5\" class=\"data row1 col5\" >14.4</td>\n",
       "                        <td id=\"T_970e8db6_9f8a_11ea_b432_107b4493f33brow1_col6\" class=\"data row1 col6\" >0.9997</td>\n",
       "                        <td id=\"T_970e8db6_9f8a_11ea_b432_107b4493f33brow1_col7\" class=\"data row1 col7\" >0.9323</td>\n",
       "            </tr>\n",
       "            <tr>\n",
       "                                <td id=\"T_970e8db6_9f8a_11ea_b432_107b4493f33brow2_col0\" class=\"data row2 col0\" >parb_mriq-0</td>\n",
       "                        <td id=\"T_970e8db6_9f8a_11ea_b432_107b4493f33brow2_col1\" class=\"data row2 col1\" >1</td>\n",
       "                        <td id=\"T_970e8db6_9f8a_11ea_b432_107b4493f33brow2_col2\" class=\"data row2 col2\" >1,286</td>\n",
       "                        <td id=\"T_970e8db6_9f8a_11ea_b432_107b4493f33brow2_col3\" class=\"data row2 col3\" >35.0358</td>\n",
       "                        <td id=\"T_970e8db6_9f8a_11ea_b432_107b4493f33brow2_col4\" class=\"data row2 col4\" >0.0005</td>\n",
       "                        <td id=\"T_970e8db6_9f8a_11ea_b432_107b4493f33brow2_col5\" class=\"data row2 col5\" >0.0125</td>\n",
       "                        <td id=\"T_970e8db6_9f8a_11ea_b432_107b4493f33brow2_col6\" class=\"data row2 col6\" >1</td>\n",
       "                        <td id=\"T_970e8db6_9f8a_11ea_b432_107b4493f33brow2_col7\" class=\"data row2 col7\" >0.3292</td>\n",
       "            </tr>\n",
       "            <tr>\n",
       "                                <td id=\"T_970e8db6_9f8a_11ea_b432_107b4493f33brow3_col0\" class=\"data row3 col0\" >parb_mriq-0</td>\n",
       "                        <td id=\"T_970e8db6_9f8a_11ea_b432_107b4493f33brow3_col1\" class=\"data row3 col1\" >2</td>\n",
       "                        <td id=\"T_970e8db6_9f8a_11ea_b432_107b4493f33brow3_col2\" class=\"data row3 col2\" >3,157,989</td>\n",
       "                        <td id=\"T_970e8db6_9f8a_11ea_b432_107b4493f33brow3_col3\" class=\"data row3 col3\" >6882.6</td>\n",
       "                        <td id=\"T_970e8db6_9f8a_11ea_b432_107b4493f33brow3_col4\" class=\"data row3 col4\" >0.0019</td>\n",
       "                        <td id=\"T_970e8db6_9f8a_11ea_b432_107b4493f33brow3_col5\" class=\"data row3 col5\" >1.6</td>\n",
       "                        <td id=\"T_970e8db6_9f8a_11ea_b432_107b4493f33brow3_col6\" class=\"data row3 col6\" >0.7143</td>\n",
       "                        <td id=\"T_970e8db6_9f8a_11ea_b432_107b4493f33brow3_col7\" class=\"data row3 col7\" >0.3666</td>\n",
       "            </tr>\n",
       "            <tr>\n",
       "                                <td id=\"T_970e8db6_9f8a_11ea_b432_107b4493f33brow4_col0\" class=\"data row4 col0\" >parb_sad-0</td>\n",
       "                        <td id=\"T_970e8db6_9f8a_11ea_b432_107b4493f33brow4_col1\" class=\"data row4 col1\" >1</td>\n",
       "                        <td id=\"T_970e8db6_9f8a_11ea_b432_107b4493f33brow4_col2\" class=\"data row4 col2\" >51,633</td>\n",
       "                        <td id=\"T_970e8db6_9f8a_11ea_b432_107b4493f33brow4_col3\" class=\"data row4 col3\" >2686.45</td>\n",
       "                        <td id=\"T_970e8db6_9f8a_11ea_b432_107b4493f33brow4_col4\" class=\"data row4 col4\" >0.0061</td>\n",
       "                        <td id=\"T_970e8db6_9f8a_11ea_b432_107b4493f33brow4_col5\" class=\"data row4 col5\" >1.16471</td>\n",
       "                        <td id=\"T_970e8db6_9f8a_11ea_b432_107b4493f33brow4_col6\" class=\"data row4 col6\" >1</td>\n",
       "                        <td id=\"T_970e8db6_9f8a_11ea_b432_107b4493f33brow4_col7\" class=\"data row4 col7\" >0.6109</td>\n",
       "            </tr>\n",
       "            <tr>\n",
       "                                <td id=\"T_970e8db6_9f8a_11ea_b432_107b4493f33brow5_col0\" class=\"data row5 col0\" >parb_sad-0</td>\n",
       "                        <td id=\"T_970e8db6_9f8a_11ea_b432_107b4493f33brow5_col1\" class=\"data row5 col1\" >2</td>\n",
       "                        <td id=\"T_970e8db6_9f8a_11ea_b432_107b4493f33brow5_col2\" class=\"data row5 col2\" >21,556</td>\n",
       "                        <td id=\"T_970e8db6_9f8a_11ea_b432_107b4493f33brow5_col3\" class=\"data row5 col3\" >203.199</td>\n",
       "                        <td id=\"T_970e8db6_9f8a_11ea_b432_107b4493f33brow5_col4\" class=\"data row5 col4\" >0.4558</td>\n",
       "                        <td id=\"T_970e8db6_9f8a_11ea_b432_107b4493f33brow5_col5\" class=\"data row5 col5\" >0.0773438</td>\n",
       "                        <td id=\"T_970e8db6_9f8a_11ea_b432_107b4493f33brow5_col6\" class=\"data row5 col6\" >0.9099</td>\n",
       "                        <td id=\"T_970e8db6_9f8a_11ea_b432_107b4493f33brow5_col7\" class=\"data row5 col7\" >0.9849</td>\n",
       "            </tr>\n",
       "            <tr>\n",
       "                                <td id=\"T_970e8db6_9f8a_11ea_b432_107b4493f33brow6_col0\" class=\"data row6 col0\" >parb_sad-0</td>\n",
       "                        <td id=\"T_970e8db6_9f8a_11ea_b432_107b4493f33brow6_col1\" class=\"data row6 col1\" >3</td>\n",
       "                        <td id=\"T_970e8db6_9f8a_11ea_b432_107b4493f33brow6_col2\" class=\"data row6 col2\" >12,806</td>\n",
       "                        <td id=\"T_970e8db6_9f8a_11ea_b432_107b4493f33brow6_col3\" class=\"data row6 col3\" >89.9086</td>\n",
       "                        <td id=\"T_970e8db6_9f8a_11ea_b432_107b4493f33brow6_col4\" class=\"data row6 col4\" >0.1249</td>\n",
       "                        <td id=\"T_970e8db6_9f8a_11ea_b432_107b4493f33brow6_col5\" class=\"data row6 col5\" >0.0386719</td>\n",
       "                        <td id=\"T_970e8db6_9f8a_11ea_b432_107b4493f33brow6_col6\" class=\"data row6 col6\" >0.9109</td>\n",
       "                        <td id=\"T_970e8db6_9f8a_11ea_b432_107b4493f33brow6_col7\" class=\"data row6 col7\" >0.9371</td>\n",
       "            </tr>\n",
       "            <tr>\n",
       "                                <td id=\"T_970e8db6_9f8a_11ea_b432_107b4493f33brow7_col0\" class=\"data row7 col0\" >parb_sad-1</td>\n",
       "                        <td id=\"T_970e8db6_9f8a_11ea_b432_107b4493f33brow7_col1\" class=\"data row7 col1\" >1</td>\n",
       "                        <td id=\"T_970e8db6_9f8a_11ea_b432_107b4493f33brow7_col2\" class=\"data row7 col2\" >3,000,706</td>\n",
       "                        <td id=\"T_970e8db6_9f8a_11ea_b432_107b4493f33brow7_col3\" class=\"data row7 col3\" >3754.08</td>\n",
       "                        <td id=\"T_970e8db6_9f8a_11ea_b432_107b4493f33brow7_col4\" class=\"data row7 col4\" >0.1736</td>\n",
       "                        <td id=\"T_970e8db6_9f8a_11ea_b432_107b4493f33brow7_col5\" class=\"data row7 col5\" >94.5882</td>\n",
       "                        <td id=\"T_970e8db6_9f8a_11ea_b432_107b4493f33brow7_col6\" class=\"data row7 col6\" >0.9999</td>\n",
       "                        <td id=\"T_970e8db6_9f8a_11ea_b432_107b4493f33brow7_col7\" class=\"data row7 col7\" >0.5524</td>\n",
       "            </tr>\n",
       "            <tr>\n",
       "                                <td id=\"T_970e8db6_9f8a_11ea_b432_107b4493f33brow8_col0\" class=\"data row8 col0\" >parb_sad-1</td>\n",
       "                        <td id=\"T_970e8db6_9f8a_11ea_b432_107b4493f33brow8_col1\" class=\"data row8 col1\" >2</td>\n",
       "                        <td id=\"T_970e8db6_9f8a_11ea_b432_107b4493f33brow8_col2\" class=\"data row8 col2\" >2,324,970</td>\n",
       "                        <td id=\"T_970e8db6_9f8a_11ea_b432_107b4493f33brow8_col3\" class=\"data row8 col3\" >153.001</td>\n",
       "                        <td id=\"T_970e8db6_9f8a_11ea_b432_107b4493f33brow8_col4\" class=\"data row8 col4\" >0.5645</td>\n",
       "                        <td id=\"T_970e8db6_9f8a_11ea_b432_107b4493f33brow8_col5\" class=\"data row8 col5\" >6.28125</td>\n",
       "                        <td id=\"T_970e8db6_9f8a_11ea_b432_107b4493f33brow8_col6\" class=\"data row8 col6\" >0.9121</td>\n",
       "                        <td id=\"T_970e8db6_9f8a_11ea_b432_107b4493f33brow8_col7\" class=\"data row8 col7\" >0.9998</td>\n",
       "            </tr>\n",
       "            <tr>\n",
       "                                <td id=\"T_970e8db6_9f8a_11ea_b432_107b4493f33brow9_col0\" class=\"data row9 col0\" >parb_sad-1</td>\n",
       "                        <td id=\"T_970e8db6_9f8a_11ea_b432_107b4493f33brow9_col1\" class=\"data row9 col1\" >3</td>\n",
       "                        <td id=\"T_970e8db6_9f8a_11ea_b432_107b4493f33brow9_col2\" class=\"data row9 col2\" >541,865</td>\n",
       "                        <td id=\"T_970e8db6_9f8a_11ea_b432_107b4493f33brow9_col3\" class=\"data row9 col3\" >172.562</td>\n",
       "                        <td id=\"T_970e8db6_9f8a_11ea_b432_107b4493f33brow9_col4\" class=\"data row9 col4\" >0.5842</td>\n",
       "                        <td id=\"T_970e8db6_9f8a_11ea_b432_107b4493f33brow9_col5\" class=\"data row9 col5\" >3.14062</td>\n",
       "                        <td id=\"T_970e8db6_9f8a_11ea_b432_107b4493f33brow9_col6\" class=\"data row9 col6\" >0.912</td>\n",
       "                        <td id=\"T_970e8db6_9f8a_11ea_b432_107b4493f33brow9_col7\" class=\"data row9 col7\" >0.9992</td>\n",
       "            </tr>\n",
       "            <tr>\n",
       "                                <td id=\"T_970e8db6_9f8a_11ea_b432_107b4493f33brow10_col0\" class=\"data row10 col0\" >rod_cfd-0</td>\n",
       "                        <td id=\"T_970e8db6_9f8a_11ea_b432_107b4493f33brow10_col1\" class=\"data row10 col1\" >4</td>\n",
       "                        <td id=\"T_970e8db6_9f8a_11ea_b432_107b4493f33brow10_col2\" class=\"data row10 col2\" >6,614</td>\n",
       "                        <td id=\"T_970e8db6_9f8a_11ea_b432_107b4493f33brow10_col3\" class=\"data row10 col3\" >705.064</td>\n",
       "                        <td id=\"T_970e8db6_9f8a_11ea_b432_107b4493f33brow10_col4\" class=\"data row10 col4\" >0.6298</td>\n",
       "                        <td id=\"T_970e8db6_9f8a_11ea_b432_107b4493f33brow10_col5\" class=\"data row10 col5\" >0.903571</td>\n",
       "                        <td id=\"T_970e8db6_9f8a_11ea_b432_107b4493f33brow10_col6\" class=\"data row10 col6\" >1</td>\n",
       "                        <td id=\"T_970e8db6_9f8a_11ea_b432_107b4493f33brow10_col7\" class=\"data row10 col7\" >0.9599</td>\n",
       "            </tr>\n",
       "            <tr>\n",
       "                                <td id=\"T_970e8db6_9f8a_11ea_b432_107b4493f33brow11_col0\" class=\"data row11 col0\" >rod_cfd-0</td>\n",
       "                        <td id=\"T_970e8db6_9f8a_11ea_b432_107b4493f33brow11_col1\" class=\"data row11 col1\" >5</td>\n",
       "                        <td id=\"T_970e8db6_9f8a_11ea_b432_107b4493f33brow11_col2\" class=\"data row11 col2\" >54,921</td>\n",
       "                        <td id=\"T_970e8db6_9f8a_11ea_b432_107b4493f33brow11_col3\" class=\"data row11 col3\" >754.907</td>\n",
       "                        <td id=\"T_970e8db6_9f8a_11ea_b432_107b4493f33brow11_col4\" class=\"data row11 col4\" >0.2745</td>\n",
       "                        <td id=\"T_970e8db6_9f8a_11ea_b432_107b4493f33brow11_col5\" class=\"data row11 col5\" >1.18594</td>\n",
       "                        <td id=\"T_970e8db6_9f8a_11ea_b432_107b4493f33brow11_col6\" class=\"data row11 col6\" >0.8364</td>\n",
       "                        <td id=\"T_970e8db6_9f8a_11ea_b432_107b4493f33brow11_col7\" class=\"data row11 col7\" >0.3092</td>\n",
       "            </tr>\n",
       "            <tr>\n",
       "                                <td id=\"T_970e8db6_9f8a_11ea_b432_107b4493f33brow12_col0\" class=\"data row12 col0\" >rod_cfd-0</td>\n",
       "                        <td id=\"T_970e8db6_9f8a_11ea_b432_107b4493f33brow12_col1\" class=\"data row12 col1\" >6</td>\n",
       "                        <td id=\"T_970e8db6_9f8a_11ea_b432_107b4493f33brow12_col2\" class=\"data row12 col2\" >11,677</td>\n",
       "                        <td id=\"T_970e8db6_9f8a_11ea_b432_107b4493f33brow12_col3\" class=\"data row12 col3\" >506.848</td>\n",
       "                        <td id=\"T_970e8db6_9f8a_11ea_b432_107b4493f33brow12_col4\" class=\"data row12 col4\" >0.7377</td>\n",
       "                        <td id=\"T_970e8db6_9f8a_11ea_b432_107b4493f33brow12_col5\" class=\"data row12 col5\" >0.9475</td>\n",
       "                        <td id=\"T_970e8db6_9f8a_11ea_b432_107b4493f33brow12_col6\" class=\"data row12 col6\" >1</td>\n",
       "                        <td id=\"T_970e8db6_9f8a_11ea_b432_107b4493f33brow12_col7\" class=\"data row12 col7\" >0.9911</td>\n",
       "            </tr>\n",
       "    </tbody></table>"
      ],
      "text/plain": [
       "<pandas.io.formats.style.Styler at 0x7f064caf0048>"
      ]
     },
     "execution_count": 4,
     "metadata": {},
     "output_type": "execute_result"
    }
   ],
   "source": [
    "col_seq = ['pair_str', '1_kidx', 'runtime',\n",
    "           'ipc',\n",
    "           'avg_dram_bw', \n",
    "           'waves',\n",
    "           'l1D_miss_rate',\n",
    "           'l2_miss_rate',\n",
    "          ]\n",
    "\n",
    "draw_table(df_seq, col_seq).format({\n",
    "    'runtime': '{:,}',\n",
    "    'avg_dram_bw':'{:.4f}', \n",
    "    'sp_busy': '{:.2f}',\n",
    "    'dp_busy': '{:.2f}',\n",
    "    'int_busy': '{:.2f}',\n",
    "    'tensor_busy': '{:.2f}',\n",
    "    'sfu_busy': '{:.2f}',\n",
    "})"
   ]
  },
  {
   "cell_type": "code",
   "execution_count": null,
   "metadata": {},
   "outputs": [],
   "source": []
  },
  {
   "cell_type": "markdown",
   "metadata": {},
   "source": [
    "# Intra"
   ]
  },
  {
   "cell_type": "code",
   "execution_count": 5,
   "metadata": {
    "scrolled": false
   },
   "outputs": [],
   "source": [
    "gen_intra = os.path.join(SCRIPT_PATH, 'gen_tables/gen_table_intra.py')\n",
    "intra_file = os.path.join(CSV_PATH, 'intra-multi.csv')\n",
    "intra_pkl = os.path.join(PKL_PATH, 'intra-multi.pkl')\n",
    "\n",
    "%run $gen_intra --out_intra $intra_pkl --seq $seq_pkl --csv $intra_file\n",
    "\n",
    "df_intra = pd.read_pickle(intra_pkl)\n",
    "df_intra.sort_values(['pair_str', '1_kidx'], inplace=True)\n",
    "# col_intra = ['pair_str', '1_kidx', 'regs', 'thread_count', 'smem', 'intra']\n",
    "# draw_table(df_intra, col_intra)"
   ]
  },
  {
   "cell_type": "code",
   "execution_count": 6,
   "metadata": {},
   "outputs": [],
   "source": [
    "col_prod = ['pair_str_x', '1_kidx_x', 'pair_str_y', '1_kidx_y',\n",
    "            'norm_ipc_x', 'norm_ipc_y', 'diff_mflat', 'sum_ipc', \n",
    "            'intra_x', 'intra_y', \n",
    "           'sum_comp', 'sum_dram',]\n",
    "find_pair = os.path.join(SCRIPT_PATH, 'gen_tables/gen_pair_configs.py')\n",
    "pairs = df_seq.apply(lambda row: ':'.join([row['pair_str'], str(row['1_kidx'])]), axis=1)"
   ]
  },
  {
   "cell_type": "code",
   "execution_count": 26,
   "metadata": {},
   "outputs": [],
   "source": [
    "app1 = widgets.Dropdown(options=pairs, value=pairs[0], description='App 1:')\n",
    "app2 = widgets.Dropdown(options=pairs, value=pairs[1], description='App 2:')\n",
    "\n",
    "qos = widgets.FloatSlider(\n",
    "    value=0.75,\n",
    "    min=0.1,\n",
    "    max=0.95,\n",
    "    step=0.05,\n",
    "    description='QoS:',\n",
    "    readout_format='.2f',\n",
    ")\n",
    "\n",
    "button = widgets.Button(description='Calculate', button_style='info')\n",
    "\n",
    "def show_widgets_intra():\n",
    "    display(app1)\n",
    "    display(app2)\n",
    "    display(qos)\n",
    "    display(button)\n",
    "    \n",
    "\n",
    "def onclick(b):\n",
    "    clear_output()\n",
    "    show_widgets()\n",
    "    %run $find_pair --app $app1.value $app2.value --qos $qos.value --intra_pkl $intra_pkl --top\n",
    "    \n",
    "    df_prod = pd.read_pickle(os.path.join(PKL_PATH, 'pair_candidates.pkl'))\n",
    "   \n",
    "    display(HTML(draw_table(df_prod, col_prod, False).render()))\n",
    "    \n",
    "    "
   ]
  },
  {
   "cell_type": "code",
   "execution_count": 27,
   "metadata": {},
   "outputs": [
    {
     "data": {
      "application/vnd.jupyter.widget-view+json": {
       "model_id": "a5a38561fcdb43e7a782666aad25e6a0",
       "version_major": 2,
       "version_minor": 0
      },
      "text/plain": [
       "Dropdown(description='App 1:', index=8, options=('nvd_conv-0:1', 'nvd_conv-0:2', 'parb_mriq-0:1', 'parb_mriq-0…"
      ]
     },
     "metadata": {},
     "output_type": "display_data"
    },
    {
     "data": {
      "application/vnd.jupyter.widget-view+json": {
       "model_id": "aa075d59e28f4e90a9d14847f64c6d9c",
       "version_major": 2,
       "version_minor": 0
      },
      "text/plain": [
       "Dropdown(description='App 2:', index=9, options=('nvd_conv-0:1', 'nvd_conv-0:2', 'parb_mriq-0:1', 'parb_mriq-0…"
      ]
     },
     "metadata": {},
     "output_type": "display_data"
    },
    {
     "data": {
      "application/vnd.jupyter.widget-view+json": {
       "model_id": "7f696631435847f8bd92a4a9d21f5d12",
       "version_major": 2,
       "version_minor": 0
      },
      "text/plain": [
       "FloatSlider(value=0.75, description='QoS:', max=0.95, min=0.1, step=0.05)"
      ]
     },
     "metadata": {},
     "output_type": "display_data"
    },
    {
     "data": {
      "application/vnd.jupyter.widget-view+json": {
       "model_id": "88cdbd588dcb4ab7b0267e457b6fca95",
       "version_major": 2,
       "version_minor": 0
      },
      "text/plain": [
       "Button(button_style='info', description='Calculate', style=ButtonStyle())"
      ]
     },
     "metadata": {},
     "output_type": "display_data"
    }
   ],
   "source": [
    "show_widgets_intra()\n",
    "button.on_click(onclick)"
   ]
  },
  {
   "cell_type": "code",
   "execution_count": null,
   "metadata": {},
   "outputs": [],
   "source": []
  },
  {
   "cell_type": "markdown",
   "metadata": {},
   "source": [
    "# Pair-Dynamic"
   ]
  },
  {
   "cell_type": "code",
   "execution_count": 13,
   "metadata": {},
   "outputs": [
    {
     "name": "stdout",
     "output_type": "stream",
     "text": [
      "Index(['pair_str', 'config', 'gpusim_version', 'jobId', 'stall_icnt_to_l2',\n",
      "       'stall_l2_to_icnt', 'stall_core_ldst', 'l1D_miss_rate', 'l2_miss_rate',\n",
      "       'l2_rshr_entry_fail', 'l2_rshr_merge_fail', 'l2_total_accesses',\n",
      "       'mem_count', 'empty_warp', 'stall_warp', 'idle_warp', 'scoreboard_warp',\n",
      "       'tot_warp_insn', 'runtime', 'instructions', 'l2_bw', 'avg_mem_lat',\n",
      "       'avg_core_to_l2', 'avg_l2_to_core', 'avg_mrq_latency', 'dram_eff',\n",
      "       'dram_bw', 'row_buffer_locality', 'mem_idle', 'total_cmd'],\n",
      "      dtype='object')\n"
     ]
    }
   ],
   "source": [
    "dynamic_csv = os.path.join(CSV_PATH, 'pair_dynamic_multi.csv')\n",
    "dynamic_output = os.path.join(PKL_PATH, 'pair_dynamic_multi.pkl')\n",
    "%run $gen_pair --csv $dynamic_csv --output $dynamic_output --seq_pkl $seq_pkl --qos 0.5 --how dynamic --multi --isolated_pkl $intra_pkl"
   ]
  },
  {
   "cell_type": "code",
   "execution_count": 116,
   "metadata": {},
   "outputs": [],
   "source": [
    "df_dynamic = pd.read_pickle(dynamic_output)\n",
    "col_dynamic = ['1_bench', '1_kidx', '1_intra', '2_bench', '2_kidx', '2_intra', 'sld', 'ws', \n",
    "               'importance', 'weighted_increase', 'sum_increase']\n",
    "\n",
    "df_dynamic_show = df_dynamic[(df_dynamic['1_bench'] == 'parb_sad-0') & (df_dynamic['1_kidx'] == 2)].sort_values('2_kidx')\n",
    "# df_dynamic_show[col_dynamic]"
   ]
  },
  {
   "cell_type": "code",
   "execution_count": 126,
   "metadata": {},
   "outputs": [
    {
     "data": {
      "text/html": [
       "<style  type=\"text/css\" >\n",
       "    #T_650c3c72_a021_11ea_b432_107b4493f33b tr:nth-of-type(odd) {\n",
       "          background: #eee;\n",
       "    }    #T_650c3c72_a021_11ea_b432_107b4493f33b tr:nth-of-type(even) {\n",
       "          background: white;\n",
       "    }    #T_650c3c72_a021_11ea_b432_107b4493f33b th {\n",
       "          background: #606060;\n",
       "          color: white;\n",
       "          font-family: verdana;\n",
       "          font-size: 90%;\n",
       "    }    #T_650c3c72_a021_11ea_b432_107b4493f33b td {\n",
       "          font-family: verdana;\n",
       "          font-size: 90%;\n",
       "          font-weight: bold;\n",
       "    }    #T_650c3c72_a021_11ea_b432_107b4493f33b tr:hover {\n",
       "          background-color: #ffffcc;\n",
       "    }</style><table id=\"T_650c3c72_a021_11ea_b432_107b4493f33b\" ><thead>    <tr>        <th class=\"col_heading level0 col0\" >1_bench</th>        <th class=\"col_heading level0 col1\" >1_kidx</th>        <th class=\"col_heading level0 col2\" >1_intra</th>        <th class=\"col_heading level0 col3\" >2_bench</th>        <th class=\"col_heading level0 col4\" >2_kidx</th>        <th class=\"col_heading level0 col5\" >2_intra</th>        <th class=\"col_heading level0 col6\" >sld</th>        <th class=\"col_heading level0 col7\" >ws</th>        <th class=\"col_heading level0 col8\" >importance</th>        <th class=\"col_heading level0 col9\" >weighted_increase</th>        <th class=\"col_heading level0 col10\" >sum_increase</th>    </tr></thead><tbody>\n",
       "                <tr>\n",
       "                                <td id=\"T_650c3c72_a021_11ea_b432_107b4493f33brow0_col0\" class=\"data row0 col0\" >parb_sad-0</td>\n",
       "                        <td id=\"T_650c3c72_a021_11ea_b432_107b4493f33brow0_col1\" class=\"data row0 col1\" >2</td>\n",
       "                        <td id=\"T_650c3c72_a021_11ea_b432_107b4493f33brow0_col2\" class=\"data row0 col2\" >2</td>\n",
       "                        <td id=\"T_650c3c72_a021_11ea_b432_107b4493f33brow0_col3\" class=\"data row0 col3\" >nvd_conv-0</td>\n",
       "                        <td id=\"T_650c3c72_a021_11ea_b432_107b4493f33brow0_col4\" class=\"data row0 col4\" >1</td>\n",
       "                        <td id=\"T_650c3c72_a021_11ea_b432_107b4493f33brow0_col5\" class=\"data row0 col5\" >16</td>\n",
       "                        <td id=\"T_650c3c72_a021_11ea_b432_107b4493f33brow0_col6\" class=\"data row0 col6\" >[0, 0.4573327911458426, 0.589353941803365]</td>\n",
       "                        <td id=\"T_650c3c72_a021_11ea_b432_107b4493f33brow0_col7\" class=\"data row0 col7\" >1.04669</td>\n",
       "                        <td id=\"T_650c3c72_a021_11ea_b432_107b4493f33brow0_col8\" class=\"data row0 col8\" >[0, 0.2506657363800221, 0.47764422473714585]</td>\n",
       "                        <td id=\"T_650c3c72_a021_11ea_b432_107b4493f33brow0_col9\" class=\"data row0 col9\" >[0, 0.5481035719130957, 0.810453940929964]</td>\n",
       "                        <td id=\"T_650c3c72_a021_11ea_b432_107b4493f33brow0_col10\" class=\"data row0 col10\" >1.35856</td>\n",
       "            </tr>\n",
       "            <tr>\n",
       "                                <td id=\"T_650c3c72_a021_11ea_b432_107b4493f33brow1_col0\" class=\"data row1 col0\" >parb_sad-0</td>\n",
       "                        <td id=\"T_650c3c72_a021_11ea_b432_107b4493f33brow1_col1\" class=\"data row1 col1\" >2</td>\n",
       "                        <td id=\"T_650c3c72_a021_11ea_b432_107b4493f33brow1_col2\" class=\"data row1 col2\" >1</td>\n",
       "                        <td id=\"T_650c3c72_a021_11ea_b432_107b4493f33brow1_col3\" class=\"data row1 col3\" >nvd_conv-0</td>\n",
       "                        <td id=\"T_650c3c72_a021_11ea_b432_107b4493f33brow1_col4\" class=\"data row1 col4\" >1</td>\n",
       "                        <td id=\"T_650c3c72_a021_11ea_b432_107b4493f33brow1_col5\" class=\"data row1 col5\" >4</td>\n",
       "                        <td id=\"T_650c3c72_a021_11ea_b432_107b4493f33brow1_col6\" class=\"data row1 col6\" >[0, 0.3974701749857098, 0.6998117619376756]</td>\n",
       "                        <td id=\"T_650c3c72_a021_11ea_b432_107b4493f33brow1_col7\" class=\"data row1 col7\" >1.09728</td>\n",
       "                        <td id=\"T_650c3c72_a021_11ea_b432_107b4493f33brow1_col8\" class=\"data row1 col8\" >[0, 0.2506657363800221, 0.47764422473714585]</td>\n",
       "                        <td id=\"T_650c3c72_a021_11ea_b432_107b4493f33brow1_col9\" class=\"data row1 col9\" >[0, 0.6306529449386592, 0.682532433314095]</td>\n",
       "                        <td id=\"T_650c3c72_a021_11ea_b432_107b4493f33brow1_col10\" class=\"data row1 col10\" >1.31319</td>\n",
       "            </tr>\n",
       "            <tr>\n",
       "                                <td id=\"T_650c3c72_a021_11ea_b432_107b4493f33brow2_col0\" class=\"data row2 col0\" >parb_sad-0</td>\n",
       "                        <td id=\"T_650c3c72_a021_11ea_b432_107b4493f33brow2_col1\" class=\"data row2 col1\" >2</td>\n",
       "                        <td id=\"T_650c3c72_a021_11ea_b432_107b4493f33brow2_col2\" class=\"data row2 col2\" >2</td>\n",
       "                        <td id=\"T_650c3c72_a021_11ea_b432_107b4493f33brow2_col3\" class=\"data row2 col3\" >nvd_conv-0</td>\n",
       "                        <td id=\"T_650c3c72_a021_11ea_b432_107b4493f33brow2_col4\" class=\"data row2 col4\" >1</td>\n",
       "                        <td id=\"T_650c3c72_a021_11ea_b432_107b4493f33brow2_col5\" class=\"data row2 col5\" >20</td>\n",
       "                        <td id=\"T_650c3c72_a021_11ea_b432_107b4493f33brow2_col6\" class=\"data row2 col6\" >[0, 0.4518919674364977, 0.5857611053838224]</td>\n",
       "                        <td id=\"T_650c3c72_a021_11ea_b432_107b4493f33brow2_col7\" class=\"data row2 col7\" >1.03765</td>\n",
       "                        <td id=\"T_650c3c72_a021_11ea_b432_107b4493f33brow2_col8\" class=\"data row2 col8\" >[0, 0.2506657363800221, 0.47764422473714585]</td>\n",
       "                        <td id=\"T_650c3c72_a021_11ea_b432_107b4493f33brow2_col9\" class=\"data row2 col9\" >[0, 0.5547027927980309, 0.8154249579684323]</td>\n",
       "                        <td id=\"T_650c3c72_a021_11ea_b432_107b4493f33brow2_col10\" class=\"data row2 col10\" >1.37013</td>\n",
       "            </tr>\n",
       "            <tr>\n",
       "                                <td id=\"T_650c3c72_a021_11ea_b432_107b4493f33brow3_col0\" class=\"data row3 col0\" >parb_sad-0</td>\n",
       "                        <td id=\"T_650c3c72_a021_11ea_b432_107b4493f33brow3_col1\" class=\"data row3 col1\" >2</td>\n",
       "                        <td id=\"T_650c3c72_a021_11ea_b432_107b4493f33brow3_col2\" class=\"data row3 col2\" >2</td>\n",
       "                        <td id=\"T_650c3c72_a021_11ea_b432_107b4493f33brow3_col3\" class=\"data row3 col3\" >nvd_conv-0</td>\n",
       "                        <td id=\"T_650c3c72_a021_11ea_b432_107b4493f33brow3_col4\" class=\"data row3 col4\" >1</td>\n",
       "                        <td id=\"T_650c3c72_a021_11ea_b432_107b4493f33brow3_col5\" class=\"data row3 col5\" >4</td>\n",
       "                        <td id=\"T_650c3c72_a021_11ea_b432_107b4493f33brow3_col6\" class=\"data row3 col6\" >[0, 0.5411916082160398, 0.5533555242234399]</td>\n",
       "                        <td id=\"T_650c3c72_a021_11ea_b432_107b4493f33brow3_col7\" class=\"data row3 col7\" >1.09455</td>\n",
       "                        <td id=\"T_650c3c72_a021_11ea_b432_107b4493f33brow3_col8\" class=\"data row3 col8\" >[0, 0.2506657363800221, 0.47764422473714585]</td>\n",
       "                        <td id=\"T_650c3c72_a021_11ea_b432_107b4493f33brow3_col9\" class=\"data row3 col9\" >[0, 0.46317373103087384, 0.8631778374444807]</td>\n",
       "                        <td id=\"T_650c3c72_a021_11ea_b432_107b4493f33brow3_col10\" class=\"data row3 col10\" >1.32635</td>\n",
       "            </tr>\n",
       "            <tr>\n",
       "                                <td id=\"T_650c3c72_a021_11ea_b432_107b4493f33brow4_col0\" class=\"data row4 col0\" >parb_sad-0</td>\n",
       "                        <td id=\"T_650c3c72_a021_11ea_b432_107b4493f33brow4_col1\" class=\"data row4 col1\" >2</td>\n",
       "                        <td id=\"T_650c3c72_a021_11ea_b432_107b4493f33brow4_col2\" class=\"data row4 col2\" >2</td>\n",
       "                        <td id=\"T_650c3c72_a021_11ea_b432_107b4493f33brow4_col3\" class=\"data row4 col3\" >nvd_conv-0</td>\n",
       "                        <td id=\"T_650c3c72_a021_11ea_b432_107b4493f33brow4_col4\" class=\"data row4 col4\" >1</td>\n",
       "                        <td id=\"T_650c3c72_a021_11ea_b432_107b4493f33brow4_col5\" class=\"data row4 col5\" >8</td>\n",
       "                        <td id=\"T_650c3c72_a021_11ea_b432_107b4493f33brow4_col6\" class=\"data row4 col6\" >[0, 0.48736466757964914, 0.5978541500461709]</td>\n",
       "                        <td id=\"T_650c3c72_a021_11ea_b432_107b4493f33brow4_col7\" class=\"data row4 col7\" >1.08522</td>\n",
       "                        <td id=\"T_650c3c72_a021_11ea_b432_107b4493f33brow4_col8\" class=\"data row4 col8\" >[0, 0.2506657363800221, 0.47764422473714585]</td>\n",
       "                        <td id=\"T_650c3c72_a021_11ea_b432_107b4493f33brow4_col9\" class=\"data row4 col9\" >[0, 0.5143289061656409, 0.7989310180422072]</td>\n",
       "                        <td id=\"T_650c3c72_a021_11ea_b432_107b4493f33brow4_col10\" class=\"data row4 col10\" >1.31326</td>\n",
       "            </tr>\n",
       "            <tr>\n",
       "                                <td id=\"T_650c3c72_a021_11ea_b432_107b4493f33brow5_col0\" class=\"data row5 col0\" >parb_sad-0</td>\n",
       "                        <td id=\"T_650c3c72_a021_11ea_b432_107b4493f33brow5_col1\" class=\"data row5 col1\" >2</td>\n",
       "                        <td id=\"T_650c3c72_a021_11ea_b432_107b4493f33brow5_col2\" class=\"data row5 col2\" >2</td>\n",
       "                        <td id=\"T_650c3c72_a021_11ea_b432_107b4493f33brow5_col3\" class=\"data row5 col3\" >nvd_conv-0</td>\n",
       "                        <td id=\"T_650c3c72_a021_11ea_b432_107b4493f33brow5_col4\" class=\"data row5 col4\" >1</td>\n",
       "                        <td id=\"T_650c3c72_a021_11ea_b432_107b4493f33brow5_col5\" class=\"data row5 col5\" >12</td>\n",
       "                        <td id=\"T_650c3c72_a021_11ea_b432_107b4493f33brow5_col6\" class=\"data row5 col6\" >[0, 0.4514692227675423, 0.6255825418214086]</td>\n",
       "                        <td id=\"T_650c3c72_a021_11ea_b432_107b4493f33brow5_col7\" class=\"data row5 col7\" >1.07705</td>\n",
       "                        <td id=\"T_650c3c72_a021_11ea_b432_107b4493f33brow5_col8\" class=\"data row5 col8\" >[0, 0.2506657363800221, 0.47764422473714585]</td>\n",
       "                        <td id=\"T_650c3c72_a021_11ea_b432_107b4493f33brow5_col9\" class=\"data row5 col9\" >[0, 0.5552222028412506, 0.7635191086798324]</td>\n",
       "                        <td id=\"T_650c3c72_a021_11ea_b432_107b4493f33brow5_col10\" class=\"data row5 col10\" >1.31874</td>\n",
       "            </tr>\n",
       "            <tr>\n",
       "                                <td id=\"T_650c3c72_a021_11ea_b432_107b4493f33brow6_col0\" class=\"data row6 col0\" >parb_sad-0</td>\n",
       "                        <td id=\"T_650c3c72_a021_11ea_b432_107b4493f33brow6_col1\" class=\"data row6 col1\" >2</td>\n",
       "                        <td id=\"T_650c3c72_a021_11ea_b432_107b4493f33brow6_col2\" class=\"data row6 col2\" >2</td>\n",
       "                        <td id=\"T_650c3c72_a021_11ea_b432_107b4493f33brow6_col3\" class=\"data row6 col3\" >nvd_conv-0</td>\n",
       "                        <td id=\"T_650c3c72_a021_11ea_b432_107b4493f33brow6_col4\" class=\"data row6 col4\" >2</td>\n",
       "                        <td id=\"T_650c3c72_a021_11ea_b432_107b4493f33brow6_col5\" class=\"data row6 col5\" >8</td>\n",
       "                        <td id=\"T_650c3c72_a021_11ea_b432_107b4493f33brow6_col6\" class=\"data row6 col6\" >[0, 0.44747588276637196, 0.6125677560605258]</td>\n",
       "                        <td id=\"T_650c3c72_a021_11ea_b432_107b4493f33brow6_col7\" class=\"data row6 col7\" >1.06004</td>\n",
       "                        <td id=\"T_650c3c72_a021_11ea_b432_107b4493f33brow6_col8\" class=\"data row6 col8\" >[0, 0.2506657363800221, 0.5223557752628541]</td>\n",
       "                        <td id=\"T_650c3c72_a021_11ea_b432_107b4493f33brow6_col9\" class=\"data row6 col9\" >[0, 0.5601770867076991, 0.8527314245564729]</td>\n",
       "                        <td id=\"T_650c3c72_a021_11ea_b432_107b4493f33brow6_col10\" class=\"data row6 col10\" >1.41291</td>\n",
       "            </tr>\n",
       "            <tr>\n",
       "                                <td id=\"T_650c3c72_a021_11ea_b432_107b4493f33brow7_col0\" class=\"data row7 col0\" >parb_sad-0</td>\n",
       "                        <td id=\"T_650c3c72_a021_11ea_b432_107b4493f33brow7_col1\" class=\"data row7 col1\" >2</td>\n",
       "                        <td id=\"T_650c3c72_a021_11ea_b432_107b4493f33brow7_col2\" class=\"data row7 col2\" >2</td>\n",
       "                        <td id=\"T_650c3c72_a021_11ea_b432_107b4493f33brow7_col3\" class=\"data row7 col3\" >nvd_conv-0</td>\n",
       "                        <td id=\"T_650c3c72_a021_11ea_b432_107b4493f33brow7_col4\" class=\"data row7 col4\" >2</td>\n",
       "                        <td id=\"T_650c3c72_a021_11ea_b432_107b4493f33brow7_col5\" class=\"data row7 col5\" >6</td>\n",
       "                        <td id=\"T_650c3c72_a021_11ea_b432_107b4493f33brow7_col6\" class=\"data row7 col6\" >[0, 0.4804192509010329, 0.5902498362496491]</td>\n",
       "                        <td id=\"T_650c3c72_a021_11ea_b432_107b4493f33brow7_col7\" class=\"data row7 col7\" >1.07067</td>\n",
       "                        <td id=\"T_650c3c72_a021_11ea_b432_107b4493f33brow7_col8\" class=\"data row7 col8\" >[0, 0.2506657363800221, 0.5223557752628541]</td>\n",
       "                        <td id=\"T_650c3c72_a021_11ea_b432_107b4493f33brow7_col9\" class=\"data row7 col9\" >[0, 0.5217645544176156, 0.8849740282552508]</td>\n",
       "                        <td id=\"T_650c3c72_a021_11ea_b432_107b4493f33brow7_col10\" class=\"data row7 col10\" >1.40674</td>\n",
       "            </tr>\n",
       "            <tr>\n",
       "                                <td id=\"T_650c3c72_a021_11ea_b432_107b4493f33brow8_col0\" class=\"data row8 col0\" >parb_sad-0</td>\n",
       "                        <td id=\"T_650c3c72_a021_11ea_b432_107b4493f33brow8_col1\" class=\"data row8 col1\" >2</td>\n",
       "                        <td id=\"T_650c3c72_a021_11ea_b432_107b4493f33brow8_col2\" class=\"data row8 col2\" >2</td>\n",
       "                        <td id=\"T_650c3c72_a021_11ea_b432_107b4493f33brow8_col3\" class=\"data row8 col3\" >nvd_conv-0</td>\n",
       "                        <td id=\"T_650c3c72_a021_11ea_b432_107b4493f33brow8_col4\" class=\"data row8 col4\" >2</td>\n",
       "                        <td id=\"T_650c3c72_a021_11ea_b432_107b4493f33brow8_col5\" class=\"data row8 col5\" >4</td>\n",
       "                        <td id=\"T_650c3c72_a021_11ea_b432_107b4493f33brow8_col6\" class=\"data row8 col6\" >[0, 0.576611716757088, 0.4925734432862839]</td>\n",
       "                        <td id=\"T_650c3c72_a021_11ea_b432_107b4493f33brow8_col7\" class=\"data row8 col7\" >1.06919</td>\n",
       "                        <td id=\"T_650c3c72_a021_11ea_b432_107b4493f33brow8_col8\" class=\"data row8 col8\" >[0, 0.2506657363800221, 0.5223557752628541]</td>\n",
       "                        <td id=\"T_650c3c72_a021_11ea_b432_107b4493f33brow8_col9\" class=\"data row8 col9\" >[0, 0.434721891864749, 1.06046272364558]</td>\n",
       "                        <td id=\"T_650c3c72_a021_11ea_b432_107b4493f33brow8_col10\" class=\"data row8 col10\" >1.49518</td>\n",
       "            </tr>\n",
       "            <tr>\n",
       "                                <td id=\"T_650c3c72_a021_11ea_b432_107b4493f33brow9_col0\" class=\"data row9 col0\" >parb_sad-0</td>\n",
       "                        <td id=\"T_650c3c72_a021_11ea_b432_107b4493f33brow9_col1\" class=\"data row9 col1\" >2</td>\n",
       "                        <td id=\"T_650c3c72_a021_11ea_b432_107b4493f33brow9_col2\" class=\"data row9 col2\" >1</td>\n",
       "                        <td id=\"T_650c3c72_a021_11ea_b432_107b4493f33brow9_col3\" class=\"data row9 col3\" >nvd_conv-0</td>\n",
       "                        <td id=\"T_650c3c72_a021_11ea_b432_107b4493f33brow9_col4\" class=\"data row9 col4\" >2</td>\n",
       "                        <td id=\"T_650c3c72_a021_11ea_b432_107b4493f33brow9_col5\" class=\"data row9 col5\" >4</td>\n",
       "                        <td id=\"T_650c3c72_a021_11ea_b432_107b4493f33brow9_col6\" class=\"data row9 col6\" >[0, 0.4280267930422811, 0.6639449359861702]</td>\n",
       "                        <td id=\"T_650c3c72_a021_11ea_b432_107b4493f33brow9_col7\" class=\"data row9 col7\" >1.09197</td>\n",
       "                        <td id=\"T_650c3c72_a021_11ea_b432_107b4493f33brow9_col8\" class=\"data row9 col8\" >[0, 0.2506657363800221, 0.5223557752628541]</td>\n",
       "                        <td id=\"T_650c3c72_a021_11ea_b432_107b4493f33brow9_col9\" class=\"data row9 col9\" >[0, 0.5856309475357095, 0.786745627462297]</td>\n",
       "                        <td id=\"T_650c3c72_a021_11ea_b432_107b4493f33brow9_col10\" class=\"data row9 col10\" >1.37238</td>\n",
       "            </tr>\n",
       "            <tr>\n",
       "                                <td id=\"T_650c3c72_a021_11ea_b432_107b4493f33brow10_col0\" class=\"data row10 col0\" >parb_sad-0</td>\n",
       "                        <td id=\"T_650c3c72_a021_11ea_b432_107b4493f33brow10_col1\" class=\"data row10 col1\" >2</td>\n",
       "                        <td id=\"T_650c3c72_a021_11ea_b432_107b4493f33brow10_col2\" class=\"data row10 col2\" >2</td>\n",
       "                        <td id=\"T_650c3c72_a021_11ea_b432_107b4493f33brow10_col3\" class=\"data row10 col3\" >nvd_conv-0</td>\n",
       "                        <td id=\"T_650c3c72_a021_11ea_b432_107b4493f33brow10_col4\" class=\"data row10 col4\" >2</td>\n",
       "                        <td id=\"T_650c3c72_a021_11ea_b432_107b4493f33brow10_col5\" class=\"data row10 col5\" >10</td>\n",
       "                        <td id=\"T_650c3c72_a021_11ea_b432_107b4493f33brow10_col6\" class=\"data row10 col6\" >[0, 0.428477720722213, 0.619443535188216]</td>\n",
       "                        <td id=\"T_650c3c72_a021_11ea_b432_107b4493f33brow10_col7\" class=\"data row10 col7\" >1.04792</td>\n",
       "                        <td id=\"T_650c3c72_a021_11ea_b432_107b4493f33brow10_col8\" class=\"data row10 col8\" >[0, 0.2506657363800221, 0.5223557752628541]</td>\n",
       "                        <td id=\"T_650c3c72_a021_11ea_b432_107b4493f33brow10_col9\" class=\"data row10 col9\" >[0, 0.5850146326336803, 0.8432661664701011]</td>\n",
       "                        <td id=\"T_650c3c72_a021_11ea_b432_107b4493f33brow10_col10\" class=\"data row10 col10\" >1.42828</td>\n",
       "            </tr>\n",
       "    </tbody></table>"
      ],
      "text/plain": [
       "<pandas.io.formats.style.Styler at 0x7f064c1c4898>"
      ]
     },
     "execution_count": 126,
     "metadata": {},
     "output_type": "execute_result"
    }
   ],
   "source": [
    "# Want to maximize ws (weighted speedup)\n",
    "df_best_local = df_dynamic.sort_values('ws', ascending=False\n",
    "                                      ).drop_duplicates(['1_bench', '1_kidx', '2_bench', '2_kidx']\n",
    "                                                       ).set_index(['1_bench', '1_kidx', '2_bench', '2_kidx'])\n",
    "# Want to minimize weighted runtime increase (sum_increase)\n",
    "df_best_weighted = df_dynamic.sort_values('sum_increase', ascending=True\n",
    "                                         ).drop_duplicates(['1_bench', '1_kidx', '2_bench', '2_kidx']\n",
    "                                                          ).set_index(['1_bench', '1_kidx', '2_bench', '2_kidx'])\n",
    "\n",
    "draw_table(df_dynamic_show, col_dynamic)"
   ]
  },
  {
   "cell_type": "code",
   "execution_count": 131,
   "metadata": {},
   "outputs": [],
   "source": [
    "df_seq_index = df_seq.set_index(['pair_str', '1_kidx'])\n",
    "df_intra_index = df_intra.set_index(['pair_str', '1_kidx', 'intra'])"
   ]
  },
  {
   "cell_type": "code",
   "execution_count": 158,
   "metadata": {},
   "outputs": [],
   "source": [
    "def get_best(app1, app2, df_best):\n",
    "    matrix_size = (len(const.kernel_yaml[app2]), len(const.kernel_yaml[app1]))\n",
    "    configs_1 = np.zeros(matrix_size, dtype=int)\n",
    "    configs_2 = np.zeros(matrix_size, dtype=int)\n",
    "    interference_1 = np.zeros(matrix_size)\n",
    "    interference_2 = np.zeros(matrix_size)\n",
    "\n",
    "    for kernel_1 in const.kernel_yaml[app1]:\n",
    "        for kernel_2 in const.kernel_yaml[app2]:\n",
    "            best_idx = (app1, kernel_1, app2, kernel_2)\n",
    "\n",
    "            cta_1 = df_best.loc[best_idx, '1_intra']\n",
    "            sld_1 = df_best.loc[best_idx, 'sld'][1]\n",
    "\n",
    "            cta_2 = df_best.loc[best_idx, '2_intra']\n",
    "            sld_2 = df_best.loc[best_idx, 'sld'][2]\n",
    "\n",
    "            matrix_idx = (kernel_2-1, kernel_1-1)\n",
    "\n",
    "            configs_1[matrix_idx] = int(cta_1)\n",
    "            configs_2[matrix_idx] = int(cta_2)\n",
    "\n",
    "            interference_1[matrix_idx] = sld_1\n",
    "            interference_2[matrix_idx] = sld_2\n",
    "\n",
    "    return [configs_1, configs_2], [interference_1, interference_2]\n",
    "\n",
    "def get_runtime(app):\n",
    "    runtime = []\n",
    "    for kidx in const.kernel_yaml[app]:\n",
    "        runtime.append(df_seq_index.loc[(app, kidx)]['runtime'])\n",
    "\n",
    "    return runtime\n",
    "\n",
    "def predict_app(runtimes, interference, apps):\n",
    "    tot_runtime = [sum(r) for r in runtimes]\n",
    "    if tot_runtime[0] < tot_runtime[1]:\n",
    "        iter_lim = [math.inf, 1]\n",
    "    else:\n",
    "        iter_lim = [1, math.inf] \n",
    "\n",
    "    sim_results = scheduler.simulate(runtimes, interference, iter_lim, finish_remaining=False)\n",
    "    scaled_runtime = [[int(t) for t in app] for app in sim_results[0]]\n",
    "#     print('Predicted runtime:', scaled_runtime)\n",
    "    \n",
    "    norm_ipc = scheduler.calculate_norm_ipc(runtimes, scaled_runtime)\n",
    "#     print('Norm IPC:', norm_ipc)\n",
    "    \n",
    "    sld = scheduler.calculate_qos(runtimes, scaled_runtime, short=True, revert=False)\n",
    "    print('Predicted weighted speedup:', sum(sld))\n",
    "    \n",
    "    row = pd.Series({'1_bench': apps[0], '2_bench': apps[1], \n",
    "                     'runtime': scaled_runtime, 'norm_ipc': norm_ipc})\n",
    "    \n",
    "    gen_altair.draw_altair_timeline(row, title='Prediction').display()  \n",
    "    \n",
    "    \n",
    "def print_table(apps, data_type, data_list, headers):\n",
    "    for app, data in zip(apps, data_list):\n",
    "        print(app, data_type)\n",
    "        print(pd.DataFrame(data, headers[0], headers[1]))\n",
    "        print('-' * 50)\n",
    "\n",
    "def print_rsrc_usage(configs, headers):\n",
    "    print('Execution context utilization:')\n",
    "    rsrc = ['cta_ratio', 'thread_ratio', 'smem_ratio', 'reg_ratio', 'avg_dram_bw']\n",
    "   \n",
    "    def get_usage(intra_list, kernel_list, app_idx):\n",
    "        usage_app = []\n",
    "        for intra, kernel in zip(intra_list, kernel_list):\n",
    "            split_kernel = kernel.split(':')\n",
    "            intra_idx = (split_kernel[0], int(split_kernel[1]), intra)\n",
    "            \n",
    "            usage = [df_intra_index.loc[intra_idx, r] for r in rsrc]\n",
    "            usage_app.append(usage)\n",
    "            \n",
    "        usage_app = np.array(usage_app)\n",
    "        print('>>> App', app_idx)\n",
    "        max_usage = np.amax(usage_app, axis=0)\n",
    "        [print(r, f'{u:.3}') for u, r in zip(max_usage, rsrc)]\n",
    "            \n",
    "    # App 1, take max of column in first table\n",
    "    max_intra_1 = configs[0].max(axis=0)\n",
    "    get_usage(max_intra_1, headers[1], 1)\n",
    "\n",
    "    # App 2: take max of each row in second table\n",
    "    max_intra_2 = configs[1].max(axis=1)\n",
    "    get_usage(max_intra_2, headers[0], 2)"
   ]
  },
  {
   "cell_type": "code",
   "execution_count": 159,
   "metadata": {},
   "outputs": [],
   "source": [
    "def show_widgets_best():\n",
    "    display(best_dd)\n",
    "    display(best_type_dd)\n",
    "    display(best_btn)\n",
    "    \n",
    "\n",
    "def best_onclick(b):\n",
    "    clear_output()\n",
    "    show_widgets_best()\n",
    "    \n",
    "    apps = best_dd.value.split('+')\n",
    "           \n",
    "    # Output LUT resource configuration \n",
    "    print(best_type_dd.value)\n",
    "    df_best = df_best_local if best_type_dd.value == 'local' else df_best_weighted\n",
    "    configs, interference = get_best(apps[0], apps[1], df_best)\n",
    "    \n",
    "    app1_kernels = ['{0}:{1}'.format(apps[0], kernel) for kernel in const.kernel_yaml[apps[0]]]\n",
    "    app2_kernels = ['{0}:{1}'.format(apps[1], kernel) for kernel in const.kernel_yaml[apps[1]]]\n",
    "    \n",
    "    df_header = (app2_kernels, app1_kernels)\n",
    "    print_table(apps, 'configs', configs, df_header)\n",
    "    print_table(apps, 'slowdown', interference, df_header)\n",
    "    print('\\n')\n",
    "   \n",
    "    print_rsrc_usage(configs, df_header)\n",
    "    print('\\n')\n",
    "    \n",
    "    # Run simulation to predict final slowdown\n",
    "    runtimes = [get_runtime(apps[0]), get_runtime(apps[1])]\n",
    "    predict_app(runtimes, interference, apps)\n"
   ]
  },
  {
   "cell_type": "code",
   "execution_count": 160,
   "metadata": {
    "scrolled": false
   },
   "outputs": [
    {
     "data": {
      "application/vnd.jupyter.widget-view+json": {
       "model_id": "ae5f79f39eb64d489145437002949d5c",
       "version_major": 2,
       "version_minor": 0
      },
      "text/plain": [
       "Dropdown(description='Pair:', index=1, options=('parb_sad-0+nvd_conv-0', 'parb_sad-1+nvd_conv-0'), value='parb…"
      ]
     },
     "metadata": {},
     "output_type": "display_data"
    },
    {
     "data": {
      "application/vnd.jupyter.widget-view+json": {
       "model_id": "a282c60243a44e80a023c085d5bccf44",
       "version_major": 2,
       "version_minor": 0
      },
      "text/plain": [
       "Dropdown(description='Type', options=('Local', 'Global (weighted)'), value='Local')"
      ]
     },
     "metadata": {},
     "output_type": "display_data"
    },
    {
     "data": {
      "application/vnd.jupyter.widget-view+json": {
       "model_id": "19b88cdf6c514b29a126c2af9f3c7813",
       "version_major": 2,
       "version_minor": 0
      },
      "text/plain": [
       "Button(button_style='info', description='Best', style=ButtonStyle())"
      ]
     },
     "metadata": {},
     "output_type": "display_data"
    },
    {
     "name": "stdout",
     "output_type": "stream",
     "text": [
      "Local\n",
      "parb_sad-1 configs\n",
      "              parb_sad-1:1  parb_sad-1:2  parb_sad-1:3\n",
      "nvd_conv-0:1             8             2             4\n",
      "nvd_conv-0:2             8             2             4\n",
      "--------------------------------------------------\n",
      "nvd_conv-0 configs\n",
      "              parb_sad-1:1  parb_sad-1:2  parb_sad-1:3\n",
      "nvd_conv-0:1             4             4             4\n",
      "nvd_conv-0:2             6             8             8\n",
      "--------------------------------------------------\n",
      "parb_sad-1 slowdown\n",
      "              parb_sad-1:1  parb_sad-1:2  parb_sad-1:3\n",
      "nvd_conv-0:1      0.794836      0.779599      0.666934\n",
      "nvd_conv-0:2      0.737540      0.686226      0.566032\n",
      "--------------------------------------------------\n",
      "nvd_conv-0 slowdown\n",
      "              parb_sad-1:1  parb_sad-1:2  parb_sad-1:3\n",
      "nvd_conv-0:1      0.771356      0.483271      0.552858\n",
      "nvd_conv-0:2      0.916291      0.509509      0.584127\n",
      "--------------------------------------------------\n",
      "\n",
      "\n",
      "Execution context utilization:\n",
      ">>> App 1\n",
      "cta_ratio 0.25\n",
      "thread_ratio 0.25\n",
      "smem_ratio 0.0026\n",
      "reg_ratio 0.453\n",
      "avg_dram_bw 0.677\n",
      ">>> App 2\n",
      "cta_ratio 0.25\n",
      "thread_ratio 0.5\n",
      "smem_ratio 0.422\n",
      "reg_ratio 0.5\n",
      "avg_dram_bw 0.751\n",
      "\n",
      "\n",
      "=================================== Full Simulation QoS Info ===================================\n",
      "App0 has 3 kernels, App1 has 2 kernels\n",
      "Actual calculated QOS losses are [0.7379954109395123, 0.6769725600720483]\n",
      "Predicted weighted speedup: 1.4149679710115606\n"
     ]
    },
    {
     "data": {
      "text/html": [
       "\n",
       "<div id=\"altair-viz-e61c1f3a08224b81a33408229c14519a\"></div>\n",
       "<script type=\"text/javascript\">\n",
       "  (function(spec, embedOpt){\n",
       "    let outputDiv = document.currentScript.previousElementSibling;\n",
       "    if (outputDiv.id !== \"altair-viz-e61c1f3a08224b81a33408229c14519a\") {\n",
       "      outputDiv = document.getElementById(\"altair-viz-e61c1f3a08224b81a33408229c14519a\");\n",
       "    }\n",
       "    const paths = {\n",
       "      \"vega\": \"https://cdn.jsdelivr.net/npm//vega@5?noext\",\n",
       "      \"vega-lib\": \"https://cdn.jsdelivr.net/npm//vega-lib?noext\",\n",
       "      \"vega-lite\": \"https://cdn.jsdelivr.net/npm//vega-lite@4.8.1?noext\",\n",
       "      \"vega-embed\": \"https://cdn.jsdelivr.net/npm//vega-embed@6?noext\",\n",
       "    };\n",
       "\n",
       "    function loadScript(lib) {\n",
       "      return new Promise(function(resolve, reject) {\n",
       "        var s = document.createElement('script');\n",
       "        s.src = paths[lib];\n",
       "        s.async = true;\n",
       "        s.onload = () => resolve(paths[lib]);\n",
       "        s.onerror = () => reject(`Error loading script: ${paths[lib]}`);\n",
       "        document.getElementsByTagName(\"head\")[0].appendChild(s);\n",
       "      });\n",
       "    }\n",
       "\n",
       "    function showError(err) {\n",
       "      outputDiv.innerHTML = `<div class=\"error\" style=\"color:red;\">${err}</div>`;\n",
       "      throw err;\n",
       "    }\n",
       "\n",
       "    function displayChart(vegaEmbed) {\n",
       "      vegaEmbed(outputDiv, spec, embedOpt)\n",
       "        .catch(err => showError(`Javascript Error: ${err.message}<br>This usually means there's a typo in your chart specification. See the javascript console for the full traceback.`));\n",
       "    }\n",
       "\n",
       "    if(typeof define === \"function\" && define.amd) {\n",
       "      requirejs.config({paths});\n",
       "      require([\"vega-embed\"], displayChart, err => showError(`Error loading script: ${err.message}`));\n",
       "    } else if (typeof vegaEmbed === \"function\") {\n",
       "      displayChart(vegaEmbed);\n",
       "    } else {\n",
       "      loadScript(\"vega\")\n",
       "        .then(() => loadScript(\"vega-lite\"))\n",
       "        .then(() => loadScript(\"vega-embed\"))\n",
       "        .catch(showError)\n",
       "        .then(() => displayChart(vegaEmbed));\n",
       "    }\n",
       "  })({\"config\": {\"view\": {\"continuousWidth\": 400, \"continuousHeight\": 300}, \"axis\": {\"grid\": false}, \"header\": {\"titleColor\": \"black\", \"titleFontSize\": 14}}, \"layer\": [{\"mark\": \"bar\", \"encoding\": {\"color\": {\"type\": \"nominal\", \"field\": \"kernel\", \"legend\": null, \"scale\": {\"scheme\": \"pastel1\"}}, \"x\": {\"type\": \"quantitative\", \"field\": \"start\", \"title\": \"Cycles\"}, \"x2\": {\"field\": \"end\"}, \"y\": {\"type\": \"nominal\", \"field\": \"stream\", \"sort\": null}}, \"height\": 100, \"title\": \"Prediction\", \"width\": 900}, {\"mark\": {\"type\": \"text\", \"align\": \"center\", \"angle\": 90, \"baseline\": \"middle\", \"color\": \"black\", \"fontSize\": 12}, \"encoding\": {\"text\": {\"type\": \"quantitative\", \"field\": \"norm\"}, \"x\": {\"type\": \"quantitative\", \"field\": \"position\"}, \"y\": {\"type\": \"nominal\", \"field\": \"stream\", \"sort\": null, \"title\": null}}}], \"data\": {\"name\": \"data-cda61275e079815b15881b5872765447\"}, \"$schema\": \"https://vega.github.io/schema/vega-lite/v4.8.1.json\", \"datasets\": {\"data-cda61275e079815b15881b5872765447\": [{\"start\": 0, \"end\": 3906264, \"stream\": \"1: parb_sad-1\", \"kernel\": \"1:1\", \"position\": 1953132.0, \"norm\": 0.77}, {\"start\": 3906264, \"end\": 7084260, \"stream\": \"1: parb_sad-1\", \"kernel\": \"1:2\", \"position\": 5495262.0, \"norm\": 0.73}, {\"start\": 7084260, \"end\": 7950647, \"stream\": \"1: parb_sad-1\", \"kernel\": \"1:3\", \"position\": 7517453.5, \"norm\": 0.63}, {\"start\": 0, \"end\": 246767, \"stream\": \"2: nvd_conv-0\", \"kernel\": \"2:1\", \"position\": 123383.5, \"norm\": 0.77}, {\"start\": 246767, \"end\": 473948, \"stream\": \"2: nvd_conv-0\", \"kernel\": \"2:2\", \"position\": 360357.5, \"norm\": 0.92}, {\"start\": 473948, \"end\": 720715, \"stream\": \"2: nvd_conv-0\", \"kernel\": \"2:1\", \"position\": 597331.5, \"norm\": 0.77}, {\"start\": 720715, \"end\": 947896, \"stream\": \"2: nvd_conv-0\", \"kernel\": \"2:2\", \"position\": 834305.5, \"norm\": 0.92}, {\"start\": 947896, \"end\": 1194663, \"stream\": \"2: nvd_conv-0\", \"kernel\": \"2:1\", \"position\": 1071279.5, \"norm\": 0.77}, {\"start\": 1194663, \"end\": 1421844, \"stream\": \"2: nvd_conv-0\", \"kernel\": \"2:2\", \"position\": 1308253.5, \"norm\": 0.92}, {\"start\": 1421844, \"end\": 1668611, \"stream\": \"2: nvd_conv-0\", \"kernel\": \"2:1\", \"position\": 1545227.5, \"norm\": 0.77}, {\"start\": 1668611, \"end\": 1895792, \"stream\": \"2: nvd_conv-0\", \"kernel\": \"2:2\", \"position\": 1782201.5, \"norm\": 0.92}, {\"start\": 1895792, \"end\": 2142559, \"stream\": \"2: nvd_conv-0\", \"kernel\": \"2:1\", \"position\": 2019175.5, \"norm\": 0.77}, {\"start\": 2142559, \"end\": 2369740, \"stream\": \"2: nvd_conv-0\", \"kernel\": \"2:2\", \"position\": 2256149.5, \"norm\": 0.92}, {\"start\": 2369740, \"end\": 2616507, \"stream\": \"2: nvd_conv-0\", \"kernel\": \"2:1\", \"position\": 2493123.5, \"norm\": 0.77}, {\"start\": 2616507, \"end\": 2843688, \"stream\": \"2: nvd_conv-0\", \"kernel\": \"2:2\", \"position\": 2730097.5, \"norm\": 0.92}, {\"start\": 2843688, \"end\": 3090455, \"stream\": \"2: nvd_conv-0\", \"kernel\": \"2:1\", \"position\": 2967071.5, \"norm\": 0.77}, {\"start\": 3090455, \"end\": 3317636, \"stream\": \"2: nvd_conv-0\", \"kernel\": \"2:2\", \"position\": 3204045.5, \"norm\": 0.92}, {\"start\": 3317636, \"end\": 3564403, \"stream\": \"2: nvd_conv-0\", \"kernel\": \"2:1\", \"position\": 3441019.5, \"norm\": 0.77}, {\"start\": 3564403, \"end\": 3791584, \"stream\": \"2: nvd_conv-0\", \"kernel\": \"2:2\", \"position\": 3677993.5, \"norm\": 0.92}, {\"start\": 3791584, \"end\": 4117096, \"stream\": \"2: nvd_conv-0\", \"kernel\": \"2:1\", \"position\": 3954340.0, \"norm\": 0.58}, {\"start\": 4117096, \"end\": 4525654, \"stream\": \"2: nvd_conv-0\", \"kernel\": \"2:2\", \"position\": 4321375.0, \"norm\": 0.51}, {\"start\": 4525654, \"end\": 4919524, \"stream\": \"2: nvd_conv-0\", \"kernel\": \"2:1\", \"position\": 4722589.0, \"norm\": 0.48}, {\"start\": 4919524, \"end\": 5328082, \"stream\": \"2: nvd_conv-0\", \"kernel\": \"2:2\", \"position\": 5123803.0, \"norm\": 0.51}, {\"start\": 5328082, \"end\": 5721952, \"stream\": \"2: nvd_conv-0\", \"kernel\": \"2:1\", \"position\": 5525017.0, \"norm\": 0.48}, {\"start\": 5721952, \"end\": 6130510, \"stream\": \"2: nvd_conv-0\", \"kernel\": \"2:2\", \"position\": 5926231.0, \"norm\": 0.51}, {\"start\": 6130510, \"end\": 6524380, \"stream\": \"2: nvd_conv-0\", \"kernel\": \"2:1\", \"position\": 6327445.0, \"norm\": 0.48}, {\"start\": 6524380, \"end\": 6932938, \"stream\": \"2: nvd_conv-0\", \"kernel\": \"2:2\", \"position\": 6728659.0, \"norm\": 0.51}, {\"start\": 6932938, \"end\": 7296277, \"stream\": \"2: nvd_conv-0\", \"kernel\": \"2:1\", \"position\": 7114607.5, \"norm\": 0.52}, {\"start\": 7296277, \"end\": 7652644, \"stream\": \"2: nvd_conv-0\", \"kernel\": \"2:2\", \"position\": 7474460.5, \"norm\": 0.58}, {\"start\": 7652644, \"end\": 7976234, \"stream\": \"2: nvd_conv-0\", \"kernel\": \"2:1\", \"position\": 7814439.0, \"norm\": 0.59}, {\"start\": 7976234, \"end\": 8184398, \"stream\": \"2: nvd_conv-0\", \"kernel\": \"2:2\", \"position\": 8080316.0, \"norm\": 1.0}]}}, {\"mode\": \"vega-lite\"});\n",
       "</script>"
      ],
      "text/plain": [
       "alt.LayerChart(...)"
      ]
     },
     "metadata": {},
     "output_type": "display_data"
    }
   ],
   "source": [
    "\n",
    "best_dd = widgets.Dropdown(options=uniq_pairs, value=uniq_pairs[0], description='Pair:')\n",
    "best_type_dd = widgets.Dropdown(options=['Local', 'Global (weighted)'], value='Local', description='Type')\n",
    "best_btn = widgets.Button(description='Best', button_style='info')\n",
    "\n",
    "\n",
    "show_widgets_best()\n",
    "best_btn.on_click(best_onclick)\n",
    " "
   ]
  },
  {
   "cell_type": "code",
   "execution_count": null,
   "metadata": {},
   "outputs": [],
   "source": []
  },
  {
   "cell_type": "markdown",
   "metadata": {},
   "source": [
    "# CTX Ratio"
   ]
  },
  {
   "cell_type": "code",
   "execution_count": 9,
   "metadata": {},
   "outputs": [],
   "source": [
    "gen_pair = os.path.join(SCRIPT_PATH, 'gen_tables/gen_table_pair.py')\n",
    "ctx_csv = os.path.join(HOME, 'data/csv/ctx.csv')\n",
    "output = os.path.join(PKL_PATH, 'pair_ctx.pkl')\n"
   ]
  },
  {
   "cell_type": "code",
   "execution_count": 10,
   "metadata": {
    "scrolled": false
   },
   "outputs": [
    {
     "name": "stdout",
     "output_type": "stream",
     "text": [
      "Index(['pair_str', 'config', 'gpusim_version', 'jobId', 'stall_icnt_to_l2',\n",
      "       'stall_l2_to_icnt', 'stall_core_ldst', 'l1D_miss_rate', 'l2_miss_rate',\n",
      "       'l2_rshr_entry_fail', 'l2_rshr_merge_fail', 'l2_total_accesses',\n",
      "       'mem_count', 'empty_warp', 'stall_warp', 'idle_warp', 'scoreboard_warp',\n",
      "       'tot_warp_insn', 'runtime', 'instructions', 'l2_bw', 'avg_mem_lat',\n",
      "       'avg_core_to_l2', 'avg_l2_to_core', 'avg_mrq_latency', 'dram_eff',\n",
      "       'dram_bw', 'row_buffer_locality', 'mem_idle', 'total_cmd'],\n",
      "      dtype='object')\n"
     ]
    }
   ],
   "source": [
    "%run $gen_pair --csv $ctx_csv --output $output --seq_pkl $seq_pkl --qos 0.5 --multi --how ctx"
   ]
  },
  {
   "cell_type": "code",
   "execution_count": 11,
   "metadata": {},
   "outputs": [
    {
     "data": {
      "text/html": [
       "<style  type=\"text/css\" >\n",
       "    #T_970e8db7_9f8a_11ea_b432_107b4493f33b tr:nth-of-type(odd) {\n",
       "          background: #eee;\n",
       "    }    #T_970e8db7_9f8a_11ea_b432_107b4493f33b tr:nth-of-type(even) {\n",
       "          background: white;\n",
       "    }    #T_970e8db7_9f8a_11ea_b432_107b4493f33b th {\n",
       "          background: #606060;\n",
       "          color: white;\n",
       "          font-family: verdana;\n",
       "          font-size: 90%;\n",
       "    }    #T_970e8db7_9f8a_11ea_b432_107b4493f33b td {\n",
       "          font-family: verdana;\n",
       "          font-size: 90%;\n",
       "          font-weight: bold;\n",
       "    }    #T_970e8db7_9f8a_11ea_b432_107b4493f33b tr:hover {\n",
       "          background-color: #ffffcc;\n",
       "    }</style><table id=\"T_970e8db7_9f8a_11ea_b432_107b4493f33b\" ><thead>    <tr>        <th class=\"col_heading level0 col0\" >1_bench</th>        <th class=\"col_heading level0 col1\" >2_bench</th>        <th class=\"col_heading level0 col2\" >1_ctx</th>        <th class=\"col_heading level0 col3\" >2_ctx</th>        <th class=\"col_heading level0 col4\" >cta_quota</th>    </tr></thead><tbody>\n",
       "                <tr>\n",
       "                                <td id=\"T_970e8db7_9f8a_11ea_b432_107b4493f33brow0_col0\" class=\"data row0 col0\" >parb_sad-0</td>\n",
       "                        <td id=\"T_970e8db7_9f8a_11ea_b432_107b4493f33brow0_col1\" class=\"data row0 col1\" >nvd_conv-0</td>\n",
       "                        <td id=\"T_970e8db7_9f8a_11ea_b432_107b4493f33brow0_col2\" class=\"data row0 col2\" >0.5</td>\n",
       "                        <td id=\"T_970e8db7_9f8a_11ea_b432_107b4493f33brow0_col3\" class=\"data row0 col3\" >0.5</td>\n",
       "                        <td id=\"T_970e8db7_9f8a_11ea_b432_107b4493f33brow0_col4\" class=\"data row0 col4\" >[[], [8, 2, 2], [16, 8]]</td>\n",
       "            </tr>\n",
       "            <tr>\n",
       "                                <td id=\"T_970e8db7_9f8a_11ea_b432_107b4493f33brow1_col0\" class=\"data row1 col0\" >parb_sad-0</td>\n",
       "                        <td id=\"T_970e8db7_9f8a_11ea_b432_107b4493f33brow1_col1\" class=\"data row1 col1\" >nvd_conv-0</td>\n",
       "                        <td id=\"T_970e8db7_9f8a_11ea_b432_107b4493f33brow1_col2\" class=\"data row1 col2\" >0.75</td>\n",
       "                        <td id=\"T_970e8db7_9f8a_11ea_b432_107b4493f33brow1_col3\" class=\"data row1 col3\" >0.25</td>\n",
       "                        <td id=\"T_970e8db7_9f8a_11ea_b432_107b4493f33brow1_col4\" class=\"data row1 col4\" >[[], [12, 2, 2], [8, 4]]</td>\n",
       "            </tr>\n",
       "            <tr>\n",
       "                                <td id=\"T_970e8db7_9f8a_11ea_b432_107b4493f33brow2_col0\" class=\"data row2 col0\" >parb_sad-0</td>\n",
       "                        <td id=\"T_970e8db7_9f8a_11ea_b432_107b4493f33brow2_col1\" class=\"data row2 col1\" >nvd_conv-0</td>\n",
       "                        <td id=\"T_970e8db7_9f8a_11ea_b432_107b4493f33brow2_col2\" class=\"data row2 col2\" >0.25</td>\n",
       "                        <td id=\"T_970e8db7_9f8a_11ea_b432_107b4493f33brow2_col3\" class=\"data row2 col3\" >0.75</td>\n",
       "                        <td id=\"T_970e8db7_9f8a_11ea_b432_107b4493f33brow2_col4\" class=\"data row2 col4\" >[[], [4, 2, 2], [24, 12]]</td>\n",
       "            </tr>\n",
       "            <tr>\n",
       "                                <td id=\"T_970e8db7_9f8a_11ea_b432_107b4493f33brow3_col0\" class=\"data row3 col0\" >parb_sad-1</td>\n",
       "                        <td id=\"T_970e8db7_9f8a_11ea_b432_107b4493f33brow3_col1\" class=\"data row3 col1\" >nvd_conv-0</td>\n",
       "                        <td id=\"T_970e8db7_9f8a_11ea_b432_107b4493f33brow3_col2\" class=\"data row3 col2\" >0.75</td>\n",
       "                        <td id=\"T_970e8db7_9f8a_11ea_b432_107b4493f33brow3_col3\" class=\"data row3 col3\" >0.25</td>\n",
       "                        <td id=\"T_970e8db7_9f8a_11ea_b432_107b4493f33brow3_col4\" class=\"data row3 col4\" >[[], [12, 12, 24], [8, 4]]</td>\n",
       "            </tr>\n",
       "            <tr>\n",
       "                                <td id=\"T_970e8db7_9f8a_11ea_b432_107b4493f33brow4_col0\" class=\"data row4 col0\" >parb_sad-1</td>\n",
       "                        <td id=\"T_970e8db7_9f8a_11ea_b432_107b4493f33brow4_col1\" class=\"data row4 col1\" >nvd_conv-0</td>\n",
       "                        <td id=\"T_970e8db7_9f8a_11ea_b432_107b4493f33brow4_col2\" class=\"data row4 col2\" >0.25</td>\n",
       "                        <td id=\"T_970e8db7_9f8a_11ea_b432_107b4493f33brow4_col3\" class=\"data row4 col3\" >0.75</td>\n",
       "                        <td id=\"T_970e8db7_9f8a_11ea_b432_107b4493f33brow4_col4\" class=\"data row4 col4\" >[[], [4, 4, 8], [24, 12]]</td>\n",
       "            </tr>\n",
       "            <tr>\n",
       "                                <td id=\"T_970e8db7_9f8a_11ea_b432_107b4493f33brow5_col0\" class=\"data row5 col0\" >parb_sad-1</td>\n",
       "                        <td id=\"T_970e8db7_9f8a_11ea_b432_107b4493f33brow5_col1\" class=\"data row5 col1\" >nvd_conv-0</td>\n",
       "                        <td id=\"T_970e8db7_9f8a_11ea_b432_107b4493f33brow5_col2\" class=\"data row5 col2\" >0.5</td>\n",
       "                        <td id=\"T_970e8db7_9f8a_11ea_b432_107b4493f33brow5_col3\" class=\"data row5 col3\" >0.5</td>\n",
       "                        <td id=\"T_970e8db7_9f8a_11ea_b432_107b4493f33brow5_col4\" class=\"data row5 col4\" >[[], [8, 8, 16], [16, 8]]</td>\n",
       "            </tr>\n",
       "    </tbody></table>"
      ],
      "text/plain": [
       "<pandas.io.formats.style.Styler at 0x7f064cb07fd0>"
      ]
     },
     "execution_count": 11,
     "metadata": {},
     "output_type": "execute_result"
    }
   ],
   "source": [
    "df_ctx= pd.read_pickle(output)\n",
    "uniq_pairs = df_ctx[['1_bench', '2_bench']].drop_duplicates().values\n",
    "uniq_pairs = ['+'.join(x) for x in uniq_pairs]\n",
    "\n",
    "col_ctx = ['1_bench', '2_bench', '1_ctx', '2_ctx', \n",
    "           'cta_quota',\n",
    "#            'runtime', 'norm_runtime'\n",
    "          ]\n",
    "draw_table(df_ctx, col_ctx)"
   ]
  },
  {
   "cell_type": "code",
   "execution_count": 88,
   "metadata": {},
   "outputs": [],
   "source": [
    "df_dynamic_index = df_dynamic.set_index(['1_bench', '1_intra', '2_bench', '2_intra'])"
   ]
  },
  {
   "cell_type": "code",
   "execution_count": 106,
   "metadata": {
    "scrolled": false
   },
   "outputs": [
    {
     "data": {
      "application/vnd.jupyter.widget-view+json": {
       "model_id": "a8454f83134f444eb5cda5aa67569331",
       "version_major": 2,
       "version_minor": 0
      },
      "text/plain": [
       "Dropdown(description='Pair:', index=1, options=('parb_sad-0+nvd_conv-0', 'parb_sad-1+nvd_conv-0'), value='parb…"
      ]
     },
     "metadata": {},
     "output_type": "display_data"
    },
    {
     "data": {
      "application/vnd.jupyter.widget-view+json": {
       "model_id": "d9381bbcfdf74fc7bd086960b34775b3",
       "version_major": 2,
       "version_minor": 0
      },
      "text/plain": [
       "Button(button_style='info', description='Display', style=ButtonStyle())"
      ]
     },
     "metadata": {},
     "output_type": "display_data"
    },
    {
     "data": {
      "text/html": [
       "\n",
       "<div id=\"altair-viz-caf29e87a0d14772a334af725cc20c68\"></div>\n",
       "<script type=\"text/javascript\">\n",
       "  (function(spec, embedOpt){\n",
       "    let outputDiv = document.currentScript.previousElementSibling;\n",
       "    if (outputDiv.id !== \"altair-viz-caf29e87a0d14772a334af725cc20c68\") {\n",
       "      outputDiv = document.getElementById(\"altair-viz-caf29e87a0d14772a334af725cc20c68\");\n",
       "    }\n",
       "    const paths = {\n",
       "      \"vega\": \"https://cdn.jsdelivr.net/npm//vega@5?noext\",\n",
       "      \"vega-lib\": \"https://cdn.jsdelivr.net/npm//vega-lib?noext\",\n",
       "      \"vega-lite\": \"https://cdn.jsdelivr.net/npm//vega-lite@4.8.1?noext\",\n",
       "      \"vega-embed\": \"https://cdn.jsdelivr.net/npm//vega-embed@6?noext\",\n",
       "    };\n",
       "\n",
       "    function loadScript(lib) {\n",
       "      return new Promise(function(resolve, reject) {\n",
       "        var s = document.createElement('script');\n",
       "        s.src = paths[lib];\n",
       "        s.async = true;\n",
       "        s.onload = () => resolve(paths[lib]);\n",
       "        s.onerror = () => reject(`Error loading script: ${paths[lib]}`);\n",
       "        document.getElementsByTagName(\"head\")[0].appendChild(s);\n",
       "      });\n",
       "    }\n",
       "\n",
       "    function showError(err) {\n",
       "      outputDiv.innerHTML = `<div class=\"error\" style=\"color:red;\">${err}</div>`;\n",
       "      throw err;\n",
       "    }\n",
       "\n",
       "    function displayChart(vegaEmbed) {\n",
       "      vegaEmbed(outputDiv, spec, embedOpt)\n",
       "        .catch(err => showError(`Javascript Error: ${err.message}<br>This usually means there's a typo in your chart specification. See the javascript console for the full traceback.`));\n",
       "    }\n",
       "\n",
       "    if(typeof define === \"function\" && define.amd) {\n",
       "      requirejs.config({paths});\n",
       "      require([\"vega-embed\"], displayChart, err => showError(`Error loading script: ${err.message}`));\n",
       "    } else if (typeof vegaEmbed === \"function\") {\n",
       "      displayChart(vegaEmbed);\n",
       "    } else {\n",
       "      loadScript(\"vega\")\n",
       "        .then(() => loadScript(\"vega-lite\"))\n",
       "        .then(() => loadScript(\"vega-embed\"))\n",
       "        .catch(showError)\n",
       "        .then(() => displayChart(vegaEmbed));\n",
       "    }\n",
       "  })({\"config\": {\"view\": {\"continuousWidth\": 400, \"continuousHeight\": 300}, \"axis\": {\"grid\": false}, \"header\": {\"titleColor\": \"black\", \"titleFontSize\": 14}}, \"layer\": [{\"mark\": \"bar\", \"encoding\": {\"color\": {\"type\": \"nominal\", \"field\": \"kernel\", \"legend\": null, \"scale\": {\"scheme\": \"pastel1\"}}, \"x\": {\"type\": \"quantitative\", \"field\": \"start\", \"title\": \"Cycles\"}, \"x2\": {\"field\": \"end\"}, \"y\": {\"type\": \"nominal\", \"field\": \"stream\", \"sort\": null}}, \"height\": 100, \"title\": \"1_ctx = 0.25\", \"width\": 900}, {\"mark\": {\"type\": \"text\", \"align\": \"center\", \"angle\": 90, \"baseline\": \"middle\", \"color\": \"black\", \"fontSize\": 12}, \"encoding\": {\"text\": {\"type\": \"quantitative\", \"field\": \"norm\"}, \"x\": {\"type\": \"quantitative\", \"field\": \"position\"}, \"y\": {\"type\": \"nominal\", \"field\": \"stream\", \"sort\": null, \"title\": null}}}], \"data\": {\"name\": \"data-69e203649db2ce7ff23930dcf2af76f5\"}, \"$schema\": \"https://vega.github.io/schema/vega-lite/v4.8.1.json\", \"datasets\": {\"data-69e203649db2ce7ff23930dcf2af76f5\": [{\"start\": 0, \"end\": 8056737, \"stream\": \"1: parb_sad-1\", \"kernel\": \"1:1\", \"position\": 4028368.5, \"norm\": 0.37}, {\"start\": 8056737, \"end\": 11730345, \"stream\": \"1: parb_sad-1\", \"kernel\": \"1:2\", \"position\": 9893541.0, \"norm\": 0.63}, {\"start\": 11730345, \"end\": 12617433, \"stream\": \"1: parb_sad-1\", \"kernel\": \"1:3\", \"position\": 12173889.0, \"norm\": 0.61}, {\"start\": 0, \"end\": 212802, \"stream\": \"2: nvd_conv-0\", \"kernel\": \"2:1\", \"position\": 106401.0, \"norm\": 0.89}, {\"start\": 212802, \"end\": 446890, \"stream\": \"2: nvd_conv-0\", \"kernel\": \"2:2\", \"position\": 329846.0, \"norm\": 0.89}, {\"start\": 446890, \"end\": 669192, \"stream\": \"2: nvd_conv-0\", \"kernel\": \"2:1\", \"position\": 558041.0, \"norm\": 0.86}, {\"start\": 669192, \"end\": 895159, \"stream\": \"2: nvd_conv-0\", \"kernel\": \"2:2\", \"position\": 782175.5, \"norm\": 0.92}, {\"start\": 895159, \"end\": 1114949, \"stream\": \"2: nvd_conv-0\", \"kernel\": \"2:1\", \"position\": 1005054.0, \"norm\": 0.87}, {\"start\": 1114949, \"end\": 1342943, \"stream\": \"2: nvd_conv-0\", \"kernel\": \"2:2\", \"position\": 1228946.0, \"norm\": 0.91}, {\"start\": 1342943, \"end\": 1563251, \"stream\": \"2: nvd_conv-0\", \"kernel\": \"2:1\", \"position\": 1453097.0, \"norm\": 0.86}, {\"start\": 1563251, \"end\": 1790002, \"stream\": \"2: nvd_conv-0\", \"kernel\": \"2:2\", \"position\": 1676626.5, \"norm\": 0.92}, {\"start\": 1790002, \"end\": 2010344, \"stream\": \"2: nvd_conv-0\", \"kernel\": \"2:1\", \"position\": 1900173.0, \"norm\": 0.86}, {\"start\": 2010344, \"end\": 2237081, \"stream\": \"2: nvd_conv-0\", \"kernel\": \"2:2\", \"position\": 2123712.5, \"norm\": 0.92}, {\"start\": 2237081, \"end\": 2457126, \"stream\": \"2: nvd_conv-0\", \"kernel\": \"2:1\", \"position\": 2347103.5, \"norm\": 0.87}, {\"start\": 2457126, \"end\": 2681319, \"stream\": \"2: nvd_conv-0\", \"kernel\": \"2:2\", \"position\": 2569222.5, \"norm\": 0.93}, {\"start\": 2681319, \"end\": 2903001, \"stream\": \"2: nvd_conv-0\", \"kernel\": \"2:1\", \"position\": 2792160.0, \"norm\": 0.86}, {\"start\": 2903001, \"end\": 3128835, \"stream\": \"2: nvd_conv-0\", \"kernel\": \"2:2\", \"position\": 3015918.0, \"norm\": 0.92}, {\"start\": 3128835, \"end\": 3351118, \"stream\": \"2: nvd_conv-0\", \"kernel\": \"2:1\", \"position\": 3239976.5, \"norm\": 0.86}, {\"start\": 3351118, \"end\": 3576983, \"stream\": \"2: nvd_conv-0\", \"kernel\": \"2:2\", \"position\": 3464050.5, \"norm\": 0.92}, {\"start\": 3576983, \"end\": 3799642, \"stream\": \"2: nvd_conv-0\", \"kernel\": \"2:1\", \"position\": 3688312.5, \"norm\": 0.85}, {\"start\": 3799642, \"end\": 4025588, \"stream\": \"2: nvd_conv-0\", \"kernel\": \"2:2\", \"position\": 3912615.0, \"norm\": 0.92}, {\"start\": 4025588, \"end\": 4247737, \"stream\": \"2: nvd_conv-0\", \"kernel\": \"2:1\", \"position\": 4136662.5, \"norm\": 0.86}, {\"start\": 4247737, \"end\": 4473728, \"stream\": \"2: nvd_conv-0\", \"kernel\": \"2:2\", \"position\": 4360732.5, \"norm\": 0.92}, {\"start\": 4473728, \"end\": 4696244, \"stream\": \"2: nvd_conv-0\", \"kernel\": \"2:1\", \"position\": 4584986.0, \"norm\": 0.86}, {\"start\": 4696244, \"end\": 4922442, \"stream\": \"2: nvd_conv-0\", \"kernel\": \"2:2\", \"position\": 4809343.0, \"norm\": 0.92}, {\"start\": 4922442, \"end\": 5141816, \"stream\": \"2: nvd_conv-0\", \"kernel\": \"2:1\", \"position\": 5032129.0, \"norm\": 0.87}, {\"start\": 5141816, \"end\": 5367907, \"stream\": \"2: nvd_conv-0\", \"kernel\": \"2:2\", \"position\": 5254861.5, \"norm\": 0.92}, {\"start\": 5367907, \"end\": 5589241, \"stream\": \"2: nvd_conv-0\", \"kernel\": \"2:1\", \"position\": 5478574.0, \"norm\": 0.86}, {\"start\": 5589241, \"end\": 5813870, \"stream\": \"2: nvd_conv-0\", \"kernel\": \"2:2\", \"position\": 5701555.5, \"norm\": 0.93}, {\"start\": 5813870, \"end\": 6033670, \"stream\": \"2: nvd_conv-0\", \"kernel\": \"2:1\", \"position\": 5923770.0, \"norm\": 0.87}, {\"start\": 6033670, \"end\": 6259753, \"stream\": \"2: nvd_conv-0\", \"kernel\": \"2:2\", \"position\": 6146711.5, \"norm\": 0.92}, {\"start\": 6259753, \"end\": 6481679, \"stream\": \"2: nvd_conv-0\", \"kernel\": \"2:1\", \"position\": 6370716.0, \"norm\": 0.86}, {\"start\": 6481679, \"end\": 6706629, \"stream\": \"2: nvd_conv-0\", \"kernel\": \"2:2\", \"position\": 6594154.0, \"norm\": 0.93}, {\"start\": 6706629, \"end\": 6927188, \"stream\": \"2: nvd_conv-0\", \"kernel\": \"2:1\", \"position\": 6816908.5, \"norm\": 0.86}, {\"start\": 6927188, \"end\": 7155618, \"stream\": \"2: nvd_conv-0\", \"kernel\": \"2:2\", \"position\": 7041403.0, \"norm\": 0.91}, {\"start\": 7155618, \"end\": 7376652, \"stream\": \"2: nvd_conv-0\", \"kernel\": \"2:1\", \"position\": 7266135.0, \"norm\": 0.86}, {\"start\": 7376652, \"end\": 7602292, \"stream\": \"2: nvd_conv-0\", \"kernel\": \"2:2\", \"position\": 7489472.0, \"norm\": 0.92}, {\"start\": 7602292, \"end\": 7824880, \"stream\": \"2: nvd_conv-0\", \"kernel\": \"2:1\", \"position\": 7713586.0, \"norm\": 0.86}, {\"start\": 7824880, \"end\": 8049393, \"stream\": \"2: nvd_conv-0\", \"kernel\": \"2:2\", \"position\": 7937136.5, \"norm\": 0.93}, {\"start\": 8049393, \"end\": 8478095, \"stream\": \"2: nvd_conv-0\", \"kernel\": \"2:1\", \"position\": 8263744.0, \"norm\": 0.44}, {\"start\": 8478095, \"end\": 8923712, \"stream\": \"2: nvd_conv-0\", \"kernel\": \"2:2\", \"position\": 8700903.5, \"norm\": 0.47}, {\"start\": 8923712, \"end\": 9354756, \"stream\": \"2: nvd_conv-0\", \"kernel\": \"2:1\", \"position\": 9139234.0, \"norm\": 0.44}, {\"start\": 9354756, \"end\": 9793212, \"stream\": \"2: nvd_conv-0\", \"kernel\": \"2:2\", \"position\": 9573984.0, \"norm\": 0.47}, {\"start\": 9793212, \"end\": 10223016, \"stream\": \"2: nvd_conv-0\", \"kernel\": \"2:1\", \"position\": 10008114.0, \"norm\": 0.44}, {\"start\": 10223016, \"end\": 10656332, \"stream\": \"2: nvd_conv-0\", \"kernel\": \"2:2\", \"position\": 10439674.0, \"norm\": 0.48}, {\"start\": 10656332, \"end\": 11083861, \"stream\": \"2: nvd_conv-0\", \"kernel\": \"2:1\", \"position\": 10870096.5, \"norm\": 0.45}, {\"start\": 11083861, \"end\": 11517079, \"stream\": \"2: nvd_conv-0\", \"kernel\": \"2:2\", \"position\": 11300470.0, \"norm\": 0.48}, {\"start\": 11517079, \"end\": 11906359, \"stream\": \"2: nvd_conv-0\", \"kernel\": \"2:1\", \"position\": 11711719.0, \"norm\": 0.49}, {\"start\": 11906359, \"end\": 12327879, \"stream\": \"2: nvd_conv-0\", \"kernel\": \"2:2\", \"position\": 12117119.0, \"norm\": 0.49}, {\"start\": 12327879, \"end\": 12653553, \"stream\": \"2: nvd_conv-0\", \"kernel\": \"2:1\", \"position\": 12490716.0, \"norm\": 0.58}, {\"start\": 12653553, \"end\": 12851525, \"stream\": \"2: nvd_conv-0\", \"kernel\": \"2:2\", \"position\": 12752539.0, \"norm\": 1.05}]}}, {\"mode\": \"vega-lite\"});\n",
       "</script>"
      ],
      "text/plain": [
       "alt.LayerChart(...)"
      ]
     },
     "metadata": {},
     "output_type": "display_data"
    },
    {
     "name": "stdout",
     "output_type": "stream",
     "text": [
      "parb_sad-1 : [4, 4, 8] CTAs/SM\n",
      "nvd_conv-0 : [24, 12] CTAs/SM\n",
      "slowdown: [0, 0.4650344487662427, 0.7434961034254148]\n",
      "weighted speedup: 1.2085305521916576\n",
      "----------------------------------------------------------------------------------------------------\n"
     ]
    },
    {
     "data": {
      "text/html": [
       "\n",
       "<div id=\"altair-viz-13e1d33b231747f9b422e9cd97e0b6f8\"></div>\n",
       "<script type=\"text/javascript\">\n",
       "  (function(spec, embedOpt){\n",
       "    let outputDiv = document.currentScript.previousElementSibling;\n",
       "    if (outputDiv.id !== \"altair-viz-13e1d33b231747f9b422e9cd97e0b6f8\") {\n",
       "      outputDiv = document.getElementById(\"altair-viz-13e1d33b231747f9b422e9cd97e0b6f8\");\n",
       "    }\n",
       "    const paths = {\n",
       "      \"vega\": \"https://cdn.jsdelivr.net/npm//vega@5?noext\",\n",
       "      \"vega-lib\": \"https://cdn.jsdelivr.net/npm//vega-lib?noext\",\n",
       "      \"vega-lite\": \"https://cdn.jsdelivr.net/npm//vega-lite@4.8.1?noext\",\n",
       "      \"vega-embed\": \"https://cdn.jsdelivr.net/npm//vega-embed@6?noext\",\n",
       "    };\n",
       "\n",
       "    function loadScript(lib) {\n",
       "      return new Promise(function(resolve, reject) {\n",
       "        var s = document.createElement('script');\n",
       "        s.src = paths[lib];\n",
       "        s.async = true;\n",
       "        s.onload = () => resolve(paths[lib]);\n",
       "        s.onerror = () => reject(`Error loading script: ${paths[lib]}`);\n",
       "        document.getElementsByTagName(\"head\")[0].appendChild(s);\n",
       "      });\n",
       "    }\n",
       "\n",
       "    function showError(err) {\n",
       "      outputDiv.innerHTML = `<div class=\"error\" style=\"color:red;\">${err}</div>`;\n",
       "      throw err;\n",
       "    }\n",
       "\n",
       "    function displayChart(vegaEmbed) {\n",
       "      vegaEmbed(outputDiv, spec, embedOpt)\n",
       "        .catch(err => showError(`Javascript Error: ${err.message}<br>This usually means there's a typo in your chart specification. See the javascript console for the full traceback.`));\n",
       "    }\n",
       "\n",
       "    if(typeof define === \"function\" && define.amd) {\n",
       "      requirejs.config({paths});\n",
       "      require([\"vega-embed\"], displayChart, err => showError(`Error loading script: ${err.message}`));\n",
       "    } else if (typeof vegaEmbed === \"function\") {\n",
       "      displayChart(vegaEmbed);\n",
       "    } else {\n",
       "      loadScript(\"vega\")\n",
       "        .then(() => loadScript(\"vega-lite\"))\n",
       "        .then(() => loadScript(\"vega-embed\"))\n",
       "        .catch(showError)\n",
       "        .then(() => displayChart(vegaEmbed));\n",
       "    }\n",
       "  })({\"config\": {\"view\": {\"continuousWidth\": 400, \"continuousHeight\": 300}, \"axis\": {\"grid\": false}, \"header\": {\"titleColor\": \"black\", \"titleFontSize\": 14}}, \"layer\": [{\"mark\": \"bar\", \"encoding\": {\"color\": {\"type\": \"nominal\", \"field\": \"kernel\", \"legend\": null, \"scale\": {\"scheme\": \"pastel1\"}}, \"x\": {\"type\": \"quantitative\", \"field\": \"start\", \"title\": \"Cycles\"}, \"x2\": {\"field\": \"end\"}, \"y\": {\"type\": \"nominal\", \"field\": \"stream\", \"sort\": null}}, \"height\": 100, \"title\": \"1_ctx = 0.5\", \"width\": 900}, {\"mark\": {\"type\": \"text\", \"align\": \"center\", \"angle\": 90, \"baseline\": \"middle\", \"color\": \"black\", \"fontSize\": 12}, \"encoding\": {\"text\": {\"type\": \"quantitative\", \"field\": \"norm\"}, \"x\": {\"type\": \"quantitative\", \"field\": \"position\"}, \"y\": {\"type\": \"nominal\", \"field\": \"stream\", \"sort\": null, \"title\": null}}}], \"data\": {\"name\": \"data-d9fd3bfcd40e045d93dac77d0a41b618\"}, \"$schema\": \"https://vega.github.io/schema/vega-lite/v4.8.1.json\", \"datasets\": {\"data-d9fd3bfcd40e045d93dac77d0a41b618\": [{\"start\": 0, \"end\": 4797906, \"stream\": \"1: parb_sad-1\", \"kernel\": \"1:1\", \"position\": 2398953.0, \"norm\": 0.63}, {\"start\": 4797906, \"end\": 8592745, \"stream\": \"1: parb_sad-1\", \"kernel\": \"1:2\", \"position\": 6695325.5, \"norm\": 0.61}, {\"start\": 8592745, \"end\": 9509144, \"stream\": \"1: parb_sad-1\", \"kernel\": \"1:3\", \"position\": 9050944.5, \"norm\": 0.59}, {\"start\": 0, \"end\": 205369, \"stream\": \"2: nvd_conv-0\", \"kernel\": \"2:1\", \"position\": 102684.5, \"norm\": 0.93}, {\"start\": 205369, \"end\": 440674, \"stream\": \"2: nvd_conv-0\", \"kernel\": \"2:2\", \"position\": 323021.5, \"norm\": 0.88}, {\"start\": 440674, \"end\": 650294, \"stream\": \"2: nvd_conv-0\", \"kernel\": \"2:1\", \"position\": 545484.0, \"norm\": 0.91}, {\"start\": 650294, \"end\": 875789, \"stream\": \"2: nvd_conv-0\", \"kernel\": \"2:2\", \"position\": 763041.5, \"norm\": 0.92}, {\"start\": 875789, \"end\": 1082200, \"stream\": \"2: nvd_conv-0\", \"kernel\": \"2:1\", \"position\": 978994.5, \"norm\": 0.92}, {\"start\": 1082200, \"end\": 1308857, \"stream\": \"2: nvd_conv-0\", \"kernel\": \"2:2\", \"position\": 1195528.5, \"norm\": 0.92}, {\"start\": 1308857, \"end\": 1520075, \"stream\": \"2: nvd_conv-0\", \"kernel\": \"2:1\", \"position\": 1414466.0, \"norm\": 0.9}, {\"start\": 1520075, \"end\": 1747950, \"stream\": \"2: nvd_conv-0\", \"kernel\": \"2:2\", \"position\": 1634012.5, \"norm\": 0.91}, {\"start\": 1747950, \"end\": 1957730, \"stream\": \"2: nvd_conv-0\", \"kernel\": \"2:1\", \"position\": 1852840.0, \"norm\": 0.91}, {\"start\": 1957730, \"end\": 2184258, \"stream\": \"2: nvd_conv-0\", \"kernel\": \"2:2\", \"position\": 2070994.0, \"norm\": 0.92}, {\"start\": 2184258, \"end\": 2393854, \"stream\": \"2: nvd_conv-0\", \"kernel\": \"2:1\", \"position\": 2289056.0, \"norm\": 0.91}, {\"start\": 2393854, \"end\": 2620535, \"stream\": \"2: nvd_conv-0\", \"kernel\": \"2:2\", \"position\": 2507194.5, \"norm\": 0.92}, {\"start\": 2620535, \"end\": 2831637, \"stream\": \"2: nvd_conv-0\", \"kernel\": \"2:1\", \"position\": 2726086.0, \"norm\": 0.9}, {\"start\": 2831637, \"end\": 3054986, \"stream\": \"2: nvd_conv-0\", \"kernel\": \"2:2\", \"position\": 2943311.5, \"norm\": 0.93}, {\"start\": 3054986, \"end\": 3262602, \"stream\": \"2: nvd_conv-0\", \"kernel\": \"2:1\", \"position\": 3158794.0, \"norm\": 0.92}, {\"start\": 3262602, \"end\": 3495027, \"stream\": \"2: nvd_conv-0\", \"kernel\": \"2:2\", \"position\": 3378814.5, \"norm\": 0.9}, {\"start\": 3495027, \"end\": 3702549, \"stream\": \"2: nvd_conv-0\", \"kernel\": \"2:1\", \"position\": 3598788.0, \"norm\": 0.92}, {\"start\": 3702549, \"end\": 3933065, \"stream\": \"2: nvd_conv-0\", \"kernel\": \"2:2\", \"position\": 3817807.0, \"norm\": 0.9}, {\"start\": 3933065, \"end\": 4139753, \"stream\": \"2: nvd_conv-0\", \"kernel\": \"2:1\", \"position\": 4036409.0, \"norm\": 0.92}, {\"start\": 4139753, \"end\": 4367151, \"stream\": \"2: nvd_conv-0\", \"kernel\": \"2:2\", \"position\": 4253452.0, \"norm\": 0.92}, {\"start\": 4367151, \"end\": 4575542, \"stream\": \"2: nvd_conv-0\", \"kernel\": \"2:1\", \"position\": 4471346.5, \"norm\": 0.91}, {\"start\": 4575542, \"end\": 4805430, \"stream\": \"2: nvd_conv-0\", \"kernel\": \"2:2\", \"position\": 4690486.0, \"norm\": 0.91}, {\"start\": 4805430, \"end\": 5266784, \"stream\": \"2: nvd_conv-0\", \"kernel\": \"2:1\", \"position\": 5036107.0, \"norm\": 0.41}, {\"start\": 5266784, \"end\": 5753033, \"stream\": \"2: nvd_conv-0\", \"kernel\": \"2:2\", \"position\": 5509908.5, \"norm\": 0.43}, {\"start\": 5753033, \"end\": 6209679, \"stream\": \"2: nvd_conv-0\", \"kernel\": \"2:1\", \"position\": 5981356.0, \"norm\": 0.42}, {\"start\": 6209679, \"end\": 6690590, \"stream\": \"2: nvd_conv-0\", \"kernel\": \"2:2\", \"position\": 6450134.5, \"norm\": 0.43}, {\"start\": 6690590, \"end\": 7143463, \"stream\": \"2: nvd_conv-0\", \"kernel\": \"2:1\", \"position\": 6917026.5, \"norm\": 0.42}, {\"start\": 7143463, \"end\": 7624277, \"stream\": \"2: nvd_conv-0\", \"kernel\": \"2:2\", \"position\": 7383870.0, \"norm\": 0.43}, {\"start\": 7624277, \"end\": 8079452, \"stream\": \"2: nvd_conv-0\", \"kernel\": \"2:1\", \"position\": 7851864.5, \"norm\": 0.42}, {\"start\": 8079452, \"end\": 8549176, \"stream\": \"2: nvd_conv-0\", \"kernel\": \"2:2\", \"position\": 8314314.0, \"norm\": 0.44}, {\"start\": 8549176, \"end\": 8956799, \"stream\": \"2: nvd_conv-0\", \"kernel\": \"2:1\", \"position\": 8752987.5, \"norm\": 0.47}, {\"start\": 8956799, \"end\": 9394746, \"stream\": \"2: nvd_conv-0\", \"kernel\": \"2:2\", \"position\": 9175772.5, \"norm\": 0.48}, {\"start\": 9394746, \"end\": 9619871, \"stream\": \"2: nvd_conv-0\", \"kernel\": \"2:1\", \"position\": 9507308.5, \"norm\": 0.85}, {\"start\": 9619871, \"end\": 9799020, \"stream\": \"2: nvd_conv-0\", \"kernel\": \"2:2\", \"position\": 9709445.5, \"norm\": 1.16}]}}, {\"mode\": \"vega-lite\"});\n",
       "</script>"
      ],
      "text/plain": [
       "alt.LayerChart(...)"
      ]
     },
     "metadata": {},
     "output_type": "display_data"
    },
    {
     "name": "stdout",
     "output_type": "stream",
     "text": [
      "parb_sad-1 : [8, 8, 16] CTAs/SM\n",
      "nvd_conv-0 : [16, 8] CTAs/SM\n",
      "slowdown: [0, 0.6170419755973829, 0.6786942403764827]\n",
      "weighted speedup: 1.2957362159738657\n",
      "----------------------------------------------------------------------------------------------------\n"
     ]
    },
    {
     "data": {
      "text/html": [
       "\n",
       "<div id=\"altair-viz-35a3aec2017c4e1899575b93debad50a\"></div>\n",
       "<script type=\"text/javascript\">\n",
       "  (function(spec, embedOpt){\n",
       "    let outputDiv = document.currentScript.previousElementSibling;\n",
       "    if (outputDiv.id !== \"altair-viz-35a3aec2017c4e1899575b93debad50a\") {\n",
       "      outputDiv = document.getElementById(\"altair-viz-35a3aec2017c4e1899575b93debad50a\");\n",
       "    }\n",
       "    const paths = {\n",
       "      \"vega\": \"https://cdn.jsdelivr.net/npm//vega@5?noext\",\n",
       "      \"vega-lib\": \"https://cdn.jsdelivr.net/npm//vega-lib?noext\",\n",
       "      \"vega-lite\": \"https://cdn.jsdelivr.net/npm//vega-lite@4.8.1?noext\",\n",
       "      \"vega-embed\": \"https://cdn.jsdelivr.net/npm//vega-embed@6?noext\",\n",
       "    };\n",
       "\n",
       "    function loadScript(lib) {\n",
       "      return new Promise(function(resolve, reject) {\n",
       "        var s = document.createElement('script');\n",
       "        s.src = paths[lib];\n",
       "        s.async = true;\n",
       "        s.onload = () => resolve(paths[lib]);\n",
       "        s.onerror = () => reject(`Error loading script: ${paths[lib]}`);\n",
       "        document.getElementsByTagName(\"head\")[0].appendChild(s);\n",
       "      });\n",
       "    }\n",
       "\n",
       "    function showError(err) {\n",
       "      outputDiv.innerHTML = `<div class=\"error\" style=\"color:red;\">${err}</div>`;\n",
       "      throw err;\n",
       "    }\n",
       "\n",
       "    function displayChart(vegaEmbed) {\n",
       "      vegaEmbed(outputDiv, spec, embedOpt)\n",
       "        .catch(err => showError(`Javascript Error: ${err.message}<br>This usually means there's a typo in your chart specification. See the javascript console for the full traceback.`));\n",
       "    }\n",
       "\n",
       "    if(typeof define === \"function\" && define.amd) {\n",
       "      requirejs.config({paths});\n",
       "      require([\"vega-embed\"], displayChart, err => showError(`Error loading script: ${err.message}`));\n",
       "    } else if (typeof vegaEmbed === \"function\") {\n",
       "      displayChart(vegaEmbed);\n",
       "    } else {\n",
       "      loadScript(\"vega\")\n",
       "        .then(() => loadScript(\"vega-lite\"))\n",
       "        .then(() => loadScript(\"vega-embed\"))\n",
       "        .catch(showError)\n",
       "        .then(() => displayChart(vegaEmbed));\n",
       "    }\n",
       "  })({\"config\": {\"view\": {\"continuousWidth\": 400, \"continuousHeight\": 300}, \"axis\": {\"grid\": false}, \"header\": {\"titleColor\": \"black\", \"titleFontSize\": 14}}, \"layer\": [{\"mark\": \"bar\", \"encoding\": {\"color\": {\"type\": \"nominal\", \"field\": \"kernel\", \"legend\": null, \"scale\": {\"scheme\": \"pastel1\"}}, \"x\": {\"type\": \"quantitative\", \"field\": \"start\", \"title\": \"Cycles\"}, \"x2\": {\"field\": \"end\"}, \"y\": {\"type\": \"nominal\", \"field\": \"stream\", \"sort\": null}}, \"height\": 100, \"title\": \"1_ctx = 0.75\", \"width\": 900}, {\"mark\": {\"type\": \"text\", \"align\": \"center\", \"angle\": 90, \"baseline\": \"middle\", \"color\": \"black\", \"fontSize\": 12}, \"encoding\": {\"text\": {\"type\": \"quantitative\", \"field\": \"norm\"}, \"x\": {\"type\": \"quantitative\", \"field\": \"position\"}, \"y\": {\"type\": \"nominal\", \"field\": \"stream\", \"sort\": null, \"title\": null}}}], \"data\": {\"name\": \"data-ce321ed400e5e7fb556eaa3b067dd380\"}, \"$schema\": \"https://vega.github.io/schema/vega-lite/v4.8.1.json\", \"datasets\": {\"data-ce321ed400e5e7fb556eaa3b067dd380\": [{\"start\": 0, \"end\": 3972817, \"stream\": \"1: parb_sad-1\", \"kernel\": \"1:1\", \"position\": 1986408.5, \"norm\": 0.76}, {\"start\": 3972817, \"end\": 7342448, \"stream\": \"1: parb_sad-1\", \"kernel\": \"1:2\", \"position\": 5657632.5, \"norm\": 0.69}, {\"start\": 7342448, \"end\": 8157673, \"stream\": \"1: parb_sad-1\", \"kernel\": \"1:3\", \"position\": 7750060.5, \"norm\": 0.66}, {\"start\": 0, \"end\": 240743, \"stream\": \"2: nvd_conv-0\", \"kernel\": \"2:1\", \"position\": 120371.5, \"norm\": 0.79}, {\"start\": 240743, \"end\": 513979, \"stream\": \"2: nvd_conv-0\", \"kernel\": \"2:2\", \"position\": 377361.0, \"norm\": 0.76}, {\"start\": 513979, \"end\": 750211, \"stream\": \"2: nvd_conv-0\", \"kernel\": \"2:1\", \"position\": 632095.0, \"norm\": 0.81}, {\"start\": 750211, \"end\": 1021942, \"stream\": \"2: nvd_conv-0\", \"kernel\": \"2:2\", \"position\": 886076.5, \"norm\": 0.77}, {\"start\": 1021942, \"end\": 1257117, \"stream\": \"2: nvd_conv-0\", \"kernel\": \"2:1\", \"position\": 1139529.5, \"norm\": 0.81}, {\"start\": 1257117, \"end\": 1528011, \"stream\": \"2: nvd_conv-0\", \"kernel\": \"2:2\", \"position\": 1392564.0, \"norm\": 0.77}, {\"start\": 1528011, \"end\": 1761498, \"stream\": \"2: nvd_conv-0\", \"kernel\": \"2:1\", \"position\": 1644754.5, \"norm\": 0.82}, {\"start\": 1761498, \"end\": 2031832, \"stream\": \"2: nvd_conv-0\", \"kernel\": \"2:2\", \"position\": 1896665.0, \"norm\": 0.77}, {\"start\": 2031832, \"end\": 2267851, \"stream\": \"2: nvd_conv-0\", \"kernel\": \"2:1\", \"position\": 2149841.5, \"norm\": 0.81}, {\"start\": 2267851, \"end\": 2537866, \"stream\": \"2: nvd_conv-0\", \"kernel\": \"2:2\", \"position\": 2402858.5, \"norm\": 0.77}, {\"start\": 2537866, \"end\": 2772746, \"stream\": \"2: nvd_conv-0\", \"kernel\": \"2:1\", \"position\": 2655306.0, \"norm\": 0.81}, {\"start\": 2772746, \"end\": 3042385, \"stream\": \"2: nvd_conv-0\", \"kernel\": \"2:2\", \"position\": 2907565.5, \"norm\": 0.77}, {\"start\": 3042385, \"end\": 3279227, \"stream\": \"2: nvd_conv-0\", \"kernel\": \"2:1\", \"position\": 3160806.0, \"norm\": 0.8}, {\"start\": 3279227, \"end\": 3552006, \"stream\": \"2: nvd_conv-0\", \"kernel\": \"2:2\", \"position\": 3415616.5, \"norm\": 0.76}, {\"start\": 3552006, \"end\": 3787377, \"stream\": \"2: nvd_conv-0\", \"kernel\": \"2:1\", \"position\": 3669691.5, \"norm\": 0.81}, {\"start\": 3787377, \"end\": 4211492, \"stream\": \"2: nvd_conv-0\", \"kernel\": \"2:2\", \"position\": 3999434.5, \"norm\": 0.49}, {\"start\": 4211492, \"end\": 4692529, \"stream\": \"2: nvd_conv-0\", \"kernel\": \"2:1\", \"position\": 4452010.5, \"norm\": 0.4}, {\"start\": 4692529, \"end\": 5448269, \"stream\": \"2: nvd_conv-0\", \"kernel\": \"2:2\", \"position\": 5070399.0, \"norm\": 0.28}, {\"start\": 5448269, \"end\": 5926585, \"stream\": \"2: nvd_conv-0\", \"kernel\": \"2:1\", \"position\": 5687427.0, \"norm\": 0.4}, {\"start\": 5926585, \"end\": 6678069, \"stream\": \"2: nvd_conv-0\", \"kernel\": \"2:2\", \"position\": 6302327.0, \"norm\": 0.28}, {\"start\": 6678069, \"end\": 7145347, \"stream\": \"2: nvd_conv-0\", \"kernel\": \"2:1\", \"position\": 6911708.0, \"norm\": 0.41}, {\"start\": 7145347, \"end\": 7765249, \"stream\": \"2: nvd_conv-0\", \"kernel\": \"2:2\", \"position\": 7455298.0, \"norm\": 0.34}, {\"start\": 7765249, \"end\": 8171000, \"stream\": \"2: nvd_conv-0\", \"kernel\": \"2:1\", \"position\": 7968124.5, \"norm\": 0.47}, {\"start\": 8171000, \"end\": 8367961, \"stream\": \"2: nvd_conv-0\", \"kernel\": \"2:2\", \"position\": 8269480.5, \"norm\": 1.06}]}}, {\"mode\": \"vega-lite\"});\n",
       "</script>"
      ],
      "text/plain": [
       "alt.LayerChart(...)"
      ]
     },
     "metadata": {},
     "output_type": "display_data"
    },
    {
     "name": "stdout",
     "output_type": "stream",
     "text": [
      "parb_sad-1 : [12, 12, 24] CTAs/SM\n",
      "nvd_conv-0 : [8, 4] CTAs/SM\n",
      "slowdown: [0, 0.7192665114181458, 0.5645163471255075]\n",
      "weighted speedup: 1.2837828585436533\n",
      "----------------------------------------------------------------------------------------------------\n"
     ]
    }
   ],
   "source": [
    "ctx_dd = widgets.Dropdown(options=uniq_pairs, value=uniq_pairs[0], description='Pair:')\n",
    "ctx_btn = widgets.Button(description='Display', button_style='info')\n",
    "\n",
    "def show_widgets_ctx():\n",
    "    display(ctx_dd)\n",
    "    display(ctx_btn)\n",
    "    \n",
    "\n",
    "def ctx_onclick(b):\n",
    "    clear_output()\n",
    "    show_widgets_ctx()\n",
    "    \n",
    "    apps = ctx_dd.value.split('+')\n",
    "    df_apps = df_ctx[(df_ctx['1_bench'] == apps[0]) & (df_ctx['2_bench'] == apps[1])]\n",
    "    df_apps = df_apps.sort_values('1_ctx')\n",
    "    for rid, row in df_apps.iterrows():\n",
    "        app1 = row['1_bench']\n",
    "        app2 = row['2_bench']\n",
    "        # Show actual timeline\n",
    "        gen_altair.draw_altair_timeline(row, col_title='1_ctx').display()  \n",
    "        # Print ctas/SM for each kernel in each app\n",
    "        print(app1, ':', row['cta_quota'][1], 'CTAs/SM')\n",
    "        print(app2, ':', row['cta_quota'][2], 'CTAs/SM')\n",
    "        \n",
    "        print('slowdown:', row['sld'])\n",
    "        print('weighted speedup:', row['ws'])\n",
    "        \n",
    "        # Show predicted timeline based on df_dynamic info\n",
    "        matrix_size = (len(const.kernel_yaml[app2]), len(const.kernel_yaml[app1]))\n",
    "        interference_1 = np.zeros(matrix_size)\n",
    "        interference_2 = np.zeros(matrix_size)\n",
    "\n",
    "        no_predict = False\n",
    "        # Build interference matrix\n",
    "        for kernel_1 in const.kernel_yaml[app1]:\n",
    "            if not no_predict:\n",
    "                for kernel_2 in const.kernel_yaml[app2]:\n",
    "                    cta_1 = row['cta_quota'][1][kernel_1-1]\n",
    "                    cta_2 = row['cta_quota'][2][kernel_2-1]\n",
    "                    dynamic_idx = (app1, int(cta_1), app2, int(cta_2))\n",
    "\n",
    "                    if dynamic_idx not in df_dynamic_index.index:\n",
    "                        no_predict = True\n",
    "                        break\n",
    "\n",
    "                    sld_1 = df_dynamic_index.loc[dynamic_idx, 'sld'].to_list()[0][1]\n",
    "                    sld_2 = df_dynamic_index.loc[dynamic_idx, 'sld'].to_list()[0][2]\n",
    "\n",
    "                    matrix_idx = (kernel_2-1, kernel_1-1)\n",
    "\n",
    "                    interference_1[matrix_idx] = sld_1\n",
    "                    interference_2[matrix_idx] = sld_2\n",
    "        \n",
    "        if not no_predict:\n",
    "            # Get baseline runtime\n",
    "            runtimes = [get_runtime(row['1_bench']), get_runtime(row['2_bench'])]\n",
    "            interference = [interference_1, interference_2]\n",
    "            \n",
    "            app1_kernels = ['{0}:{1}'.format(app1, kernel) for kernel in const.kernel_yaml[app1]]\n",
    "            app2_kernels = ['{0}:{1}'.format(app2, kernel) for kernel in const.kernel_yaml[app2]]\n",
    "\n",
    "            df_header = (app2_kernels, app1_kernels)\n",
    "            print_table(apps, 'slowdown', interference, df_header)\n",
    "\n",
    "\n",
    "            # Predict app slowdown\n",
    "            predict_app(runtimes, interference, [app1, app2])\n",
    "        \n",
    "        print('-' * 100)\n",
    "\n",
    "show_widgets_ctx()\n",
    "ctx_btn.on_click(ctx_onclick)\n",
    " "
   ]
  },
  {
   "cell_type": "code",
   "execution_count": null,
   "metadata": {},
   "outputs": [],
   "source": []
  },
  {
   "cell_type": "markdown",
   "metadata": {},
   "source": [
    "# CTA LUT"
   ]
  },
  {
   "cell_type": "code",
   "execution_count": 112,
   "metadata": {},
   "outputs": [
    {
     "name": "stdout",
     "output_type": "stream",
     "text": [
      "Index(['pair_str', 'config', 'gpusim_version', 'jobId', 'stall_icnt_to_l2',\n",
      "       'stall_l2_to_icnt', 'stall_core_ldst', 'l1D_miss_rate', 'l2_miss_rate',\n",
      "       'l2_rshr_entry_fail', 'l2_rshr_merge_fail', 'l2_total_accesses',\n",
      "       'mem_count', 'empty_warp', 'stall_warp', 'idle_warp', 'scoreboard_warp',\n",
      "       'tot_warp_insn', 'runtime', 'instructions', 'l2_bw', 'avg_mem_lat',\n",
      "       'avg_core_to_l2', 'avg_l2_to_core', 'avg_mrq_latency', 'dram_eff',\n",
      "       'dram_bw', 'row_buffer_locality', 'mem_idle', 'total_cmd'],\n",
      "      dtype='object')\n"
     ]
    }
   ],
   "source": [
    "lut_csv = os.path.join(HOME, 'data/csv/pair_lut.csv')\n",
    "lut_out = os.path.join(PKL_PATH, 'pair_lut.pkl')\n",
    "\n",
    "%run $gen_pair --csv $lut_csv --output $lut_out --seq_pkl $seq_pkl --multi --how lut"
   ]
  },
  {
   "cell_type": "code",
   "execution_count": 113,
   "metadata": {},
   "outputs": [],
   "source": [
    "df_lut = pd.read_pickle(lut_out)\n",
    "col_lut = ['pair_str', '1_bench', '2_bench', 'norm_ipc', 'runtime'] \n",
    "# draw_table(df_lut, col_lut)"
   ]
  },
  {
   "cell_type": "code",
   "execution_count": 114,
   "metadata": {},
   "outputs": [
    {
     "data": {
      "application/vnd.jupyter.widget-view+json": {
       "model_id": "03b33f9298e143b2a6c0d6072989b7fc",
       "version_major": 2,
       "version_minor": 0
      },
      "text/plain": [
       "Dropdown(description='Pair:', index=1, options=('parb_sad-0-nvd_conv-0', 'parb_sad-1-nvd_conv-0'), value='parb…"
      ]
     },
     "metadata": {},
     "output_type": "display_data"
    },
    {
     "data": {
      "application/vnd.jupyter.widget-view+json": {
       "model_id": "8efc2743c46e445c97eb9460299429de",
       "version_major": 2,
       "version_minor": 0
      },
      "text/plain": [
       "Button(button_style='info', description='Display', style=ButtonStyle())"
      ]
     },
     "metadata": {},
     "output_type": "display_data"
    },
    {
     "data": {
      "text/html": [
       "\n",
       "<div id=\"altair-viz-c90e2858eff74d4ea7ba3f1812b93d12\"></div>\n",
       "<script type=\"text/javascript\">\n",
       "  (function(spec, embedOpt){\n",
       "    let outputDiv = document.currentScript.previousElementSibling;\n",
       "    if (outputDiv.id !== \"altair-viz-c90e2858eff74d4ea7ba3f1812b93d12\") {\n",
       "      outputDiv = document.getElementById(\"altair-viz-c90e2858eff74d4ea7ba3f1812b93d12\");\n",
       "    }\n",
       "    const paths = {\n",
       "      \"vega\": \"https://cdn.jsdelivr.net/npm//vega@5?noext\",\n",
       "      \"vega-lib\": \"https://cdn.jsdelivr.net/npm//vega-lib?noext\",\n",
       "      \"vega-lite\": \"https://cdn.jsdelivr.net/npm//vega-lite@4.8.1?noext\",\n",
       "      \"vega-embed\": \"https://cdn.jsdelivr.net/npm//vega-embed@6?noext\",\n",
       "    };\n",
       "\n",
       "    function loadScript(lib) {\n",
       "      return new Promise(function(resolve, reject) {\n",
       "        var s = document.createElement('script');\n",
       "        s.src = paths[lib];\n",
       "        s.async = true;\n",
       "        s.onload = () => resolve(paths[lib]);\n",
       "        s.onerror = () => reject(`Error loading script: ${paths[lib]}`);\n",
       "        document.getElementsByTagName(\"head\")[0].appendChild(s);\n",
       "      });\n",
       "    }\n",
       "\n",
       "    function showError(err) {\n",
       "      outputDiv.innerHTML = `<div class=\"error\" style=\"color:red;\">${err}</div>`;\n",
       "      throw err;\n",
       "    }\n",
       "\n",
       "    function displayChart(vegaEmbed) {\n",
       "      vegaEmbed(outputDiv, spec, embedOpt)\n",
       "        .catch(err => showError(`Javascript Error: ${err.message}<br>This usually means there's a typo in your chart specification. See the javascript console for the full traceback.`));\n",
       "    }\n",
       "\n",
       "    if(typeof define === \"function\" && define.amd) {\n",
       "      requirejs.config({paths});\n",
       "      require([\"vega-embed\"], displayChart, err => showError(`Error loading script: ${err.message}`));\n",
       "    } else if (typeof vegaEmbed === \"function\") {\n",
       "      displayChart(vegaEmbed);\n",
       "    } else {\n",
       "      loadScript(\"vega\")\n",
       "        .then(() => loadScript(\"vega-lite\"))\n",
       "        .then(() => loadScript(\"vega-embed\"))\n",
       "        .catch(showError)\n",
       "        .then(() => displayChart(vegaEmbed));\n",
       "    }\n",
       "  })({\"config\": {\"view\": {\"continuousWidth\": 400, \"continuousHeight\": 300}, \"axis\": {\"grid\": false}, \"header\": {\"titleColor\": \"black\", \"titleFontSize\": 14}}, \"layer\": [{\"mark\": \"bar\", \"encoding\": {\"color\": {\"type\": \"nominal\", \"field\": \"kernel\", \"legend\": null, \"scale\": {\"scheme\": \"pastel1\"}}, \"x\": {\"type\": \"quantitative\", \"field\": \"start\", \"title\": \"Cycles\"}, \"x2\": {\"field\": \"end\"}, \"y\": {\"type\": \"nominal\", \"field\": \"stream\", \"sort\": null}}, \"height\": 100, \"title\": \"CTA LUT\", \"width\": 900}, {\"mark\": {\"type\": \"text\", \"align\": \"center\", \"angle\": 90, \"baseline\": \"middle\", \"color\": \"black\", \"fontSize\": 12}, \"encoding\": {\"text\": {\"type\": \"quantitative\", \"field\": \"norm\"}, \"x\": {\"type\": \"quantitative\", \"field\": \"position\"}, \"y\": {\"type\": \"nominal\", \"field\": \"stream\", \"sort\": null, \"title\": null}}}], \"data\": {\"name\": \"data-70ada3700c4466cdd7042d424e022639\"}, \"$schema\": \"https://vega.github.io/schema/vega-lite/v4.8.1.json\", \"datasets\": {\"data-70ada3700c4466cdd7042d424e022639\": [{\"start\": 0, \"end\": 3903782, \"stream\": \"1: parb_sad-1\", \"kernel\": \"1:1\", \"position\": 1951891.0, \"norm\": 0.77}, {\"start\": 3903782, \"end\": 7018203, \"stream\": \"1: parb_sad-1\", \"kernel\": \"1:2\", \"position\": 5460992.5, \"norm\": 0.75}, {\"start\": 7018203, \"end\": 7834764, \"stream\": \"1: parb_sad-1\", \"kernel\": \"1:3\", \"position\": 7426483.5, \"norm\": 0.66}, {\"start\": 0, \"end\": 251500, \"stream\": \"2: nvd_conv-0\", \"kernel\": \"2:1\", \"position\": 125750.0, \"norm\": 0.76}, {\"start\": 251500, \"end\": 482923, \"stream\": \"2: nvd_conv-0\", \"kernel\": \"2:2\", \"position\": 367211.5, \"norm\": 0.9}, {\"start\": 482923, \"end\": 730723, \"stream\": \"2: nvd_conv-0\", \"kernel\": \"2:1\", \"position\": 606823.0, \"norm\": 0.77}, {\"start\": 730723, \"end\": 954989, \"stream\": \"2: nvd_conv-0\", \"kernel\": \"2:2\", \"position\": 842856.0, \"norm\": 0.93}, {\"start\": 954989, \"end\": 1205269, \"stream\": \"2: nvd_conv-0\", \"kernel\": \"2:1\", \"position\": 1080129.0, \"norm\": 0.76}, {\"start\": 1205269, \"end\": 1431743, \"stream\": \"2: nvd_conv-0\", \"kernel\": \"2:2\", \"position\": 1318506.0, \"norm\": 0.92}, {\"start\": 1431743, \"end\": 1678406, \"stream\": \"2: nvd_conv-0\", \"kernel\": \"2:1\", \"position\": 1555074.5, \"norm\": 0.77}, {\"start\": 1678406, \"end\": 1904531, \"stream\": \"2: nvd_conv-0\", \"kernel\": \"2:2\", \"position\": 1791468.5, \"norm\": 0.92}, {\"start\": 1904531, \"end\": 2149949, \"stream\": \"2: nvd_conv-0\", \"kernel\": \"2:1\", \"position\": 2027240.0, \"norm\": 0.78}, {\"start\": 2149949, \"end\": 2375787, \"stream\": \"2: nvd_conv-0\", \"kernel\": \"2:2\", \"position\": 2262868.0, \"norm\": 0.92}, {\"start\": 2375787, \"end\": 2622218, \"stream\": \"2: nvd_conv-0\", \"kernel\": \"2:1\", \"position\": 2499002.5, \"norm\": 0.77}, {\"start\": 2622218, \"end\": 2847361, \"stream\": \"2: nvd_conv-0\", \"kernel\": \"2:2\", \"position\": 2734789.5, \"norm\": 0.92}, {\"start\": 2847361, \"end\": 3098447, \"stream\": \"2: nvd_conv-0\", \"kernel\": \"2:1\", \"position\": 2972904.0, \"norm\": 0.76}, {\"start\": 3098447, \"end\": 3326296, \"stream\": \"2: nvd_conv-0\", \"kernel\": \"2:2\", \"position\": 3212371.5, \"norm\": 0.91}, {\"start\": 3326296, \"end\": 3574526, \"stream\": \"2: nvd_conv-0\", \"kernel\": \"2:1\", \"position\": 3450411.0, \"norm\": 0.77}, {\"start\": 3574526, \"end\": 3801096, \"stream\": \"2: nvd_conv-0\", \"kernel\": \"2:2\", \"position\": 3687811.0, \"norm\": 0.92}, {\"start\": 3801096, \"end\": 4128120, \"stream\": \"2: nvd_conv-0\", \"kernel\": \"2:1\", \"position\": 3964608.0, \"norm\": 0.58}, {\"start\": 4128120, \"end\": 4564514, \"stream\": \"2: nvd_conv-0\", \"kernel\": \"2:2\", \"position\": 4346317.0, \"norm\": 0.48}, {\"start\": 4564514, \"end\": 4973870, \"stream\": \"2: nvd_conv-0\", \"kernel\": \"2:1\", \"position\": 4769192.0, \"norm\": 0.46}, {\"start\": 4973870, \"end\": 5388932, \"stream\": \"2: nvd_conv-0\", \"kernel\": \"2:2\", \"position\": 5181401.0, \"norm\": 0.5}, {\"start\": 5388932, \"end\": 5760987, \"stream\": \"2: nvd_conv-0\", \"kernel\": \"2:1\", \"position\": 5574959.5, \"norm\": 0.51}, {\"start\": 5760987, \"end\": 6180552, \"stream\": \"2: nvd_conv-0\", \"kernel\": \"2:2\", \"position\": 5970769.5, \"norm\": 0.5}, {\"start\": 6180552, \"end\": 6564565, \"stream\": \"2: nvd_conv-0\", \"kernel\": \"2:1\", \"position\": 6372558.5, \"norm\": 0.5}, {\"start\": 6564565, \"end\": 6995694, \"stream\": \"2: nvd_conv-0\", \"kernel\": \"2:2\", \"position\": 6780129.5, \"norm\": 0.48}, {\"start\": 6995694, \"end\": 7318876, \"stream\": \"2: nvd_conv-0\", \"kernel\": \"2:1\", \"position\": 7157285.0, \"norm\": 0.59}, {\"start\": 7318876, \"end\": 7728172, \"stream\": \"2: nvd_conv-0\", \"kernel\": \"2:2\", \"position\": 7523524.0, \"norm\": 0.51}, {\"start\": 7728172, \"end\": 7949173, \"stream\": \"2: nvd_conv-0\", \"kernel\": \"2:1\", \"position\": 7838672.5, \"norm\": 0.86}, {\"start\": 7949173, \"end\": 8155589, \"stream\": \"2: nvd_conv-0\", \"kernel\": \"2:2\", \"position\": 8052381.0, \"norm\": 1.01}]}}, {\"mode\": \"vega-lite\"});\n",
       "</script>"
      ],
      "text/plain": [
       "alt.LayerChart(...)"
      ]
     },
     "metadata": {},
     "output_type": "display_data"
    },
    {
     "name": "stdout",
     "output_type": "stream",
     "text": [
      "Note:\n",
      "runtime: [[], [3903782, 3114421, 816561], [251500, 231423, 247800, 224266, 250280, 226474, 246663, 226125, 245418, 225838, 246431, 225143, 251086, 227849, 248230, 226570, 327024, 436394, 409356, 415062, 372055, 419565, 384013, 431129, 323182, 409296, 221001, 206416]]\n",
      "slowdown: [0, 0.7489110074023927, 0.6703564568697488]\n",
      "weighted speedup: 1.4192674642721415\n",
      "----------------------------------------------------------------------------------------------------\n"
     ]
    }
   ],
   "source": [
    "lut_dd = widgets.Dropdown(options=df_lut['pair_str'], value=df_lut.iloc[0]['pair_str'], description='Pair:')\n",
    "\n",
    "lut_btn = widgets.Button(description='Display', button_style='info')\n",
    "\n",
    "def show_widgets_lut():\n",
    "    display(lut_dd)\n",
    "    display(lut_btn)\n",
    "    \n",
    "\n",
    "def lut_onclick(b):\n",
    "    clear_output()\n",
    "    show_widgets_lut()\n",
    "    \n",
    "    apps = re.split(r'-(?=\\D)', lut_dd.value)\n",
    "    df_apps = df_lut[(df_lut['1_bench'] == apps[0]) & (df_lut['2_bench'] == apps[1])]\n",
    "    for rid, row in df_apps.iterrows():\n",
    "        gen_altair.draw_altair_timeline(row, title='CTA LUT').display()  \n",
    "        \n",
    "        print('Note:')\n",
    "#         print(row['1_bench'], ':', row['cta_quota'][1], 'CTAs/SM')\n",
    "#         print(row['2_bench'], ':', row['cta_quota'][2], 'CTAs/SM')\n",
    "        \n",
    "        print('runtime:', row['runtime'])\n",
    "        print('slowdown:', row['sld'])\n",
    "        print('weighted speedup:', row['ws'])\n",
    "        print('-' * 100)\n",
    "\n",
    "show_widgets_lut()\n",
    "lut_btn.on_click(lut_onclick)\n",
    " "
   ]
  },
  {
   "cell_type": "code",
   "execution_count": 24,
   "metadata": {},
   "outputs": [
    {
     "name": "stdout",
     "output_type": "stream",
     "text": [
      "[0]\n"
     ]
    }
   ],
   "source": [
    "test = [0, 1]\n",
    "print(test[0:-1])"
   ]
  },
  {
   "cell_type": "code",
   "execution_count": null,
   "metadata": {},
   "outputs": [],
   "source": []
  }
 ],
 "metadata": {
  "kernelspec": {
   "display_name": "Python 3",
   "language": "python",
   "name": "python3"
  },
  "language_info": {
   "codemirror_mode": {
    "name": "ipython",
    "version": 3
   },
   "file_extension": ".py",
   "mimetype": "text/x-python",
   "name": "python",
   "nbconvert_exporter": "python",
   "pygments_lexer": "ipython3",
   "version": "3.6.8"
  }
 },
 "nbformat": 4,
 "nbformat_minor": 4
}
