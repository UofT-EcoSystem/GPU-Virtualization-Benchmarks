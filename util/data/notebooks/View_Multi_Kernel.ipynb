{
 "cells": [
  {
   "cell_type": "code",
   "execution_count": 1,
   "metadata": {},
   "outputs": [],
   "source": [
    "%load_ext autoreload\n",
    "%autoreload 2\n",
    "\n",
    "import pandas as pd\n",
    "import os\n",
    "import sys\n",
    "from ipywidgets import widgets\n",
    "from IPython.display import display, HTML\n",
    "from IPython.display import clear_output\n",
    "import matplotlib.pyplot as plt\n",
    "import seaborn as sns\n",
    "import altair as alt\n",
    "from tabulate import tabulate\n",
    "import math\n",
    "\n",
    "# Customized modules\n",
    "HOME = '/home/serinatan/project/GPU-Virtualization-Benchmarks/util'\n",
    "if HOME not in sys.path:\n",
    "    sys.path.append(HOME)\n",
    "\n",
    "import data.scripts.common.format as fmt\n",
    "import data.scripts.common.constants as const\n",
    "import data.scripts.gen_tables.gen_pair_configs as gen_pair\n",
    "import data.scripts.gen_tables.search_best_inter as search_inter\n",
    "import data.scripts.gen_graphs.gen_altair_timeline as gen_altair\n",
    "import scheduler.scheduler as scheduler\n",
    "\n",
    "SCRIPT_PATH = os.path.join(HOME, 'data/scripts') \n",
    "PKL_PATH = os.path.join(HOME, 'data/pickles') \n",
    "CSV_PATH = os.path.join(HOME, 'data/csv') \n",
    "GRAPH_PATH = os.path.join(HOME, 'data/graphs')\n",
    "\n",
    "%config InlineBackend.figure_format ='retina'\n",
    "plt.style.use('seaborn-talk')"
   ]
  },
  {
   "cell_type": "code",
   "execution_count": 2,
   "metadata": {},
   "outputs": [],
   "source": [
    "def draw_table(df, cols, hide_index=True):\n",
    "    if hide_index:\n",
    "        return df[cols].style.set_table_styles(fmt.table_style).hide_index()\n",
    "    else:\n",
    "        return df[cols].style.set_table_styles(fmt.table_style)"
   ]
  },
  {
   "cell_type": "markdown",
   "metadata": {},
   "source": [
    "# Seq"
   ]
  },
  {
   "cell_type": "code",
   "execution_count": 34,
   "metadata": {
    "scrolled": false
   },
   "outputs": [
    {
     "name": "stdout",
     "output_type": "stream",
     "text": [
      "Index(['pair_str', 'config', 'gpusim_version', 'jobId', 'stall_icnt_to_l2',\n",
      "       'stall_l2_to_icnt', 'stall_core_ldst', 'l1D_miss_rate', 'l2_miss_rate',\n",
      "       'l2_rshr_entry_fail', 'l2_rshr_merge_fail', 'l2_total_accesses',\n",
      "       'mem_count', 'empty_warp', 'stall_warp', 'idle_warp', 'scoreboard_warp',\n",
      "       'tot_warp_insn', 'runtime', 'instructions', 'l2_bw', 'avg_mem_lat',\n",
      "       'avg_core_to_l2', 'avg_l2_to_core', 'avg_mrq_latency', 'dram_eff',\n",
      "       'dram_bw', 'row_buffer_locality', 'mem_idle', 'total_cmd', 'ipc',\n",
      "       'avg_dram_bw', 'avg_dram_eff', 'avg_row_locality', 'std_dram_bw',\n",
      "       'ratio_dram_bw', 'MPKI', 'l2_access_density', '1_kidx', 'waves'],\n",
      "      dtype='object')\n"
     ]
    }
   ],
   "source": [
    "# run python scripts to generate all the pickles needed\n",
    "gen_seq = os.path.join(SCRIPT_PATH, 'gen_tables/gen_table_seq.py')   \n",
    "seq_file = os.path.join(CSV_PATH, 'seq-multi.csv')\n",
    "seq_pkl = os.path.join(PKL_PATH, 'seq-multi.pkl')\n",
    "%run $gen_seq --multi --csv $seq_file --output $seq_pkl\n",
    "\n",
    "df_seq = pd.read_pickle(os.path.join(PKL_PATH, 'seq-multi.pkl'))\n",
    "print(df_seq.columns)"
   ]
  },
  {
   "cell_type": "code",
   "execution_count": 10,
   "metadata": {},
   "outputs": [
    {
     "data": {
      "text/html": [
       "<style  type=\"text/css\" >\n",
       "    #T_c324f6aa_9a36_11ea_b432_107b4493f33b tr:nth-of-type(odd) {\n",
       "          background: #eee;\n",
       "    }    #T_c324f6aa_9a36_11ea_b432_107b4493f33b tr:nth-of-type(even) {\n",
       "          background: white;\n",
       "    }    #T_c324f6aa_9a36_11ea_b432_107b4493f33b th {\n",
       "          background: #606060;\n",
       "          color: white;\n",
       "          font-family: verdana;\n",
       "          font-size: 90%;\n",
       "    }    #T_c324f6aa_9a36_11ea_b432_107b4493f33b td {\n",
       "          font-family: verdana;\n",
       "          font-size: 90%;\n",
       "          font-weight: bold;\n",
       "    }    #T_c324f6aa_9a36_11ea_b432_107b4493f33b tr:hover {\n",
       "          background-color: #ffffcc;\n",
       "    }</style><table id=\"T_c324f6aa_9a36_11ea_b432_107b4493f33b\" ><thead>    <tr>        <th class=\"col_heading level0 col0\" >pair_str</th>        <th class=\"col_heading level0 col1\" >1_kidx</th>        <th class=\"col_heading level0 col2\" >runtime</th>        <th class=\"col_heading level0 col3\" >ipc</th>        <th class=\"col_heading level0 col4\" >avg_dram_bw</th>        <th class=\"col_heading level0 col5\" >l1D_miss_rate</th>        <th class=\"col_heading level0 col6\" >l2_miss_rate</th>    </tr></thead><tbody>\n",
       "                <tr>\n",
       "                                <td id=\"T_c324f6aa_9a36_11ea_b432_107b4493f33brow0_col0\" class=\"data row0 col0\" >nvd_conv-0</td>\n",
       "                        <td id=\"T_c324f6aa_9a36_11ea_b432_107b4493f33brow0_col1\" class=\"data row0 col1\" >1</td>\n",
       "                        <td id=\"T_c324f6aa_9a36_11ea_b432_107b4493f33brow0_col2\" class=\"data row0 col2\" >190,346</td>\n",
       "                        <td id=\"T_c324f6aa_9a36_11ea_b432_107b4493f33brow0_col3\" class=\"data row0 col3\" >2131.9</td>\n",
       "                        <td id=\"T_c324f6aa_9a36_11ea_b432_107b4493f33brow0_col4\" class=\"data row0 col4\" >0.7242</td>\n",
       "                        <td id=\"T_c324f6aa_9a36_11ea_b432_107b4493f33brow0_col5\" class=\"data row0 col5\" >0.9991</td>\n",
       "                        <td id=\"T_c324f6aa_9a36_11ea_b432_107b4493f33brow0_col6\" class=\"data row0 col6\" >0.931</td>\n",
       "            </tr>\n",
       "            <tr>\n",
       "                                <td id=\"T_c324f6aa_9a36_11ea_b432_107b4493f33brow1_col0\" class=\"data row1 col0\" >nvd_conv-0</td>\n",
       "                        <td id=\"T_c324f6aa_9a36_11ea_b432_107b4493f33brow1_col1\" class=\"data row1 col1\" >2</td>\n",
       "                        <td id=\"T_c324f6aa_9a36_11ea_b432_107b4493f33brow1_col2\" class=\"data row1 col2\" >208,164</td>\n",
       "                        <td id=\"T_c324f6aa_9a36_11ea_b432_107b4493f33brow1_col3\" class=\"data row1 col3\" >1755.92</td>\n",
       "                        <td id=\"T_c324f6aa_9a36_11ea_b432_107b4493f33brow1_col4\" class=\"data row1 col4\" >0.6698</td>\n",
       "                        <td id=\"T_c324f6aa_9a36_11ea_b432_107b4493f33brow1_col5\" class=\"data row1 col5\" >0.9997</td>\n",
       "                        <td id=\"T_c324f6aa_9a36_11ea_b432_107b4493f33brow1_col6\" class=\"data row1 col6\" >0.9323</td>\n",
       "            </tr>\n",
       "            <tr>\n",
       "                                <td id=\"T_c324f6aa_9a36_11ea_b432_107b4493f33brow2_col0\" class=\"data row2 col0\" >parb_sad-0</td>\n",
       "                        <td id=\"T_c324f6aa_9a36_11ea_b432_107b4493f33brow2_col1\" class=\"data row2 col1\" >1</td>\n",
       "                        <td id=\"T_c324f6aa_9a36_11ea_b432_107b4493f33brow2_col2\" class=\"data row2 col2\" >51,633</td>\n",
       "                        <td id=\"T_c324f6aa_9a36_11ea_b432_107b4493f33brow2_col3\" class=\"data row2 col3\" >2686.45</td>\n",
       "                        <td id=\"T_c324f6aa_9a36_11ea_b432_107b4493f33brow2_col4\" class=\"data row2 col4\" >0.0061</td>\n",
       "                        <td id=\"T_c324f6aa_9a36_11ea_b432_107b4493f33brow2_col5\" class=\"data row2 col5\" >1</td>\n",
       "                        <td id=\"T_c324f6aa_9a36_11ea_b432_107b4493f33brow2_col6\" class=\"data row2 col6\" >0.6109</td>\n",
       "            </tr>\n",
       "            <tr>\n",
       "                                <td id=\"T_c324f6aa_9a36_11ea_b432_107b4493f33brow3_col0\" class=\"data row3 col0\" >parb_sad-0</td>\n",
       "                        <td id=\"T_c324f6aa_9a36_11ea_b432_107b4493f33brow3_col1\" class=\"data row3 col1\" >2</td>\n",
       "                        <td id=\"T_c324f6aa_9a36_11ea_b432_107b4493f33brow3_col2\" class=\"data row3 col2\" >21,556</td>\n",
       "                        <td id=\"T_c324f6aa_9a36_11ea_b432_107b4493f33brow3_col3\" class=\"data row3 col3\" >203.199</td>\n",
       "                        <td id=\"T_c324f6aa_9a36_11ea_b432_107b4493f33brow3_col4\" class=\"data row3 col4\" >0.4558</td>\n",
       "                        <td id=\"T_c324f6aa_9a36_11ea_b432_107b4493f33brow3_col5\" class=\"data row3 col5\" >0.9099</td>\n",
       "                        <td id=\"T_c324f6aa_9a36_11ea_b432_107b4493f33brow3_col6\" class=\"data row3 col6\" >0.9849</td>\n",
       "            </tr>\n",
       "            <tr>\n",
       "                                <td id=\"T_c324f6aa_9a36_11ea_b432_107b4493f33brow4_col0\" class=\"data row4 col0\" >parb_sad-0</td>\n",
       "                        <td id=\"T_c324f6aa_9a36_11ea_b432_107b4493f33brow4_col1\" class=\"data row4 col1\" >3</td>\n",
       "                        <td id=\"T_c324f6aa_9a36_11ea_b432_107b4493f33brow4_col2\" class=\"data row4 col2\" >12,806</td>\n",
       "                        <td id=\"T_c324f6aa_9a36_11ea_b432_107b4493f33brow4_col3\" class=\"data row4 col3\" >89.9086</td>\n",
       "                        <td id=\"T_c324f6aa_9a36_11ea_b432_107b4493f33brow4_col4\" class=\"data row4 col4\" >0.1249</td>\n",
       "                        <td id=\"T_c324f6aa_9a36_11ea_b432_107b4493f33brow4_col5\" class=\"data row4 col5\" >0.9109</td>\n",
       "                        <td id=\"T_c324f6aa_9a36_11ea_b432_107b4493f33brow4_col6\" class=\"data row4 col6\" >0.9371</td>\n",
       "            </tr>\n",
       "            <tr>\n",
       "                                <td id=\"T_c324f6aa_9a36_11ea_b432_107b4493f33brow5_col0\" class=\"data row5 col0\" >parb_sad-1</td>\n",
       "                        <td id=\"T_c324f6aa_9a36_11ea_b432_107b4493f33brow5_col1\" class=\"data row5 col1\" >1</td>\n",
       "                        <td id=\"T_c324f6aa_9a36_11ea_b432_107b4493f33brow5_col2\" class=\"data row5 col2\" >3,000,706</td>\n",
       "                        <td id=\"T_c324f6aa_9a36_11ea_b432_107b4493f33brow5_col3\" class=\"data row5 col3\" >3754.08</td>\n",
       "                        <td id=\"T_c324f6aa_9a36_11ea_b432_107b4493f33brow5_col4\" class=\"data row5 col4\" >0.1736</td>\n",
       "                        <td id=\"T_c324f6aa_9a36_11ea_b432_107b4493f33brow5_col5\" class=\"data row5 col5\" >0.9999</td>\n",
       "                        <td id=\"T_c324f6aa_9a36_11ea_b432_107b4493f33brow5_col6\" class=\"data row5 col6\" >0.5524</td>\n",
       "            </tr>\n",
       "            <tr>\n",
       "                                <td id=\"T_c324f6aa_9a36_11ea_b432_107b4493f33brow6_col0\" class=\"data row6 col0\" >parb_sad-1</td>\n",
       "                        <td id=\"T_c324f6aa_9a36_11ea_b432_107b4493f33brow6_col1\" class=\"data row6 col1\" >2</td>\n",
       "                        <td id=\"T_c324f6aa_9a36_11ea_b432_107b4493f33brow6_col2\" class=\"data row6 col2\" >2,324,970</td>\n",
       "                        <td id=\"T_c324f6aa_9a36_11ea_b432_107b4493f33brow6_col3\" class=\"data row6 col3\" >153.001</td>\n",
       "                        <td id=\"T_c324f6aa_9a36_11ea_b432_107b4493f33brow6_col4\" class=\"data row6 col4\" >0.5645</td>\n",
       "                        <td id=\"T_c324f6aa_9a36_11ea_b432_107b4493f33brow6_col5\" class=\"data row6 col5\" >0.9121</td>\n",
       "                        <td id=\"T_c324f6aa_9a36_11ea_b432_107b4493f33brow6_col6\" class=\"data row6 col6\" >0.9998</td>\n",
       "            </tr>\n",
       "            <tr>\n",
       "                                <td id=\"T_c324f6aa_9a36_11ea_b432_107b4493f33brow7_col0\" class=\"data row7 col0\" >parb_sad-1</td>\n",
       "                        <td id=\"T_c324f6aa_9a36_11ea_b432_107b4493f33brow7_col1\" class=\"data row7 col1\" >3</td>\n",
       "                        <td id=\"T_c324f6aa_9a36_11ea_b432_107b4493f33brow7_col2\" class=\"data row7 col2\" >541,865</td>\n",
       "                        <td id=\"T_c324f6aa_9a36_11ea_b432_107b4493f33brow7_col3\" class=\"data row7 col3\" >172.562</td>\n",
       "                        <td id=\"T_c324f6aa_9a36_11ea_b432_107b4493f33brow7_col4\" class=\"data row7 col4\" >0.5842</td>\n",
       "                        <td id=\"T_c324f6aa_9a36_11ea_b432_107b4493f33brow7_col5\" class=\"data row7 col5\" >0.912</td>\n",
       "                        <td id=\"T_c324f6aa_9a36_11ea_b432_107b4493f33brow7_col6\" class=\"data row7 col6\" >0.9992</td>\n",
       "            </tr>\n",
       "    </tbody></table>"
      ],
      "text/plain": [
       "<pandas.io.formats.style.Styler at 0x7f100064a6d8>"
      ]
     },
     "execution_count": 10,
     "metadata": {},
     "output_type": "execute_result"
    }
   ],
   "source": [
    "col_seq = ['pair_str', '1_kidx', 'runtime',\n",
    "           'ipc',\n",
    "           'avg_dram_bw', \n",
    "           'l1D_miss_rate',\n",
    "           'l2_miss_rate',\n",
    "          ]\n",
    "\n",
    "draw_table(df_seq, col_seq).format({\n",
    "    'runtime': '{:,}',\n",
    "    'avg_dram_bw':'{:.4f}', \n",
    "    'sp_busy': '{:.2f}',\n",
    "    'dp_busy': '{:.2f}',\n",
    "    'int_busy': '{:.2f}',\n",
    "    'tensor_busy': '{:.2f}',\n",
    "    'sfu_busy': '{:.2f}',\n",
    "})"
   ]
  },
  {
   "cell_type": "code",
   "execution_count": null,
   "metadata": {},
   "outputs": [],
   "source": []
  },
  {
   "cell_type": "markdown",
   "metadata": {},
   "source": [
    "# Intra"
   ]
  },
  {
   "cell_type": "code",
   "execution_count": 11,
   "metadata": {
    "scrolled": false
   },
   "outputs": [],
   "source": [
    "gen_intra = os.path.join(SCRIPT_PATH, 'gen_tables/gen_table_intra.py')\n",
    "intra_file = os.path.join(CSV_PATH, 'intra-multi.csv')\n",
    "intra_pkl = os.path.join(PKL_PATH, 'intra-multi.pkl')\n",
    "\n",
    "%run $gen_intra --out_intra $intra_pkl --seq $seq_pkl --csv $intra_file\n",
    "\n",
    "df_intra = pd.read_pickle(intra_pkl)\n",
    "df_intra.sort_values(['pair_str', '1_kidx'], inplace=True)\n",
    "# col_intra = ['pair_str', '1_kidx', 'regs', 'thread_count', 'smem', 'intra']\n",
    "# draw_table(df_intra, col_intra)"
   ]
  },
  {
   "cell_type": "code",
   "execution_count": 12,
   "metadata": {},
   "outputs": [],
   "source": [
    "col_prod = ['pair_str_x', '1_kidx_x', 'pair_str_y', '1_kidx_y',\n",
    "            'norm_ipc_x', 'norm_ipc_y', 'diff_mflat', 'sum_ipc', \n",
    "            'intra_x', 'intra_y', \n",
    "           'sum_comp', 'sum_dram',]\n",
    "find_pair = os.path.join(SCRIPT_PATH, 'gen_tables/gen_pair_configs.py')\n",
    "pairs = df_seq.apply(lambda row: ':'.join([row['pair_str'], str(row['1_kidx'])]), axis=1)"
   ]
  },
  {
   "cell_type": "code",
   "execution_count": 13,
   "metadata": {},
   "outputs": [],
   "source": [
    "app1 = widgets.Dropdown(options=pairs, value=pairs[0], description='App 1:')\n",
    "app2 = widgets.Dropdown(options=pairs, value=pairs[1], description='App 2:')\n",
    "\n",
    "qos = widgets.FloatSlider(\n",
    "    value=0.75,\n",
    "    min=0.1,\n",
    "    max=0.95,\n",
    "    step=0.05,\n",
    "    description='QoS:',\n",
    "    readout_format='.2f',\n",
    ")\n",
    "\n",
    "button = widgets.Button(description='Calculate', button_style='info')\n",
    "\n",
    "def show_widgets():\n",
    "    display(app1)\n",
    "    display(app2)\n",
    "    display(qos)\n",
    "    display(button)\n",
    "    \n",
    "\n",
    "def onclick(b):\n",
    "    clear_output()\n",
    "    show_widgets()\n",
    "    %run $find_pair --app $app1.value $app2.value --qos $qos.value --intra_pkl $intra_pkl --top\n",
    "    \n",
    "    df_prod = pd.read_pickle(os.path.join(PKL_PATH, 'pair_candidates.pkl'))\n",
    "   \n",
    "    display(HTML(draw_table(df_prod, col_prod, False).render()))\n",
    "    \n",
    "    "
   ]
  },
  {
   "cell_type": "code",
   "execution_count": 14,
   "metadata": {},
   "outputs": [
    {
     "data": {
      "application/vnd.jupyter.widget-view+json": {
       "model_id": "230f3949760144eeb13980b3e8e538cd",
       "version_major": 2,
       "version_minor": 0
      },
      "text/plain": [
       "Dropdown(description='App 1:', index=6, options=('nvd_conv-0:1', 'nvd_conv-0:2', 'parb_sad-0:1', 'parb_sad-0:2…"
      ]
     },
     "metadata": {},
     "output_type": "display_data"
    },
    {
     "data": {
      "application/vnd.jupyter.widget-view+json": {
       "model_id": "cfc1d59828214280b054b3790fc71be1",
       "version_major": 2,
       "version_minor": 0
      },
      "text/plain": [
       "Dropdown(description='App 2:', index=7, options=('nvd_conv-0:1', 'nvd_conv-0:2', 'parb_sad-0:1', 'parb_sad-0:2…"
      ]
     },
     "metadata": {},
     "output_type": "display_data"
    },
    {
     "data": {
      "application/vnd.jupyter.widget-view+json": {
       "model_id": "dc78e55d51bc458f89a404211c59ad50",
       "version_major": 2,
       "version_minor": 0
      },
      "text/plain": [
       "FloatSlider(value=0.75, description='QoS:', max=0.95, min=0.1, step=0.05)"
      ]
     },
     "metadata": {},
     "output_type": "display_data"
    },
    {
     "data": {
      "application/vnd.jupyter.widget-view+json": {
       "model_id": "947f79ad89944ab697bcde15192f205f",
       "version_major": 2,
       "version_minor": 0
      },
      "text/plain": [
       "Button(button_style='info', description='Calculate', style=ButtonStyle())"
      ]
     },
     "metadata": {},
     "output_type": "display_data"
    }
   ],
   "source": [
    "show_widgets()\n",
    "button.on_click(onclick)"
   ]
  },
  {
   "cell_type": "code",
   "execution_count": null,
   "metadata": {},
   "outputs": [],
   "source": []
  },
  {
   "cell_type": "markdown",
   "metadata": {},
   "source": [
    "# CTX Ratio"
   ]
  },
  {
   "cell_type": "code",
   "execution_count": 15,
   "metadata": {},
   "outputs": [],
   "source": [
    "gen_pair = os.path.join(SCRIPT_PATH, 'gen_tables/gen_table_pair.py')\n",
    "ctx_csv = os.path.join(HOME, 'data/csv/ctx.csv')\n",
    "output = os.path.join(PKL_PATH, 'pair_ctx.pkl')\n"
   ]
  },
  {
   "cell_type": "code",
   "execution_count": 16,
   "metadata": {
    "scrolled": false
   },
   "outputs": [
    {
     "name": "stdout",
     "output_type": "stream",
     "text": [
      "Index(['pair_str', 'config', 'gpusim_version', 'jobId', 'stall_icnt_to_l2',\n",
      "       'stall_l2_to_icnt', 'stall_core_ldst', 'l1D_miss_rate', 'l2_miss_rate',\n",
      "       'l2_rshr_entry_fail', 'l2_rshr_merge_fail', 'l2_total_accesses',\n",
      "       'mem_count', 'empty_warp', 'stall_warp', 'idle_warp', 'scoreboard_warp',\n",
      "       'tot_warp_insn', 'runtime', 'instructions', 'l2_bw', 'avg_mem_lat',\n",
      "       'avg_core_to_l2', 'avg_l2_to_core', 'avg_mrq_latency', 'dram_eff',\n",
      "       'dram_bw', 'row_buffer_locality', 'mem_idle', 'total_cmd'],\n",
      "      dtype='object')\n"
     ]
    }
   ],
   "source": [
    "%run $gen_pair --csv $ctx_csv --output $output --seq_pkl $seq_pkl --qos 0.5 --multi --how ctx"
   ]
  },
  {
   "cell_type": "code",
   "execution_count": 17,
   "metadata": {},
   "outputs": [
    {
     "data": {
      "text/html": [
       "<style  type=\"text/css\" >\n",
       "    #T_cc9f372c_9a36_11ea_b432_107b4493f33b tr:nth-of-type(odd) {\n",
       "          background: #eee;\n",
       "    }    #T_cc9f372c_9a36_11ea_b432_107b4493f33b tr:nth-of-type(even) {\n",
       "          background: white;\n",
       "    }    #T_cc9f372c_9a36_11ea_b432_107b4493f33b th {\n",
       "          background: #606060;\n",
       "          color: white;\n",
       "          font-family: verdana;\n",
       "          font-size: 90%;\n",
       "    }    #T_cc9f372c_9a36_11ea_b432_107b4493f33b td {\n",
       "          font-family: verdana;\n",
       "          font-size: 90%;\n",
       "          font-weight: bold;\n",
       "    }    #T_cc9f372c_9a36_11ea_b432_107b4493f33b tr:hover {\n",
       "          background-color: #ffffcc;\n",
       "    }</style><table id=\"T_cc9f372c_9a36_11ea_b432_107b4493f33b\" ><thead>    <tr>        <th class=\"col_heading level0 col0\" >1_bench</th>        <th class=\"col_heading level0 col1\" >2_bench</th>        <th class=\"col_heading level0 col2\" >1_ctx</th>        <th class=\"col_heading level0 col3\" >2_ctx</th>        <th class=\"col_heading level0 col4\" >cta_quota</th>    </tr></thead><tbody>\n",
       "                <tr>\n",
       "                                <td id=\"T_cc9f372c_9a36_11ea_b432_107b4493f33brow0_col0\" class=\"data row0 col0\" >parb_sad-0</td>\n",
       "                        <td id=\"T_cc9f372c_9a36_11ea_b432_107b4493f33brow0_col1\" class=\"data row0 col1\" >nvd_conv-0</td>\n",
       "                        <td id=\"T_cc9f372c_9a36_11ea_b432_107b4493f33brow0_col2\" class=\"data row0 col2\" >0.5</td>\n",
       "                        <td id=\"T_cc9f372c_9a36_11ea_b432_107b4493f33brow0_col3\" class=\"data row0 col3\" >0.5</td>\n",
       "                        <td id=\"T_cc9f372c_9a36_11ea_b432_107b4493f33brow0_col4\" class=\"data row0 col4\" >[[], [8, 2, 2], [16, 8]]</td>\n",
       "            </tr>\n",
       "            <tr>\n",
       "                                <td id=\"T_cc9f372c_9a36_11ea_b432_107b4493f33brow1_col0\" class=\"data row1 col0\" >parb_sad-0</td>\n",
       "                        <td id=\"T_cc9f372c_9a36_11ea_b432_107b4493f33brow1_col1\" class=\"data row1 col1\" >nvd_conv-0</td>\n",
       "                        <td id=\"T_cc9f372c_9a36_11ea_b432_107b4493f33brow1_col2\" class=\"data row1 col2\" >0.25</td>\n",
       "                        <td id=\"T_cc9f372c_9a36_11ea_b432_107b4493f33brow1_col3\" class=\"data row1 col3\" >0.75</td>\n",
       "                        <td id=\"T_cc9f372c_9a36_11ea_b432_107b4493f33brow1_col4\" class=\"data row1 col4\" >[[], [4, 2, 2], [24, 12]]</td>\n",
       "            </tr>\n",
       "            <tr>\n",
       "                                <td id=\"T_cc9f372c_9a36_11ea_b432_107b4493f33brow2_col0\" class=\"data row2 col0\" >parb_sad-0</td>\n",
       "                        <td id=\"T_cc9f372c_9a36_11ea_b432_107b4493f33brow2_col1\" class=\"data row2 col1\" >nvd_conv-0</td>\n",
       "                        <td id=\"T_cc9f372c_9a36_11ea_b432_107b4493f33brow2_col2\" class=\"data row2 col2\" >0.75</td>\n",
       "                        <td id=\"T_cc9f372c_9a36_11ea_b432_107b4493f33brow2_col3\" class=\"data row2 col3\" >0.25</td>\n",
       "                        <td id=\"T_cc9f372c_9a36_11ea_b432_107b4493f33brow2_col4\" class=\"data row2 col4\" >[[], [12, 2, 2], [8, 4]]</td>\n",
       "            </tr>\n",
       "            <tr>\n",
       "                                <td id=\"T_cc9f372c_9a36_11ea_b432_107b4493f33brow3_col0\" class=\"data row3 col0\" >parb_sad-1</td>\n",
       "                        <td id=\"T_cc9f372c_9a36_11ea_b432_107b4493f33brow3_col1\" class=\"data row3 col1\" >nvd_conv-0</td>\n",
       "                        <td id=\"T_cc9f372c_9a36_11ea_b432_107b4493f33brow3_col2\" class=\"data row3 col2\" >0.5</td>\n",
       "                        <td id=\"T_cc9f372c_9a36_11ea_b432_107b4493f33brow3_col3\" class=\"data row3 col3\" >0.5</td>\n",
       "                        <td id=\"T_cc9f372c_9a36_11ea_b432_107b4493f33brow3_col4\" class=\"data row3 col4\" >[[], [8, 8, 16], [16, 8]]</td>\n",
       "            </tr>\n",
       "            <tr>\n",
       "                                <td id=\"T_cc9f372c_9a36_11ea_b432_107b4493f33brow4_col0\" class=\"data row4 col0\" >parb_sad-1</td>\n",
       "                        <td id=\"T_cc9f372c_9a36_11ea_b432_107b4493f33brow4_col1\" class=\"data row4 col1\" >nvd_conv-0</td>\n",
       "                        <td id=\"T_cc9f372c_9a36_11ea_b432_107b4493f33brow4_col2\" class=\"data row4 col2\" >0.25</td>\n",
       "                        <td id=\"T_cc9f372c_9a36_11ea_b432_107b4493f33brow4_col3\" class=\"data row4 col3\" >0.75</td>\n",
       "                        <td id=\"T_cc9f372c_9a36_11ea_b432_107b4493f33brow4_col4\" class=\"data row4 col4\" >[[], [4, 4, 8], [24, 12]]</td>\n",
       "            </tr>\n",
       "            <tr>\n",
       "                                <td id=\"T_cc9f372c_9a36_11ea_b432_107b4493f33brow5_col0\" class=\"data row5 col0\" >parb_sad-1</td>\n",
       "                        <td id=\"T_cc9f372c_9a36_11ea_b432_107b4493f33brow5_col1\" class=\"data row5 col1\" >nvd_conv-0</td>\n",
       "                        <td id=\"T_cc9f372c_9a36_11ea_b432_107b4493f33brow5_col2\" class=\"data row5 col2\" >0.75</td>\n",
       "                        <td id=\"T_cc9f372c_9a36_11ea_b432_107b4493f33brow5_col3\" class=\"data row5 col3\" >0.25</td>\n",
       "                        <td id=\"T_cc9f372c_9a36_11ea_b432_107b4493f33brow5_col4\" class=\"data row5 col4\" >[[], [12, 12, 24], [8, 4]]</td>\n",
       "            </tr>\n",
       "    </tbody></table>"
      ],
      "text/plain": [
       "<pandas.io.formats.style.Styler at 0x7f100064d390>"
      ]
     },
     "execution_count": 17,
     "metadata": {},
     "output_type": "execute_result"
    }
   ],
   "source": [
    "df_ctx= pd.read_pickle(output)\n",
    "uniq_pairs = df_ctx[['1_bench', '2_bench']].drop_duplicates().values\n",
    "uniq_pairs = ['+'.join(x) for x in uniq_pairs]\n",
    "\n",
    "col_ctx = ['1_bench', '2_bench', '1_ctx', '2_ctx', \n",
    "           'cta_quota',\n",
    "#            'runtime', 'norm_runtime'\n",
    "          ]\n",
    "draw_table(df_ctx, col_ctx)"
   ]
  },
  {
   "cell_type": "code",
   "execution_count": 18,
   "metadata": {
    "scrolled": false
   },
   "outputs": [
    {
     "data": {
      "application/vnd.jupyter.widget-view+json": {
       "model_id": "760424dfb7864d4eabb22d845728f31d",
       "version_major": 2,
       "version_minor": 0
      },
      "text/plain": [
       "Dropdown(description='Pair:', options=('parb_sad-0+nvd_conv-0', 'parb_sad-1+nvd_conv-0'), value='parb_sad-0+nv…"
      ]
     },
     "metadata": {},
     "output_type": "display_data"
    },
    {
     "data": {
      "application/vnd.jupyter.widget-view+json": {
       "model_id": "4c638de765814df2858bbf878dbb9ad3",
       "version_major": 2,
       "version_minor": 0
      },
      "text/plain": [
       "Button(button_style='info', description='Display', style=ButtonStyle())"
      ]
     },
     "metadata": {},
     "output_type": "display_data"
    }
   ],
   "source": [
    "ctx_dd = widgets.Dropdown(options=uniq_pairs, value=uniq_pairs[0], description='Pair:')\n",
    "\n",
    "ctx_btn = widgets.Button(description='Display', button_style='info')\n",
    "\n",
    "def show_widgets():\n",
    "    display(ctx_dd)\n",
    "    display(ctx_btn)\n",
    "    \n",
    "\n",
    "def ctx_onclick(b):\n",
    "    clear_output()\n",
    "    show_widgets()\n",
    "    \n",
    "    apps = ctx_dd.value.split('+')\n",
    "    df_apps = df_ctx[(df_ctx['1_bench'] == apps[0]) & (df_ctx['2_bench'] == apps[1])]\n",
    "    df_apps = df_apps.sort_values('1_ctx')\n",
    "    for rid, row in df_apps.iterrows():\n",
    "        gen_altair.draw_altair_timeline(row, col_title='1_ctx').display()  \n",
    "        # Print ctas/SM for each kernel in each app\n",
    "        print(row['1_bench'], ':', row['cta_quota'][1], 'CTAs/SM')\n",
    "        print(row['2_bench'], ':', row['cta_quota'][2], 'CTAs/SM')\n",
    "        \n",
    "#         print(row['norm_ipc'])\n",
    "#         print(row['baseline'])\n",
    "#         print(row['runtime'])\n",
    "        print('slowdown:', row['sld'])\n",
    "        print('weighted speedup:', row['ws'])\n",
    "        print('-' * 100)\n",
    "\n",
    "show_widgets()\n",
    "ctx_btn.on_click(ctx_onclick)\n",
    " "
   ]
  },
  {
   "cell_type": "code",
   "execution_count": null,
   "metadata": {},
   "outputs": [],
   "source": []
  },
  {
   "cell_type": "markdown",
   "metadata": {},
   "source": [
    "# Pair-Dynamic"
   ]
  },
  {
   "cell_type": "code",
   "execution_count": 55,
   "metadata": {},
   "outputs": [
    {
     "name": "stdout",
     "output_type": "stream",
     "text": [
      "Index(['pair_str', 'config', 'gpusim_version', 'jobId', 'stall_icnt_to_l2',\n",
      "       'stall_l2_to_icnt', 'stall_core_ldst', 'l1D_miss_rate', 'l2_miss_rate',\n",
      "       'l2_rshr_entry_fail', 'l2_rshr_merge_fail', 'l2_total_accesses',\n",
      "       'mem_count', 'empty_warp', 'stall_warp', 'idle_warp', 'scoreboard_warp',\n",
      "       'tot_warp_insn', 'runtime', 'instructions', 'l2_bw', 'avg_mem_lat',\n",
      "       'avg_core_to_l2', 'avg_l2_to_core', 'avg_mrq_latency', 'dram_eff',\n",
      "       'dram_bw', 'row_buffer_locality', 'mem_idle', 'total_cmd'],\n",
      "      dtype='object')\n"
     ]
    }
   ],
   "source": [
    "dynamic_csv = os.path.join(CSV_PATH, 'pair_dynamic_multi.csv')\n",
    "dynamic_output = os.path.join(PKL_PATH, 'pair_dynamic_multi.pkl')\n",
    "%run $gen_pair --csv $dynamic_csv --output $dynamic_output --seq_pkl $seq_pkl --qos 0.5 --how dynamic --multi --isolated_pkl $intra_pkl"
   ]
  },
  {
   "cell_type": "code",
   "execution_count": 56,
   "metadata": {},
   "outputs": [],
   "source": [
    "df_dynamic = pd.read_pickle(dynamic_output)\n",
    "col_dynamic = ['1_bench', '1_kidx', '1_intra', '2_bench', '2_kidx', '2_intra', 'sld', 'ws']\n",
    "\n",
    "df_dynamic_show = df_dynamic[(df_dynamic['1_bench'] == 'parb_sad-0') & (df_dynamic['1_kidx'] == 1)]\n",
    "# df_dynamic_show[col_dynamic]"
   ]
  },
  {
   "cell_type": "code",
   "execution_count": 57,
   "metadata": {},
   "outputs": [
    {
     "data": {
      "text/html": [
       "<style  type=\"text/css\" >\n",
       "    #T_3c4b2dd2_9b8c_11ea_b432_107b4493f33b tr:nth-of-type(odd) {\n",
       "          background: #eee;\n",
       "    }    #T_3c4b2dd2_9b8c_11ea_b432_107b4493f33b tr:nth-of-type(even) {\n",
       "          background: white;\n",
       "    }    #T_3c4b2dd2_9b8c_11ea_b432_107b4493f33b th {\n",
       "          background: #606060;\n",
       "          color: white;\n",
       "          font-family: verdana;\n",
       "          font-size: 90%;\n",
       "    }    #T_3c4b2dd2_9b8c_11ea_b432_107b4493f33b td {\n",
       "          font-family: verdana;\n",
       "          font-size: 90%;\n",
       "          font-weight: bold;\n",
       "    }    #T_3c4b2dd2_9b8c_11ea_b432_107b4493f33b tr:hover {\n",
       "          background-color: #ffffcc;\n",
       "    }</style><table id=\"T_3c4b2dd2_9b8c_11ea_b432_107b4493f33b\" ><thead>    <tr>        <th class=\"col_heading level0 col0\" >1_bench</th>        <th class=\"col_heading level0 col1\" >1_kidx</th>        <th class=\"col_heading level0 col2\" >1_intra</th>        <th class=\"col_heading level0 col3\" >2_bench</th>        <th class=\"col_heading level0 col4\" >2_kidx</th>        <th class=\"col_heading level0 col5\" >2_intra</th>        <th class=\"col_heading level0 col6\" >sld</th>        <th class=\"col_heading level0 col7\" >ws</th>    </tr></thead><tbody>\n",
       "                <tr>\n",
       "                                <td id=\"T_3c4b2dd2_9b8c_11ea_b432_107b4493f33brow0_col0\" class=\"data row0 col0\" >parb_sad-0</td>\n",
       "                        <td id=\"T_3c4b2dd2_9b8c_11ea_b432_107b4493f33brow0_col1\" class=\"data row0 col1\" >1</td>\n",
       "                        <td id=\"T_3c4b2dd2_9b8c_11ea_b432_107b4493f33brow0_col2\" class=\"data row0 col2\" >12</td>\n",
       "                        <td id=\"T_3c4b2dd2_9b8c_11ea_b432_107b4493f33brow0_col3\" class=\"data row0 col3\" >nvd_conv-0</td>\n",
       "                        <td id=\"T_3c4b2dd2_9b8c_11ea_b432_107b4493f33brow0_col4\" class=\"data row0 col4\" >2</td>\n",
       "                        <td id=\"T_3c4b2dd2_9b8c_11ea_b432_107b4493f33brow0_col5\" class=\"data row0 col5\" >4</td>\n",
       "                        <td id=\"T_3c4b2dd2_9b8c_11ea_b432_107b4493f33brow0_col6\" class=\"data row0 col6\" >[0, 0.8894113999276523, 0.8435239627358891]</td>\n",
       "                        <td id=\"T_3c4b2dd2_9b8c_11ea_b432_107b4493f33brow0_col7\" class=\"data row0 col7\" >1.73294</td>\n",
       "            </tr>\n",
       "            <tr>\n",
       "                                <td id=\"T_3c4b2dd2_9b8c_11ea_b432_107b4493f33brow1_col0\" class=\"data row1 col0\" >parb_sad-0</td>\n",
       "                        <td id=\"T_3c4b2dd2_9b8c_11ea_b432_107b4493f33brow1_col1\" class=\"data row1 col1\" >1</td>\n",
       "                        <td id=\"T_3c4b2dd2_9b8c_11ea_b432_107b4493f33brow1_col2\" class=\"data row1 col2\" >12</td>\n",
       "                        <td id=\"T_3c4b2dd2_9b8c_11ea_b432_107b4493f33brow1_col3\" class=\"data row1 col3\" >nvd_conv-0</td>\n",
       "                        <td id=\"T_3c4b2dd2_9b8c_11ea_b432_107b4493f33brow1_col4\" class=\"data row1 col4\" >1</td>\n",
       "                        <td id=\"T_3c4b2dd2_9b8c_11ea_b432_107b4493f33brow1_col5\" class=\"data row1 col5\" >4</td>\n",
       "                        <td id=\"T_3c4b2dd2_9b8c_11ea_b432_107b4493f33brow1_col6\" class=\"data row1 col6\" >[0, 0.9027221707432208, 0.7646014428716037]</td>\n",
       "                        <td id=\"T_3c4b2dd2_9b8c_11ea_b432_107b4493f33brow1_col7\" class=\"data row1 col7\" >1.66732</td>\n",
       "            </tr>\n",
       "            <tr>\n",
       "                                <td id=\"T_3c4b2dd2_9b8c_11ea_b432_107b4493f33brow2_col0\" class=\"data row2 col0\" >parb_sad-0</td>\n",
       "                        <td id=\"T_3c4b2dd2_9b8c_11ea_b432_107b4493f33brow2_col1\" class=\"data row2 col1\" >3</td>\n",
       "                        <td id=\"T_3c4b2dd2_9b8c_11ea_b432_107b4493f33brow2_col2\" class=\"data row2 col2\" >2</td>\n",
       "                        <td id=\"T_3c4b2dd2_9b8c_11ea_b432_107b4493f33brow2_col3\" class=\"data row2 col3\" >nvd_conv-0</td>\n",
       "                        <td id=\"T_3c4b2dd2_9b8c_11ea_b432_107b4493f33brow2_col4\" class=\"data row2 col4\" >2</td>\n",
       "                        <td id=\"T_3c4b2dd2_9b8c_11ea_b432_107b4493f33brow2_col5\" class=\"data row2 col5\" >4</td>\n",
       "                        <td id=\"T_3c4b2dd2_9b8c_11ea_b432_107b4493f33brow2_col6\" class=\"data row2 col6\" >[0, 0.7614460696872398, 0.8881512422187995]</td>\n",
       "                        <td id=\"T_3c4b2dd2_9b8c_11ea_b432_107b4493f33brow2_col7\" class=\"data row2 col7\" >1.6496</td>\n",
       "            </tr>\n",
       "            <tr>\n",
       "                                <td id=\"T_3c4b2dd2_9b8c_11ea_b432_107b4493f33brow3_col0\" class=\"data row3 col0\" >parb_sad-0</td>\n",
       "                        <td id=\"T_3c4b2dd2_9b8c_11ea_b432_107b4493f33brow3_col1\" class=\"data row3 col1\" >3</td>\n",
       "                        <td id=\"T_3c4b2dd2_9b8c_11ea_b432_107b4493f33brow3_col2\" class=\"data row3 col2\" >2</td>\n",
       "                        <td id=\"T_3c4b2dd2_9b8c_11ea_b432_107b4493f33brow3_col3\" class=\"data row3 col3\" >nvd_conv-0</td>\n",
       "                        <td id=\"T_3c4b2dd2_9b8c_11ea_b432_107b4493f33brow3_col4\" class=\"data row3 col4\" >1</td>\n",
       "                        <td id=\"T_3c4b2dd2_9b8c_11ea_b432_107b4493f33brow3_col5\" class=\"data row3 col5\" >4</td>\n",
       "                        <td id=\"T_3c4b2dd2_9b8c_11ea_b432_107b4493f33brow3_col6\" class=\"data row3 col6\" >[0, 0.7966903073286052, 0.852728250156796]</td>\n",
       "                        <td id=\"T_3c4b2dd2_9b8c_11ea_b432_107b4493f33brow3_col7\" class=\"data row3 col7\" >1.64942</td>\n",
       "            </tr>\n",
       "            <tr>\n",
       "                                <td id=\"T_3c4b2dd2_9b8c_11ea_b432_107b4493f33brow4_col0\" class=\"data row4 col0\" >parb_sad-1</td>\n",
       "                        <td id=\"T_3c4b2dd2_9b8c_11ea_b432_107b4493f33brow4_col1\" class=\"data row4 col1\" >1</td>\n",
       "                        <td id=\"T_3c4b2dd2_9b8c_11ea_b432_107b4493f33brow4_col2\" class=\"data row4 col2\" >8</td>\n",
       "                        <td id=\"T_3c4b2dd2_9b8c_11ea_b432_107b4493f33brow4_col3\" class=\"data row4 col3\" >nvd_conv-0</td>\n",
       "                        <td id=\"T_3c4b2dd2_9b8c_11ea_b432_107b4493f33brow4_col4\" class=\"data row4 col4\" >2</td>\n",
       "                        <td id=\"T_3c4b2dd2_9b8c_11ea_b432_107b4493f33brow4_col5\" class=\"data row4 col5\" >6</td>\n",
       "                        <td id=\"T_3c4b2dd2_9b8c_11ea_b432_107b4493f33brow4_col6\" class=\"data row4 col6\" >[0, 0.7375398607950677, 0.9098832507944279]</td>\n",
       "                        <td id=\"T_3c4b2dd2_9b8c_11ea_b432_107b4493f33brow4_col7\" class=\"data row4 col7\" >1.64742</td>\n",
       "            </tr>\n",
       "            <tr>\n",
       "                                <td id=\"T_3c4b2dd2_9b8c_11ea_b432_107b4493f33brow5_col0\" class=\"data row5 col0\" >parb_sad-1</td>\n",
       "                        <td id=\"T_3c4b2dd2_9b8c_11ea_b432_107b4493f33brow5_col1\" class=\"data row5 col1\" >1</td>\n",
       "                        <td id=\"T_3c4b2dd2_9b8c_11ea_b432_107b4493f33brow5_col2\" class=\"data row5 col2\" >8</td>\n",
       "                        <td id=\"T_3c4b2dd2_9b8c_11ea_b432_107b4493f33brow5_col3\" class=\"data row5 col3\" >nvd_conv-0</td>\n",
       "                        <td id=\"T_3c4b2dd2_9b8c_11ea_b432_107b4493f33brow5_col4\" class=\"data row5 col4\" >1</td>\n",
       "                        <td id=\"T_3c4b2dd2_9b8c_11ea_b432_107b4493f33brow5_col5\" class=\"data row5 col5\" >4</td>\n",
       "                        <td id=\"T_3c4b2dd2_9b8c_11ea_b432_107b4493f33brow5_col6\" class=\"data row5 col6\" >[0, 0.79483573683671, 0.7568429423459244]</td>\n",
       "                        <td id=\"T_3c4b2dd2_9b8c_11ea_b432_107b4493f33brow5_col7\" class=\"data row5 col7\" >1.55168</td>\n",
       "            </tr>\n",
       "            <tr>\n",
       "                                <td id=\"T_3c4b2dd2_9b8c_11ea_b432_107b4493f33brow6_col0\" class=\"data row6 col0\" >parb_sad-1</td>\n",
       "                        <td id=\"T_3c4b2dd2_9b8c_11ea_b432_107b4493f33brow6_col1\" class=\"data row6 col1\" >2</td>\n",
       "                        <td id=\"T_3c4b2dd2_9b8c_11ea_b432_107b4493f33brow6_col2\" class=\"data row6 col2\" >2</td>\n",
       "                        <td id=\"T_3c4b2dd2_9b8c_11ea_b432_107b4493f33brow6_col3\" class=\"data row6 col3\" >nvd_conv-0</td>\n",
       "                        <td id=\"T_3c4b2dd2_9b8c_11ea_b432_107b4493f33brow6_col4\" class=\"data row6 col4\" >1</td>\n",
       "                        <td id=\"T_3c4b2dd2_9b8c_11ea_b432_107b4493f33brow6_col5\" class=\"data row6 col5\" >4</td>\n",
       "                        <td id=\"T_3c4b2dd2_9b8c_11ea_b432_107b4493f33brow6_col6\" class=\"data row6 col6\" >[0, 0.779599250636178, 0.4695854683248263]</td>\n",
       "                        <td id=\"T_3c4b2dd2_9b8c_11ea_b432_107b4493f33brow6_col7\" class=\"data row6 col7\" >1.24918</td>\n",
       "            </tr>\n",
       "            <tr>\n",
       "                                <td id=\"T_3c4b2dd2_9b8c_11ea_b432_107b4493f33brow7_col0\" class=\"data row7 col0\" >parb_sad-0</td>\n",
       "                        <td id=\"T_3c4b2dd2_9b8c_11ea_b432_107b4493f33brow7_col1\" class=\"data row7 col1\" >2</td>\n",
       "                        <td id=\"T_3c4b2dd2_9b8c_11ea_b432_107b4493f33brow7_col2\" class=\"data row7 col2\" >2</td>\n",
       "                        <td id=\"T_3c4b2dd2_9b8c_11ea_b432_107b4493f33brow7_col3\" class=\"data row7 col3\" >nvd_conv-0</td>\n",
       "                        <td id=\"T_3c4b2dd2_9b8c_11ea_b432_107b4493f33brow7_col4\" class=\"data row7 col4\" >1</td>\n",
       "                        <td id=\"T_3c4b2dd2_9b8c_11ea_b432_107b4493f33brow7_col5\" class=\"data row7 col5\" >4</td>\n",
       "                        <td id=\"T_3c4b2dd2_9b8c_11ea_b432_107b4493f33brow7_col6\" class=\"data row7 col6\" >[0, 0.6817851156023658, 0.5533555242234399]</td>\n",
       "                        <td id=\"T_3c4b2dd2_9b8c_11ea_b432_107b4493f33brow7_col7\" class=\"data row7 col7\" >1.23514</td>\n",
       "            </tr>\n",
       "            <tr>\n",
       "                                <td id=\"T_3c4b2dd2_9b8c_11ea_b432_107b4493f33brow8_col0\" class=\"data row8 col0\" >parb_sad-1</td>\n",
       "                        <td id=\"T_3c4b2dd2_9b8c_11ea_b432_107b4493f33brow8_col1\" class=\"data row8 col1\" >3</td>\n",
       "                        <td id=\"T_3c4b2dd2_9b8c_11ea_b432_107b4493f33brow8_col2\" class=\"data row8 col2\" >4</td>\n",
       "                        <td id=\"T_3c4b2dd2_9b8c_11ea_b432_107b4493f33brow8_col3\" class=\"data row8 col3\" >nvd_conv-0</td>\n",
       "                        <td id=\"T_3c4b2dd2_9b8c_11ea_b432_107b4493f33brow8_col4\" class=\"data row8 col4\" >1</td>\n",
       "                        <td id=\"T_3c4b2dd2_9b8c_11ea_b432_107b4493f33brow8_col5\" class=\"data row8 col5\" >4</td>\n",
       "                        <td id=\"T_3c4b2dd2_9b8c_11ea_b432_107b4493f33brow8_col6\" class=\"data row8 col6\" >[0, 0.6669337527939424, 0.5525940677990704]</td>\n",
       "                        <td id=\"T_3c4b2dd2_9b8c_11ea_b432_107b4493f33brow8_col7\" class=\"data row8 col7\" >1.21953</td>\n",
       "            </tr>\n",
       "            <tr>\n",
       "                                <td id=\"T_3c4b2dd2_9b8c_11ea_b432_107b4493f33brow9_col0\" class=\"data row9 col0\" >parb_sad-1</td>\n",
       "                        <td id=\"T_3c4b2dd2_9b8c_11ea_b432_107b4493f33brow9_col1\" class=\"data row9 col1\" >2</td>\n",
       "                        <td id=\"T_3c4b2dd2_9b8c_11ea_b432_107b4493f33brow9_col2\" class=\"data row9 col2\" >2</td>\n",
       "                        <td id=\"T_3c4b2dd2_9b8c_11ea_b432_107b4493f33brow9_col3\" class=\"data row9 col3\" >nvd_conv-0</td>\n",
       "                        <td id=\"T_3c4b2dd2_9b8c_11ea_b432_107b4493f33brow9_col4\" class=\"data row9 col4\" >2</td>\n",
       "                        <td id=\"T_3c4b2dd2_9b8c_11ea_b432_107b4493f33brow9_col5\" class=\"data row9 col5\" >6</td>\n",
       "                        <td id=\"T_3c4b2dd2_9b8c_11ea_b432_107b4493f33brow9_col6\" class=\"data row9 col6\" >[0, 0.7195732643359414, 0.48259170132561796]</td>\n",
       "                        <td id=\"T_3c4b2dd2_9b8c_11ea_b432_107b4493f33brow9_col7\" class=\"data row9 col7\" >1.20216</td>\n",
       "            </tr>\n",
       "            <tr>\n",
       "                                <td id=\"T_3c4b2dd2_9b8c_11ea_b432_107b4493f33brow10_col0\" class=\"data row10 col0\" >parb_sad-1</td>\n",
       "                        <td id=\"T_3c4b2dd2_9b8c_11ea_b432_107b4493f33brow10_col1\" class=\"data row10 col1\" >3</td>\n",
       "                        <td id=\"T_3c4b2dd2_9b8c_11ea_b432_107b4493f33brow10_col2\" class=\"data row10 col2\" >4</td>\n",
       "                        <td id=\"T_3c4b2dd2_9b8c_11ea_b432_107b4493f33brow10_col3\" class=\"data row10 col3\" >nvd_conv-0</td>\n",
       "                        <td id=\"T_3c4b2dd2_9b8c_11ea_b432_107b4493f33brow10_col4\" class=\"data row10 col4\" >2</td>\n",
       "                        <td id=\"T_3c4b2dd2_9b8c_11ea_b432_107b4493f33brow10_col5\" class=\"data row10 col5\" >4</td>\n",
       "                        <td id=\"T_3c4b2dd2_9b8c_11ea_b432_107b4493f33brow10_col6\" class=\"data row10 col6\" >[0, 0.696157972159591, 0.5009939783683351]</td>\n",
       "                        <td id=\"T_3c4b2dd2_9b8c_11ea_b432_107b4493f33brow10_col7\" class=\"data row10 col7\" >1.19715</td>\n",
       "            </tr>\n",
       "            <tr>\n",
       "                                <td id=\"T_3c4b2dd2_9b8c_11ea_b432_107b4493f33brow11_col0\" class=\"data row11 col0\" >parb_sad-0</td>\n",
       "                        <td id=\"T_3c4b2dd2_9b8c_11ea_b432_107b4493f33brow11_col1\" class=\"data row11 col1\" >2</td>\n",
       "                        <td id=\"T_3c4b2dd2_9b8c_11ea_b432_107b4493f33brow11_col2\" class=\"data row11 col2\" >2</td>\n",
       "                        <td id=\"T_3c4b2dd2_9b8c_11ea_b432_107b4493f33brow11_col3\" class=\"data row11 col3\" >nvd_conv-0</td>\n",
       "                        <td id=\"T_3c4b2dd2_9b8c_11ea_b432_107b4493f33brow11_col4\" class=\"data row11 col4\" >2</td>\n",
       "                        <td id=\"T_3c4b2dd2_9b8c_11ea_b432_107b4493f33brow11_col5\" class=\"data row11 col5\" >4</td>\n",
       "                        <td id=\"T_3c4b2dd2_9b8c_11ea_b432_107b4493f33brow11_col6\" class=\"data row11 col6\" >[0, 0.7007574526185755, 0.4925734432862839]</td>\n",
       "                        <td id=\"T_3c4b2dd2_9b8c_11ea_b432_107b4493f33brow11_col7\" class=\"data row11 col7\" >1.19333</td>\n",
       "            </tr>\n",
       "    </tbody></table>"
      ],
      "text/plain": [
       "<pandas.io.formats.style.Styler at 0x7f100065beb8>"
      ]
     },
     "execution_count": 57,
     "metadata": {},
     "output_type": "execute_result"
    }
   ],
   "source": [
    "df_best = df_dynamic.sort_values('ws', ascending=False).drop_duplicates(['1_bench', '1_kidx', '2_bench', '2_kidx'])\n",
    "\n",
    "draw_table(df_best, col_dynamic)\n"
   ]
  },
  {
   "cell_type": "code",
   "execution_count": 58,
   "metadata": {},
   "outputs": [],
   "source": [
    "df_best.set_index(['1_bench', '1_kidx', '2_bench', '2_kidx'], inplace=True)"
   ]
  },
  {
   "cell_type": "code",
   "execution_count": 59,
   "metadata": {},
   "outputs": [],
   "source": [
    "df_seq_index = df_seq.set_index(['pair_str', '1_kidx'])"
   ]
  },
  {
   "cell_type": "code",
   "execution_count": 60,
   "metadata": {
    "scrolled": false
   },
   "outputs": [
    {
     "data": {
      "application/vnd.jupyter.widget-view+json": {
       "model_id": "8c44be44ef63447092a6b215b62bde47",
       "version_major": 2,
       "version_minor": 0
      },
      "text/plain": [
       "Dropdown(description='Pair:', index=1, options=('parb_sad-0+nvd_conv-0', 'parb_sad-1+nvd_conv-0'), value='parb…"
      ]
     },
     "metadata": {},
     "output_type": "display_data"
    },
    {
     "data": {
      "application/vnd.jupyter.widget-view+json": {
       "model_id": "87dd50ab5afc4af69f44d5f98ebdb36a",
       "version_major": 2,
       "version_minor": 0
      },
      "text/plain": [
       "Button(button_style='info', description='Best', style=ButtonStyle())"
      ]
     },
     "metadata": {},
     "output_type": "display_data"
    },
    {
     "name": "stdout",
     "output_type": "stream",
     "text": [
      "parb_sad-1 configs:\n",
      "              parb_sad-1:1  parb_sad-1:2  parb_sad-1:3\n",
      "nvd_conv-0:1             8             2             4\n",
      "nvd_conv-0:2             8             2             4\n",
      "--------------------------------------------------\n",
      "nvd_conv-0 configs:\n",
      "              parb_sad-1:1  parb_sad-1:2  parb_sad-1:3\n",
      "nvd_conv-0:1             4             4             4\n",
      "nvd_conv-0:2             6             6             4\n",
      "--------------------------------------------------\n",
      "parb_sad-1 slowdown:\n",
      "              parb_sad-1:1  parb_sad-1:2  parb_sad-1:3\n",
      "nvd_conv-0:1      0.794836      0.779599      0.666934\n",
      "nvd_conv-0:2      0.737540      0.719573      0.696158\n",
      "--------------------------------------------------\n",
      "nvd_conv-0 slowdown:\n",
      "              parb_sad-1:1  parb_sad-1:2  parb_sad-1:3\n",
      "nvd_conv-0:1      0.756843      0.469585      0.552594\n",
      "nvd_conv-0:2      0.909883      0.482592      0.500994\n",
      "--------------------------------------------------\n",
      "\n",
      "\n",
      "Predicted runtime: [[3907186, 3104515, 792825], [251500, 228781, 251500, 228781, 251500, 228781, 251500, 228781, 251500, 228781, 251500, 228781, 251500, 228781, 251500, 228781, 365624, 431346, 405349, 431346, 405349, 431346, 405349, 426291, 344459, 365759]]\n",
      "=================================== Full Simulation QoS Info ===================================\n",
      "App0 has 3 kernels, App1 has 2 kernels\n",
      "Actual calculated QOS losses are [0.7518126020721823, 0.6693664609627213]\n",
      "Predicted weighted speedup: 1.4211790630349035\n"
     ]
    },
    {
     "data": {
      "text/html": [
       "\n",
       "<div id=\"altair-viz-e48a5e5739ea4eeebebc1142b9369d83\"></div>\n",
       "<script type=\"text/javascript\">\n",
       "  (function(spec, embedOpt){\n",
       "    let outputDiv = document.currentScript.previousElementSibling;\n",
       "    if (outputDiv.id !== \"altair-viz-e48a5e5739ea4eeebebc1142b9369d83\") {\n",
       "      outputDiv = document.getElementById(\"altair-viz-e48a5e5739ea4eeebebc1142b9369d83\");\n",
       "    }\n",
       "    const paths = {\n",
       "      \"vega\": \"https://cdn.jsdelivr.net/npm//vega@5?noext\",\n",
       "      \"vega-lib\": \"https://cdn.jsdelivr.net/npm//vega-lib?noext\",\n",
       "      \"vega-lite\": \"https://cdn.jsdelivr.net/npm//vega-lite@4.8.1?noext\",\n",
       "      \"vega-embed\": \"https://cdn.jsdelivr.net/npm//vega-embed@6?noext\",\n",
       "    };\n",
       "\n",
       "    function loadScript(lib) {\n",
       "      return new Promise(function(resolve, reject) {\n",
       "        var s = document.createElement('script');\n",
       "        s.src = paths[lib];\n",
       "        s.async = true;\n",
       "        s.onload = () => resolve(paths[lib]);\n",
       "        s.onerror = () => reject(`Error loading script: ${paths[lib]}`);\n",
       "        document.getElementsByTagName(\"head\")[0].appendChild(s);\n",
       "      });\n",
       "    }\n",
       "\n",
       "    function showError(err) {\n",
       "      outputDiv.innerHTML = `<div class=\"error\" style=\"color:red;\">${err}</div>`;\n",
       "      throw err;\n",
       "    }\n",
       "\n",
       "    function displayChart(vegaEmbed) {\n",
       "      vegaEmbed(outputDiv, spec, embedOpt)\n",
       "        .catch(err => showError(`Javascript Error: ${err.message}<br>This usually means there's a typo in your chart specification. See the javascript console for the full traceback.`));\n",
       "    }\n",
       "\n",
       "    if(typeof define === \"function\" && define.amd) {\n",
       "      requirejs.config({paths});\n",
       "      require([\"vega-embed\"], displayChart, err => showError(`Error loading script: ${err.message}`));\n",
       "    } else if (typeof vegaEmbed === \"function\") {\n",
       "      displayChart(vegaEmbed);\n",
       "    } else {\n",
       "      loadScript(\"vega\")\n",
       "        .then(() => loadScript(\"vega-lite\"))\n",
       "        .then(() => loadScript(\"vega-embed\"))\n",
       "        .catch(showError)\n",
       "        .then(() => displayChart(vegaEmbed));\n",
       "    }\n",
       "  })({\"config\": {\"view\": {\"continuousWidth\": 400, \"continuousHeight\": 300}, \"axis\": {\"grid\": false}, \"header\": {\"titleColor\": \"black\", \"titleFontSize\": 14}}, \"layer\": [{\"mark\": \"bar\", \"encoding\": {\"color\": {\"type\": \"nominal\", \"field\": \"kernel\", \"legend\": null, \"scale\": {\"scheme\": \"pastel1\"}}, \"x\": {\"type\": \"quantitative\", \"field\": \"start\", \"title\": \"Cycles\"}, \"x2\": {\"field\": \"end\"}, \"y\": {\"type\": \"nominal\", \"field\": \"stream\", \"sort\": null}}, \"height\": 100, \"title\": \"Prediction\", \"width\": 900}, {\"mark\": {\"type\": \"text\", \"align\": \"center\", \"angle\": 90, \"baseline\": \"middle\", \"color\": \"black\", \"fontSize\": 12}, \"encoding\": {\"text\": {\"type\": \"quantitative\", \"field\": \"norm\"}, \"x\": {\"type\": \"quantitative\", \"field\": \"position\"}, \"y\": {\"type\": \"nominal\", \"field\": \"stream\", \"sort\": null, \"title\": null}}}], \"data\": {\"name\": \"data-61f199707f0a6bc6d58018f8e4cd5143\"}, \"$schema\": \"https://vega.github.io/schema/vega-lite/v4.8.1.json\", \"datasets\": {\"data-61f199707f0a6bc6d58018f8e4cd5143\": [{\"start\": 0, \"end\": 3907186, \"stream\": \"1: parb_sad-1\", \"kernel\": \"1:1\", \"position\": 1953593.0, \"norm\": 0.77}, {\"start\": 3907186, \"end\": 7011701, \"stream\": \"1: parb_sad-1\", \"kernel\": \"1:2\", \"position\": 5459443.5, \"norm\": 0.75}, {\"start\": 7011701, \"end\": 7804526, \"stream\": \"1: parb_sad-1\", \"kernel\": \"1:3\", \"position\": 7408113.5, \"norm\": 0.68}, {\"start\": 0, \"end\": 251500, \"stream\": \"2: nvd_conv-0\", \"kernel\": \"2:1\", \"position\": 125750.0, \"norm\": 0.76}, {\"start\": 251500, \"end\": 480281, \"stream\": \"2: nvd_conv-0\", \"kernel\": \"2:2\", \"position\": 365890.5, \"norm\": 0.91}, {\"start\": 480281, \"end\": 731781, \"stream\": \"2: nvd_conv-0\", \"kernel\": \"2:1\", \"position\": 606031.0, \"norm\": 0.76}, {\"start\": 731781, \"end\": 960562, \"stream\": \"2: nvd_conv-0\", \"kernel\": \"2:2\", \"position\": 846171.5, \"norm\": 0.91}, {\"start\": 960562, \"end\": 1212062, \"stream\": \"2: nvd_conv-0\", \"kernel\": \"2:1\", \"position\": 1086312.0, \"norm\": 0.76}, {\"start\": 1212062, \"end\": 1440843, \"stream\": \"2: nvd_conv-0\", \"kernel\": \"2:2\", \"position\": 1326452.5, \"norm\": 0.91}, {\"start\": 1440843, \"end\": 1692343, \"stream\": \"2: nvd_conv-0\", \"kernel\": \"2:1\", \"position\": 1566593.0, \"norm\": 0.76}, {\"start\": 1692343, \"end\": 1921124, \"stream\": \"2: nvd_conv-0\", \"kernel\": \"2:2\", \"position\": 1806733.5, \"norm\": 0.91}, {\"start\": 1921124, \"end\": 2172624, \"stream\": \"2: nvd_conv-0\", \"kernel\": \"2:1\", \"position\": 2046874.0, \"norm\": 0.76}, {\"start\": 2172624, \"end\": 2401405, \"stream\": \"2: nvd_conv-0\", \"kernel\": \"2:2\", \"position\": 2287014.5, \"norm\": 0.91}, {\"start\": 2401405, \"end\": 2652905, \"stream\": \"2: nvd_conv-0\", \"kernel\": \"2:1\", \"position\": 2527155.0, \"norm\": 0.76}, {\"start\": 2652905, \"end\": 2881686, \"stream\": \"2: nvd_conv-0\", \"kernel\": \"2:2\", \"position\": 2767295.5, \"norm\": 0.91}, {\"start\": 2881686, \"end\": 3133186, \"stream\": \"2: nvd_conv-0\", \"kernel\": \"2:1\", \"position\": 3007436.0, \"norm\": 0.76}, {\"start\": 3133186, \"end\": 3361967, \"stream\": \"2: nvd_conv-0\", \"kernel\": \"2:2\", \"position\": 3247576.5, \"norm\": 0.91}, {\"start\": 3361967, \"end\": 3613467, \"stream\": \"2: nvd_conv-0\", \"kernel\": \"2:1\", \"position\": 3487717.0, \"norm\": 0.76}, {\"start\": 3613467, \"end\": 3842248, \"stream\": \"2: nvd_conv-0\", \"kernel\": \"2:2\", \"position\": 3727857.5, \"norm\": 0.91}, {\"start\": 3842248, \"end\": 4207872, \"stream\": \"2: nvd_conv-0\", \"kernel\": \"2:1\", \"position\": 4025060.0, \"norm\": 0.52}, {\"start\": 4207872, \"end\": 4639218, \"stream\": \"2: nvd_conv-0\", \"kernel\": \"2:2\", \"position\": 4423545.0, \"norm\": 0.48}, {\"start\": 4639218, \"end\": 5044567, \"stream\": \"2: nvd_conv-0\", \"kernel\": \"2:1\", \"position\": 4841892.5, \"norm\": 0.47}, {\"start\": 5044567, \"end\": 5475913, \"stream\": \"2: nvd_conv-0\", \"kernel\": \"2:2\", \"position\": 5260240.0, \"norm\": 0.48}, {\"start\": 5475913, \"end\": 5881262, \"stream\": \"2: nvd_conv-0\", \"kernel\": \"2:1\", \"position\": 5678587.5, \"norm\": 0.47}, {\"start\": 5881262, \"end\": 6312608, \"stream\": \"2: nvd_conv-0\", \"kernel\": \"2:2\", \"position\": 6096935.0, \"norm\": 0.48}, {\"start\": 6312608, \"end\": 6717957, \"stream\": \"2: nvd_conv-0\", \"kernel\": \"2:1\", \"position\": 6515282.5, \"norm\": 0.47}, {\"start\": 6717957, \"end\": 7144248, \"stream\": \"2: nvd_conv-0\", \"kernel\": \"2:2\", \"position\": 6931102.5, \"norm\": 0.49}, {\"start\": 7144248, \"end\": 7488707, \"stream\": \"2: nvd_conv-0\", \"kernel\": \"2:1\", \"position\": 7316477.5, \"norm\": 0.55}, {\"start\": 7488707, \"end\": 7854466, \"stream\": \"2: nvd_conv-0\", \"kernel\": \"2:2\", \"position\": 7671586.5, \"norm\": 0.57}]}}, {\"mode\": \"vega-lite\"});\n",
       "</script>"
      ],
      "text/plain": [
       "alt.LayerChart(...)"
      ]
     },
     "metadata": {},
     "output_type": "display_data"
    }
   ],
   "source": [
    "\n",
    "best_dd = widgets.Dropdown(options=uniq_pairs, value=uniq_pairs[0], description='Pair:')\n",
    "best_btn = widgets.Button(description='Best', button_style='info')\n",
    "\n",
    "def show_widgets():\n",
    "    display(best_dd)\n",
    "    display(best_btn)\n",
    "    \n",
    "\n",
    "def best_onclick(b):\n",
    "    clear_output()\n",
    "    show_widgets()\n",
    "    \n",
    "    apps = best_dd.value.split('+')\n",
    "    def get_best(app1, app2):\n",
    "        matrix_size = (len(const.kernel_yaml[app2]), len(const.kernel_yaml[app1]))\n",
    "        configs_1 = np.zeros(matrix_size, dtype=int)\n",
    "        configs_2 = np.zeros(matrix_size, dtype=int)\n",
    "        interference_1 = np.zeros(matrix_size)\n",
    "        interference_2 = np.zeros(matrix_size)\n",
    "        \n",
    "        for kernel_1 in const.kernel_yaml[app1]:\n",
    "            for kernel_2 in const.kernel_yaml[app2]:\n",
    "                best_idx = (app1, kernel_1, app2, kernel_2)\n",
    "                \n",
    "                cta_1 = df_best.loc[best_idx, '1_intra']\n",
    "                sld_1 = df_best.loc[best_idx, 'sld'][1]\n",
    "                \n",
    "                cta_2 = df_best.loc[best_idx, '2_intra']\n",
    "                sld_2 = df_best.loc[best_idx, 'sld'][2]\n",
    "                \n",
    "                matrix_idx = (kernel_2-1, kernel_1-1)\n",
    "                \n",
    "                configs_1[matrix_idx] = int(cta_1)\n",
    "                configs_2[matrix_idx] = int(cta_2)\n",
    "                \n",
    "                interference_1[matrix_idx] = sld_1\n",
    "                interference_2[matrix_idx] = sld_2\n",
    "                \n",
    "        return [configs_1, configs_2], [interference_1, interference_2]\n",
    "                \n",
    "    def get_runtime(app):\n",
    "        runtime = []\n",
    "        for kidx in const.kernel_yaml[app]:\n",
    "            runtime.append(df_seq_index.loc[(app, kidx)]['runtime'])\n",
    "        \n",
    "        return runtime\n",
    "            \n",
    "    configs, interference = get_best(apps[0], apps[1])\n",
    "    runtimes = [get_runtime(apps[0]), get_runtime(apps[1])]\n",
    "    \n",
    "    tot_runtime = [sum(r) for r in runtimes]\n",
    "    if tot_runtime[0] < tot_runtime[1]:\n",
    "        iter_lim = [math.inf, 1]\n",
    "    else:\n",
    "        iter_lim = [1, math.inf] \n",
    "\n",
    "    # Printing results\n",
    "    app1_kernels = ['{0}:{1}'.format(apps[0], kernel) for kernel in const.kernel_yaml[apps[0]]]\n",
    "    app2_kernels = ['{0}:{1}'.format(apps[1], kernel) for kernel in const.kernel_yaml[apps[1]]]\n",
    "    \n",
    "    print(apps[0], 'configs:')\n",
    "    print(pd.DataFrame(configs[0], app2_kernels, app1_kernels))\n",
    "    print('-' * 50)\n",
    "    \n",
    "    print(apps[1], 'configs:')\n",
    "    print(pd.DataFrame(configs[1], app2_kernels, app1_kernels))\n",
    "    print('-' * 50)\n",
    "    \n",
    "    print(apps[0], 'slowdown:')\n",
    "    print(pd.DataFrame(interference[0], app2_kernels, app1_kernels))\n",
    "    print('-' * 50)\n",
    "    \n",
    "    print(apps[1], 'slowdown:')\n",
    "    print(pd.DataFrame(interference[1], app2_kernels, app1_kernels))\n",
    "    print('-' * 50)\n",
    "    print('\\n')\n",
    "    \n",
    "    # run simulation to predict final slowdown\n",
    "    sim_results = scheduler.simulate(runtimes, interference, iter_lim, finish_remaining=False)\n",
    "    scaled_runtime = [[int(t) for t in app] for app in sim_results[0]]\n",
    "    print('Predicted runtime:', scaled_runtime)\n",
    "    \n",
    "    norm_ipc = scheduler.calculate_norm_ipc(runtimes, scaled_runtime)\n",
    "#     print('Norm IPC:', norm_ipc)\n",
    "    \n",
    "    sld = scheduler.calculate_qos(runtimes, scaled_runtime, short=True, revert=False)\n",
    "    print('Predicted weighted speedup:', sum(sld))\n",
    "    \n",
    "    row = pd.Series({'1_bench': apps[0], '2_bench': apps[1], \n",
    "                     'runtime': scaled_runtime, 'norm_ipc': norm_ipc})\n",
    "    \n",
    "    gen_altair.draw_altair_timeline(row, title='Prediction').display()  \n",
    "\n",
    "show_widgets()\n",
    "best_btn.on_click(best_onclick)\n",
    " "
   ]
  },
  {
   "cell_type": "code",
   "execution_count": null,
   "metadata": {},
   "outputs": [],
   "source": []
  },
  {
   "cell_type": "markdown",
   "metadata": {},
   "source": [
    "# CTA LUT"
   ]
  },
  {
   "cell_type": "code",
   "execution_count": 24,
   "metadata": {},
   "outputs": [
    {
     "name": "stdout",
     "output_type": "stream",
     "text": [
      "Index(['pair_str', 'config', 'gpusim_version', 'jobId', 'stall_icnt_to_l2',\n",
      "       'stall_l2_to_icnt', 'stall_core_ldst', 'l1D_miss_rate', 'l2_miss_rate',\n",
      "       'l2_rshr_entry_fail', 'l2_rshr_merge_fail', 'l2_total_accesses',\n",
      "       'mem_count', 'empty_warp', 'stall_warp', 'idle_warp', 'scoreboard_warp',\n",
      "       'tot_warp_insn', 'runtime', 'instructions', 'l2_bw', 'avg_mem_lat',\n",
      "       'avg_core_to_l2', 'avg_l2_to_core', 'avg_mrq_latency', 'dram_eff',\n",
      "       'dram_bw', 'row_buffer_locality', 'mem_idle', 'total_cmd'],\n",
      "      dtype='object')\n"
     ]
    }
   ],
   "source": [
    "lut_csv = os.path.join(HOME, 'data/csv/pair_lut.csv')\n",
    "lut_out = os.path.join(PKL_PATH, 'pair_lut.pkl')\n",
    "\n",
    "%run $gen_pair --csv $lut_csv --output $lut_out --seq_pkl $seq_pkl --multi --how lut"
   ]
  },
  {
   "cell_type": "code",
   "execution_count": 25,
   "metadata": {},
   "outputs": [],
   "source": [
    "df_lut = pd.read_pickle(lut_out)\n",
    "col_lut = ['pair_str', '1_bench', '2_bench', 'norm_ipc', 'runtime'] \n",
    "# draw_table(df_lut, col_lut)"
   ]
  },
  {
   "cell_type": "code",
   "execution_count": 26,
   "metadata": {},
   "outputs": [
    {
     "data": {
      "application/vnd.jupyter.widget-view+json": {
       "model_id": "35cc2dcbeb7f405982e5f2aa61ef8e57",
       "version_major": 2,
       "version_minor": 0
      },
      "text/plain": [
       "Dropdown(description='Pair:', options=('parb_sad-0-nvd_conv-0',), value='parb_sad-0-nvd_conv-0')"
      ]
     },
     "metadata": {},
     "output_type": "display_data"
    },
    {
     "data": {
      "application/vnd.jupyter.widget-view+json": {
       "model_id": "9040968823c346c0abe66f4b9c97f77e",
       "version_major": 2,
       "version_minor": 0
      },
      "text/plain": [
       "Button(button_style='info', description='Display', style=ButtonStyle())"
      ]
     },
     "metadata": {},
     "output_type": "display_data"
    },
    {
     "data": {
      "text/html": [
       "\n",
       "<div id=\"altair-viz-a640c02770fe482a80aa0e41e08b5a77\"></div>\n",
       "<script type=\"text/javascript\">\n",
       "  (function(spec, embedOpt){\n",
       "    let outputDiv = document.currentScript.previousElementSibling;\n",
       "    if (outputDiv.id !== \"altair-viz-a640c02770fe482a80aa0e41e08b5a77\") {\n",
       "      outputDiv = document.getElementById(\"altair-viz-a640c02770fe482a80aa0e41e08b5a77\");\n",
       "    }\n",
       "    const paths = {\n",
       "      \"vega\": \"https://cdn.jsdelivr.net/npm//vega@5?noext\",\n",
       "      \"vega-lib\": \"https://cdn.jsdelivr.net/npm//vega-lib?noext\",\n",
       "      \"vega-lite\": \"https://cdn.jsdelivr.net/npm//vega-lite@4.8.1?noext\",\n",
       "      \"vega-embed\": \"https://cdn.jsdelivr.net/npm//vega-embed@6?noext\",\n",
       "    };\n",
       "\n",
       "    function loadScript(lib) {\n",
       "      return new Promise(function(resolve, reject) {\n",
       "        var s = document.createElement('script');\n",
       "        s.src = paths[lib];\n",
       "        s.async = true;\n",
       "        s.onload = () => resolve(paths[lib]);\n",
       "        s.onerror = () => reject(`Error loading script: ${paths[lib]}`);\n",
       "        document.getElementsByTagName(\"head\")[0].appendChild(s);\n",
       "      });\n",
       "    }\n",
       "\n",
       "    function showError(err) {\n",
       "      outputDiv.innerHTML = `<div class=\"error\" style=\"color:red;\">${err}</div>`;\n",
       "      throw err;\n",
       "    }\n",
       "\n",
       "    function displayChart(vegaEmbed) {\n",
       "      vegaEmbed(outputDiv, spec, embedOpt)\n",
       "        .catch(err => showError(`Javascript Error: ${err.message}<br>This usually means there's a typo in your chart specification. See the javascript console for the full traceback.`));\n",
       "    }\n",
       "\n",
       "    if(typeof define === \"function\" && define.amd) {\n",
       "      requirejs.config({paths});\n",
       "      require([\"vega-embed\"], displayChart, err => showError(`Error loading script: ${err.message}`));\n",
       "    } else if (typeof vegaEmbed === \"function\") {\n",
       "      displayChart(vegaEmbed);\n",
       "    } else {\n",
       "      loadScript(\"vega\")\n",
       "        .then(() => loadScript(\"vega-lite\"))\n",
       "        .then(() => loadScript(\"vega-embed\"))\n",
       "        .catch(showError)\n",
       "        .then(() => displayChart(vegaEmbed));\n",
       "    }\n",
       "  })({\"config\": {\"view\": {\"continuousWidth\": 400, \"continuousHeight\": 300}, \"axis\": {\"grid\": false}, \"header\": {\"titleColor\": \"black\", \"titleFontSize\": 14}}, \"layer\": [{\"mark\": \"bar\", \"encoding\": {\"color\": {\"type\": \"nominal\", \"field\": \"kernel\", \"legend\": null, \"scale\": {\"scheme\": \"pastel1\"}}, \"x\": {\"type\": \"quantitative\", \"field\": \"start\", \"title\": \"Cycles\"}, \"x2\": {\"field\": \"end\"}, \"y\": {\"type\": \"nominal\", \"field\": \"stream\", \"sort\": null}}, \"height\": 100, \"title\": \"CTA LUT\", \"width\": 900}, {\"mark\": {\"type\": \"text\", \"align\": \"center\", \"angle\": 90, \"baseline\": \"middle\", \"color\": \"black\", \"fontSize\": 12}, \"encoding\": {\"text\": {\"type\": \"quantitative\", \"field\": \"norm\"}, \"x\": {\"type\": \"quantitative\", \"field\": \"position\"}, \"y\": {\"type\": \"nominal\", \"field\": \"stream\", \"sort\": null, \"title\": null}}}], \"data\": {\"name\": \"data-37762ab22f81caaa99e1458104db61c7\"}, \"$schema\": \"https://vega.github.io/schema/vega-lite/v4.8.1.json\", \"datasets\": {\"data-37762ab22f81caaa99e1458104db61c7\": [{\"start\": 0, \"end\": 54001, \"stream\": \"1: parb_sad-0\", \"kernel\": \"1:1\", \"position\": 27000.5, \"norm\": 0.96}, {\"start\": 54001, \"end\": 102256, \"stream\": \"1: parb_sad-0\", \"kernel\": \"1:2\", \"position\": 78128.5, \"norm\": 0.45}, {\"start\": 102256, \"end\": 129985, \"stream\": \"1: parb_sad-0\", \"kernel\": \"1:3\", \"position\": 116120.5, \"norm\": 0.46}, {\"start\": 129985, \"end\": 174320, \"stream\": \"1: parb_sad-0\", \"kernel\": \"1:1\", \"position\": 152152.5, \"norm\": 1.16}, {\"start\": 174320, \"end\": 217521, \"stream\": \"1: parb_sad-0\", \"kernel\": \"1:2\", \"position\": 195920.5, \"norm\": 0.5}, {\"start\": 217521, \"end\": 245045, \"stream\": \"1: parb_sad-0\", \"kernel\": \"1:3\", \"position\": 231283.0, \"norm\": 0.47}, {\"start\": 245045, \"end\": 285019, \"stream\": \"1: parb_sad-0\", \"kernel\": \"1:1\", \"position\": 265032.0, \"norm\": 1.29}, {\"start\": 285019, \"end\": 326677, \"stream\": \"1: parb_sad-0\", \"kernel\": \"1:2\", \"position\": 305848.0, \"norm\": 0.52}, {\"start\": 326677, \"end\": 348675, \"stream\": \"1: parb_sad-0\", \"kernel\": \"1:3\", \"position\": 337676.0, \"norm\": 0.58}, {\"start\": 348675, \"end\": 391447, \"stream\": \"1: parb_sad-0\", \"kernel\": \"1:1\", \"position\": 370061.0, \"norm\": 1.21}, {\"start\": 391447, \"end\": 430218, \"stream\": \"1: parb_sad-0\", \"kernel\": \"1:2\", \"position\": 410832.5, \"norm\": 0.56}, {\"start\": 430218, \"end\": 453090, \"stream\": \"1: parb_sad-0\", \"kernel\": \"1:3\", \"position\": 441654.0, \"norm\": 0.56}, {\"start\": 453090, \"end\": 494600, \"stream\": \"1: parb_sad-0\", \"kernel\": \"1:1\", \"position\": 473845.0, \"norm\": 1.24}, {\"start\": 494600, \"end\": 533326, \"stream\": \"1: parb_sad-0\", \"kernel\": \"1:2\", \"position\": 513963.0, \"norm\": 0.56}, {\"start\": 533326, \"end\": 555788, \"stream\": \"1: parb_sad-0\", \"kernel\": \"1:3\", \"position\": 544557.0, \"norm\": 0.57}, {\"start\": 555788, \"end\": 594480, \"stream\": \"1: parb_sad-0\", \"kernel\": \"1:1\", \"position\": 575134.0, \"norm\": 1.33}, {\"start\": 594480, \"end\": 619436, \"stream\": \"1: parb_sad-0\", \"kernel\": \"1:2\", \"position\": 606958.0, \"norm\": 0.86}, {\"start\": 619436, \"end\": 628689, \"stream\": \"1: parb_sad-0\", \"kernel\": \"1:3\", \"position\": 624062.5, \"norm\": 1.38}, {\"start\": 0, \"end\": 268239, \"stream\": \"2: nvd_conv-0\", \"kernel\": \"2:1\", \"position\": 134119.5, \"norm\": 0.71}, {\"start\": 268239, \"end\": 563717, \"stream\": \"2: nvd_conv-0\", \"kernel\": \"2:2\", \"position\": 415978.0, \"norm\": 0.7}]}}, {\"mode\": \"vega-lite\"});\n",
       "</script>"
      ],
      "text/plain": [
       "alt.LayerChart(...)"
      ]
     },
     "metadata": {},
     "output_type": "display_data"
    },
    {
     "name": "stdout",
     "output_type": "stream",
     "text": [
      "Note:\n",
      "runtime: [[], [54001, 48255, 27729, 44335, 43201, 27524, 39974, 41658, 21998, 42772, 38771, 22872, 41510, 38726, 22462, 38692, 24956, 9253], [268239, 295478]]\n",
      "slowdown: [0, 0.7736313126587836, 0.7069327339782195]\n",
      "weighted speedup: 1.4805640466370031\n",
      "----------------------------------------------------------------------------------------------------\n"
     ]
    }
   ],
   "source": [
    "lut_dd = widgets.Dropdown(options=df_lut['pair_str'], value=df_lut.iloc[0]['pair_str'], description='Pair:')\n",
    "\n",
    "lut_btn = widgets.Button(description='Display', button_style='info')\n",
    "\n",
    "def show_widgets():\n",
    "    display(lut_dd)\n",
    "    display(lut_btn)\n",
    "    \n",
    "\n",
    "def lut_onclick(b):\n",
    "    clear_output()\n",
    "    show_widgets()\n",
    "    \n",
    "    apps = re.split(r'-(?=\\D)', lut_dd.value)\n",
    "    df_apps = df_lut[(df_lut['1_bench'] == apps[0]) & (df_lut['2_bench'] == apps[1])]\n",
    "    for rid, row in df_apps.iterrows():\n",
    "        gen_altair.draw_altair_timeline(row, title='CTA LUT').display()  \n",
    "        \n",
    "        print('Note:')\n",
    "#         print(row['1_bench'], ':', row['cta_quota'][1], 'CTAs/SM')\n",
    "#         print(row['2_bench'], ':', row['cta_quota'][2], 'CTAs/SM')\n",
    "        \n",
    "        print('runtime:', row['runtime'])\n",
    "        print('slowdown:', row['sld'])\n",
    "        print('weighted speedup:', row['ws'])\n",
    "        print('-' * 100)\n",
    "\n",
    "show_widgets()\n",
    "lut_btn.on_click(lut_onclick)\n",
    " "
   ]
  },
  {
   "cell_type": "code",
   "execution_count": null,
   "metadata": {},
   "outputs": [],
   "source": [
    "test = [0]\n",
    "test[-1] = 1\n",
    "print(test)"
   ]
  },
  {
   "cell_type": "code",
   "execution_count": null,
   "metadata": {},
   "outputs": [],
   "source": []
  }
 ],
 "metadata": {
  "kernelspec": {
   "display_name": "Python 3",
   "language": "python",
   "name": "python3"
  },
  "language_info": {
   "codemirror_mode": {
    "name": "ipython",
    "version": 3
   },
   "file_extension": ".py",
   "mimetype": "text/x-python",
   "name": "python",
   "nbconvert_exporter": "python",
   "pygments_lexer": "ipython3",
   "version": "3.6.8"
  }
 },
 "nbformat": 4,
 "nbformat_minor": 4
}
