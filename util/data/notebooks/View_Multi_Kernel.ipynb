{
 "cells": [
  {
   "cell_type": "code",
   "execution_count": 1,
   "metadata": {},
   "outputs": [],
   "source": [
    "%load_ext autoreload\n",
    "%autoreload 2\n",
    "\n",
    "import pandas as pd\n",
    "import os\n",
    "import sys\n",
    "from ipywidgets import widgets\n",
    "from IPython.display import display, HTML\n",
    "from IPython.display import clear_output\n",
    "import matplotlib.pyplot as plt\n",
    "import seaborn as sns\n",
    "import altair as alt\n",
    "from tabulate import tabulate\n",
    "\n",
    "# Customized modules\n",
    "HOME = '/home/serinatan/project/GPU-Virtualization-Benchmarks/util'\n",
    "if HOME not in sys.path:\n",
    "    sys.path.append(HOME)\n",
    "\n",
    "import data.scripts.common.format as fmt\n",
    "import data.scripts.common.constants as const\n",
    "import data.scripts.gen_tables.gen_pair_configs as gen_pair\n",
    "import data.scripts.gen_tables.search_best_inter as search_inter\n",
    "import data.scripts.gen_graphs.gen_altair_timeline as gen_altair\n",
    "\n",
    "SCRIPT_PATH = os.path.join(HOME, 'data/scripts') \n",
    "PKL_PATH = os.path.join(HOME, 'data/pickles') \n",
    "CSV_PATH = os.path.join(HOME, 'data/csv') \n",
    "GRAPH_PATH = os.path.join(HOME, 'data/graphs')\n",
    "\n",
    "%config InlineBackend.figure_format ='retina'\n",
    "plt.style.use('seaborn-talk')"
   ]
  },
  {
   "cell_type": "code",
   "execution_count": 2,
   "metadata": {},
   "outputs": [],
   "source": [
    "def draw_table(df, cols, hide_index=True):\n",
    "    if hide_index:\n",
    "        return df[cols].style.set_table_styles(fmt.table_style).hide_index()\n",
    "    else:\n",
    "        return df[cols].style.set_table_styles(fmt.table_style)"
   ]
  },
  {
   "cell_type": "markdown",
   "metadata": {},
   "source": [
    "# Seq"
   ]
  },
  {
   "cell_type": "code",
   "execution_count": 3,
   "metadata": {
    "scrolled": false
   },
   "outputs": [
    {
     "name": "stdout",
     "output_type": "stream",
     "text": [
      "Index(['pair_str', 'config', 'gpusim_version', 'jobId', 'stall_icnt_to_l2',\n",
      "       'stall_l2_to_icnt', 'stall_core_ldst', 'l1D_miss_rate', 'l2_miss_rate',\n",
      "       'l2_rshr_entry_fail', 'l2_rshr_merge_fail', 'l2_total_accesses',\n",
      "       'mem_count', 'empty_warp', 'stall_warp', 'idle_warp', 'scoreboard_warp',\n",
      "       'tot_warp_insn', 'runtime', 'instructions', 'l2_bw', 'avg_mem_lat',\n",
      "       'avg_core_to_l2', 'avg_l2_to_core', 'avg_mrq_latency', 'dram_eff',\n",
      "       'dram_bw', 'row_buffer_locality', 'mem_idle', 'total_cmd', 'ipc',\n",
      "       'avg_dram_bw', 'avg_dram_eff', 'avg_row_locality', 'std_dram_bw',\n",
      "       'ratio_dram_bw', 'MPKI', 'l2_access_density', '1_kidx', 'waves'],\n",
      "      dtype='object')\n"
     ]
    }
   ],
   "source": [
    "# run python scripts to generate all the pickles needed\n",
    "gen_seq = os.path.join(SCRIPT_PATH, 'gen_tables/gen_table_seq.py')   \n",
    "seq_file = os.path.join(CSV_PATH, 'seq-multi.csv')\n",
    "seq_pkl = os.path.join(PKL_PATH, 'seq-multi.pkl')\n",
    "%run $gen_seq --multi --csv $seq_file --output $seq_pkl\n",
    "\n",
    "df_seq = pd.read_pickle(os.path.join(PKL_PATH, 'seq-multi.pkl'))\n",
    "print(df_seq.columns)"
   ]
  },
  {
   "cell_type": "code",
   "execution_count": 4,
   "metadata": {},
   "outputs": [
    {
     "data": {
      "text/html": [
       "<style  type=\"text/css\" >\n",
       "    #T_f5606178_9201_11ea_b432_107b4493f33b tr:nth-of-type(odd) {\n",
       "          background: #eee;\n",
       "    }    #T_f5606178_9201_11ea_b432_107b4493f33b tr:nth-of-type(even) {\n",
       "          background: white;\n",
       "    }    #T_f5606178_9201_11ea_b432_107b4493f33b th {\n",
       "          background: #606060;\n",
       "          color: white;\n",
       "          font-family: verdana;\n",
       "          font-size: 90%;\n",
       "    }    #T_f5606178_9201_11ea_b432_107b4493f33b td {\n",
       "          font-family: verdana;\n",
       "          font-size: 90%;\n",
       "          font-weight: bold;\n",
       "    }    #T_f5606178_9201_11ea_b432_107b4493f33b tr:hover {\n",
       "          background-color: #ffffcc;\n",
       "    }</style><table id=\"T_f5606178_9201_11ea_b432_107b4493f33b\" ><thead>    <tr>        <th class=\"col_heading level0 col0\" >pair_str</th>        <th class=\"col_heading level0 col1\" >1_kidx</th>        <th class=\"col_heading level0 col2\" >runtime</th>        <th class=\"col_heading level0 col3\" >ipc</th>        <th class=\"col_heading level0 col4\" >avg_dram_bw</th>    </tr></thead><tbody>\n",
       "                <tr>\n",
       "                                <td id=\"T_f5606178_9201_11ea_b432_107b4493f33brow0_col0\" class=\"data row0 col0\" >nvd_conv-0</td>\n",
       "                        <td id=\"T_f5606178_9201_11ea_b432_107b4493f33brow0_col1\" class=\"data row0 col1\" >1</td>\n",
       "                        <td id=\"T_f5606178_9201_11ea_b432_107b4493f33brow0_col2\" class=\"data row0 col2\" >190,346</td>\n",
       "                        <td id=\"T_f5606178_9201_11ea_b432_107b4493f33brow0_col3\" class=\"data row0 col3\" >2131.9</td>\n",
       "                        <td id=\"T_f5606178_9201_11ea_b432_107b4493f33brow0_col4\" class=\"data row0 col4\" >0.7242</td>\n",
       "            </tr>\n",
       "            <tr>\n",
       "                                <td id=\"T_f5606178_9201_11ea_b432_107b4493f33brow1_col0\" class=\"data row1 col0\" >nvd_conv-0</td>\n",
       "                        <td id=\"T_f5606178_9201_11ea_b432_107b4493f33brow1_col1\" class=\"data row1 col1\" >2</td>\n",
       "                        <td id=\"T_f5606178_9201_11ea_b432_107b4493f33brow1_col2\" class=\"data row1 col2\" >208,164</td>\n",
       "                        <td id=\"T_f5606178_9201_11ea_b432_107b4493f33brow1_col3\" class=\"data row1 col3\" >1755.92</td>\n",
       "                        <td id=\"T_f5606178_9201_11ea_b432_107b4493f33brow1_col4\" class=\"data row1 col4\" >0.6698</td>\n",
       "            </tr>\n",
       "            <tr>\n",
       "                                <td id=\"T_f5606178_9201_11ea_b432_107b4493f33brow2_col0\" class=\"data row2 col0\" >parb_sad-0</td>\n",
       "                        <td id=\"T_f5606178_9201_11ea_b432_107b4493f33brow2_col1\" class=\"data row2 col1\" >1</td>\n",
       "                        <td id=\"T_f5606178_9201_11ea_b432_107b4493f33brow2_col2\" class=\"data row2 col2\" >51,633</td>\n",
       "                        <td id=\"T_f5606178_9201_11ea_b432_107b4493f33brow2_col3\" class=\"data row2 col3\" >2686.45</td>\n",
       "                        <td id=\"T_f5606178_9201_11ea_b432_107b4493f33brow2_col4\" class=\"data row2 col4\" >0.0061</td>\n",
       "            </tr>\n",
       "            <tr>\n",
       "                                <td id=\"T_f5606178_9201_11ea_b432_107b4493f33brow3_col0\" class=\"data row3 col0\" >parb_sad-0</td>\n",
       "                        <td id=\"T_f5606178_9201_11ea_b432_107b4493f33brow3_col1\" class=\"data row3 col1\" >2</td>\n",
       "                        <td id=\"T_f5606178_9201_11ea_b432_107b4493f33brow3_col2\" class=\"data row3 col2\" >21,556</td>\n",
       "                        <td id=\"T_f5606178_9201_11ea_b432_107b4493f33brow3_col3\" class=\"data row3 col3\" >203.199</td>\n",
       "                        <td id=\"T_f5606178_9201_11ea_b432_107b4493f33brow3_col4\" class=\"data row3 col4\" >0.4558</td>\n",
       "            </tr>\n",
       "            <tr>\n",
       "                                <td id=\"T_f5606178_9201_11ea_b432_107b4493f33brow4_col0\" class=\"data row4 col0\" >parb_sad-0</td>\n",
       "                        <td id=\"T_f5606178_9201_11ea_b432_107b4493f33brow4_col1\" class=\"data row4 col1\" >3</td>\n",
       "                        <td id=\"T_f5606178_9201_11ea_b432_107b4493f33brow4_col2\" class=\"data row4 col2\" >12,806</td>\n",
       "                        <td id=\"T_f5606178_9201_11ea_b432_107b4493f33brow4_col3\" class=\"data row4 col3\" >89.9086</td>\n",
       "                        <td id=\"T_f5606178_9201_11ea_b432_107b4493f33brow4_col4\" class=\"data row4 col4\" >0.1249</td>\n",
       "            </tr>\n",
       "            <tr>\n",
       "                                <td id=\"T_f5606178_9201_11ea_b432_107b4493f33brow5_col0\" class=\"data row5 col0\" >parb_sad-1</td>\n",
       "                        <td id=\"T_f5606178_9201_11ea_b432_107b4493f33brow5_col1\" class=\"data row5 col1\" >1</td>\n",
       "                        <td id=\"T_f5606178_9201_11ea_b432_107b4493f33brow5_col2\" class=\"data row5 col2\" >3,000,706</td>\n",
       "                        <td id=\"T_f5606178_9201_11ea_b432_107b4493f33brow5_col3\" class=\"data row5 col3\" >3754.08</td>\n",
       "                        <td id=\"T_f5606178_9201_11ea_b432_107b4493f33brow5_col4\" class=\"data row5 col4\" >0.1736</td>\n",
       "            </tr>\n",
       "            <tr>\n",
       "                                <td id=\"T_f5606178_9201_11ea_b432_107b4493f33brow6_col0\" class=\"data row6 col0\" >parb_sad-1</td>\n",
       "                        <td id=\"T_f5606178_9201_11ea_b432_107b4493f33brow6_col1\" class=\"data row6 col1\" >2</td>\n",
       "                        <td id=\"T_f5606178_9201_11ea_b432_107b4493f33brow6_col2\" class=\"data row6 col2\" >2,324,970</td>\n",
       "                        <td id=\"T_f5606178_9201_11ea_b432_107b4493f33brow6_col3\" class=\"data row6 col3\" >153.001</td>\n",
       "                        <td id=\"T_f5606178_9201_11ea_b432_107b4493f33brow6_col4\" class=\"data row6 col4\" >0.5645</td>\n",
       "            </tr>\n",
       "            <tr>\n",
       "                                <td id=\"T_f5606178_9201_11ea_b432_107b4493f33brow7_col0\" class=\"data row7 col0\" >parb_sad-1</td>\n",
       "                        <td id=\"T_f5606178_9201_11ea_b432_107b4493f33brow7_col1\" class=\"data row7 col1\" >3</td>\n",
       "                        <td id=\"T_f5606178_9201_11ea_b432_107b4493f33brow7_col2\" class=\"data row7 col2\" >541,865</td>\n",
       "                        <td id=\"T_f5606178_9201_11ea_b432_107b4493f33brow7_col3\" class=\"data row7 col3\" >172.562</td>\n",
       "                        <td id=\"T_f5606178_9201_11ea_b432_107b4493f33brow7_col4\" class=\"data row7 col4\" >0.5842</td>\n",
       "            </tr>\n",
       "    </tbody></table>"
      ],
      "text/plain": [
       "<pandas.io.formats.style.Styler at 0x7f58582bc550>"
      ]
     },
     "execution_count": 4,
     "metadata": {},
     "output_type": "execute_result"
    }
   ],
   "source": [
    "col_seq = ['pair_str', '1_kidx', 'runtime',\n",
    "           'ipc',\n",
    "           'avg_dram_bw', \n",
    "          ]\n",
    "\n",
    "draw_table(df_seq, col_seq).format({\n",
    "    'runtime': '{:,}',\n",
    "    'avg_dram_bw':'{:.4f}', \n",
    "    'sp_busy': '{:.2f}',\n",
    "    'dp_busy': '{:.2f}',\n",
    "    'int_busy': '{:.2f}',\n",
    "    'tensor_busy': '{:.2f}',\n",
    "    'sfu_busy': '{:.2f}',\n",
    "})"
   ]
  },
  {
   "cell_type": "markdown",
   "metadata": {},
   "source": [
    "# Intra"
   ]
  },
  {
   "cell_type": "code",
   "execution_count": 5,
   "metadata": {
    "scrolled": false
   },
   "outputs": [],
   "source": [
    "gen_intra = os.path.join(SCRIPT_PATH, 'gen_tables/gen_table_intra.py')\n",
    "intra_file = os.path.join(CSV_PATH, 'intra-multi.csv')\n",
    "intra_pkl = os.path.join(PKL_PATH, 'intra-multi.pkl')\n",
    "\n",
    "%run $gen_intra --out_intra $intra_pkl --seq $seq_pkl --csv $intra_file\n",
    "\n",
    "df_intra = pd.read_pickle(intra_pkl)\n",
    "df_intra.sort_values(['pair_str', '1_kidx'], inplace=True)\n",
    "# col_intra = ['pair_str', '1_kidx', 'regs', 'thread_count', 'smem', 'intra']\n",
    "# draw_table(df_intra, col_intra)"
   ]
  },
  {
   "cell_type": "code",
   "execution_count": 6,
   "metadata": {},
   "outputs": [],
   "source": [
    "col_prod = ['pair_str_x', '1_kidx_x', 'pair_str_y', '1_kidx_y',\n",
    "            'norm_ipc_x', 'norm_ipc_y', 'diff_mflat', 'sum_ipc', \n",
    "            'intra_x', 'intra_y', \n",
    "           'sum_comp', 'sum_dram',]\n",
    "find_pair = os.path.join(SCRIPT_PATH, 'gen_tables/gen_pair_configs.py')\n",
    "pairs = df_seq.apply(lambda row: ':'.join([row['pair_str'], str(row['1_kidx'])]), axis=1)"
   ]
  },
  {
   "cell_type": "code",
   "execution_count": 7,
   "metadata": {},
   "outputs": [],
   "source": [
    "app1 = widgets.Dropdown(options=pairs, value=pairs[0], description='App 1:')\n",
    "app2 = widgets.Dropdown(options=pairs, value=pairs[1], description='App 2:')\n",
    "\n",
    "qos = widgets.FloatSlider(\n",
    "    value=0.75,\n",
    "    min=0.1,\n",
    "    max=0.95,\n",
    "    step=0.05,\n",
    "    description='QoS:',\n",
    "    readout_format='.2f',\n",
    ")\n",
    "\n",
    "button = widgets.Button(description='Calculate', button_style='info')\n",
    "\n",
    "def show_widgets():\n",
    "    display(app1)\n",
    "    display(app2)\n",
    "    display(qos)\n",
    "    display(button)\n",
    "    \n",
    "\n",
    "def onclick(b):\n",
    "    clear_output()\n",
    "    show_widgets()\n",
    "    %run $find_pair --app $app1.value $app2.value --qos $qos.value --intra_pkl $intra_pkl --top\n",
    "    \n",
    "    df_prod = pd.read_pickle(os.path.join(PKL_PATH, 'pair_candidates.pkl'))\n",
    "   \n",
    "    display(HTML(draw_table(df_prod, col_prod, False).render()))\n",
    "    \n",
    "    "
   ]
  },
  {
   "cell_type": "code",
   "execution_count": 8,
   "metadata": {},
   "outputs": [
    {
     "data": {
      "application/vnd.jupyter.widget-view+json": {
       "model_id": "6856547a162247a59911ecbf5de6d2bb",
       "version_major": 2,
       "version_minor": 0
      },
      "text/plain": [
       "Dropdown(description='App 1:', index=6, options=('nvd_conv-0:1', 'nvd_conv-0:2', 'parb_sad-0:1', 'parb_sad-0:2…"
      ]
     },
     "metadata": {},
     "output_type": "display_data"
    },
    {
     "data": {
      "application/vnd.jupyter.widget-view+json": {
       "model_id": "a05c49ad9e7d4e83b549f7470666648b",
       "version_major": 2,
       "version_minor": 0
      },
      "text/plain": [
       "Dropdown(description='App 2:', index=7, options=('nvd_conv-0:1', 'nvd_conv-0:2', 'parb_sad-0:1', 'parb_sad-0:2…"
      ]
     },
     "metadata": {},
     "output_type": "display_data"
    },
    {
     "data": {
      "application/vnd.jupyter.widget-view+json": {
       "model_id": "d79acc1ad32b4f7f9f412f484795e581",
       "version_major": 2,
       "version_minor": 0
      },
      "text/plain": [
       "FloatSlider(value=0.75, description='QoS:', max=0.95, min=0.1, step=0.05)"
      ]
     },
     "metadata": {},
     "output_type": "display_data"
    },
    {
     "data": {
      "application/vnd.jupyter.widget-view+json": {
       "model_id": "8eba52f3bd444673a29b578cf17ace06",
       "version_major": 2,
       "version_minor": 0
      },
      "text/plain": [
       "Button(button_style='info', description='Calculate', style=ButtonStyle())"
      ]
     },
     "metadata": {},
     "output_type": "display_data"
    }
   ],
   "source": [
    "show_widgets()\n",
    "button.on_click(onclick)"
   ]
  },
  {
   "cell_type": "code",
   "execution_count": null,
   "metadata": {},
   "outputs": [],
   "source": []
  },
  {
   "cell_type": "markdown",
   "metadata": {},
   "source": [
    "# CTX Ratio"
   ]
  },
  {
   "cell_type": "code",
   "execution_count": 9,
   "metadata": {},
   "outputs": [],
   "source": [
    "gen_pair = os.path.join(SCRIPT_PATH, 'gen_tables/gen_table_pair.py')\n",
    "ctx_csv = os.path.join(HOME, 'data/csv/ctx.csv')\n",
    "output = os.path.join(PKL_PATH, 'pair_ctx.pkl')\n"
   ]
  },
  {
   "cell_type": "code",
   "execution_count": 10,
   "metadata": {
    "scrolled": false
   },
   "outputs": [
    {
     "name": "stdout",
     "output_type": "stream",
     "text": [
      "Index(['pair_str', 'config', 'gpusim_version', 'jobId', 'stall_icnt_to_l2',\n",
      "       'stall_l2_to_icnt', 'stall_core_ldst', 'l1D_miss_rate', 'l2_miss_rate',\n",
      "       'l2_rshr_entry_fail', 'l2_rshr_merge_fail', 'l2_total_accesses',\n",
      "       'mem_count', 'empty_warp', 'stall_warp', 'idle_warp', 'scoreboard_warp',\n",
      "       'tot_warp_insn', 'runtime', 'instructions', 'l2_bw', 'avg_mem_lat',\n",
      "       'avg_core_to_l2', 'avg_l2_to_core', 'avg_mrq_latency', 'dram_eff',\n",
      "       'dram_bw', 'row_buffer_locality', 'mem_idle', 'total_cmd'],\n",
      "      dtype='object')\n"
     ]
    }
   ],
   "source": [
    "%run $gen_pair --csv $ctx_csv --output $output --seq_pkl $seq_pkl --qos 0.5 --multi --how ctx"
   ]
  },
  {
   "cell_type": "code",
   "execution_count": 11,
   "metadata": {},
   "outputs": [
    {
     "data": {
      "text/html": [
       "<style  type=\"text/css\" >\n",
       "    #T_f5606179_9201_11ea_b432_107b4493f33b tr:nth-of-type(odd) {\n",
       "          background: #eee;\n",
       "    }    #T_f5606179_9201_11ea_b432_107b4493f33b tr:nth-of-type(even) {\n",
       "          background: white;\n",
       "    }    #T_f5606179_9201_11ea_b432_107b4493f33b th {\n",
       "          background: #606060;\n",
       "          color: white;\n",
       "          font-family: verdana;\n",
       "          font-size: 90%;\n",
       "    }    #T_f5606179_9201_11ea_b432_107b4493f33b td {\n",
       "          font-family: verdana;\n",
       "          font-size: 90%;\n",
       "          font-weight: bold;\n",
       "    }    #T_f5606179_9201_11ea_b432_107b4493f33b tr:hover {\n",
       "          background-color: #ffffcc;\n",
       "    }</style><table id=\"T_f5606179_9201_11ea_b432_107b4493f33b\" ><thead>    <tr>        <th class=\"col_heading level0 col0\" >1_bench</th>        <th class=\"col_heading level0 col1\" >2_bench</th>        <th class=\"col_heading level0 col2\" >1_ctx</th>        <th class=\"col_heading level0 col3\" >2_ctx</th>        <th class=\"col_heading level0 col4\" >cta_quota</th>    </tr></thead><tbody>\n",
       "                <tr>\n",
       "                                <td id=\"T_f5606179_9201_11ea_b432_107b4493f33brow0_col0\" class=\"data row0 col0\" >parb_sad-0</td>\n",
       "                        <td id=\"T_f5606179_9201_11ea_b432_107b4493f33brow0_col1\" class=\"data row0 col1\" >nvd_conv-0</td>\n",
       "                        <td id=\"T_f5606179_9201_11ea_b432_107b4493f33brow0_col2\" class=\"data row0 col2\" >0.5</td>\n",
       "                        <td id=\"T_f5606179_9201_11ea_b432_107b4493f33brow0_col3\" class=\"data row0 col3\" >0.5</td>\n",
       "                        <td id=\"T_f5606179_9201_11ea_b432_107b4493f33brow0_col4\" class=\"data row0 col4\" >[[], [8, 2, 2], [16, 8]]</td>\n",
       "            </tr>\n",
       "            <tr>\n",
       "                                <td id=\"T_f5606179_9201_11ea_b432_107b4493f33brow1_col0\" class=\"data row1 col0\" >parb_sad-0</td>\n",
       "                        <td id=\"T_f5606179_9201_11ea_b432_107b4493f33brow1_col1\" class=\"data row1 col1\" >nvd_conv-0</td>\n",
       "                        <td id=\"T_f5606179_9201_11ea_b432_107b4493f33brow1_col2\" class=\"data row1 col2\" >0.25</td>\n",
       "                        <td id=\"T_f5606179_9201_11ea_b432_107b4493f33brow1_col3\" class=\"data row1 col3\" >0.75</td>\n",
       "                        <td id=\"T_f5606179_9201_11ea_b432_107b4493f33brow1_col4\" class=\"data row1 col4\" >[[], [4, 2, 2], [24, 12]]</td>\n",
       "            </tr>\n",
       "            <tr>\n",
       "                                <td id=\"T_f5606179_9201_11ea_b432_107b4493f33brow2_col0\" class=\"data row2 col0\" >parb_sad-0</td>\n",
       "                        <td id=\"T_f5606179_9201_11ea_b432_107b4493f33brow2_col1\" class=\"data row2 col1\" >nvd_conv-0</td>\n",
       "                        <td id=\"T_f5606179_9201_11ea_b432_107b4493f33brow2_col2\" class=\"data row2 col2\" >0.75</td>\n",
       "                        <td id=\"T_f5606179_9201_11ea_b432_107b4493f33brow2_col3\" class=\"data row2 col3\" >0.25</td>\n",
       "                        <td id=\"T_f5606179_9201_11ea_b432_107b4493f33brow2_col4\" class=\"data row2 col4\" >[[], [12, 2, 2], [8, 4]]</td>\n",
       "            </tr>\n",
       "            <tr>\n",
       "                                <td id=\"T_f5606179_9201_11ea_b432_107b4493f33brow3_col0\" class=\"data row3 col0\" >parb_sad-1</td>\n",
       "                        <td id=\"T_f5606179_9201_11ea_b432_107b4493f33brow3_col1\" class=\"data row3 col1\" >nvd_conv-0</td>\n",
       "                        <td id=\"T_f5606179_9201_11ea_b432_107b4493f33brow3_col2\" class=\"data row3 col2\" >0.5</td>\n",
       "                        <td id=\"T_f5606179_9201_11ea_b432_107b4493f33brow3_col3\" class=\"data row3 col3\" >0.5</td>\n",
       "                        <td id=\"T_f5606179_9201_11ea_b432_107b4493f33brow3_col4\" class=\"data row3 col4\" >[[], [8, 8, 16], [16, 8]]</td>\n",
       "            </tr>\n",
       "            <tr>\n",
       "                                <td id=\"T_f5606179_9201_11ea_b432_107b4493f33brow4_col0\" class=\"data row4 col0\" >parb_sad-1</td>\n",
       "                        <td id=\"T_f5606179_9201_11ea_b432_107b4493f33brow4_col1\" class=\"data row4 col1\" >nvd_conv-0</td>\n",
       "                        <td id=\"T_f5606179_9201_11ea_b432_107b4493f33brow4_col2\" class=\"data row4 col2\" >0.25</td>\n",
       "                        <td id=\"T_f5606179_9201_11ea_b432_107b4493f33brow4_col3\" class=\"data row4 col3\" >0.75</td>\n",
       "                        <td id=\"T_f5606179_9201_11ea_b432_107b4493f33brow4_col4\" class=\"data row4 col4\" >[[], [4, 4, 8], [24, 12]]</td>\n",
       "            </tr>\n",
       "            <tr>\n",
       "                                <td id=\"T_f5606179_9201_11ea_b432_107b4493f33brow5_col0\" class=\"data row5 col0\" >parb_sad-1</td>\n",
       "                        <td id=\"T_f5606179_9201_11ea_b432_107b4493f33brow5_col1\" class=\"data row5 col1\" >nvd_conv-0</td>\n",
       "                        <td id=\"T_f5606179_9201_11ea_b432_107b4493f33brow5_col2\" class=\"data row5 col2\" >0.75</td>\n",
       "                        <td id=\"T_f5606179_9201_11ea_b432_107b4493f33brow5_col3\" class=\"data row5 col3\" >0.25</td>\n",
       "                        <td id=\"T_f5606179_9201_11ea_b432_107b4493f33brow5_col4\" class=\"data row5 col4\" >[[], [12, 12, 24], [8, 4]]</td>\n",
       "            </tr>\n",
       "    </tbody></table>"
      ],
      "text/plain": [
       "<pandas.io.formats.style.Styler at 0x7f5858319f60>"
      ]
     },
     "execution_count": 11,
     "metadata": {},
     "output_type": "execute_result"
    }
   ],
   "source": [
    "df_ctx= pd.read_pickle(output)\n",
    "uniq_pairs = df_ctx[['1_bench', '2_bench']].drop_duplicates().values\n",
    "uniq_pairs = ['+'.join(x) for x in uniq_pairs]\n",
    "\n",
    "col_ctx = ['1_bench', '2_bench', '1_ctx', '2_ctx', \n",
    "           'cta_quota',\n",
    "#            'runtime', 'norm_runtime'\n",
    "          ]\n",
    "draw_table(df_ctx, col_ctx)"
   ]
  },
  {
   "cell_type": "code",
   "execution_count": 12,
   "metadata": {
    "scrolled": false
   },
   "outputs": [
    {
     "data": {
      "application/vnd.jupyter.widget-view+json": {
       "model_id": "3b2f8f1d173c4082bd2edd90cdc3f77f",
       "version_major": 2,
       "version_minor": 0
      },
      "text/plain": [
       "Dropdown(description='Pair:', index=1, options=('parb_sad-0+nvd_conv-0', 'parb_sad-1+nvd_conv-0'), value='parb…"
      ]
     },
     "metadata": {},
     "output_type": "display_data"
    },
    {
     "data": {
      "application/vnd.jupyter.widget-view+json": {
       "model_id": "d1ec9fd663c84f918a600fe62bfb6107",
       "version_major": 2,
       "version_minor": 0
      },
      "text/plain": [
       "Button(button_style='info', description='Best', style=ButtonStyle())"
      ]
     },
     "metadata": {},
     "output_type": "display_data"
    },
    {
     "data": {
      "text/html": [
       "\n",
       "<div id=\"altair-viz-4b0c2dffdb3d4f76b0c85cdf6795b6db\"></div>\n",
       "<script type=\"text/javascript\">\n",
       "  (function(spec, embedOpt){\n",
       "    let outputDiv = document.currentScript.previousElementSibling;\n",
       "    if (outputDiv.id !== \"altair-viz-4b0c2dffdb3d4f76b0c85cdf6795b6db\") {\n",
       "      outputDiv = document.getElementById(\"altair-viz-4b0c2dffdb3d4f76b0c85cdf6795b6db\");\n",
       "    }\n",
       "    const paths = {\n",
       "      \"vega\": \"https://cdn.jsdelivr.net/npm//vega@5?noext\",\n",
       "      \"vega-lib\": \"https://cdn.jsdelivr.net/npm//vega-lib?noext\",\n",
       "      \"vega-lite\": \"https://cdn.jsdelivr.net/npm//vega-lite@4.8.1?noext\",\n",
       "      \"vega-embed\": \"https://cdn.jsdelivr.net/npm//vega-embed@6?noext\",\n",
       "    };\n",
       "\n",
       "    function loadScript(lib) {\n",
       "      return new Promise(function(resolve, reject) {\n",
       "        var s = document.createElement('script');\n",
       "        s.src = paths[lib];\n",
       "        s.async = true;\n",
       "        s.onload = () => resolve(paths[lib]);\n",
       "        s.onerror = () => reject(`Error loading script: ${paths[lib]}`);\n",
       "        document.getElementsByTagName(\"head\")[0].appendChild(s);\n",
       "      });\n",
       "    }\n",
       "\n",
       "    function showError(err) {\n",
       "      outputDiv.innerHTML = `<div class=\"error\" style=\"color:red;\">${err}</div>`;\n",
       "      throw err;\n",
       "    }\n",
       "\n",
       "    function displayChart(vegaEmbed) {\n",
       "      vegaEmbed(outputDiv, spec, embedOpt)\n",
       "        .catch(err => showError(`Javascript Error: ${err.message}<br>This usually means there's a typo in your chart specification. See the javascript console for the full traceback.`));\n",
       "    }\n",
       "\n",
       "    if(typeof define === \"function\" && define.amd) {\n",
       "      requirejs.config({paths});\n",
       "      require([\"vega-embed\"], displayChart, err => showError(`Error loading script: ${err.message}`));\n",
       "    } else if (typeof vegaEmbed === \"function\") {\n",
       "      displayChart(vegaEmbed);\n",
       "    } else {\n",
       "      loadScript(\"vega\")\n",
       "        .then(() => loadScript(\"vega-lite\"))\n",
       "        .then(() => loadScript(\"vega-embed\"))\n",
       "        .catch(showError)\n",
       "        .then(() => displayChart(vegaEmbed));\n",
       "    }\n",
       "  })({\"config\": {\"view\": {\"continuousWidth\": 400, \"continuousHeight\": 300}, \"axis\": {\"grid\": false}, \"header\": {\"titleColor\": \"black\", \"titleFontSize\": 14}}, \"layer\": [{\"mark\": \"bar\", \"encoding\": {\"color\": {\"type\": \"nominal\", \"field\": \"kernel\", \"legend\": null, \"scale\": {\"scheme\": \"pastel1\"}}, \"x\": {\"type\": \"quantitative\", \"field\": \"start\", \"title\": \"Cycles\"}, \"x2\": {\"field\": \"end\"}, \"y\": {\"type\": \"nominal\", \"field\": \"stream\", \"sort\": null}}, \"height\": 100, \"title\": \"1_ctx = 0.25\", \"width\": 900}, {\"mark\": {\"type\": \"text\", \"align\": \"center\", \"angle\": 90, \"baseline\": \"middle\", \"color\": \"black\", \"fontSize\": 12}, \"encoding\": {\"text\": {\"type\": \"quantitative\", \"field\": \"norm\"}, \"x\": {\"type\": \"quantitative\", \"field\": \"position\"}, \"y\": {\"type\": \"nominal\", \"field\": \"stream\", \"sort\": null, \"title\": null}}}], \"data\": {\"name\": \"data-0f7b942124bed7e009524b2335941210\"}, \"$schema\": \"https://vega.github.io/schema/vega-lite/v4.8.1.json\", \"datasets\": {\"data-0f7b942124bed7e009524b2335941210\": [{\"start\": 0, \"end\": 7749491, \"stream\": \"1: parb_sad-1\", \"kernel\": \"1:1\", \"position\": 3874745.5, \"norm\": 0.39}, {\"start\": 7749491, \"end\": 11388246, \"stream\": \"1: parb_sad-1\", \"kernel\": \"1:2\", \"position\": 9568868.5, \"norm\": 0.64}, {\"start\": 11388246, \"end\": 12270711, \"stream\": \"1: parb_sad-1\", \"kernel\": \"1:3\", \"position\": 11829478.5, \"norm\": 0.61}, {\"start\": 0, \"end\": 202694, \"stream\": \"2: nvd_conv-0\", \"kernel\": \"2:1\", \"position\": 101347.0, \"norm\": 0.94}, {\"start\": 202694, \"end\": 435379, \"stream\": \"2: nvd_conv-0\", \"kernel\": \"2:2\", \"position\": 319036.5, \"norm\": 0.89}, {\"start\": 435379, \"end\": 641503, \"stream\": \"2: nvd_conv-0\", \"kernel\": \"2:1\", \"position\": 538441.0, \"norm\": 0.92}, {\"start\": 641503, \"end\": 864653, \"stream\": \"2: nvd_conv-0\", \"kernel\": \"2:2\", \"position\": 753078.0, \"norm\": 0.93}, {\"start\": 864653, \"end\": 1069444, \"stream\": \"2: nvd_conv-0\", \"kernel\": \"2:1\", \"position\": 967048.5, \"norm\": 0.93}, {\"start\": 1069444, \"end\": 1295852, \"stream\": \"2: nvd_conv-0\", \"kernel\": \"2:2\", \"position\": 1182648.0, \"norm\": 0.92}, {\"start\": 1295852, \"end\": 1501746, \"stream\": \"2: nvd_conv-0\", \"kernel\": \"2:1\", \"position\": 1398799.0, \"norm\": 0.92}, {\"start\": 1501746, \"end\": 1724063, \"stream\": \"2: nvd_conv-0\", \"kernel\": \"2:2\", \"position\": 1612904.5, \"norm\": 0.94}, {\"start\": 1724063, \"end\": 1930252, \"stream\": \"2: nvd_conv-0\", \"kernel\": \"2:1\", \"position\": 1827157.5, \"norm\": 0.92}, {\"start\": 1930252, \"end\": 2157734, \"stream\": \"2: nvd_conv-0\", \"kernel\": \"2:2\", \"position\": 2043993.0, \"norm\": 0.92}, {\"start\": 2157734, \"end\": 2364951, \"stream\": \"2: nvd_conv-0\", \"kernel\": \"2:1\", \"position\": 2261342.5, \"norm\": 0.92}, {\"start\": 2364951, \"end\": 2587898, \"stream\": \"2: nvd_conv-0\", \"kernel\": \"2:2\", \"position\": 2476424.5, \"norm\": 0.93}, {\"start\": 2587898, \"end\": 2794203, \"stream\": \"2: nvd_conv-0\", \"kernel\": \"2:1\", \"position\": 2691050.5, \"norm\": 0.92}, {\"start\": 2794203, \"end\": 3018779, \"stream\": \"2: nvd_conv-0\", \"kernel\": \"2:2\", \"position\": 2906491.0, \"norm\": 0.93}, {\"start\": 3018779, \"end\": 3226058, \"stream\": \"2: nvd_conv-0\", \"kernel\": \"2:1\", \"position\": 3122418.5, \"norm\": 0.92}, {\"start\": 3226058, \"end\": 3449992, \"stream\": \"2: nvd_conv-0\", \"kernel\": \"2:2\", \"position\": 3338025.0, \"norm\": 0.93}, {\"start\": 3449992, \"end\": 3656642, \"stream\": \"2: nvd_conv-0\", \"kernel\": \"2:1\", \"position\": 3553317.0, \"norm\": 0.92}, {\"start\": 3656642, \"end\": 3881949, \"stream\": \"2: nvd_conv-0\", \"kernel\": \"2:2\", \"position\": 3769295.5, \"norm\": 0.92}, {\"start\": 3881949, \"end\": 4086839, \"stream\": \"2: nvd_conv-0\", \"kernel\": \"2:1\", \"position\": 3984394.0, \"norm\": 0.93}, {\"start\": 4086839, \"end\": 4311002, \"stream\": \"2: nvd_conv-0\", \"kernel\": \"2:2\", \"position\": 4198920.5, \"norm\": 0.93}, {\"start\": 4311002, \"end\": 4516905, \"stream\": \"2: nvd_conv-0\", \"kernel\": \"2:1\", \"position\": 4413953.5, \"norm\": 0.92}, {\"start\": 4516905, \"end\": 4740729, \"stream\": \"2: nvd_conv-0\", \"kernel\": \"2:2\", \"position\": 4628817.0, \"norm\": 0.93}, {\"start\": 4740729, \"end\": 4946800, \"stream\": \"2: nvd_conv-0\", \"kernel\": \"2:1\", \"position\": 4843764.5, \"norm\": 0.92}, {\"start\": 4946800, \"end\": 5171022, \"stream\": \"2: nvd_conv-0\", \"kernel\": \"2:2\", \"position\": 5058911.0, \"norm\": 0.93}, {\"start\": 5171022, \"end\": 5376668, \"stream\": \"2: nvd_conv-0\", \"kernel\": \"2:1\", \"position\": 5273845.0, \"norm\": 0.93}, {\"start\": 5376668, \"end\": 5602110, \"stream\": \"2: nvd_conv-0\", \"kernel\": \"2:2\", \"position\": 5489389.0, \"norm\": 0.92}, {\"start\": 5602110, \"end\": 5808270, \"stream\": \"2: nvd_conv-0\", \"kernel\": \"2:1\", \"position\": 5705190.0, \"norm\": 0.92}, {\"start\": 5808270, \"end\": 6033773, \"stream\": \"2: nvd_conv-0\", \"kernel\": \"2:2\", \"position\": 5921021.5, \"norm\": 0.92}, {\"start\": 6033773, \"end\": 6239015, \"stream\": \"2: nvd_conv-0\", \"kernel\": \"2:1\", \"position\": 6136394.0, \"norm\": 0.93}, {\"start\": 6239015, \"end\": 6463198, \"stream\": \"2: nvd_conv-0\", \"kernel\": \"2:2\", \"position\": 6351106.5, \"norm\": 0.93}, {\"start\": 6463198, \"end\": 6670548, \"stream\": \"2: nvd_conv-0\", \"kernel\": \"2:1\", \"position\": 6566873.0, \"norm\": 0.92}, {\"start\": 6670548, \"end\": 6896035, \"stream\": \"2: nvd_conv-0\", \"kernel\": \"2:2\", \"position\": 6783291.5, \"norm\": 0.92}, {\"start\": 6896035, \"end\": 7102465, \"stream\": \"2: nvd_conv-0\", \"kernel\": \"2:1\", \"position\": 6999250.0, \"norm\": 0.92}, {\"start\": 7102465, \"end\": 7325751, \"stream\": \"2: nvd_conv-0\", \"kernel\": \"2:2\", \"position\": 7214108.0, \"norm\": 0.93}, {\"start\": 7325751, \"end\": 7532207, \"stream\": \"2: nvd_conv-0\", \"kernel\": \"2:1\", \"position\": 7428979.0, \"norm\": 0.92}, {\"start\": 7532207, \"end\": 7767532, \"stream\": \"2: nvd_conv-0\", \"kernel\": \"2:2\", \"position\": 7649869.5, \"norm\": 0.88}, {\"start\": 7767532, \"end\": 8207052, \"stream\": \"2: nvd_conv-0\", \"kernel\": \"2:1\", \"position\": 7987292.0, \"norm\": 0.43}, {\"start\": 8207052, \"end\": 8649902, \"stream\": \"2: nvd_conv-0\", \"kernel\": \"2:2\", \"position\": 8428477.0, \"norm\": 0.47}, {\"start\": 8649902, \"end\": 9073669, \"stream\": \"2: nvd_conv-0\", \"kernel\": \"2:1\", \"position\": 8861785.5, \"norm\": 0.45}, {\"start\": 9073669, \"end\": 9509579, \"stream\": \"2: nvd_conv-0\", \"kernel\": \"2:2\", \"position\": 9291624.0, \"norm\": 0.48}, {\"start\": 9509579, \"end\": 9932032, \"stream\": \"2: nvd_conv-0\", \"kernel\": \"2:1\", \"position\": 9720805.5, \"norm\": 0.45}, {\"start\": 9932032, \"end\": 10369170, \"stream\": \"2: nvd_conv-0\", \"kernel\": \"2:2\", \"position\": 10150601.0, \"norm\": 0.48}, {\"start\": 10369170, \"end\": 10795826, \"stream\": \"2: nvd_conv-0\", \"kernel\": \"2:1\", \"position\": 10582498.0, \"norm\": 0.45}, {\"start\": 10795826, \"end\": 11233933, \"stream\": \"2: nvd_conv-0\", \"kernel\": \"2:2\", \"position\": 11014879.5, \"norm\": 0.48}, {\"start\": 11233933, \"end\": 11604563, \"stream\": \"2: nvd_conv-0\", \"kernel\": \"2:1\", \"position\": 11419248.0, \"norm\": 0.51}, {\"start\": 11604563, \"end\": 12021546, \"stream\": \"2: nvd_conv-0\", \"kernel\": \"2:2\", \"position\": 11813054.5, \"norm\": 0.5}, {\"start\": 12021546, \"end\": 12324741, \"stream\": \"2: nvd_conv-0\", \"kernel\": \"2:1\", \"position\": 12173143.5, \"norm\": 0.63}, {\"start\": 12324741, \"end\": 12520405, \"stream\": \"2: nvd_conv-0\", \"kernel\": \"2:2\", \"position\": 12422573.0, \"norm\": 1.06}]}}, {\"mode\": \"vega-lite\"});\n",
       "</script>"
      ],
      "text/plain": [
       "alt.LayerChart(...)"
      ]
     },
     "metadata": {},
     "output_type": "display_data"
    },
    {
     "name": "stdout",
     "output_type": "stream",
     "text": [
      "Note:\n",
      "parb_sad-1 : [4, 4, 8] CTAs/SM\n",
      "nvd_conv-0 : [24, 12] CTAs/SM\n"
     ]
    },
    {
     "data": {
      "text/html": [
       "\n",
       "<div id=\"altair-viz-6340e08ff92d4a5fbf51951edabc7c85\"></div>\n",
       "<script type=\"text/javascript\">\n",
       "  (function(spec, embedOpt){\n",
       "    let outputDiv = document.currentScript.previousElementSibling;\n",
       "    if (outputDiv.id !== \"altair-viz-6340e08ff92d4a5fbf51951edabc7c85\") {\n",
       "      outputDiv = document.getElementById(\"altair-viz-6340e08ff92d4a5fbf51951edabc7c85\");\n",
       "    }\n",
       "    const paths = {\n",
       "      \"vega\": \"https://cdn.jsdelivr.net/npm//vega@5?noext\",\n",
       "      \"vega-lib\": \"https://cdn.jsdelivr.net/npm//vega-lib?noext\",\n",
       "      \"vega-lite\": \"https://cdn.jsdelivr.net/npm//vega-lite@4.8.1?noext\",\n",
       "      \"vega-embed\": \"https://cdn.jsdelivr.net/npm//vega-embed@6?noext\",\n",
       "    };\n",
       "\n",
       "    function loadScript(lib) {\n",
       "      return new Promise(function(resolve, reject) {\n",
       "        var s = document.createElement('script');\n",
       "        s.src = paths[lib];\n",
       "        s.async = true;\n",
       "        s.onload = () => resolve(paths[lib]);\n",
       "        s.onerror = () => reject(`Error loading script: ${paths[lib]}`);\n",
       "        document.getElementsByTagName(\"head\")[0].appendChild(s);\n",
       "      });\n",
       "    }\n",
       "\n",
       "    function showError(err) {\n",
       "      outputDiv.innerHTML = `<div class=\"error\" style=\"color:red;\">${err}</div>`;\n",
       "      throw err;\n",
       "    }\n",
       "\n",
       "    function displayChart(vegaEmbed) {\n",
       "      vegaEmbed(outputDiv, spec, embedOpt)\n",
       "        .catch(err => showError(`Javascript Error: ${err.message}<br>This usually means there's a typo in your chart specification. See the javascript console for the full traceback.`));\n",
       "    }\n",
       "\n",
       "    if(typeof define === \"function\" && define.amd) {\n",
       "      requirejs.config({paths});\n",
       "      require([\"vega-embed\"], displayChart, err => showError(`Error loading script: ${err.message}`));\n",
       "    } else if (typeof vegaEmbed === \"function\") {\n",
       "      displayChart(vegaEmbed);\n",
       "    } else {\n",
       "      loadScript(\"vega\")\n",
       "        .then(() => loadScript(\"vega-lite\"))\n",
       "        .then(() => loadScript(\"vega-embed\"))\n",
       "        .catch(showError)\n",
       "        .then(() => displayChart(vegaEmbed));\n",
       "    }\n",
       "  })({\"config\": {\"view\": {\"continuousWidth\": 400, \"continuousHeight\": 300}, \"axis\": {\"grid\": false}, \"header\": {\"titleColor\": \"black\", \"titleFontSize\": 14}}, \"layer\": [{\"mark\": \"bar\", \"encoding\": {\"color\": {\"type\": \"nominal\", \"field\": \"kernel\", \"legend\": null, \"scale\": {\"scheme\": \"pastel1\"}}, \"x\": {\"type\": \"quantitative\", \"field\": \"start\", \"title\": \"Cycles\"}, \"x2\": {\"field\": \"end\"}, \"y\": {\"type\": \"nominal\", \"field\": \"stream\", \"sort\": null}}, \"height\": 100, \"title\": \"1_ctx = 0.5\", \"width\": 900}, {\"mark\": {\"type\": \"text\", \"align\": \"center\", \"angle\": 90, \"baseline\": \"middle\", \"color\": \"black\", \"fontSize\": 12}, \"encoding\": {\"text\": {\"type\": \"quantitative\", \"field\": \"norm\"}, \"x\": {\"type\": \"quantitative\", \"field\": \"position\"}, \"y\": {\"type\": \"nominal\", \"field\": \"stream\", \"sort\": null, \"title\": null}}}], \"data\": {\"name\": \"data-1e707cc2f6e27a39bc8546a3fb7c2f63\"}, \"$schema\": \"https://vega.github.io/schema/vega-lite/v4.8.1.json\", \"datasets\": {\"data-1e707cc2f6e27a39bc8546a3fb7c2f63\": [{\"start\": 0, \"end\": 4815039, \"stream\": \"1: parb_sad-1\", \"kernel\": \"1:1\", \"position\": 2407519.5, \"norm\": 0.62}, {\"start\": 4815039, \"end\": 8599673, \"stream\": \"1: parb_sad-1\", \"kernel\": \"1:2\", \"position\": 6707356.0, \"norm\": 0.61}, {\"start\": 8599673, \"end\": 9506844, \"stream\": \"1: parb_sad-1\", \"kernel\": \"1:3\", \"position\": 9053258.5, \"norm\": 0.6}, {\"start\": 0, \"end\": 208799, \"stream\": \"2: nvd_conv-0\", \"kernel\": \"2:1\", \"position\": 104399.5, \"norm\": 0.91}, {\"start\": 208799, \"end\": 445570, \"stream\": \"2: nvd_conv-0\", \"kernel\": \"2:2\", \"position\": 327184.5, \"norm\": 0.88}, {\"start\": 445570, \"end\": 654925, \"stream\": \"2: nvd_conv-0\", \"kernel\": \"2:1\", \"position\": 550247.5, \"norm\": 0.91}, {\"start\": 654925, \"end\": 883728, \"stream\": \"2: nvd_conv-0\", \"kernel\": \"2:2\", \"position\": 769326.5, \"norm\": 0.91}, {\"start\": 883728, \"end\": 1091022, \"stream\": \"2: nvd_conv-0\", \"kernel\": \"2:1\", \"position\": 987375.0, \"norm\": 0.92}, {\"start\": 1091022, \"end\": 1319268, \"stream\": \"2: nvd_conv-0\", \"kernel\": \"2:2\", \"position\": 1205145.0, \"norm\": 0.91}, {\"start\": 1319268, \"end\": 1525613, \"stream\": \"2: nvd_conv-0\", \"kernel\": \"2:1\", \"position\": 1422440.5, \"norm\": 0.92}, {\"start\": 1525613, \"end\": 1757852, \"stream\": \"2: nvd_conv-0\", \"kernel\": \"2:2\", \"position\": 1641732.5, \"norm\": 0.9}, {\"start\": 1757852, \"end\": 1964211, \"stream\": \"2: nvd_conv-0\", \"kernel\": \"2:1\", \"position\": 1861031.5, \"norm\": 0.92}, {\"start\": 1964211, \"end\": 2192339, \"stream\": \"2: nvd_conv-0\", \"kernel\": \"2:2\", \"position\": 2078275.0, \"norm\": 0.91}, {\"start\": 2192339, \"end\": 2400068, \"stream\": \"2: nvd_conv-0\", \"kernel\": \"2:1\", \"position\": 2296203.5, \"norm\": 0.92}, {\"start\": 2400068, \"end\": 2628814, \"stream\": \"2: nvd_conv-0\", \"kernel\": \"2:2\", \"position\": 2514441.0, \"norm\": 0.91}, {\"start\": 2628814, \"end\": 2833395, \"stream\": \"2: nvd_conv-0\", \"kernel\": \"2:1\", \"position\": 2731104.5, \"norm\": 0.93}, {\"start\": 2833395, \"end\": 3062607, \"stream\": \"2: nvd_conv-0\", \"kernel\": \"2:2\", \"position\": 2948001.0, \"norm\": 0.91}, {\"start\": 3062607, \"end\": 3272226, \"stream\": \"2: nvd_conv-0\", \"kernel\": \"2:1\", \"position\": 3167416.5, \"norm\": 0.91}, {\"start\": 3272226, \"end\": 3500395, \"stream\": \"2: nvd_conv-0\", \"kernel\": \"2:2\", \"position\": 3386310.5, \"norm\": 0.91}, {\"start\": 3500395, \"end\": 3706773, \"stream\": \"2: nvd_conv-0\", \"kernel\": \"2:1\", \"position\": 3603584.0, \"norm\": 0.92}, {\"start\": 3706773, \"end\": 3933506, \"stream\": \"2: nvd_conv-0\", \"kernel\": \"2:2\", \"position\": 3820139.5, \"norm\": 0.92}, {\"start\": 3933506, \"end\": 4139534, \"stream\": \"2: nvd_conv-0\", \"kernel\": \"2:1\", \"position\": 4036520.0, \"norm\": 0.92}, {\"start\": 4139534, \"end\": 4368935, \"stream\": \"2: nvd_conv-0\", \"kernel\": \"2:2\", \"position\": 4254234.5, \"norm\": 0.91}, {\"start\": 4368935, \"end\": 4573800, \"stream\": \"2: nvd_conv-0\", \"kernel\": \"2:1\", \"position\": 4471367.5, \"norm\": 0.93}, {\"start\": 4573800, \"end\": 4802713, \"stream\": \"2: nvd_conv-0\", \"kernel\": \"2:2\", \"position\": 4688256.5, \"norm\": 0.91}, {\"start\": 4802713, \"end\": 5249488, \"stream\": \"2: nvd_conv-0\", \"kernel\": \"2:1\", \"position\": 5026100.5, \"norm\": 0.43}, {\"start\": 5249488, \"end\": 5735092, \"stream\": \"2: nvd_conv-0\", \"kernel\": \"2:2\", \"position\": 5492290.0, \"norm\": 0.43}, {\"start\": 5735092, \"end\": 6194699, \"stream\": \"2: nvd_conv-0\", \"kernel\": \"2:1\", \"position\": 5964895.5, \"norm\": 0.41}, {\"start\": 6194699, \"end\": 6674016, \"stream\": \"2: nvd_conv-0\", \"kernel\": \"2:2\", \"position\": 6434357.5, \"norm\": 0.43}, {\"start\": 6674016, \"end\": 7131208, \"stream\": \"2: nvd_conv-0\", \"kernel\": \"2:1\", \"position\": 6902612.0, \"norm\": 0.42}, {\"start\": 7131208, \"end\": 7606599, \"stream\": \"2: nvd_conv-0\", \"kernel\": \"2:2\", \"position\": 7368903.5, \"norm\": 0.44}, {\"start\": 7606599, \"end\": 8060160, \"stream\": \"2: nvd_conv-0\", \"kernel\": \"2:1\", \"position\": 7833379.5, \"norm\": 0.42}, {\"start\": 8060160, \"end\": 8531571, \"stream\": \"2: nvd_conv-0\", \"kernel\": \"2:2\", \"position\": 8295865.5, \"norm\": 0.44}, {\"start\": 8531571, \"end\": 8934473, \"stream\": \"2: nvd_conv-0\", \"kernel\": \"2:1\", \"position\": 8733022.0, \"norm\": 0.47}, {\"start\": 8934473, \"end\": 9375608, \"stream\": \"2: nvd_conv-0\", \"kernel\": \"2:2\", \"position\": 9155040.5, \"norm\": 0.47}, {\"start\": 9375608, \"end\": 9615352, \"stream\": \"2: nvd_conv-0\", \"kernel\": \"2:1\", \"position\": 9495480.0, \"norm\": 0.79}, {\"start\": 9615352, \"end\": 9793414, \"stream\": \"2: nvd_conv-0\", \"kernel\": \"2:2\", \"position\": 9704383.0, \"norm\": 1.17}]}}, {\"mode\": \"vega-lite\"});\n",
       "</script>"
      ],
      "text/plain": [
       "alt.LayerChart(...)"
      ]
     },
     "metadata": {},
     "output_type": "display_data"
    },
    {
     "name": "stdout",
     "output_type": "stream",
     "text": [
      "Note:\n",
      "parb_sad-1 : [8, 8, 16] CTAs/SM\n",
      "nvd_conv-0 : [16, 8] CTAs/SM\n"
     ]
    },
    {
     "data": {
      "text/html": [
       "\n",
       "<div id=\"altair-viz-f6cb715500384fd7aed4c95e7a4991c7\"></div>\n",
       "<script type=\"text/javascript\">\n",
       "  (function(spec, embedOpt){\n",
       "    let outputDiv = document.currentScript.previousElementSibling;\n",
       "    if (outputDiv.id !== \"altair-viz-f6cb715500384fd7aed4c95e7a4991c7\") {\n",
       "      outputDiv = document.getElementById(\"altair-viz-f6cb715500384fd7aed4c95e7a4991c7\");\n",
       "    }\n",
       "    const paths = {\n",
       "      \"vega\": \"https://cdn.jsdelivr.net/npm//vega@5?noext\",\n",
       "      \"vega-lib\": \"https://cdn.jsdelivr.net/npm//vega-lib?noext\",\n",
       "      \"vega-lite\": \"https://cdn.jsdelivr.net/npm//vega-lite@4.8.1?noext\",\n",
       "      \"vega-embed\": \"https://cdn.jsdelivr.net/npm//vega-embed@6?noext\",\n",
       "    };\n",
       "\n",
       "    function loadScript(lib) {\n",
       "      return new Promise(function(resolve, reject) {\n",
       "        var s = document.createElement('script');\n",
       "        s.src = paths[lib];\n",
       "        s.async = true;\n",
       "        s.onload = () => resolve(paths[lib]);\n",
       "        s.onerror = () => reject(`Error loading script: ${paths[lib]}`);\n",
       "        document.getElementsByTagName(\"head\")[0].appendChild(s);\n",
       "      });\n",
       "    }\n",
       "\n",
       "    function showError(err) {\n",
       "      outputDiv.innerHTML = `<div class=\"error\" style=\"color:red;\">${err}</div>`;\n",
       "      throw err;\n",
       "    }\n",
       "\n",
       "    function displayChart(vegaEmbed) {\n",
       "      vegaEmbed(outputDiv, spec, embedOpt)\n",
       "        .catch(err => showError(`Javascript Error: ${err.message}<br>This usually means there's a typo in your chart specification. See the javascript console for the full traceback.`));\n",
       "    }\n",
       "\n",
       "    if(typeof define === \"function\" && define.amd) {\n",
       "      requirejs.config({paths});\n",
       "      require([\"vega-embed\"], displayChart, err => showError(`Error loading script: ${err.message}`));\n",
       "    } else if (typeof vegaEmbed === \"function\") {\n",
       "      displayChart(vegaEmbed);\n",
       "    } else {\n",
       "      loadScript(\"vega\")\n",
       "        .then(() => loadScript(\"vega-lite\"))\n",
       "        .then(() => loadScript(\"vega-embed\"))\n",
       "        .catch(showError)\n",
       "        .then(() => displayChart(vegaEmbed));\n",
       "    }\n",
       "  })({\"config\": {\"view\": {\"continuousWidth\": 400, \"continuousHeight\": 300}, \"axis\": {\"grid\": false}, \"header\": {\"titleColor\": \"black\", \"titleFontSize\": 14}}, \"layer\": [{\"mark\": \"bar\", \"encoding\": {\"color\": {\"type\": \"nominal\", \"field\": \"kernel\", \"legend\": null, \"scale\": {\"scheme\": \"pastel1\"}}, \"x\": {\"type\": \"quantitative\", \"field\": \"start\", \"title\": \"Cycles\"}, \"x2\": {\"field\": \"end\"}, \"y\": {\"type\": \"nominal\", \"field\": \"stream\", \"sort\": null}}, \"height\": 100, \"title\": \"1_ctx = 0.75\", \"width\": 900}, {\"mark\": {\"type\": \"text\", \"align\": \"center\", \"angle\": 90, \"baseline\": \"middle\", \"color\": \"black\", \"fontSize\": 12}, \"encoding\": {\"text\": {\"type\": \"quantitative\", \"field\": \"norm\"}, \"x\": {\"type\": \"quantitative\", \"field\": \"position\"}, \"y\": {\"type\": \"nominal\", \"field\": \"stream\", \"sort\": null, \"title\": null}}}], \"data\": {\"name\": \"data-124b879938cb64f66345b3a7df6edd87\"}, \"$schema\": \"https://vega.github.io/schema/vega-lite/v4.8.1.json\", \"datasets\": {\"data-124b879938cb64f66345b3a7df6edd87\": [{\"start\": 0, \"end\": 3746237, \"stream\": \"1: parb_sad-1\", \"kernel\": \"1:1\", \"position\": 1873118.5, \"norm\": 0.8}, {\"start\": 3746237, \"end\": 7099204, \"stream\": \"1: parb_sad-1\", \"kernel\": \"1:2\", \"position\": 5422720.5, \"norm\": 0.69}, {\"start\": 7099204, \"end\": 7924725, \"stream\": \"1: parb_sad-1\", \"kernel\": \"1:3\", \"position\": 7511964.5, \"norm\": 0.66}, {\"start\": 0, \"end\": 224531, \"stream\": \"2: nvd_conv-0\", \"kernel\": \"2:1\", \"position\": 112265.5, \"norm\": 0.85}, {\"start\": 224531, \"end\": 495263, \"stream\": \"2: nvd_conv-0\", \"kernel\": \"2:2\", \"position\": 359897.0, \"norm\": 0.77}, {\"start\": 495263, \"end\": 706611, \"stream\": \"2: nvd_conv-0\", \"kernel\": \"2:1\", \"position\": 600937.0, \"norm\": 0.9}, {\"start\": 706611, \"end\": 964601, \"stream\": \"2: nvd_conv-0\", \"kernel\": \"2:2\", \"position\": 835606.0, \"norm\": 0.81}, {\"start\": 964601, \"end\": 1173675, \"stream\": \"2: nvd_conv-0\", \"kernel\": \"2:1\", \"position\": 1069138.0, \"norm\": 0.91}, {\"start\": 1173675, \"end\": 1432413, \"stream\": \"2: nvd_conv-0\", \"kernel\": \"2:2\", \"position\": 1303044.0, \"norm\": 0.8}, {\"start\": 1432413, \"end\": 1641905, \"stream\": \"2: nvd_conv-0\", \"kernel\": \"2:1\", \"position\": 1537159.0, \"norm\": 0.91}, {\"start\": 1641905, \"end\": 1898729, \"stream\": \"2: nvd_conv-0\", \"kernel\": \"2:2\", \"position\": 1770317.0, \"norm\": 0.81}, {\"start\": 1898729, \"end\": 2107489, \"stream\": \"2: nvd_conv-0\", \"kernel\": \"2:1\", \"position\": 2003109.0, \"norm\": 0.91}, {\"start\": 2107489, \"end\": 2366216, \"stream\": \"2: nvd_conv-0\", \"kernel\": \"2:2\", \"position\": 2236852.5, \"norm\": 0.8}, {\"start\": 2366216, \"end\": 2576057, \"stream\": \"2: nvd_conv-0\", \"kernel\": \"2:1\", \"position\": 2471136.5, \"norm\": 0.91}, {\"start\": 2576057, \"end\": 2834332, \"stream\": \"2: nvd_conv-0\", \"kernel\": \"2:2\", \"position\": 2705194.5, \"norm\": 0.81}, {\"start\": 2834332, \"end\": 3043653, \"stream\": \"2: nvd_conv-0\", \"kernel\": \"2:1\", \"position\": 2938992.5, \"norm\": 0.91}, {\"start\": 3043653, \"end\": 3301292, \"stream\": \"2: nvd_conv-0\", \"kernel\": \"2:2\", \"position\": 3172472.5, \"norm\": 0.81}, {\"start\": 3301292, \"end\": 3510028, \"stream\": \"2: nvd_conv-0\", \"kernel\": \"2:1\", \"position\": 3405660.0, \"norm\": 0.91}, {\"start\": 3510028, \"end\": 3808639, \"stream\": \"2: nvd_conv-0\", \"kernel\": \"2:2\", \"position\": 3659333.5, \"norm\": 0.7}, {\"start\": 3808639, \"end\": 4282869, \"stream\": \"2: nvd_conv-0\", \"kernel\": \"2:1\", \"position\": 4045754.0, \"norm\": 0.4}, {\"start\": 4282869, \"end\": 5029535, \"stream\": \"2: nvd_conv-0\", \"kernel\": \"2:2\", \"position\": 4656202.0, \"norm\": 0.28}, {\"start\": 5029535, \"end\": 5506310, \"stream\": \"2: nvd_conv-0\", \"kernel\": \"2:1\", \"position\": 5267922.5, \"norm\": 0.4}, {\"start\": 5506310, \"end\": 6248766, \"stream\": \"2: nvd_conv-0\", \"kernel\": \"2:2\", \"position\": 5877538.0, \"norm\": 0.28}, {\"start\": 6248766, \"end\": 6725840, \"stream\": \"2: nvd_conv-0\", \"kernel\": \"2:1\", \"position\": 6487303.0, \"norm\": 0.4}, {\"start\": 6725840, \"end\": 7408708, \"stream\": \"2: nvd_conv-0\", \"kernel\": \"2:2\", \"position\": 7067274.0, \"norm\": 0.3}, {\"start\": 7408708, \"end\": 7867929, \"stream\": \"2: nvd_conv-0\", \"kernel\": \"2:1\", \"position\": 7638318.5, \"norm\": 0.41}, {\"start\": 7867929, \"end\": 8085362, \"stream\": \"2: nvd_conv-0\", \"kernel\": \"2:2\", \"position\": 7976645.5, \"norm\": 0.96}]}}, {\"mode\": \"vega-lite\"});\n",
       "</script>"
      ],
      "text/plain": [
       "alt.LayerChart(...)"
      ]
     },
     "metadata": {},
     "output_type": "display_data"
    },
    {
     "name": "stdout",
     "output_type": "stream",
     "text": [
      "Note:\n",
      "parb_sad-1 : [12, 12, 24] CTAs/SM\n",
      "nvd_conv-0 : [8, 4] CTAs/SM\n"
     ]
    }
   ],
   "source": [
    "ctx_dd = widgets.Dropdown(options=uniq_pairs, value=uniq_pairs[0], description='Pair:')\n",
    "\n",
    "ctx_btn = widgets.Button(description='Display', button_style='info')\n",
    "\n",
    "def show_widgets():\n",
    "    display(ctx_dd)\n",
    "    display(ctx_btn)\n",
    "    \n",
    "\n",
    "def ctx_onclick(b):\n",
    "    clear_output()\n",
    "    show_widgets()\n",
    "    \n",
    "    apps = ctx_dd.value.split('+')\n",
    "    df_apps = df_ctx[(df_ctx['1_bench'] == apps[0]) & (df_ctx['2_bench'] == apps[1])]\n",
    "    df_apps = df_apps.sort_values('1_ctx')\n",
    "    for rid, row in df_apps.iterrows():\n",
    "        gen_altair.draw_altair_timeline(row, '1_ctx').display()  \n",
    "        # Print ctas/SM for each kernel in each app\n",
    "        print('Note:')\n",
    "        print(row['1_bench'], ':', row['cta_quota'][1], 'CTAs/SM')\n",
    "        print(row['2_bench'], ':', row['cta_quota'][2], 'CTAs/SM')\n",
    "\n",
    "show_widgets()\n",
    "ctx_btn.on_click(ctx_onclick)\n",
    " "
   ]
  },
  {
   "cell_type": "code",
   "execution_count": null,
   "metadata": {},
   "outputs": [],
   "source": []
  },
  {
   "cell_type": "markdown",
   "metadata": {},
   "source": [
    "# Pair-Dynamic"
   ]
  },
  {
   "cell_type": "code",
   "execution_count": 17,
   "metadata": {},
   "outputs": [
    {
     "name": "stdout",
     "output_type": "stream",
     "text": [
      "Index(['pair_str', 'config', 'gpusim_version', 'jobId', 'stall_icnt_to_l2',\n",
      "       'stall_l2_to_icnt', 'stall_core_ldst', 'l1D_miss_rate', 'l2_miss_rate',\n",
      "       'l2_rshr_entry_fail', 'l2_rshr_merge_fail', 'l2_total_accesses',\n",
      "       'mem_count', 'empty_warp', 'stall_warp', 'idle_warp', 'scoreboard_warp',\n",
      "       'tot_warp_insn', 'runtime', 'instructions', 'l2_bw', 'avg_mem_lat',\n",
      "       'avg_core_to_l2', 'avg_l2_to_core', 'avg_mrq_latency', 'dram_eff',\n",
      "       'dram_bw', 'row_buffer_locality', 'mem_idle', 'total_cmd'],\n",
      "      dtype='object')\n"
     ]
    }
   ],
   "source": [
    "dynamic_csv = os.path.join(CSV_PATH, 'pair_dynamic_multi.csv')\n",
    "dynamic_output = os.path.join(PKL_PATH, 'pair_dynamic_multi.pkl')\n",
    "%run $gen_pair --csv $dynamic_csv --output $dynamic_output --seq_pkl $seq_pkl --qos 0.5 --how dynamic --multi --isolated_pkl $intra_pkl"
   ]
  },
  {
   "cell_type": "code",
   "execution_count": 18,
   "metadata": {},
   "outputs": [
    {
     "data": {
      "text/html": [
       "<style  type=\"text/css\" >\n",
       "    #T_02bc37fc_9202_11ea_b432_107b4493f33b tr:nth-of-type(odd) {\n",
       "          background: #eee;\n",
       "    }    #T_02bc37fc_9202_11ea_b432_107b4493f33b tr:nth-of-type(even) {\n",
       "          background: white;\n",
       "    }    #T_02bc37fc_9202_11ea_b432_107b4493f33b th {\n",
       "          background: #606060;\n",
       "          color: white;\n",
       "          font-family: verdana;\n",
       "          font-size: 90%;\n",
       "    }    #T_02bc37fc_9202_11ea_b432_107b4493f33b td {\n",
       "          font-family: verdana;\n",
       "          font-size: 90%;\n",
       "          font-weight: bold;\n",
       "    }    #T_02bc37fc_9202_11ea_b432_107b4493f33b tr:hover {\n",
       "          background-color: #ffffcc;\n",
       "    }</style><table id=\"T_02bc37fc_9202_11ea_b432_107b4493f33b\" ><thead>    <tr>        <th class=\"col_heading level0 col0\" >1_bench</th>        <th class=\"col_heading level0 col1\" >1_kidx</th>        <th class=\"col_heading level0 col2\" >1_intra</th>        <th class=\"col_heading level0 col3\" >2_bench</th>        <th class=\"col_heading level0 col4\" >2_kidx</th>        <th class=\"col_heading level0 col5\" >2_intra</th>        <th class=\"col_heading level0 col6\" >sld</th>        <th class=\"col_heading level0 col7\" >ws</th>    </tr></thead><tbody>\n",
       "                <tr>\n",
       "                                <td id=\"T_02bc37fc_9202_11ea_b432_107b4493f33brow0_col0\" class=\"data row0 col0\" >parb_sad-1</td>\n",
       "                        <td id=\"T_02bc37fc_9202_11ea_b432_107b4493f33brow0_col1\" class=\"data row0 col1\" >3</td>\n",
       "                        <td id=\"T_02bc37fc_9202_11ea_b432_107b4493f33brow0_col2\" class=\"data row0 col2\" >12</td>\n",
       "                        <td id=\"T_02bc37fc_9202_11ea_b432_107b4493f33brow0_col3\" class=\"data row0 col3\" >nvd_conv-0</td>\n",
       "                        <td id=\"T_02bc37fc_9202_11ea_b432_107b4493f33brow0_col4\" class=\"data row0 col4\" >1</td>\n",
       "                        <td id=\"T_02bc37fc_9202_11ea_b432_107b4493f33brow0_col5\" class=\"data row0 col5\" >16</td>\n",
       "                        <td id=\"T_02bc37fc_9202_11ea_b432_107b4493f33brow0_col6\" class=\"data row0 col6\" >[0, 0.6081810631229236, 0.4447689769748064]</td>\n",
       "                        <td id=\"T_02bc37fc_9202_11ea_b432_107b4493f33brow0_col7\" class=\"data row0 col7\" >1.05295</td>\n",
       "            </tr>\n",
       "            <tr>\n",
       "                                <td id=\"T_02bc37fc_9202_11ea_b432_107b4493f33brow1_col0\" class=\"data row1 col0\" >parb_sad-1</td>\n",
       "                        <td id=\"T_02bc37fc_9202_11ea_b432_107b4493f33brow1_col1\" class=\"data row1 col1\" >2</td>\n",
       "                        <td id=\"T_02bc37fc_9202_11ea_b432_107b4493f33brow1_col2\" class=\"data row1 col2\" >4</td>\n",
       "                        <td id=\"T_02bc37fc_9202_11ea_b432_107b4493f33brow1_col3\" class=\"data row1 col3\" >nvd_conv-0</td>\n",
       "                        <td id=\"T_02bc37fc_9202_11ea_b432_107b4493f33brow1_col4\" class=\"data row1 col4\" >2</td>\n",
       "                        <td id=\"T_02bc37fc_9202_11ea_b432_107b4493f33brow1_col5\" class=\"data row1 col5\" >8</td>\n",
       "                        <td id=\"T_02bc37fc_9202_11ea_b432_107b4493f33brow1_col6\" class=\"data row1 col6\" >[0, 0.6549559962488144, 0.44567193130070076]</td>\n",
       "                        <td id=\"T_02bc37fc_9202_11ea_b432_107b4493f33brow1_col7\" class=\"data row1 col7\" >1.10063</td>\n",
       "            </tr>\n",
       "            <tr>\n",
       "                                <td id=\"T_02bc37fc_9202_11ea_b432_107b4493f33brow2_col0\" class=\"data row2 col0\" >parb_sad-1</td>\n",
       "                        <td id=\"T_02bc37fc_9202_11ea_b432_107b4493f33brow2_col1\" class=\"data row2 col1\" >2</td>\n",
       "                        <td id=\"T_02bc37fc_9202_11ea_b432_107b4493f33brow2_col2\" class=\"data row2 col2\" >4</td>\n",
       "                        <td id=\"T_02bc37fc_9202_11ea_b432_107b4493f33brow2_col3\" class=\"data row2 col3\" >nvd_conv-0</td>\n",
       "                        <td id=\"T_02bc37fc_9202_11ea_b432_107b4493f33brow2_col4\" class=\"data row2 col4\" >1</td>\n",
       "                        <td id=\"T_02bc37fc_9202_11ea_b432_107b4493f33brow2_col5\" class=\"data row2 col5\" >12</td>\n",
       "                        <td id=\"T_02bc37fc_9202_11ea_b432_107b4493f33brow2_col6\" class=\"data row2 col6\" >[0, 0.6733531740974924, 0.42887431364022466]</td>\n",
       "                        <td id=\"T_02bc37fc_9202_11ea_b432_107b4493f33brow2_col7\" class=\"data row2 col7\" >1.10223</td>\n",
       "            </tr>\n",
       "            <tr>\n",
       "                                <td id=\"T_02bc37fc_9202_11ea_b432_107b4493f33brow3_col0\" class=\"data row3 col0\" >parb_sad-1</td>\n",
       "                        <td id=\"T_02bc37fc_9202_11ea_b432_107b4493f33brow3_col1\" class=\"data row3 col1\" >3</td>\n",
       "                        <td id=\"T_02bc37fc_9202_11ea_b432_107b4493f33brow3_col2\" class=\"data row3 col2\" >8</td>\n",
       "                        <td id=\"T_02bc37fc_9202_11ea_b432_107b4493f33brow3_col3\" class=\"data row3 col3\" >nvd_conv-0</td>\n",
       "                        <td id=\"T_02bc37fc_9202_11ea_b432_107b4493f33brow3_col4\" class=\"data row3 col4\" >2</td>\n",
       "                        <td id=\"T_02bc37fc_9202_11ea_b432_107b4493f33brow3_col5\" class=\"data row3 col5\" >10</td>\n",
       "                        <td id=\"T_02bc37fc_9202_11ea_b432_107b4493f33brow3_col6\" class=\"data row3 col6\" >[0, 0.6267842353409306, 0.49395383271954135]</td>\n",
       "                        <td id=\"T_02bc37fc_9202_11ea_b432_107b4493f33brow3_col7\" class=\"data row3 col7\" >1.12074</td>\n",
       "            </tr>\n",
       "            <tr>\n",
       "                                <td id=\"T_02bc37fc_9202_11ea_b432_107b4493f33brow4_col0\" class=\"data row4 col0\" >parb_sad-0</td>\n",
       "                        <td id=\"T_02bc37fc_9202_11ea_b432_107b4493f33brow4_col1\" class=\"data row4 col1\" >2</td>\n",
       "                        <td id=\"T_02bc37fc_9202_11ea_b432_107b4493f33brow4_col2\" class=\"data row4 col2\" >2</td>\n",
       "                        <td id=\"T_02bc37fc_9202_11ea_b432_107b4493f33brow4_col3\" class=\"data row4 col3\" >nvd_conv-0</td>\n",
       "                        <td id=\"T_02bc37fc_9202_11ea_b432_107b4493f33brow4_col4\" class=\"data row4 col4\" >2</td>\n",
       "                        <td id=\"T_02bc37fc_9202_11ea_b432_107b4493f33brow4_col5\" class=\"data row4 col5\" >10</td>\n",
       "                        <td id=\"T_02bc37fc_9202_11ea_b432_107b4493f33brow4_col6\" class=\"data row4 col6\" >[0, 0.51141162514828, 0.6167401925202134]</td>\n",
       "                        <td id=\"T_02bc37fc_9202_11ea_b432_107b4493f33brow4_col7\" class=\"data row4 col7\" >1.12815</td>\n",
       "            </tr>\n",
       "            <tr>\n",
       "                                <td id=\"T_02bc37fc_9202_11ea_b432_107b4493f33brow5_col0\" class=\"data row5 col0\" >parb_sad-0</td>\n",
       "                        <td id=\"T_02bc37fc_9202_11ea_b432_107b4493f33brow5_col1\" class=\"data row5 col1\" >2</td>\n",
       "                        <td id=\"T_02bc37fc_9202_11ea_b432_107b4493f33brow5_col2\" class=\"data row5 col2\" >2</td>\n",
       "                        <td id=\"T_02bc37fc_9202_11ea_b432_107b4493f33brow5_col3\" class=\"data row5 col3\" >nvd_conv-0</td>\n",
       "                        <td id=\"T_02bc37fc_9202_11ea_b432_107b4493f33brow5_col4\" class=\"data row5 col4\" >1</td>\n",
       "                        <td id=\"T_02bc37fc_9202_11ea_b432_107b4493f33brow5_col5\" class=\"data row5 col5\" >20</td>\n",
       "                        <td id=\"T_02bc37fc_9202_11ea_b432_107b4493f33brow5_col6\" class=\"data row5 col6\" >[0, 0.5388057090009248, 0.5973494512805546]</td>\n",
       "                        <td id=\"T_02bc37fc_9202_11ea_b432_107b4493f33brow5_col7\" class=\"data row5 col7\" >1.13616</td>\n",
       "            </tr>\n",
       "            <tr>\n",
       "                                <td id=\"T_02bc37fc_9202_11ea_b432_107b4493f33brow6_col0\" class=\"data row6 col0\" >parb_sad-0</td>\n",
       "                        <td id=\"T_02bc37fc_9202_11ea_b432_107b4493f33brow6_col1\" class=\"data row6 col1\" >1</td>\n",
       "                        <td id=\"T_02bc37fc_9202_11ea_b432_107b4493f33brow6_col2\" class=\"data row6 col2\" >4</td>\n",
       "                        <td id=\"T_02bc37fc_9202_11ea_b432_107b4493f33brow6_col3\" class=\"data row6 col3\" >nvd_conv-0</td>\n",
       "                        <td id=\"T_02bc37fc_9202_11ea_b432_107b4493f33brow6_col4\" class=\"data row6 col4\" >2</td>\n",
       "                        <td id=\"T_02bc37fc_9202_11ea_b432_107b4493f33brow6_col5\" class=\"data row6 col5\" >2</td>\n",
       "                        <td id=\"T_02bc37fc_9202_11ea_b432_107b4493f33brow6_col6\" class=\"data row6 col6\" >[0, 0.7312938177182919, 0.5808082499079251]</td>\n",
       "                        <td id=\"T_02bc37fc_9202_11ea_b432_107b4493f33brow6_col7\" class=\"data row6 col7\" >1.3121</td>\n",
       "            </tr>\n",
       "            <tr>\n",
       "                                <td id=\"T_02bc37fc_9202_11ea_b432_107b4493f33brow7_col0\" class=\"data row7 col0\" >parb_sad-0</td>\n",
       "                        <td id=\"T_02bc37fc_9202_11ea_b432_107b4493f33brow7_col1\" class=\"data row7 col1\" >3</td>\n",
       "                        <td id=\"T_02bc37fc_9202_11ea_b432_107b4493f33brow7_col2\" class=\"data row7 col2\" >2</td>\n",
       "                        <td id=\"T_02bc37fc_9202_11ea_b432_107b4493f33brow7_col3\" class=\"data row7 col3\" >nvd_conv-0</td>\n",
       "                        <td id=\"T_02bc37fc_9202_11ea_b432_107b4493f33brow7_col4\" class=\"data row7 col4\" >1</td>\n",
       "                        <td id=\"T_02bc37fc_9202_11ea_b432_107b4493f33brow7_col5\" class=\"data row7 col5\" >20</td>\n",
       "                        <td id=\"T_02bc37fc_9202_11ea_b432_107b4493f33brow7_col6\" class=\"data row7 col6\" >[0, 0.5678683872112101, 0.8138757290187962]</td>\n",
       "                        <td id=\"T_02bc37fc_9202_11ea_b432_107b4493f33brow7_col7\" class=\"data row7 col7\" >1.38174</td>\n",
       "            </tr>\n",
       "            <tr>\n",
       "                                <td id=\"T_02bc37fc_9202_11ea_b432_107b4493f33brow8_col0\" class=\"data row8 col0\" >parb_sad-1</td>\n",
       "                        <td id=\"T_02bc37fc_9202_11ea_b432_107b4493f33brow8_col1\" class=\"data row8 col1\" >1</td>\n",
       "                        <td id=\"T_02bc37fc_9202_11ea_b432_107b4493f33brow8_col2\" class=\"data row8 col2\" >8</td>\n",
       "                        <td id=\"T_02bc37fc_9202_11ea_b432_107b4493f33brow8_col3\" class=\"data row8 col3\" >nvd_conv-0</td>\n",
       "                        <td id=\"T_02bc37fc_9202_11ea_b432_107b4493f33brow8_col4\" class=\"data row8 col4\" >1</td>\n",
       "                        <td id=\"T_02bc37fc_9202_11ea_b432_107b4493f33brow8_col5\" class=\"data row8 col5\" >12</td>\n",
       "                        <td id=\"T_02bc37fc_9202_11ea_b432_107b4493f33brow8_col6\" class=\"data row8 col6\" >[0, 0.5338318149391486, 0.866422081823644]</td>\n",
       "                        <td id=\"T_02bc37fc_9202_11ea_b432_107b4493f33brow8_col7\" class=\"data row8 col7\" >1.40025</td>\n",
       "            </tr>\n",
       "            <tr>\n",
       "                                <td id=\"T_02bc37fc_9202_11ea_b432_107b4493f33brow9_col0\" class=\"data row9 col0\" >parb_sad-0</td>\n",
       "                        <td id=\"T_02bc37fc_9202_11ea_b432_107b4493f33brow9_col1\" class=\"data row9 col1\" >3</td>\n",
       "                        <td id=\"T_02bc37fc_9202_11ea_b432_107b4493f33brow9_col2\" class=\"data row9 col2\" >1</td>\n",
       "                        <td id=\"T_02bc37fc_9202_11ea_b432_107b4493f33brow9_col3\" class=\"data row9 col3\" >nvd_conv-0</td>\n",
       "                        <td id=\"T_02bc37fc_9202_11ea_b432_107b4493f33brow9_col4\" class=\"data row9 col4\" >2</td>\n",
       "                        <td id=\"T_02bc37fc_9202_11ea_b432_107b4493f33brow9_col5\" class=\"data row9 col5\" >4</td>\n",
       "                        <td id=\"T_02bc37fc_9202_11ea_b432_107b4493f33brow9_col6\" class=\"data row9 col6\" >[0, 0.4633140376266281, 0.9376081003170943]</td>\n",
       "                        <td id=\"T_02bc37fc_9202_11ea_b432_107b4493f33brow9_col7\" class=\"data row9 col7\" >1.40092</td>\n",
       "            </tr>\n",
       "            <tr>\n",
       "                                <td id=\"T_02bc37fc_9202_11ea_b432_107b4493f33brow10_col0\" class=\"data row10 col0\" >parb_sad-1</td>\n",
       "                        <td id=\"T_02bc37fc_9202_11ea_b432_107b4493f33brow10_col1\" class=\"data row10 col1\" >1</td>\n",
       "                        <td id=\"T_02bc37fc_9202_11ea_b432_107b4493f33brow10_col2\" class=\"data row10 col2\" >8</td>\n",
       "                        <td id=\"T_02bc37fc_9202_11ea_b432_107b4493f33brow10_col3\" class=\"data row10 col3\" >nvd_conv-0</td>\n",
       "                        <td id=\"T_02bc37fc_9202_11ea_b432_107b4493f33brow10_col4\" class=\"data row10 col4\" >2</td>\n",
       "                        <td id=\"T_02bc37fc_9202_11ea_b432_107b4493f33brow10_col5\" class=\"data row10 col5\" >2</td>\n",
       "                        <td id=\"T_02bc37fc_9202_11ea_b432_107b4493f33brow10_col6\" class=\"data row10 col6\" >[0, 0.9055025609131595, 0.5191614167926137]</td>\n",
       "                        <td id=\"T_02bc37fc_9202_11ea_b432_107b4493f33brow10_col7\" class=\"data row10 col7\" >1.42466</td>\n",
       "            </tr>\n",
       "            <tr>\n",
       "                                <td id=\"T_02bc37fc_9202_11ea_b432_107b4493f33brow11_col0\" class=\"data row11 col0\" >parb_sad-0</td>\n",
       "                        <td id=\"T_02bc37fc_9202_11ea_b432_107b4493f33brow11_col1\" class=\"data row11 col1\" >1</td>\n",
       "                        <td id=\"T_02bc37fc_9202_11ea_b432_107b4493f33brow11_col2\" class=\"data row11 col2\" >4</td>\n",
       "                        <td id=\"T_02bc37fc_9202_11ea_b432_107b4493f33brow11_col3\" class=\"data row11 col3\" >nvd_conv-0</td>\n",
       "                        <td id=\"T_02bc37fc_9202_11ea_b432_107b4493f33brow11_col4\" class=\"data row11 col4\" >1</td>\n",
       "                        <td id=\"T_02bc37fc_9202_11ea_b432_107b4493f33brow11_col5\" class=\"data row11 col5\" >4</td>\n",
       "                        <td id=\"T_02bc37fc_9202_11ea_b432_107b4493f33brow11_col6\" class=\"data row11 col6\" >[0, 0.6599056784632491, 0.8803185585318929]</td>\n",
       "                        <td id=\"T_02bc37fc_9202_11ea_b432_107b4493f33brow11_col7\" class=\"data row11 col7\" >1.54022</td>\n",
       "            </tr>\n",
       "    </tbody></table>"
      ],
      "text/plain": [
       "<pandas.io.formats.style.Styler at 0x7f57dabc2438>"
      ]
     },
     "execution_count": 18,
     "metadata": {},
     "output_type": "execute_result"
    }
   ],
   "source": [
    "df_dynamic = pd.read_pickle(dynamic_output)\n",
    "df_best = df_dynamic.sort_values('ws').drop_duplicates(['1_bench', '1_kidx', '2_bench', '2_kidx'])\n",
    "\n",
    "col_best = ['1_bench', '1_kidx', '1_intra', '2_bench', '2_kidx', '2_intra', 'sld', 'ws']\n",
    "draw_table(df_best, col_best)"
   ]
  },
  {
   "cell_type": "code",
   "execution_count": 19,
   "metadata": {},
   "outputs": [],
   "source": [
    "df_best.set_index(['1_bench', '1_kidx', '2_bench', '2_kidx'], inplace=True)"
   ]
  },
  {
   "cell_type": "code",
   "execution_count": 20,
   "metadata": {},
   "outputs": [
    {
     "data": {
      "application/vnd.jupyter.widget-view+json": {
       "model_id": "3b2f8f1d173c4082bd2edd90cdc3f77f",
       "version_major": 2,
       "version_minor": 0
      },
      "text/plain": [
       "Dropdown(description='Pair:', index=1, options=('parb_sad-0+nvd_conv-0', 'parb_sad-1+nvd_conv-0'), value='parb…"
      ]
     },
     "metadata": {},
     "output_type": "display_data"
    },
    {
     "data": {
      "application/vnd.jupyter.widget-view+json": {
       "model_id": "d1ec9fd663c84f918a600fe62bfb6107",
       "version_major": 2,
       "version_minor": 0
      },
      "text/plain": [
       "Button(button_style='info', description='Best', style=ButtonStyle())"
      ]
     },
     "metadata": {},
     "output_type": "display_data"
    },
    {
     "name": "stdout",
     "output_type": "stream",
     "text": [
      "parb_sad-1 configs:\n",
      "             nvd_conv-0:1 nvd_conv-0:2\n",
      "parb_sad-1:1      8, 0.53      8, 0.91\n",
      "parb_sad-1:2      4, 0.67      4, 0.65\n",
      "parb_sad-1:3     12, 0.61      8, 0.63\n",
      "--------------------------------------------------\n",
      "nvd_conv-0 configs:\n",
      "             nvd_conv-0:1 nvd_conv-0:2\n",
      "parb_sad-1:1     12, 0.87      2, 0.52\n",
      "parb_sad-1:2     12, 0.43      8, 0.45\n",
      "parb_sad-1:3     16, 0.44     10, 0.49\n"
     ]
    }
   ],
   "source": [
    "\n",
    "best_dd = widgets.Dropdown(options=uniq_pairs, value=uniq_pairs[0], description='Pair:')\n",
    "best_btn = widgets.Button(description='Best', button_style='info')\n",
    "\n",
    "def show_widgets():\n",
    "    display(best_dd)\n",
    "    display(best_btn)\n",
    "    \n",
    "\n",
    "def best_onclick(b):\n",
    "    clear_output()\n",
    "    show_widgets()\n",
    "    \n",
    "    apps = best_dd.value.split('+')\n",
    "    def get_best_config(app1, app2):\n",
    "        configs_1 = np.zeros((const.multi_kernel_app[app1], const.multi_kernel_app[app2])).tolist()\n",
    "        configs_2 = np.zeros((const.multi_kernel_app[app1], const.multi_kernel_app[app2])).tolist()\n",
    "        for kernel_1 in const.kernel_yaml[app1]:\n",
    "            for kernel_2 in const.kernel_yaml[app2]:\n",
    "                cta_1 = df_best.loc[(app1, kernel_1, app2, kernel_2), '1_intra']\n",
    "                sld_1 = df_best.loc[(app1, kernel_1, app2, kernel_2), 'sld'][1]\n",
    "                cta_2 = df_best.loc[(app1, kernel_1, app2, kernel_2), '2_intra']\n",
    "                sld_2 = df_best.loc[(app1, kernel_1, app2, kernel_2), 'sld'][2]\n",
    "                configs_1[kernel_1-1][kernel_2-1] = '{:d}, {:.2f}'.format(int(cta_1), sld_1)\n",
    "                configs_2[kernel_1-1][kernel_2-1] = '{:d}, {:.2f}'.format(int(cta_2), sld_2)\n",
    "#         return [configs_1.astype(np.int64), configs_2.astype(np.int64)]\n",
    "        return [configs_1, configs_2]\n",
    "                \n",
    "    configs = get_best_config(apps[0], apps[1])\n",
    "    app1_kernels = ['{0}:{1}'.format(apps[0], kernel) for kernel in const.kernel_yaml[apps[0]]]\n",
    "    app2_kernels = ['{0}:{1}'.format(apps[1], kernel) for kernel in const.kernel_yaml[apps[1]]]\n",
    "    print(apps[0], 'configs:')\n",
    "    print(pd.DataFrame(configs[0], app1_kernels, app2_kernels))\n",
    "    \n",
    "    print('-' * 50)\n",
    "    print(apps[1], 'configs:')\n",
    "    print(pd.DataFrame(configs[1], app1_kernels, app2_kernels))\n",
    "    \n",
    "\n",
    "show_widgets()\n",
    "best_btn.on_click(best_onclick)\n",
    " "
   ]
  },
  {
   "cell_type": "code",
   "execution_count": null,
   "metadata": {},
   "outputs": [],
   "source": []
  }
 ],
 "metadata": {
  "kernelspec": {
   "display_name": "Python 3",
   "language": "python",
   "name": "python3"
  },
  "language_info": {
   "codemirror_mode": {
    "name": "ipython",
    "version": 3
   },
   "file_extension": ".py",
   "mimetype": "text/x-python",
   "name": "python",
   "nbconvert_exporter": "python",
   "pygments_lexer": "ipython3",
   "version": "3.6.8"
  }
 },
 "nbformat": 4,
 "nbformat_minor": 4
}
