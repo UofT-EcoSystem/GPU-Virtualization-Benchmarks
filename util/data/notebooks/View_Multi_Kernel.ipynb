{
 "cells": [
  {
   "cell_type": "code",
   "execution_count": 1,
   "metadata": {},
   "outputs": [],
   "source": [
    "%load_ext autoreload\n",
    "%autoreload 2\n",
    "\n",
    "import pandas as pd\n",
    "import os\n",
    "import sys\n",
    "from ipywidgets import widgets\n",
    "from IPython.display import display, HTML\n",
    "from IPython.display import clear_output\n",
    "import matplotlib.pyplot as plt\n",
    "import seaborn as sns\n",
    "import altair as alt\n",
    "from tabulate import tabulate\n",
    "\n",
    "# Customized modules\n",
    "HOME = '/home/serinatan/project/GPU-Virtualization-Benchmarks/util'\n",
    "if HOME not in sys.path:\n",
    "    sys.path.append(HOME)\n",
    "\n",
    "import data.scripts.common.format as fmt\n",
    "import data.scripts.common.constants as const\n",
    "import data.scripts.gen_tables.gen_pair_configs as gen_pair\n",
    "import data.scripts.gen_tables.search_best_inter as search_inter\n",
    "import data.scripts.gen_graphs.gen_altair_timeline as gen_altair\n",
    "\n",
    "SCRIPT_PATH = os.path.join(HOME, 'data/scripts') \n",
    "PKL_PATH = os.path.join(HOME, 'data/pickles') \n",
    "CSV_PATH = os.path.join(HOME, 'data/csv') \n",
    "GRAPH_PATH = os.path.join(HOME, 'data/graphs')\n",
    "\n",
    "%config InlineBackend.figure_format ='retina'\n",
    "plt.style.use('seaborn-talk')"
   ]
  },
  {
   "cell_type": "code",
   "execution_count": 2,
   "metadata": {},
   "outputs": [],
   "source": [
    "def draw_table(df, cols, hide_index=True):\n",
    "    if hide_index:\n",
    "        return df[cols].style.set_table_styles(fmt.table_style).hide_index()\n",
    "    else:\n",
    "        return df[cols].style.set_table_styles(fmt.table_style)"
   ]
  },
  {
   "cell_type": "markdown",
   "metadata": {},
   "source": [
    "# Seq"
   ]
  },
  {
   "cell_type": "code",
   "execution_count": 3,
   "metadata": {
    "scrolled": false
   },
   "outputs": [
    {
     "name": "stdout",
     "output_type": "stream",
     "text": [
      "Index(['pair_str', 'config', 'gpusim_version', 'jobId', 'stall_icnt_to_l2',\n",
      "       'stall_l2_to_icnt', 'stall_core_ldst', 'l1D_miss_rate', 'l2_miss_rate',\n",
      "       'l2_rshr_entry_fail', 'l2_rshr_merge_fail', 'l2_total_accesses',\n",
      "       'mem_count', 'empty_warp', 'stall_warp', 'idle_warp', 'scoreboard_warp',\n",
      "       'tot_warp_insn', 'runtime', 'instructions', 'l2_bw', 'avg_mem_lat',\n",
      "       'avg_core_to_l2', 'avg_l2_to_core', 'avg_mrq_latency', 'dram_eff',\n",
      "       'dram_bw', 'row_buffer_locality', 'mem_idle', 'total_cmd', 'ipc',\n",
      "       'avg_dram_bw', 'avg_dram_eff', 'avg_row_locality', 'std_dram_bw',\n",
      "       'ratio_dram_bw', 'MPKI', 'l2_access_density', '1_kidx', 'waves'],\n",
      "      dtype='object')\n"
     ]
    }
   ],
   "source": [
    "# run python scripts to generate all the pickles needed\n",
    "gen_seq = os.path.join(SCRIPT_PATH, 'gen_tables/gen_table_seq.py')   \n",
    "seq_file = os.path.join(CSV_PATH, 'seq-multi.csv')\n",
    "seq_pkl = os.path.join(PKL_PATH, 'seq-multi.pkl')\n",
    "%run $gen_seq --multi --csv $seq_file --output $seq_pkl\n",
    "\n",
    "df_seq = pd.read_pickle(os.path.join(PKL_PATH, 'seq-multi.pkl'))\n",
    "print(df_seq.columns)"
   ]
  },
  {
   "cell_type": "code",
   "execution_count": 27,
   "metadata": {},
   "outputs": [
    {
     "data": {
      "text/html": [
       "<style  type=\"text/css\" >\n",
       "    #T_7792e9d0_991a_11ea_b432_107b4493f33b tr:nth-of-type(odd) {\n",
       "          background: #eee;\n",
       "    }    #T_7792e9d0_991a_11ea_b432_107b4493f33b tr:nth-of-type(even) {\n",
       "          background: white;\n",
       "    }    #T_7792e9d0_991a_11ea_b432_107b4493f33b th {\n",
       "          background: #606060;\n",
       "          color: white;\n",
       "          font-family: verdana;\n",
       "          font-size: 90%;\n",
       "    }    #T_7792e9d0_991a_11ea_b432_107b4493f33b td {\n",
       "          font-family: verdana;\n",
       "          font-size: 90%;\n",
       "          font-weight: bold;\n",
       "    }    #T_7792e9d0_991a_11ea_b432_107b4493f33b tr:hover {\n",
       "          background-color: #ffffcc;\n",
       "    }</style><table id=\"T_7792e9d0_991a_11ea_b432_107b4493f33b\" ><thead>    <tr>        <th class=\"col_heading level0 col0\" >pair_str</th>        <th class=\"col_heading level0 col1\" >1_kidx</th>        <th class=\"col_heading level0 col2\" >runtime</th>        <th class=\"col_heading level0 col3\" >ipc</th>        <th class=\"col_heading level0 col4\" >avg_dram_bw</th>        <th class=\"col_heading level0 col5\" >l1D_miss_rate</th>        <th class=\"col_heading level0 col6\" >l2_miss_rate</th>    </tr></thead><tbody>\n",
       "                <tr>\n",
       "                                <td id=\"T_7792e9d0_991a_11ea_b432_107b4493f33brow0_col0\" class=\"data row0 col0\" >nvd_conv-0</td>\n",
       "                        <td id=\"T_7792e9d0_991a_11ea_b432_107b4493f33brow0_col1\" class=\"data row0 col1\" >1</td>\n",
       "                        <td id=\"T_7792e9d0_991a_11ea_b432_107b4493f33brow0_col2\" class=\"data row0 col2\" >190,346</td>\n",
       "                        <td id=\"T_7792e9d0_991a_11ea_b432_107b4493f33brow0_col3\" class=\"data row0 col3\" >2131.9</td>\n",
       "                        <td id=\"T_7792e9d0_991a_11ea_b432_107b4493f33brow0_col4\" class=\"data row0 col4\" >0.7242</td>\n",
       "                        <td id=\"T_7792e9d0_991a_11ea_b432_107b4493f33brow0_col5\" class=\"data row0 col5\" >0.9991</td>\n",
       "                        <td id=\"T_7792e9d0_991a_11ea_b432_107b4493f33brow0_col6\" class=\"data row0 col6\" >0.931</td>\n",
       "            </tr>\n",
       "            <tr>\n",
       "                                <td id=\"T_7792e9d0_991a_11ea_b432_107b4493f33brow1_col0\" class=\"data row1 col0\" >nvd_conv-0</td>\n",
       "                        <td id=\"T_7792e9d0_991a_11ea_b432_107b4493f33brow1_col1\" class=\"data row1 col1\" >2</td>\n",
       "                        <td id=\"T_7792e9d0_991a_11ea_b432_107b4493f33brow1_col2\" class=\"data row1 col2\" >208,164</td>\n",
       "                        <td id=\"T_7792e9d0_991a_11ea_b432_107b4493f33brow1_col3\" class=\"data row1 col3\" >1755.92</td>\n",
       "                        <td id=\"T_7792e9d0_991a_11ea_b432_107b4493f33brow1_col4\" class=\"data row1 col4\" >0.6698</td>\n",
       "                        <td id=\"T_7792e9d0_991a_11ea_b432_107b4493f33brow1_col5\" class=\"data row1 col5\" >0.9997</td>\n",
       "                        <td id=\"T_7792e9d0_991a_11ea_b432_107b4493f33brow1_col6\" class=\"data row1 col6\" >0.9323</td>\n",
       "            </tr>\n",
       "            <tr>\n",
       "                                <td id=\"T_7792e9d0_991a_11ea_b432_107b4493f33brow2_col0\" class=\"data row2 col0\" >parb_sad-0</td>\n",
       "                        <td id=\"T_7792e9d0_991a_11ea_b432_107b4493f33brow2_col1\" class=\"data row2 col1\" >1</td>\n",
       "                        <td id=\"T_7792e9d0_991a_11ea_b432_107b4493f33brow2_col2\" class=\"data row2 col2\" >51,633</td>\n",
       "                        <td id=\"T_7792e9d0_991a_11ea_b432_107b4493f33brow2_col3\" class=\"data row2 col3\" >2686.45</td>\n",
       "                        <td id=\"T_7792e9d0_991a_11ea_b432_107b4493f33brow2_col4\" class=\"data row2 col4\" >0.0061</td>\n",
       "                        <td id=\"T_7792e9d0_991a_11ea_b432_107b4493f33brow2_col5\" class=\"data row2 col5\" >1</td>\n",
       "                        <td id=\"T_7792e9d0_991a_11ea_b432_107b4493f33brow2_col6\" class=\"data row2 col6\" >0.6109</td>\n",
       "            </tr>\n",
       "            <tr>\n",
       "                                <td id=\"T_7792e9d0_991a_11ea_b432_107b4493f33brow3_col0\" class=\"data row3 col0\" >parb_sad-0</td>\n",
       "                        <td id=\"T_7792e9d0_991a_11ea_b432_107b4493f33brow3_col1\" class=\"data row3 col1\" >2</td>\n",
       "                        <td id=\"T_7792e9d0_991a_11ea_b432_107b4493f33brow3_col2\" class=\"data row3 col2\" >21,556</td>\n",
       "                        <td id=\"T_7792e9d0_991a_11ea_b432_107b4493f33brow3_col3\" class=\"data row3 col3\" >203.199</td>\n",
       "                        <td id=\"T_7792e9d0_991a_11ea_b432_107b4493f33brow3_col4\" class=\"data row3 col4\" >0.4558</td>\n",
       "                        <td id=\"T_7792e9d0_991a_11ea_b432_107b4493f33brow3_col5\" class=\"data row3 col5\" >0.9099</td>\n",
       "                        <td id=\"T_7792e9d0_991a_11ea_b432_107b4493f33brow3_col6\" class=\"data row3 col6\" >0.9849</td>\n",
       "            </tr>\n",
       "            <tr>\n",
       "                                <td id=\"T_7792e9d0_991a_11ea_b432_107b4493f33brow4_col0\" class=\"data row4 col0\" >parb_sad-0</td>\n",
       "                        <td id=\"T_7792e9d0_991a_11ea_b432_107b4493f33brow4_col1\" class=\"data row4 col1\" >3</td>\n",
       "                        <td id=\"T_7792e9d0_991a_11ea_b432_107b4493f33brow4_col2\" class=\"data row4 col2\" >12,806</td>\n",
       "                        <td id=\"T_7792e9d0_991a_11ea_b432_107b4493f33brow4_col3\" class=\"data row4 col3\" >89.9086</td>\n",
       "                        <td id=\"T_7792e9d0_991a_11ea_b432_107b4493f33brow4_col4\" class=\"data row4 col4\" >0.1249</td>\n",
       "                        <td id=\"T_7792e9d0_991a_11ea_b432_107b4493f33brow4_col5\" class=\"data row4 col5\" >0.9109</td>\n",
       "                        <td id=\"T_7792e9d0_991a_11ea_b432_107b4493f33brow4_col6\" class=\"data row4 col6\" >0.9371</td>\n",
       "            </tr>\n",
       "            <tr>\n",
       "                                <td id=\"T_7792e9d0_991a_11ea_b432_107b4493f33brow5_col0\" class=\"data row5 col0\" >parb_sad-1</td>\n",
       "                        <td id=\"T_7792e9d0_991a_11ea_b432_107b4493f33brow5_col1\" class=\"data row5 col1\" >1</td>\n",
       "                        <td id=\"T_7792e9d0_991a_11ea_b432_107b4493f33brow5_col2\" class=\"data row5 col2\" >3,000,706</td>\n",
       "                        <td id=\"T_7792e9d0_991a_11ea_b432_107b4493f33brow5_col3\" class=\"data row5 col3\" >3754.08</td>\n",
       "                        <td id=\"T_7792e9d0_991a_11ea_b432_107b4493f33brow5_col4\" class=\"data row5 col4\" >0.1736</td>\n",
       "                        <td id=\"T_7792e9d0_991a_11ea_b432_107b4493f33brow5_col5\" class=\"data row5 col5\" >0.9999</td>\n",
       "                        <td id=\"T_7792e9d0_991a_11ea_b432_107b4493f33brow5_col6\" class=\"data row5 col6\" >0.5524</td>\n",
       "            </tr>\n",
       "            <tr>\n",
       "                                <td id=\"T_7792e9d0_991a_11ea_b432_107b4493f33brow6_col0\" class=\"data row6 col0\" >parb_sad-1</td>\n",
       "                        <td id=\"T_7792e9d0_991a_11ea_b432_107b4493f33brow6_col1\" class=\"data row6 col1\" >2</td>\n",
       "                        <td id=\"T_7792e9d0_991a_11ea_b432_107b4493f33brow6_col2\" class=\"data row6 col2\" >2,324,970</td>\n",
       "                        <td id=\"T_7792e9d0_991a_11ea_b432_107b4493f33brow6_col3\" class=\"data row6 col3\" >153.001</td>\n",
       "                        <td id=\"T_7792e9d0_991a_11ea_b432_107b4493f33brow6_col4\" class=\"data row6 col4\" >0.5645</td>\n",
       "                        <td id=\"T_7792e9d0_991a_11ea_b432_107b4493f33brow6_col5\" class=\"data row6 col5\" >0.9121</td>\n",
       "                        <td id=\"T_7792e9d0_991a_11ea_b432_107b4493f33brow6_col6\" class=\"data row6 col6\" >0.9998</td>\n",
       "            </tr>\n",
       "            <tr>\n",
       "                                <td id=\"T_7792e9d0_991a_11ea_b432_107b4493f33brow7_col0\" class=\"data row7 col0\" >parb_sad-1</td>\n",
       "                        <td id=\"T_7792e9d0_991a_11ea_b432_107b4493f33brow7_col1\" class=\"data row7 col1\" >3</td>\n",
       "                        <td id=\"T_7792e9d0_991a_11ea_b432_107b4493f33brow7_col2\" class=\"data row7 col2\" >541,865</td>\n",
       "                        <td id=\"T_7792e9d0_991a_11ea_b432_107b4493f33brow7_col3\" class=\"data row7 col3\" >172.562</td>\n",
       "                        <td id=\"T_7792e9d0_991a_11ea_b432_107b4493f33brow7_col4\" class=\"data row7 col4\" >0.5842</td>\n",
       "                        <td id=\"T_7792e9d0_991a_11ea_b432_107b4493f33brow7_col5\" class=\"data row7 col5\" >0.912</td>\n",
       "                        <td id=\"T_7792e9d0_991a_11ea_b432_107b4493f33brow7_col6\" class=\"data row7 col6\" >0.9992</td>\n",
       "            </tr>\n",
       "    </tbody></table>"
      ],
      "text/plain": [
       "<pandas.io.formats.style.Styler at 0x7ff9e607e208>"
      ]
     },
     "execution_count": 27,
     "metadata": {},
     "output_type": "execute_result"
    }
   ],
   "source": [
    "col_seq = ['pair_str', '1_kidx', 'runtime',\n",
    "           'ipc',\n",
    "           'avg_dram_bw', \n",
    "           'l1D_miss_rate',\n",
    "           'l2_miss_rate',\n",
    "          ]\n",
    "\n",
    "draw_table(df_seq, col_seq).format({\n",
    "    'runtime': '{:,}',\n",
    "    'avg_dram_bw':'{:.4f}', \n",
    "    'sp_busy': '{:.2f}',\n",
    "    'dp_busy': '{:.2f}',\n",
    "    'int_busy': '{:.2f}',\n",
    "    'tensor_busy': '{:.2f}',\n",
    "    'sfu_busy': '{:.2f}',\n",
    "})"
   ]
  },
  {
   "cell_type": "code",
   "execution_count": null,
   "metadata": {},
   "outputs": [],
   "source": []
  },
  {
   "cell_type": "markdown",
   "metadata": {},
   "source": [
    "# Intra"
   ]
  },
  {
   "cell_type": "code",
   "execution_count": 5,
   "metadata": {
    "scrolled": false
   },
   "outputs": [],
   "source": [
    "gen_intra = os.path.join(SCRIPT_PATH, 'gen_tables/gen_table_intra.py')\n",
    "intra_file = os.path.join(CSV_PATH, 'intra-multi.csv')\n",
    "intra_pkl = os.path.join(PKL_PATH, 'intra-multi.pkl')\n",
    "\n",
    "%run $gen_intra --out_intra $intra_pkl --seq $seq_pkl --csv $intra_file\n",
    "\n",
    "df_intra = pd.read_pickle(intra_pkl)\n",
    "df_intra.sort_values(['pair_str', '1_kidx'], inplace=True)\n",
    "# col_intra = ['pair_str', '1_kidx', 'regs', 'thread_count', 'smem', 'intra']\n",
    "# draw_table(df_intra, col_intra)"
   ]
  },
  {
   "cell_type": "code",
   "execution_count": 6,
   "metadata": {},
   "outputs": [],
   "source": [
    "col_prod = ['pair_str_x', '1_kidx_x', 'pair_str_y', '1_kidx_y',\n",
    "            'norm_ipc_x', 'norm_ipc_y', 'diff_mflat', 'sum_ipc', \n",
    "            'intra_x', 'intra_y', \n",
    "           'sum_comp', 'sum_dram',]\n",
    "find_pair = os.path.join(SCRIPT_PATH, 'gen_tables/gen_pair_configs.py')\n",
    "pairs = df_seq.apply(lambda row: ':'.join([row['pair_str'], str(row['1_kidx'])]), axis=1)"
   ]
  },
  {
   "cell_type": "code",
   "execution_count": 7,
   "metadata": {},
   "outputs": [],
   "source": [
    "app1 = widgets.Dropdown(options=pairs, value=pairs[0], description='App 1:')\n",
    "app2 = widgets.Dropdown(options=pairs, value=pairs[1], description='App 2:')\n",
    "\n",
    "qos = widgets.FloatSlider(\n",
    "    value=0.75,\n",
    "    min=0.1,\n",
    "    max=0.95,\n",
    "    step=0.05,\n",
    "    description='QoS:',\n",
    "    readout_format='.2f',\n",
    ")\n",
    "\n",
    "button = widgets.Button(description='Calculate', button_style='info')\n",
    "\n",
    "def show_widgets():\n",
    "    display(app1)\n",
    "    display(app2)\n",
    "    display(qos)\n",
    "    display(button)\n",
    "    \n",
    "\n",
    "def onclick(b):\n",
    "    clear_output()\n",
    "    show_widgets()\n",
    "    %run $find_pair --app $app1.value $app2.value --qos $qos.value --intra_pkl $intra_pkl --top\n",
    "    \n",
    "    df_prod = pd.read_pickle(os.path.join(PKL_PATH, 'pair_candidates.pkl'))\n",
    "   \n",
    "    display(HTML(draw_table(df_prod, col_prod, False).render()))\n",
    "    \n",
    "    "
   ]
  },
  {
   "cell_type": "code",
   "execution_count": 8,
   "metadata": {},
   "outputs": [
    {
     "data": {
      "application/vnd.jupyter.widget-view+json": {
       "model_id": "4a47e9eb143241ad8d27c9a73b14854a",
       "version_major": 2,
       "version_minor": 0
      },
      "text/plain": [
       "Dropdown(description='App 1:', index=6, options=('nvd_conv-0:1', 'nvd_conv-0:2', 'parb_sad-0:1', 'parb_sad-0:2…"
      ]
     },
     "metadata": {},
     "output_type": "display_data"
    },
    {
     "data": {
      "application/vnd.jupyter.widget-view+json": {
       "model_id": "8931cb89234143169896d46fe5fce742",
       "version_major": 2,
       "version_minor": 0
      },
      "text/plain": [
       "Dropdown(description='App 2:', index=7, options=('nvd_conv-0:1', 'nvd_conv-0:2', 'parb_sad-0:1', 'parb_sad-0:2…"
      ]
     },
     "metadata": {},
     "output_type": "display_data"
    },
    {
     "data": {
      "application/vnd.jupyter.widget-view+json": {
       "model_id": "9e95c946cca94d00b1cbc0c9f4e91ce9",
       "version_major": 2,
       "version_minor": 0
      },
      "text/plain": [
       "FloatSlider(value=0.75, description='QoS:', max=0.95, min=0.1, step=0.05)"
      ]
     },
     "metadata": {},
     "output_type": "display_data"
    },
    {
     "data": {
      "application/vnd.jupyter.widget-view+json": {
       "model_id": "fa54b3579621443ea7e4b0908586c0de",
       "version_major": 2,
       "version_minor": 0
      },
      "text/plain": [
       "Button(button_style='info', description='Calculate', style=ButtonStyle())"
      ]
     },
     "metadata": {},
     "output_type": "display_data"
    }
   ],
   "source": [
    "show_widgets()\n",
    "button.on_click(onclick)"
   ]
  },
  {
   "cell_type": "code",
   "execution_count": null,
   "metadata": {},
   "outputs": [],
   "source": []
  },
  {
   "cell_type": "markdown",
   "metadata": {},
   "source": [
    "# CTX Ratio"
   ]
  },
  {
   "cell_type": "code",
   "execution_count": 9,
   "metadata": {},
   "outputs": [],
   "source": [
    "gen_pair = os.path.join(SCRIPT_PATH, 'gen_tables/gen_table_pair.py')\n",
    "ctx_csv = os.path.join(HOME, 'data/csv/ctx.csv')\n",
    "output = os.path.join(PKL_PATH, 'pair_ctx.pkl')\n"
   ]
  },
  {
   "cell_type": "code",
   "execution_count": 10,
   "metadata": {
    "scrolled": false
   },
   "outputs": [
    {
     "name": "stdout",
     "output_type": "stream",
     "text": [
      "Index(['pair_str', 'config', 'gpusim_version', 'jobId', 'stall_icnt_to_l2',\n",
      "       'stall_l2_to_icnt', 'stall_core_ldst', 'l1D_miss_rate', 'l2_miss_rate',\n",
      "       'l2_rshr_entry_fail', 'l2_rshr_merge_fail', 'l2_total_accesses',\n",
      "       'mem_count', 'empty_warp', 'stall_warp', 'idle_warp', 'scoreboard_warp',\n",
      "       'tot_warp_insn', 'runtime', 'instructions', 'l2_bw', 'avg_mem_lat',\n",
      "       'avg_core_to_l2', 'avg_l2_to_core', 'avg_mrq_latency', 'dram_eff',\n",
      "       'dram_bw', 'row_buffer_locality', 'mem_idle', 'total_cmd'],\n",
      "      dtype='object')\n"
     ]
    }
   ],
   "source": [
    "%run $gen_pair --csv $ctx_csv --output $output --seq_pkl $seq_pkl --qos 0.5 --multi --how ctx"
   ]
  },
  {
   "cell_type": "code",
   "execution_count": 11,
   "metadata": {},
   "outputs": [
    {
     "data": {
      "text/html": [
       "<style  type=\"text/css\" >\n",
       "    #T_981d558f_9882_11ea_b432_107b4493f33b tr:nth-of-type(odd) {\n",
       "          background: #eee;\n",
       "    }    #T_981d558f_9882_11ea_b432_107b4493f33b tr:nth-of-type(even) {\n",
       "          background: white;\n",
       "    }    #T_981d558f_9882_11ea_b432_107b4493f33b th {\n",
       "          background: #606060;\n",
       "          color: white;\n",
       "          font-family: verdana;\n",
       "          font-size: 90%;\n",
       "    }    #T_981d558f_9882_11ea_b432_107b4493f33b td {\n",
       "          font-family: verdana;\n",
       "          font-size: 90%;\n",
       "          font-weight: bold;\n",
       "    }    #T_981d558f_9882_11ea_b432_107b4493f33b tr:hover {\n",
       "          background-color: #ffffcc;\n",
       "    }</style><table id=\"T_981d558f_9882_11ea_b432_107b4493f33b\" ><thead>    <tr>        <th class=\"col_heading level0 col0\" >1_bench</th>        <th class=\"col_heading level0 col1\" >2_bench</th>        <th class=\"col_heading level0 col2\" >1_ctx</th>        <th class=\"col_heading level0 col3\" >2_ctx</th>        <th class=\"col_heading level0 col4\" >cta_quota</th>    </tr></thead><tbody>\n",
       "                <tr>\n",
       "                                <td id=\"T_981d558f_9882_11ea_b432_107b4493f33brow0_col0\" class=\"data row0 col0\" >parb_sad-0</td>\n",
       "                        <td id=\"T_981d558f_9882_11ea_b432_107b4493f33brow0_col1\" class=\"data row0 col1\" >nvd_conv-0</td>\n",
       "                        <td id=\"T_981d558f_9882_11ea_b432_107b4493f33brow0_col2\" class=\"data row0 col2\" >0.5</td>\n",
       "                        <td id=\"T_981d558f_9882_11ea_b432_107b4493f33brow0_col3\" class=\"data row0 col3\" >0.5</td>\n",
       "                        <td id=\"T_981d558f_9882_11ea_b432_107b4493f33brow0_col4\" class=\"data row0 col4\" >[[], [8, 2, 2], [16, 8]]</td>\n",
       "            </tr>\n",
       "            <tr>\n",
       "                                <td id=\"T_981d558f_9882_11ea_b432_107b4493f33brow1_col0\" class=\"data row1 col0\" >parb_sad-0</td>\n",
       "                        <td id=\"T_981d558f_9882_11ea_b432_107b4493f33brow1_col1\" class=\"data row1 col1\" >nvd_conv-0</td>\n",
       "                        <td id=\"T_981d558f_9882_11ea_b432_107b4493f33brow1_col2\" class=\"data row1 col2\" >0.25</td>\n",
       "                        <td id=\"T_981d558f_9882_11ea_b432_107b4493f33brow1_col3\" class=\"data row1 col3\" >0.75</td>\n",
       "                        <td id=\"T_981d558f_9882_11ea_b432_107b4493f33brow1_col4\" class=\"data row1 col4\" >[[], [4, 2, 2], [24, 12]]</td>\n",
       "            </tr>\n",
       "            <tr>\n",
       "                                <td id=\"T_981d558f_9882_11ea_b432_107b4493f33brow2_col0\" class=\"data row2 col0\" >parb_sad-0</td>\n",
       "                        <td id=\"T_981d558f_9882_11ea_b432_107b4493f33brow2_col1\" class=\"data row2 col1\" >nvd_conv-0</td>\n",
       "                        <td id=\"T_981d558f_9882_11ea_b432_107b4493f33brow2_col2\" class=\"data row2 col2\" >0.75</td>\n",
       "                        <td id=\"T_981d558f_9882_11ea_b432_107b4493f33brow2_col3\" class=\"data row2 col3\" >0.25</td>\n",
       "                        <td id=\"T_981d558f_9882_11ea_b432_107b4493f33brow2_col4\" class=\"data row2 col4\" >[[], [12, 2, 2], [8, 4]]</td>\n",
       "            </tr>\n",
       "            <tr>\n",
       "                                <td id=\"T_981d558f_9882_11ea_b432_107b4493f33brow3_col0\" class=\"data row3 col0\" >parb_sad-1</td>\n",
       "                        <td id=\"T_981d558f_9882_11ea_b432_107b4493f33brow3_col1\" class=\"data row3 col1\" >nvd_conv-0</td>\n",
       "                        <td id=\"T_981d558f_9882_11ea_b432_107b4493f33brow3_col2\" class=\"data row3 col2\" >0.5</td>\n",
       "                        <td id=\"T_981d558f_9882_11ea_b432_107b4493f33brow3_col3\" class=\"data row3 col3\" >0.5</td>\n",
       "                        <td id=\"T_981d558f_9882_11ea_b432_107b4493f33brow3_col4\" class=\"data row3 col4\" >[[], [8, 8, 16], [16, 8]]</td>\n",
       "            </tr>\n",
       "            <tr>\n",
       "                                <td id=\"T_981d558f_9882_11ea_b432_107b4493f33brow4_col0\" class=\"data row4 col0\" >parb_sad-1</td>\n",
       "                        <td id=\"T_981d558f_9882_11ea_b432_107b4493f33brow4_col1\" class=\"data row4 col1\" >nvd_conv-0</td>\n",
       "                        <td id=\"T_981d558f_9882_11ea_b432_107b4493f33brow4_col2\" class=\"data row4 col2\" >0.25</td>\n",
       "                        <td id=\"T_981d558f_9882_11ea_b432_107b4493f33brow4_col3\" class=\"data row4 col3\" >0.75</td>\n",
       "                        <td id=\"T_981d558f_9882_11ea_b432_107b4493f33brow4_col4\" class=\"data row4 col4\" >[[], [4, 4, 8], [24, 12]]</td>\n",
       "            </tr>\n",
       "            <tr>\n",
       "                                <td id=\"T_981d558f_9882_11ea_b432_107b4493f33brow5_col0\" class=\"data row5 col0\" >parb_sad-1</td>\n",
       "                        <td id=\"T_981d558f_9882_11ea_b432_107b4493f33brow5_col1\" class=\"data row5 col1\" >nvd_conv-0</td>\n",
       "                        <td id=\"T_981d558f_9882_11ea_b432_107b4493f33brow5_col2\" class=\"data row5 col2\" >0.75</td>\n",
       "                        <td id=\"T_981d558f_9882_11ea_b432_107b4493f33brow5_col3\" class=\"data row5 col3\" >0.25</td>\n",
       "                        <td id=\"T_981d558f_9882_11ea_b432_107b4493f33brow5_col4\" class=\"data row5 col4\" >[[], [12, 12, 24], [8, 4]]</td>\n",
       "            </tr>\n",
       "    </tbody></table>"
      ],
      "text/plain": [
       "<pandas.io.formats.style.Styler at 0x7ff9e6254c88>"
      ]
     },
     "execution_count": 11,
     "metadata": {},
     "output_type": "execute_result"
    }
   ],
   "source": [
    "df_ctx= pd.read_pickle(output)\n",
    "uniq_pairs = df_ctx[['1_bench', '2_bench']].drop_duplicates().values\n",
    "uniq_pairs = ['+'.join(x) for x in uniq_pairs]\n",
    "\n",
    "col_ctx = ['1_bench', '2_bench', '1_ctx', '2_ctx', \n",
    "           'cta_quota',\n",
    "#            'runtime', 'norm_runtime'\n",
    "          ]\n",
    "draw_table(df_ctx, col_ctx)"
   ]
  },
  {
   "cell_type": "code",
   "execution_count": 22,
   "metadata": {
    "scrolled": false
   },
   "outputs": [
    {
     "data": {
      "application/vnd.jupyter.widget-view+json": {
       "model_id": "e3d6b4dd06a8455caa1c4e9f13d32ee6",
       "version_major": 2,
       "version_minor": 0
      },
      "text/plain": [
       "Dropdown(description='Pair:', options=('parb_sad-0+nvd_conv-0', 'parb_sad-1+nvd_conv-0'), value='parb_sad-0+nv…"
      ]
     },
     "metadata": {},
     "output_type": "display_data"
    },
    {
     "data": {
      "application/vnd.jupyter.widget-view+json": {
       "model_id": "aa39cc08a42d4ff5b99b4ee53a1fd5dd",
       "version_major": 2,
       "version_minor": 0
      },
      "text/plain": [
       "Button(button_style='info', description='Display', style=ButtonStyle())"
      ]
     },
     "metadata": {},
     "output_type": "display_data"
    },
    {
     "data": {
      "text/html": [
       "\n",
       "<div id=\"altair-viz-b8a8ecf9a36b4227a5585cfb956793a3\"></div>\n",
       "<script type=\"text/javascript\">\n",
       "  (function(spec, embedOpt){\n",
       "    let outputDiv = document.currentScript.previousElementSibling;\n",
       "    if (outputDiv.id !== \"altair-viz-b8a8ecf9a36b4227a5585cfb956793a3\") {\n",
       "      outputDiv = document.getElementById(\"altair-viz-b8a8ecf9a36b4227a5585cfb956793a3\");\n",
       "    }\n",
       "    const paths = {\n",
       "      \"vega\": \"https://cdn.jsdelivr.net/npm//vega@5?noext\",\n",
       "      \"vega-lib\": \"https://cdn.jsdelivr.net/npm//vega-lib?noext\",\n",
       "      \"vega-lite\": \"https://cdn.jsdelivr.net/npm//vega-lite@4.8.1?noext\",\n",
       "      \"vega-embed\": \"https://cdn.jsdelivr.net/npm//vega-embed@6?noext\",\n",
       "    };\n",
       "\n",
       "    function loadScript(lib) {\n",
       "      return new Promise(function(resolve, reject) {\n",
       "        var s = document.createElement('script');\n",
       "        s.src = paths[lib];\n",
       "        s.async = true;\n",
       "        s.onload = () => resolve(paths[lib]);\n",
       "        s.onerror = () => reject(`Error loading script: ${paths[lib]}`);\n",
       "        document.getElementsByTagName(\"head\")[0].appendChild(s);\n",
       "      });\n",
       "    }\n",
       "\n",
       "    function showError(err) {\n",
       "      outputDiv.innerHTML = `<div class=\"error\" style=\"color:red;\">${err}</div>`;\n",
       "      throw err;\n",
       "    }\n",
       "\n",
       "    function displayChart(vegaEmbed) {\n",
       "      vegaEmbed(outputDiv, spec, embedOpt)\n",
       "        .catch(err => showError(`Javascript Error: ${err.message}<br>This usually means there's a typo in your chart specification. See the javascript console for the full traceback.`));\n",
       "    }\n",
       "\n",
       "    if(typeof define === \"function\" && define.amd) {\n",
       "      requirejs.config({paths});\n",
       "      require([\"vega-embed\"], displayChart, err => showError(`Error loading script: ${err.message}`));\n",
       "    } else if (typeof vegaEmbed === \"function\") {\n",
       "      displayChart(vegaEmbed);\n",
       "    } else {\n",
       "      loadScript(\"vega\")\n",
       "        .then(() => loadScript(\"vega-lite\"))\n",
       "        .then(() => loadScript(\"vega-embed\"))\n",
       "        .catch(showError)\n",
       "        .then(() => displayChart(vegaEmbed));\n",
       "    }\n",
       "  })({\"config\": {\"view\": {\"continuousWidth\": 400, \"continuousHeight\": 300}, \"axis\": {\"grid\": false}, \"header\": {\"titleColor\": \"black\", \"titleFontSize\": 14}}, \"layer\": [{\"mark\": \"bar\", \"encoding\": {\"color\": {\"type\": \"nominal\", \"field\": \"kernel\", \"legend\": null, \"scale\": {\"scheme\": \"pastel1\"}}, \"x\": {\"type\": \"quantitative\", \"field\": \"start\", \"title\": \"Cycles\"}, \"x2\": {\"field\": \"end\"}, \"y\": {\"type\": \"nominal\", \"field\": \"stream\", \"sort\": null}}, \"height\": 100, \"title\": \"1_ctx = 0.25\", \"width\": 900}, {\"mark\": {\"type\": \"text\", \"align\": \"center\", \"angle\": 90, \"baseline\": \"middle\", \"color\": \"black\", \"fontSize\": 12}, \"encoding\": {\"text\": {\"type\": \"quantitative\", \"field\": \"norm\"}, \"x\": {\"type\": \"quantitative\", \"field\": \"position\"}, \"y\": {\"type\": \"nominal\", \"field\": \"stream\", \"sort\": null, \"title\": null}}}], \"data\": {\"name\": \"data-14ff4676e3bfedfde4af95ec08b80f64\"}, \"$schema\": \"https://vega.github.io/schema/vega-lite/v4.8.1.json\", \"datasets\": {\"data-14ff4676e3bfedfde4af95ec08b80f64\": [{\"start\": 0, \"end\": 120682, \"stream\": \"1: parb_sad-0\", \"kernel\": \"1:1\", \"position\": 60341.0, \"norm\": 0.43}, {\"start\": 120682, \"end\": 186118, \"stream\": \"1: parb_sad-0\", \"kernel\": \"1:2\", \"position\": 153400.0, \"norm\": 0.33}, {\"start\": 186118, \"end\": 223571, \"stream\": \"1: parb_sad-0\", \"kernel\": \"1:3\", \"position\": 204844.5, \"norm\": 0.34}, {\"start\": 223571, \"end\": 311669, \"stream\": \"1: parb_sad-0\", \"kernel\": \"1:1\", \"position\": 267620.0, \"norm\": 0.59}, {\"start\": 311669, \"end\": 365109, \"stream\": \"1: parb_sad-0\", \"kernel\": \"1:2\", \"position\": 338389.0, \"norm\": 0.4}, {\"start\": 365109, \"end\": 409233, \"stream\": \"1: parb_sad-0\", \"kernel\": \"1:3\", \"position\": 387171.0, \"norm\": 0.29}, {\"start\": 409233, \"end\": 483638, \"stream\": \"1: parb_sad-0\", \"kernel\": \"1:1\", \"position\": 446435.5, \"norm\": 0.69}, {\"start\": 483638, \"end\": 508464, \"stream\": \"1: parb_sad-0\", \"kernel\": \"1:2\", \"position\": 496051.0, \"norm\": 0.87}, {\"start\": 508464, \"end\": 517532, \"stream\": \"1: parb_sad-0\", \"kernel\": \"1:3\", \"position\": 512998.0, \"norm\": 1.41}, {\"start\": 0, \"end\": 224169, \"stream\": \"2: nvd_conv-0\", \"kernel\": \"2:1\", \"position\": 112084.5, \"norm\": 0.85}, {\"start\": 224169, \"end\": 474906, \"stream\": \"2: nvd_conv-0\", \"kernel\": \"2:2\", \"position\": 349537.5, \"norm\": 0.83}]}}, {\"mode\": \"vega-lite\"});\n",
       "</script>"
      ],
      "text/plain": [
       "alt.LayerChart(...)"
      ]
     },
     "metadata": {},
     "output_type": "display_data"
    },
    {
     "name": "stdout",
     "output_type": "stream",
     "text": [
      "Note:\n",
      "parb_sad-0 : [4, 2, 2] CTAs/SM\n",
      "nvd_conv-0 : [24, 12] CTAs/SM\n",
      "[[], [120682, 65436, 37453, 88098, 53440, 44124, 74405, 24826, 9068], [224169, 250737]]\n",
      "slowdown: [0, 0.4202740248220451, 0.8391344813499935]\n",
      "weighted speedup: 1.2594085061720386\n",
      "----------------------------------------------------------------------------------------------------\n"
     ]
    },
    {
     "data": {
      "text/html": [
       "\n",
       "<div id=\"altair-viz-a606268c452b4384b80326ea3e5e1001\"></div>\n",
       "<script type=\"text/javascript\">\n",
       "  (function(spec, embedOpt){\n",
       "    let outputDiv = document.currentScript.previousElementSibling;\n",
       "    if (outputDiv.id !== \"altair-viz-a606268c452b4384b80326ea3e5e1001\") {\n",
       "      outputDiv = document.getElementById(\"altair-viz-a606268c452b4384b80326ea3e5e1001\");\n",
       "    }\n",
       "    const paths = {\n",
       "      \"vega\": \"https://cdn.jsdelivr.net/npm//vega@5?noext\",\n",
       "      \"vega-lib\": \"https://cdn.jsdelivr.net/npm//vega-lib?noext\",\n",
       "      \"vega-lite\": \"https://cdn.jsdelivr.net/npm//vega-lite@4.8.1?noext\",\n",
       "      \"vega-embed\": \"https://cdn.jsdelivr.net/npm//vega-embed@6?noext\",\n",
       "    };\n",
       "\n",
       "    function loadScript(lib) {\n",
       "      return new Promise(function(resolve, reject) {\n",
       "        var s = document.createElement('script');\n",
       "        s.src = paths[lib];\n",
       "        s.async = true;\n",
       "        s.onload = () => resolve(paths[lib]);\n",
       "        s.onerror = () => reject(`Error loading script: ${paths[lib]}`);\n",
       "        document.getElementsByTagName(\"head\")[0].appendChild(s);\n",
       "      });\n",
       "    }\n",
       "\n",
       "    function showError(err) {\n",
       "      outputDiv.innerHTML = `<div class=\"error\" style=\"color:red;\">${err}</div>`;\n",
       "      throw err;\n",
       "    }\n",
       "\n",
       "    function displayChart(vegaEmbed) {\n",
       "      vegaEmbed(outputDiv, spec, embedOpt)\n",
       "        .catch(err => showError(`Javascript Error: ${err.message}<br>This usually means there's a typo in your chart specification. See the javascript console for the full traceback.`));\n",
       "    }\n",
       "\n",
       "    if(typeof define === \"function\" && define.amd) {\n",
       "      requirejs.config({paths});\n",
       "      require([\"vega-embed\"], displayChart, err => showError(`Error loading script: ${err.message}`));\n",
       "    } else if (typeof vegaEmbed === \"function\") {\n",
       "      displayChart(vegaEmbed);\n",
       "    } else {\n",
       "      loadScript(\"vega\")\n",
       "        .then(() => loadScript(\"vega-lite\"))\n",
       "        .then(() => loadScript(\"vega-embed\"))\n",
       "        .catch(showError)\n",
       "        .then(() => displayChart(vegaEmbed));\n",
       "    }\n",
       "  })({\"config\": {\"view\": {\"continuousWidth\": 400, \"continuousHeight\": 300}, \"axis\": {\"grid\": false}, \"header\": {\"titleColor\": \"black\", \"titleFontSize\": 14}}, \"layer\": [{\"mark\": \"bar\", \"encoding\": {\"color\": {\"type\": \"nominal\", \"field\": \"kernel\", \"legend\": null, \"scale\": {\"scheme\": \"pastel1\"}}, \"x\": {\"type\": \"quantitative\", \"field\": \"start\", \"title\": \"Cycles\"}, \"x2\": {\"field\": \"end\"}, \"y\": {\"type\": \"nominal\", \"field\": \"stream\", \"sort\": null}}, \"height\": 100, \"title\": \"1_ctx = 0.5\", \"width\": 900}, {\"mark\": {\"type\": \"text\", \"align\": \"center\", \"angle\": 90, \"baseline\": \"middle\", \"color\": \"black\", \"fontSize\": 12}, \"encoding\": {\"text\": {\"type\": \"quantitative\", \"field\": \"norm\"}, \"x\": {\"type\": \"quantitative\", \"field\": \"position\"}, \"y\": {\"type\": \"nominal\", \"field\": \"stream\", \"sort\": null, \"title\": null}}}], \"data\": {\"name\": \"data-67bd02ec6fc83cdfc66aed8d8f773f0d\"}, \"$schema\": \"https://vega.github.io/schema/vega-lite/v4.8.1.json\", \"datasets\": {\"data-67bd02ec6fc83cdfc66aed8d8f773f0d\": [{\"start\": 0, \"end\": 79904, \"stream\": \"1: parb_sad-0\", \"kernel\": \"1:1\", \"position\": 39952.0, \"norm\": 0.65}, {\"start\": 79904, \"end\": 140083, \"stream\": \"1: parb_sad-0\", \"kernel\": \"1:2\", \"position\": 109993.5, \"norm\": 0.36}, {\"start\": 140083, \"end\": 179900, \"stream\": \"1: parb_sad-0\", \"kernel\": \"1:3\", \"position\": 159991.5, \"norm\": 0.32}, {\"start\": 179900, \"end\": 234454, \"stream\": \"1: parb_sad-0\", \"kernel\": \"1:1\", \"position\": 207177.0, \"norm\": 0.95}, {\"start\": 234454, \"end\": 285566, \"stream\": \"1: parb_sad-0\", \"kernel\": \"1:2\", \"position\": 260010.0, \"norm\": 0.42}, {\"start\": 285566, \"end\": 321724, \"stream\": \"1: parb_sad-0\", \"kernel\": \"1:3\", \"position\": 303645.0, \"norm\": 0.35}, {\"start\": 321724, \"end\": 372957, \"stream\": \"1: parb_sad-0\", \"kernel\": \"1:1\", \"position\": 347340.5, \"norm\": 1.01}, {\"start\": 372957, \"end\": 422360, \"stream\": \"1: parb_sad-0\", \"kernel\": \"1:2\", \"position\": 397658.5, \"norm\": 0.44}, {\"start\": 422360, \"end\": 457395, \"stream\": \"1: parb_sad-0\", \"kernel\": \"1:3\", \"position\": 439877.5, \"norm\": 0.37}, {\"start\": 457395, \"end\": 501926, \"stream\": \"1: parb_sad-0\", \"kernel\": \"1:1\", \"position\": 479660.5, \"norm\": 1.16}, {\"start\": 501926, \"end\": 526617, \"stream\": \"1: parb_sad-0\", \"kernel\": \"1:2\", \"position\": 514271.5, \"norm\": 0.87}, {\"start\": 526617, \"end\": 535781, \"stream\": \"1: parb_sad-0\", \"kernel\": \"1:3\", \"position\": 531199.0, \"norm\": 1.4}, {\"start\": 0, \"end\": 222775, \"stream\": \"2: nvd_conv-0\", \"kernel\": \"2:1\", \"position\": 111387.5, \"norm\": 0.85}, {\"start\": 222775, \"end\": 480002, \"stream\": \"2: nvd_conv-0\", \"kernel\": \"2:2\", \"position\": 351388.5, \"norm\": 0.81}]}}, {\"mode\": \"vega-lite\"});\n",
       "</script>"
      ],
      "text/plain": [
       "alt.LayerChart(...)"
      ]
     },
     "metadata": {},
     "output_type": "display_data"
    },
    {
     "name": "stdout",
     "output_type": "stream",
     "text": [
      "Note:\n",
      "parb_sad-0 : [8, 2, 2] CTAs/SM\n",
      "nvd_conv-0 : [16, 8] CTAs/SM\n",
      "[[], [79904, 60179, 39817, 54554, 51112, 36158, 51233, 49403, 35035, 44531, 24691, 9164], [222775, 257227]]\n",
      "slowdown: [0, 0.564031089102417, 0.8302257073928858]\n",
      "weighted speedup: 1.3942567964953028\n",
      "----------------------------------------------------------------------------------------------------\n"
     ]
    },
    {
     "data": {
      "text/html": [
       "\n",
       "<div id=\"altair-viz-33dee5324b1e42d7880c6c7f6adc6941\"></div>\n",
       "<script type=\"text/javascript\">\n",
       "  (function(spec, embedOpt){\n",
       "    let outputDiv = document.currentScript.previousElementSibling;\n",
       "    if (outputDiv.id !== \"altair-viz-33dee5324b1e42d7880c6c7f6adc6941\") {\n",
       "      outputDiv = document.getElementById(\"altair-viz-33dee5324b1e42d7880c6c7f6adc6941\");\n",
       "    }\n",
       "    const paths = {\n",
       "      \"vega\": \"https://cdn.jsdelivr.net/npm//vega@5?noext\",\n",
       "      \"vega-lib\": \"https://cdn.jsdelivr.net/npm//vega-lib?noext\",\n",
       "      \"vega-lite\": \"https://cdn.jsdelivr.net/npm//vega-lite@4.8.1?noext\",\n",
       "      \"vega-embed\": \"https://cdn.jsdelivr.net/npm//vega-embed@6?noext\",\n",
       "    };\n",
       "\n",
       "    function loadScript(lib) {\n",
       "      return new Promise(function(resolve, reject) {\n",
       "        var s = document.createElement('script');\n",
       "        s.src = paths[lib];\n",
       "        s.async = true;\n",
       "        s.onload = () => resolve(paths[lib]);\n",
       "        s.onerror = () => reject(`Error loading script: ${paths[lib]}`);\n",
       "        document.getElementsByTagName(\"head\")[0].appendChild(s);\n",
       "      });\n",
       "    }\n",
       "\n",
       "    function showError(err) {\n",
       "      outputDiv.innerHTML = `<div class=\"error\" style=\"color:red;\">${err}</div>`;\n",
       "      throw err;\n",
       "    }\n",
       "\n",
       "    function displayChart(vegaEmbed) {\n",
       "      vegaEmbed(outputDiv, spec, embedOpt)\n",
       "        .catch(err => showError(`Javascript Error: ${err.message}<br>This usually means there's a typo in your chart specification. See the javascript console for the full traceback.`));\n",
       "    }\n",
       "\n",
       "    if(typeof define === \"function\" && define.amd) {\n",
       "      requirejs.config({paths});\n",
       "      require([\"vega-embed\"], displayChart, err => showError(`Error loading script: ${err.message}`));\n",
       "    } else if (typeof vegaEmbed === \"function\") {\n",
       "      displayChart(vegaEmbed);\n",
       "    } else {\n",
       "      loadScript(\"vega\")\n",
       "        .then(() => loadScript(\"vega-lite\"))\n",
       "        .then(() => loadScript(\"vega-embed\"))\n",
       "        .catch(showError)\n",
       "        .then(() => displayChart(vegaEmbed));\n",
       "    }\n",
       "  })({\"config\": {\"view\": {\"continuousWidth\": 400, \"continuousHeight\": 300}, \"axis\": {\"grid\": false}, \"header\": {\"titleColor\": \"black\", \"titleFontSize\": 14}}, \"layer\": [{\"mark\": \"bar\", \"encoding\": {\"color\": {\"type\": \"nominal\", \"field\": \"kernel\", \"legend\": null, \"scale\": {\"scheme\": \"pastel1\"}}, \"x\": {\"type\": \"quantitative\", \"field\": \"start\", \"title\": \"Cycles\"}, \"x2\": {\"field\": \"end\"}, \"y\": {\"type\": \"nominal\", \"field\": \"stream\", \"sort\": null}}, \"height\": 100, \"title\": \"1_ctx = 0.75\", \"width\": 900}, {\"mark\": {\"type\": \"text\", \"align\": \"center\", \"angle\": 90, \"baseline\": \"middle\", \"color\": \"black\", \"fontSize\": 12}, \"encoding\": {\"text\": {\"type\": \"quantitative\", \"field\": \"norm\"}, \"x\": {\"type\": \"quantitative\", \"field\": \"position\"}, \"y\": {\"type\": \"nominal\", \"field\": \"stream\", \"sort\": null, \"title\": null}}}], \"data\": {\"name\": \"data-a8a4bf5e5898d2c1f656aa4febc59979\"}, \"$schema\": \"https://vega.github.io/schema/vega-lite/v4.8.1.json\", \"datasets\": {\"data-a8a4bf5e5898d2c1f656aa4febc59979\": [{\"start\": 0, \"end\": 57535, \"stream\": \"1: parb_sad-0\", \"kernel\": \"1:1\", \"position\": 28767.5, \"norm\": 0.9}, {\"start\": 57535, \"end\": 115572, \"stream\": \"1: parb_sad-0\", \"kernel\": \"1:2\", \"position\": 86553.5, \"norm\": 0.37}, {\"start\": 115572, \"end\": 157002, \"stream\": \"1: parb_sad-0\", \"kernel\": \"1:3\", \"position\": 136287.0, \"norm\": 0.31}, {\"start\": 157002, \"end\": 205950, \"stream\": \"1: parb_sad-0\", \"kernel\": \"1:1\", \"position\": 181476.0, \"norm\": 1.05}, {\"start\": 205950, \"end\": 247167, \"stream\": \"1: parb_sad-0\", \"kernel\": \"1:2\", \"position\": 226558.5, \"norm\": 0.52}, {\"start\": 247167, \"end\": 265097, \"stream\": \"1: parb_sad-0\", \"kernel\": \"1:3\", \"position\": 256132.0, \"norm\": 0.71}, {\"start\": 265097, \"end\": 306340, \"stream\": \"1: parb_sad-0\", \"kernel\": \"1:1\", \"position\": 285718.5, \"norm\": 1.25}, {\"start\": 306340, \"end\": 346021, \"stream\": \"1: parb_sad-0\", \"kernel\": \"1:2\", \"position\": 326180.5, \"norm\": 0.54}, {\"start\": 346021, \"end\": 368380, \"stream\": \"1: parb_sad-0\", \"kernel\": \"1:3\", \"position\": 357200.5, \"norm\": 0.57}, {\"start\": 368380, \"end\": 409384, \"stream\": \"1: parb_sad-0\", \"kernel\": \"1:1\", \"position\": 388882.0, \"norm\": 1.26}, {\"start\": 409384, \"end\": 448581, \"stream\": \"1: parb_sad-0\", \"kernel\": \"1:2\", \"position\": 428982.5, \"norm\": 0.55}, {\"start\": 448581, \"end\": 470845, \"stream\": \"1: parb_sad-0\", \"kernel\": \"1:3\", \"position\": 459713.0, \"norm\": 0.58}, {\"start\": 470845, \"end\": 512576, \"stream\": \"1: parb_sad-0\", \"kernel\": \"1:1\", \"position\": 491710.5, \"norm\": 1.24}, {\"start\": 512576, \"end\": 540827, \"stream\": \"1: parb_sad-0\", \"kernel\": \"1:2\", \"position\": 526701.5, \"norm\": 0.76}, {\"start\": 540827, \"end\": 549893, \"stream\": \"1: parb_sad-0\", \"kernel\": \"1:3\", \"position\": 545360.0, \"norm\": 1.41}, {\"start\": 0, \"end\": 233726, \"stream\": \"2: nvd_conv-0\", \"kernel\": \"2:1\", \"position\": 116863.0, \"norm\": 0.81}, {\"start\": 233726, \"end\": 530416, \"stream\": \"2: nvd_conv-0\", \"kernel\": \"2:2\", \"position\": 382071.0, \"norm\": 0.7}]}}, {\"mode\": \"vega-lite\"});\n",
       "</script>"
      ],
      "text/plain": [
       "alt.LayerChart(...)"
      ]
     },
     "metadata": {},
     "output_type": "display_data"
    },
    {
     "name": "stdout",
     "output_type": "stream",
     "text": [
      "Note:\n",
      "parb_sad-0 : [12, 2, 2] CTAs/SM\n",
      "nvd_conv-0 : [8, 4] CTAs/SM\n",
      "[[], [57535, 58037, 41430, 48948, 41217, 17930, 41243, 39681, 22359, 41004, 39197, 22264, 41731, 28251, 9066], [233726, 296690]]\n",
      "slowdown: [0, 0.730558888806295, 0.7513159482368555]\n",
      "weighted speedup: 1.4818748370431507\n",
      "----------------------------------------------------------------------------------------------------\n"
     ]
    }
   ],
   "source": [
    "ctx_dd = widgets.Dropdown(options=uniq_pairs, value=uniq_pairs[0], description='Pair:')\n",
    "\n",
    "ctx_btn = widgets.Button(description='Display', button_style='info')\n",
    "\n",
    "def show_widgets():\n",
    "    display(ctx_dd)\n",
    "    display(ctx_btn)\n",
    "    \n",
    "\n",
    "def ctx_onclick(b):\n",
    "    clear_output()\n",
    "    show_widgets()\n",
    "    \n",
    "    apps = ctx_dd.value.split('+')\n",
    "    df_apps = df_ctx[(df_ctx['1_bench'] == apps[0]) & (df_ctx['2_bench'] == apps[1])]\n",
    "    df_apps = df_apps.sort_values('1_ctx')\n",
    "    for rid, row in df_apps.iterrows():\n",
    "        gen_altair.draw_altair_timeline(row, '1_ctx').display()  \n",
    "        # Print ctas/SM for each kernel in each app\n",
    "        print('Note:')\n",
    "        print(row['1_bench'], ':', row['cta_quota'][1], 'CTAs/SM')\n",
    "        print(row['2_bench'], ':', row['cta_quota'][2], 'CTAs/SM')\n",
    "        \n",
    "#         print(row['norm_ipc'])\n",
    "#         print(row['baseline'])\n",
    "        print(row['runtime'])\n",
    "        print('slowdown:', row['sld'])\n",
    "        print('weighted speedup:', row['ws'])\n",
    "        print('-' * 100)\n",
    "\n",
    "show_widgets()\n",
    "ctx_btn.on_click(ctx_onclick)\n",
    " "
   ]
  },
  {
   "cell_type": "code",
   "execution_count": null,
   "metadata": {},
   "outputs": [],
   "source": []
  },
  {
   "cell_type": "markdown",
   "metadata": {},
   "source": [
    "# Pair-Dynamic"
   ]
  },
  {
   "cell_type": "code",
   "execution_count": 13,
   "metadata": {},
   "outputs": [
    {
     "name": "stdout",
     "output_type": "stream",
     "text": [
      "Index(['pair_str', 'config', 'gpusim_version', 'jobId', 'stall_icnt_to_l2',\n",
      "       'stall_l2_to_icnt', 'stall_core_ldst', 'l1D_miss_rate', 'l2_miss_rate',\n",
      "       'l2_rshr_entry_fail', 'l2_rshr_merge_fail', 'l2_total_accesses',\n",
      "       'mem_count', 'empty_warp', 'stall_warp', 'idle_warp', 'scoreboard_warp',\n",
      "       'tot_warp_insn', 'runtime', 'instructions', 'l2_bw', 'avg_mem_lat',\n",
      "       'avg_core_to_l2', 'avg_l2_to_core', 'avg_mrq_latency', 'dram_eff',\n",
      "       'dram_bw', 'row_buffer_locality', 'mem_idle', 'total_cmd'],\n",
      "      dtype='object')\n"
     ]
    }
   ],
   "source": [
    "dynamic_csv = os.path.join(CSV_PATH, 'pair_dynamic_multi.csv')\n",
    "dynamic_output = os.path.join(PKL_PATH, 'pair_dynamic_multi.pkl')\n",
    "%run $gen_pair --csv $dynamic_csv --output $dynamic_output --seq_pkl $seq_pkl --qos 0.5 --how dynamic --multi --isolated_pkl $intra_pkl"
   ]
  },
  {
   "cell_type": "code",
   "execution_count": 14,
   "metadata": {},
   "outputs": [
    {
     "data": {
      "text/html": [
       "<style  type=\"text/css\" >\n",
       "    #T_981d5590_9882_11ea_b432_107b4493f33b tr:nth-of-type(odd) {\n",
       "          background: #eee;\n",
       "    }    #T_981d5590_9882_11ea_b432_107b4493f33b tr:nth-of-type(even) {\n",
       "          background: white;\n",
       "    }    #T_981d5590_9882_11ea_b432_107b4493f33b th {\n",
       "          background: #606060;\n",
       "          color: white;\n",
       "          font-family: verdana;\n",
       "          font-size: 90%;\n",
       "    }    #T_981d5590_9882_11ea_b432_107b4493f33b td {\n",
       "          font-family: verdana;\n",
       "          font-size: 90%;\n",
       "          font-weight: bold;\n",
       "    }    #T_981d5590_9882_11ea_b432_107b4493f33b tr:hover {\n",
       "          background-color: #ffffcc;\n",
       "    }</style><table id=\"T_981d5590_9882_11ea_b432_107b4493f33b\" ><thead>    <tr>        <th class=\"col_heading level0 col0\" >1_bench</th>        <th class=\"col_heading level0 col1\" >1_kidx</th>        <th class=\"col_heading level0 col2\" >1_intra</th>        <th class=\"col_heading level0 col3\" >2_bench</th>        <th class=\"col_heading level0 col4\" >2_kidx</th>        <th class=\"col_heading level0 col5\" >2_intra</th>        <th class=\"col_heading level0 col6\" >sld</th>        <th class=\"col_heading level0 col7\" >ws</th>    </tr></thead><tbody>\n",
       "                <tr>\n",
       "                                <td id=\"T_981d5590_9882_11ea_b432_107b4493f33brow0_col0\" class=\"data row0 col0\" >parb_sad-1</td>\n",
       "                        <td id=\"T_981d5590_9882_11ea_b432_107b4493f33brow0_col1\" class=\"data row0 col1\" >3</td>\n",
       "                        <td id=\"T_981d5590_9882_11ea_b432_107b4493f33brow0_col2\" class=\"data row0 col2\" >12</td>\n",
       "                        <td id=\"T_981d5590_9882_11ea_b432_107b4493f33brow0_col3\" class=\"data row0 col3\" >nvd_conv-0</td>\n",
       "                        <td id=\"T_981d5590_9882_11ea_b432_107b4493f33brow0_col4\" class=\"data row0 col4\" >1</td>\n",
       "                        <td id=\"T_981d5590_9882_11ea_b432_107b4493f33brow0_col5\" class=\"data row0 col5\" >16</td>\n",
       "                        <td id=\"T_981d5590_9882_11ea_b432_107b4493f33brow0_col6\" class=\"data row0 col6\" >[0, 0.6081810631229236, 0.4447689769748064]</td>\n",
       "                        <td id=\"T_981d5590_9882_11ea_b432_107b4493f33brow0_col7\" class=\"data row0 col7\" >1.05295</td>\n",
       "            </tr>\n",
       "            <tr>\n",
       "                                <td id=\"T_981d5590_9882_11ea_b432_107b4493f33brow1_col0\" class=\"data row1 col0\" >parb_sad-1</td>\n",
       "                        <td id=\"T_981d5590_9882_11ea_b432_107b4493f33brow1_col1\" class=\"data row1 col1\" >2</td>\n",
       "                        <td id=\"T_981d5590_9882_11ea_b432_107b4493f33brow1_col2\" class=\"data row1 col2\" >4</td>\n",
       "                        <td id=\"T_981d5590_9882_11ea_b432_107b4493f33brow1_col3\" class=\"data row1 col3\" >nvd_conv-0</td>\n",
       "                        <td id=\"T_981d5590_9882_11ea_b432_107b4493f33brow1_col4\" class=\"data row1 col4\" >2</td>\n",
       "                        <td id=\"T_981d5590_9882_11ea_b432_107b4493f33brow1_col5\" class=\"data row1 col5\" >8</td>\n",
       "                        <td id=\"T_981d5590_9882_11ea_b432_107b4493f33brow1_col6\" class=\"data row1 col6\" >[0, 0.6549559962488144, 0.44567193130070076]</td>\n",
       "                        <td id=\"T_981d5590_9882_11ea_b432_107b4493f33brow1_col7\" class=\"data row1 col7\" >1.10063</td>\n",
       "            </tr>\n",
       "            <tr>\n",
       "                                <td id=\"T_981d5590_9882_11ea_b432_107b4493f33brow2_col0\" class=\"data row2 col0\" >parb_sad-1</td>\n",
       "                        <td id=\"T_981d5590_9882_11ea_b432_107b4493f33brow2_col1\" class=\"data row2 col1\" >2</td>\n",
       "                        <td id=\"T_981d5590_9882_11ea_b432_107b4493f33brow2_col2\" class=\"data row2 col2\" >4</td>\n",
       "                        <td id=\"T_981d5590_9882_11ea_b432_107b4493f33brow2_col3\" class=\"data row2 col3\" >nvd_conv-0</td>\n",
       "                        <td id=\"T_981d5590_9882_11ea_b432_107b4493f33brow2_col4\" class=\"data row2 col4\" >1</td>\n",
       "                        <td id=\"T_981d5590_9882_11ea_b432_107b4493f33brow2_col5\" class=\"data row2 col5\" >12</td>\n",
       "                        <td id=\"T_981d5590_9882_11ea_b432_107b4493f33brow2_col6\" class=\"data row2 col6\" >[0, 0.6733531740974924, 0.42887431364022466]</td>\n",
       "                        <td id=\"T_981d5590_9882_11ea_b432_107b4493f33brow2_col7\" class=\"data row2 col7\" >1.10223</td>\n",
       "            </tr>\n",
       "            <tr>\n",
       "                                <td id=\"T_981d5590_9882_11ea_b432_107b4493f33brow3_col0\" class=\"data row3 col0\" >parb_sad-1</td>\n",
       "                        <td id=\"T_981d5590_9882_11ea_b432_107b4493f33brow3_col1\" class=\"data row3 col1\" >3</td>\n",
       "                        <td id=\"T_981d5590_9882_11ea_b432_107b4493f33brow3_col2\" class=\"data row3 col2\" >8</td>\n",
       "                        <td id=\"T_981d5590_9882_11ea_b432_107b4493f33brow3_col3\" class=\"data row3 col3\" >nvd_conv-0</td>\n",
       "                        <td id=\"T_981d5590_9882_11ea_b432_107b4493f33brow3_col4\" class=\"data row3 col4\" >2</td>\n",
       "                        <td id=\"T_981d5590_9882_11ea_b432_107b4493f33brow3_col5\" class=\"data row3 col5\" >10</td>\n",
       "                        <td id=\"T_981d5590_9882_11ea_b432_107b4493f33brow3_col6\" class=\"data row3 col6\" >[0, 0.6267842353409306, 0.49395383271954135]</td>\n",
       "                        <td id=\"T_981d5590_9882_11ea_b432_107b4493f33brow3_col7\" class=\"data row3 col7\" >1.12074</td>\n",
       "            </tr>\n",
       "            <tr>\n",
       "                                <td id=\"T_981d5590_9882_11ea_b432_107b4493f33brow4_col0\" class=\"data row4 col0\" >parb_sad-0</td>\n",
       "                        <td id=\"T_981d5590_9882_11ea_b432_107b4493f33brow4_col1\" class=\"data row4 col1\" >2</td>\n",
       "                        <td id=\"T_981d5590_9882_11ea_b432_107b4493f33brow4_col2\" class=\"data row4 col2\" >2</td>\n",
       "                        <td id=\"T_981d5590_9882_11ea_b432_107b4493f33brow4_col3\" class=\"data row4 col3\" >nvd_conv-0</td>\n",
       "                        <td id=\"T_981d5590_9882_11ea_b432_107b4493f33brow4_col4\" class=\"data row4 col4\" >2</td>\n",
       "                        <td id=\"T_981d5590_9882_11ea_b432_107b4493f33brow4_col5\" class=\"data row4 col5\" >10</td>\n",
       "                        <td id=\"T_981d5590_9882_11ea_b432_107b4493f33brow4_col6\" class=\"data row4 col6\" >[0, 0.51141162514828, 0.6167401925202134]</td>\n",
       "                        <td id=\"T_981d5590_9882_11ea_b432_107b4493f33brow4_col7\" class=\"data row4 col7\" >1.12815</td>\n",
       "            </tr>\n",
       "            <tr>\n",
       "                                <td id=\"T_981d5590_9882_11ea_b432_107b4493f33brow5_col0\" class=\"data row5 col0\" >parb_sad-0</td>\n",
       "                        <td id=\"T_981d5590_9882_11ea_b432_107b4493f33brow5_col1\" class=\"data row5 col1\" >2</td>\n",
       "                        <td id=\"T_981d5590_9882_11ea_b432_107b4493f33brow5_col2\" class=\"data row5 col2\" >2</td>\n",
       "                        <td id=\"T_981d5590_9882_11ea_b432_107b4493f33brow5_col3\" class=\"data row5 col3\" >nvd_conv-0</td>\n",
       "                        <td id=\"T_981d5590_9882_11ea_b432_107b4493f33brow5_col4\" class=\"data row5 col4\" >1</td>\n",
       "                        <td id=\"T_981d5590_9882_11ea_b432_107b4493f33brow5_col5\" class=\"data row5 col5\" >20</td>\n",
       "                        <td id=\"T_981d5590_9882_11ea_b432_107b4493f33brow5_col6\" class=\"data row5 col6\" >[0, 0.5388057090009248, 0.5973494512805546]</td>\n",
       "                        <td id=\"T_981d5590_9882_11ea_b432_107b4493f33brow5_col7\" class=\"data row5 col7\" >1.13616</td>\n",
       "            </tr>\n",
       "            <tr>\n",
       "                                <td id=\"T_981d5590_9882_11ea_b432_107b4493f33brow6_col0\" class=\"data row6 col0\" >parb_sad-0</td>\n",
       "                        <td id=\"T_981d5590_9882_11ea_b432_107b4493f33brow6_col1\" class=\"data row6 col1\" >1</td>\n",
       "                        <td id=\"T_981d5590_9882_11ea_b432_107b4493f33brow6_col2\" class=\"data row6 col2\" >4</td>\n",
       "                        <td id=\"T_981d5590_9882_11ea_b432_107b4493f33brow6_col3\" class=\"data row6 col3\" >nvd_conv-0</td>\n",
       "                        <td id=\"T_981d5590_9882_11ea_b432_107b4493f33brow6_col4\" class=\"data row6 col4\" >2</td>\n",
       "                        <td id=\"T_981d5590_9882_11ea_b432_107b4493f33brow6_col5\" class=\"data row6 col5\" >2</td>\n",
       "                        <td id=\"T_981d5590_9882_11ea_b432_107b4493f33brow6_col6\" class=\"data row6 col6\" >[0, 0.7312938177182919, 0.5808082499079251]</td>\n",
       "                        <td id=\"T_981d5590_9882_11ea_b432_107b4493f33brow6_col7\" class=\"data row6 col7\" >1.3121</td>\n",
       "            </tr>\n",
       "            <tr>\n",
       "                                <td id=\"T_981d5590_9882_11ea_b432_107b4493f33brow7_col0\" class=\"data row7 col0\" >parb_sad-0</td>\n",
       "                        <td id=\"T_981d5590_9882_11ea_b432_107b4493f33brow7_col1\" class=\"data row7 col1\" >3</td>\n",
       "                        <td id=\"T_981d5590_9882_11ea_b432_107b4493f33brow7_col2\" class=\"data row7 col2\" >2</td>\n",
       "                        <td id=\"T_981d5590_9882_11ea_b432_107b4493f33brow7_col3\" class=\"data row7 col3\" >nvd_conv-0</td>\n",
       "                        <td id=\"T_981d5590_9882_11ea_b432_107b4493f33brow7_col4\" class=\"data row7 col4\" >1</td>\n",
       "                        <td id=\"T_981d5590_9882_11ea_b432_107b4493f33brow7_col5\" class=\"data row7 col5\" >20</td>\n",
       "                        <td id=\"T_981d5590_9882_11ea_b432_107b4493f33brow7_col6\" class=\"data row7 col6\" >[0, 0.5678683872112101, 0.8138757290187962]</td>\n",
       "                        <td id=\"T_981d5590_9882_11ea_b432_107b4493f33brow7_col7\" class=\"data row7 col7\" >1.38174</td>\n",
       "            </tr>\n",
       "            <tr>\n",
       "                                <td id=\"T_981d5590_9882_11ea_b432_107b4493f33brow8_col0\" class=\"data row8 col0\" >parb_sad-1</td>\n",
       "                        <td id=\"T_981d5590_9882_11ea_b432_107b4493f33brow8_col1\" class=\"data row8 col1\" >1</td>\n",
       "                        <td id=\"T_981d5590_9882_11ea_b432_107b4493f33brow8_col2\" class=\"data row8 col2\" >8</td>\n",
       "                        <td id=\"T_981d5590_9882_11ea_b432_107b4493f33brow8_col3\" class=\"data row8 col3\" >nvd_conv-0</td>\n",
       "                        <td id=\"T_981d5590_9882_11ea_b432_107b4493f33brow8_col4\" class=\"data row8 col4\" >1</td>\n",
       "                        <td id=\"T_981d5590_9882_11ea_b432_107b4493f33brow8_col5\" class=\"data row8 col5\" >12</td>\n",
       "                        <td id=\"T_981d5590_9882_11ea_b432_107b4493f33brow8_col6\" class=\"data row8 col6\" >[0, 0.5338318149391486, 0.866422081823644]</td>\n",
       "                        <td id=\"T_981d5590_9882_11ea_b432_107b4493f33brow8_col7\" class=\"data row8 col7\" >1.40025</td>\n",
       "            </tr>\n",
       "            <tr>\n",
       "                                <td id=\"T_981d5590_9882_11ea_b432_107b4493f33brow9_col0\" class=\"data row9 col0\" >parb_sad-0</td>\n",
       "                        <td id=\"T_981d5590_9882_11ea_b432_107b4493f33brow9_col1\" class=\"data row9 col1\" >3</td>\n",
       "                        <td id=\"T_981d5590_9882_11ea_b432_107b4493f33brow9_col2\" class=\"data row9 col2\" >1</td>\n",
       "                        <td id=\"T_981d5590_9882_11ea_b432_107b4493f33brow9_col3\" class=\"data row9 col3\" >nvd_conv-0</td>\n",
       "                        <td id=\"T_981d5590_9882_11ea_b432_107b4493f33brow9_col4\" class=\"data row9 col4\" >2</td>\n",
       "                        <td id=\"T_981d5590_9882_11ea_b432_107b4493f33brow9_col5\" class=\"data row9 col5\" >4</td>\n",
       "                        <td id=\"T_981d5590_9882_11ea_b432_107b4493f33brow9_col6\" class=\"data row9 col6\" >[0, 0.4633140376266281, 0.9376081003170943]</td>\n",
       "                        <td id=\"T_981d5590_9882_11ea_b432_107b4493f33brow9_col7\" class=\"data row9 col7\" >1.40092</td>\n",
       "            </tr>\n",
       "            <tr>\n",
       "                                <td id=\"T_981d5590_9882_11ea_b432_107b4493f33brow10_col0\" class=\"data row10 col0\" >parb_sad-1</td>\n",
       "                        <td id=\"T_981d5590_9882_11ea_b432_107b4493f33brow10_col1\" class=\"data row10 col1\" >1</td>\n",
       "                        <td id=\"T_981d5590_9882_11ea_b432_107b4493f33brow10_col2\" class=\"data row10 col2\" >8</td>\n",
       "                        <td id=\"T_981d5590_9882_11ea_b432_107b4493f33brow10_col3\" class=\"data row10 col3\" >nvd_conv-0</td>\n",
       "                        <td id=\"T_981d5590_9882_11ea_b432_107b4493f33brow10_col4\" class=\"data row10 col4\" >2</td>\n",
       "                        <td id=\"T_981d5590_9882_11ea_b432_107b4493f33brow10_col5\" class=\"data row10 col5\" >2</td>\n",
       "                        <td id=\"T_981d5590_9882_11ea_b432_107b4493f33brow10_col6\" class=\"data row10 col6\" >[0, 0.9055025609131595, 0.5191614167926137]</td>\n",
       "                        <td id=\"T_981d5590_9882_11ea_b432_107b4493f33brow10_col7\" class=\"data row10 col7\" >1.42466</td>\n",
       "            </tr>\n",
       "            <tr>\n",
       "                                <td id=\"T_981d5590_9882_11ea_b432_107b4493f33brow11_col0\" class=\"data row11 col0\" >parb_sad-0</td>\n",
       "                        <td id=\"T_981d5590_9882_11ea_b432_107b4493f33brow11_col1\" class=\"data row11 col1\" >1</td>\n",
       "                        <td id=\"T_981d5590_9882_11ea_b432_107b4493f33brow11_col2\" class=\"data row11 col2\" >4</td>\n",
       "                        <td id=\"T_981d5590_9882_11ea_b432_107b4493f33brow11_col3\" class=\"data row11 col3\" >nvd_conv-0</td>\n",
       "                        <td id=\"T_981d5590_9882_11ea_b432_107b4493f33brow11_col4\" class=\"data row11 col4\" >1</td>\n",
       "                        <td id=\"T_981d5590_9882_11ea_b432_107b4493f33brow11_col5\" class=\"data row11 col5\" >4</td>\n",
       "                        <td id=\"T_981d5590_9882_11ea_b432_107b4493f33brow11_col6\" class=\"data row11 col6\" >[0, 0.6599056784632491, 0.8803185585318929]</td>\n",
       "                        <td id=\"T_981d5590_9882_11ea_b432_107b4493f33brow11_col7\" class=\"data row11 col7\" >1.54022</td>\n",
       "            </tr>\n",
       "    </tbody></table>"
      ],
      "text/plain": [
       "<pandas.io.formats.style.Styler at 0x7ff9e62595c0>"
      ]
     },
     "execution_count": 14,
     "metadata": {},
     "output_type": "execute_result"
    }
   ],
   "source": [
    "df_dynamic = pd.read_pickle(dynamic_output)\n",
    "df_best = df_dynamic.sort_values('ws').drop_duplicates(['1_bench', '1_kidx', '2_bench', '2_kidx'])\n",
    "\n",
    "col_best = ['1_bench', '1_kidx', '1_intra', '2_bench', '2_kidx', '2_intra', 'sld', 'ws']\n",
    "draw_table(df_best, col_best)"
   ]
  },
  {
   "cell_type": "code",
   "execution_count": 15,
   "metadata": {},
   "outputs": [],
   "source": [
    "df_best.set_index(['1_bench', '1_kidx', '2_bench', '2_kidx'], inplace=True)"
   ]
  },
  {
   "cell_type": "code",
   "execution_count": 25,
   "metadata": {},
   "outputs": [
    {
     "data": {
      "application/vnd.jupyter.widget-view+json": {
       "model_id": "41dc9d2daf964e63b3bc51343e3a1e45",
       "version_major": 2,
       "version_minor": 0
      },
      "text/plain": [
       "Dropdown(description='Pair:', options=('parb_sad-0+nvd_conv-0', 'parb_sad-1+nvd_conv-0'), value='parb_sad-0+nv…"
      ]
     },
     "metadata": {},
     "output_type": "display_data"
    },
    {
     "data": {
      "application/vnd.jupyter.widget-view+json": {
       "model_id": "4bda32c238b747639518ec645979578f",
       "version_major": 2,
       "version_minor": 0
      },
      "text/plain": [
       "Button(button_style='info', description='Best', style=ButtonStyle())"
      ]
     },
     "metadata": {},
     "output_type": "display_data"
    },
    {
     "name": "stdout",
     "output_type": "stream",
     "text": [
      "parb_sad-0 configs:\n",
      "             nvd_conv-0:1 nvd_conv-0:2\n",
      "parb_sad-0:1      4, 0.66      4, 0.73\n",
      "parb_sad-0:2      2, 0.54      2, 0.51\n",
      "parb_sad-0:3      2, 0.57      1, 0.46\n",
      "--------------------------------------------------\n",
      "nvd_conv-0 configs:\n",
      "             nvd_conv-0:1 nvd_conv-0:2\n",
      "parb_sad-0:1      4, 0.88      2, 0.58\n",
      "parb_sad-0:2     20, 0.60     10, 0.62\n",
      "parb_sad-0:3     20, 0.81      4, 0.94\n"
     ]
    }
   ],
   "source": [
    "\n",
    "best_dd = widgets.Dropdown(options=uniq_pairs, value=uniq_pairs[0], description='Pair:')\n",
    "best_btn = widgets.Button(description='Best', button_style='info')\n",
    "\n",
    "def show_widgets():\n",
    "    display(best_dd)\n",
    "    display(best_btn)\n",
    "    \n",
    "\n",
    "def best_onclick(b):\n",
    "    clear_output()\n",
    "    show_widgets()\n",
    "    \n",
    "    apps = best_dd.value.split('+')\n",
    "    def get_best_config(app1, app2):\n",
    "        configs_1 = np.zeros((len(const.kernel_yaml[app1]), len(const.kernel_yaml[app2]))).tolist()\n",
    "        configs_2 = np.zeros((len(const.kernel_yaml[app1]), len(const.kernel_yaml[app2]))).tolist()\n",
    "        for kernel_1 in const.kernel_yaml[app1]:\n",
    "            for kernel_2 in const.kernel_yaml[app2]:\n",
    "                cta_1 = df_best.loc[(app1, kernel_1, app2, kernel_2), '1_intra']\n",
    "                sld_1 = df_best.loc[(app1, kernel_1, app2, kernel_2), 'sld'][1]\n",
    "                cta_2 = df_best.loc[(app1, kernel_1, app2, kernel_2), '2_intra']\n",
    "                sld_2 = df_best.loc[(app1, kernel_1, app2, kernel_2), 'sld'][2]\n",
    "                configs_1[kernel_1-1][kernel_2-1] = '{:d}, {:.2f}'.format(int(cta_1), sld_1)\n",
    "                configs_2[kernel_1-1][kernel_2-1] = '{:d}, {:.2f}'.format(int(cta_2), sld_2)\n",
    "#         return [configs_1.astype(np.int64), configs_2.astype(np.int64)]\n",
    "        return [configs_1, configs_2]\n",
    "                \n",
    "    configs = get_best_config(apps[0], apps[1])\n",
    "    app1_kernels = ['{0}:{1}'.format(apps[0], kernel) for kernel in const.kernel_yaml[apps[0]]]\n",
    "    app2_kernels = ['{0}:{1}'.format(apps[1], kernel) for kernel in const.kernel_yaml[apps[1]]]\n",
    "    print(apps[0], 'configs:')\n",
    "    print(pd.DataFrame(configs[0], app1_kernels, app2_kernels))\n",
    "    \n",
    "    print('-' * 50)\n",
    "    print(apps[1], 'configs:')\n",
    "    print(pd.DataFrame(configs[1], app1_kernels, app2_kernels))\n",
    "    \n",
    "\n",
    "show_widgets()\n",
    "best_btn.on_click(best_onclick)\n",
    " "
   ]
  },
  {
   "cell_type": "code",
   "execution_count": 17,
   "metadata": {},
   "outputs": [
    {
     "name": "stdout",
     "output_type": "stream",
     "text": [
      "0 []\n",
      "1 [1, 3]\n",
      "2 [3, 2, 4]\n"
     ]
    },
    {
     "data": {
      "text/plain": [
       "4"
      ]
     },
     "execution_count": 17,
     "metadata": {},
     "output_type": "execute_result"
    }
   ],
   "source": [
    "arr = np.array([[], [1, 3], [3, 2, 4]])\n",
    "for idx, stream in enumerate(arr):\n",
    "    print(idx, stream)\n",
    "sum_runtime = np.array([sum(arr_run) for arr_run in arr])\n",
    "\n",
    "np.min(sum_runtime[sum_runtime > 0])"
   ]
  },
  {
   "cell_type": "code",
   "execution_count": null,
   "metadata": {},
   "outputs": [],
   "source": []
  }
 ],
 "metadata": {
  "kernelspec": {
   "display_name": "Python 3",
   "language": "python",
   "name": "python3"
  },
  "language_info": {
   "codemirror_mode": {
    "name": "ipython",
    "version": 3
   },
   "file_extension": ".py",
   "mimetype": "text/x-python",
   "name": "python",
   "nbconvert_exporter": "python",
   "pygments_lexer": "ipython3",
   "version": "3.6.8"
  }
 },
 "nbformat": 4,
 "nbformat_minor": 4
}
