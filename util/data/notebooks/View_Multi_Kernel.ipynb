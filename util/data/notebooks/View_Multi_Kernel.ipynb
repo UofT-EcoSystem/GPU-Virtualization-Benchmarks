{
 "cells": [
  {
   "cell_type": "code",
   "execution_count": 22,
   "metadata": {},
   "outputs": [
    {
     "name": "stdout",
     "output_type": "stream",
     "text": [
      "The autoreload extension is already loaded. To reload it, use:\n",
      "  %reload_ext autoreload\n"
     ]
    }
   ],
   "source": [
    "%load_ext autoreload\n",
    "%autoreload 2\n",
    "\n",
    "import pandas as pd\n",
    "import os\n",
    "import sys\n",
    "from ipywidgets import widgets\n",
    "from IPython.display import display, HTML\n",
    "from IPython.display import clear_output\n",
    "import matplotlib.pyplot as plt\n",
    "import seaborn as sns\n",
    "import altair as alt\n",
    "\n",
    "# Customized modules\n",
    "HOME = '/home/serinatan/project/GPU-Virtualization-Benchmarks/util'\n",
    "if HOME not in sys.path:\n",
    "    sys.path.append(HOME)\n",
    "\n",
    "import data.scripts.common.format as fmt\n",
    "import data.scripts.common.constants as const\n",
    "import data.scripts.gen_tables.gen_pair_configs as gen_pair\n",
    "import data.scripts.gen_tables.search_best_inter as search_inter\n",
    "\n",
    "SCRIPT_PATH = os.path.join(HOME, 'data/scripts') \n",
    "PKL_PATH = os.path.join(HOME, 'data/pickles') \n",
    "CSV_PATH = os.path.join(HOME, 'data/csv') \n",
    "GRAPH_PATH = os.path.join(HOME, 'data/graphs')\n",
    "\n",
    "%config InlineBackend.figure_format ='retina'\n",
    "plt.style.use('seaborn-talk')"
   ]
  },
  {
   "cell_type": "code",
   "execution_count": 3,
   "metadata": {},
   "outputs": [],
   "source": [
    "def draw_table(df, cols, hide_index=True):\n",
    "    if hide_index:\n",
    "        return df[cols].style.set_table_styles(fmt.table_style).hide_index()\n",
    "    else:\n",
    "        return df[cols].style.set_table_styles(fmt.table_style)"
   ]
  },
  {
   "cell_type": "markdown",
   "metadata": {},
   "source": [
    "# Seq"
   ]
  },
  {
   "cell_type": "code",
   "execution_count": 4,
   "metadata": {
    "scrolled": false
   },
   "outputs": [
    {
     "name": "stdout",
     "output_type": "stream",
     "text": [
      "Index(['pair_str', 'config', 'gpusim_version', 'jobId', 'stall_icnt_to_l2',\n",
      "       'stall_l2_to_icnt', 'stall_core_ldst', 'l1D_miss_rate', 'l2_miss_rate',\n",
      "       'l2_rshr_entry_fail', 'l2_rshr_merge_fail', 'l2_total_accesses',\n",
      "       'mem_count', 'empty_warp', 'stall_warp', 'idle_warp', 'scoreboard_warp',\n",
      "       'tot_warp_insn', 'runtime', 'instructions', 'l2_bw', 'avg_mem_lat',\n",
      "       'avg_core_to_l2', 'avg_l2_to_core', 'avg_mrq_latency', 'dram_eff',\n",
      "       'dram_bw', 'row_buffer_locality', 'mem_idle', 'total_cmd', 'ipc',\n",
      "       'avg_dram_bw', 'avg_dram_eff', 'avg_row_locality', 'std_dram_bw',\n",
      "       'ratio_dram_bw', 'MPKI', 'l2_access_density', '1_kidx', 'waves'],\n",
      "      dtype='object')\n"
     ]
    }
   ],
   "source": [
    "# run python scripts to generate all the pickles needed\n",
    "gen_seq = os.path.join(SCRIPT_PATH, 'gen_tables/gen_table_seq.py')   \n",
    "seq_file = os.path.join(CSV_PATH, 'seq-multi.csv')\n",
    "seq_pkl = os.path.join(PKL_PATH, 'seq-multi.pkl')\n",
    "%run $gen_seq --multi --csv $seq_file --output $seq_pkl\n",
    "\n",
    "df_seq = pd.read_pickle(os.path.join(PKL_PATH, 'seq-multi.pkl'))\n",
    "print(df_seq.columns)"
   ]
  },
  {
   "cell_type": "code",
   "execution_count": 5,
   "metadata": {},
   "outputs": [
    {
     "data": {
      "text/html": [
       "<style  type=\"text/css\" >\n",
       "    #T_e35baf66_909c_11ea_b432_107b4493f33b tr:nth-of-type(odd) {\n",
       "          background: #eee;\n",
       "    }    #T_e35baf66_909c_11ea_b432_107b4493f33b tr:nth-of-type(even) {\n",
       "          background: white;\n",
       "    }    #T_e35baf66_909c_11ea_b432_107b4493f33b th {\n",
       "          background: #606060;\n",
       "          color: white;\n",
       "          font-family: verdana;\n",
       "          font-size: 90%;\n",
       "    }    #T_e35baf66_909c_11ea_b432_107b4493f33b td {\n",
       "          font-family: verdana;\n",
       "          font-size: 90%;\n",
       "          font-weight: bold;\n",
       "    }    #T_e35baf66_909c_11ea_b432_107b4493f33b tr:hover {\n",
       "          background-color: #ffffcc;\n",
       "    }</style><table id=\"T_e35baf66_909c_11ea_b432_107b4493f33b\" ><thead>    <tr>        <th class=\"col_heading level0 col0\" >pair_str</th>        <th class=\"col_heading level0 col1\" >1_kidx</th>        <th class=\"col_heading level0 col2\" >runtime</th>        <th class=\"col_heading level0 col3\" >ipc</th>        <th class=\"col_heading level0 col4\" >avg_dram_bw</th>    </tr></thead><tbody>\n",
       "                <tr>\n",
       "                                <td id=\"T_e35baf66_909c_11ea_b432_107b4493f33brow0_col0\" class=\"data row0 col0\" >nvd_conv-0</td>\n",
       "                        <td id=\"T_e35baf66_909c_11ea_b432_107b4493f33brow0_col1\" class=\"data row0 col1\" >1</td>\n",
       "                        <td id=\"T_e35baf66_909c_11ea_b432_107b4493f33brow0_col2\" class=\"data row0 col2\" >190,346</td>\n",
       "                        <td id=\"T_e35baf66_909c_11ea_b432_107b4493f33brow0_col3\" class=\"data row0 col3\" >2131.9</td>\n",
       "                        <td id=\"T_e35baf66_909c_11ea_b432_107b4493f33brow0_col4\" class=\"data row0 col4\" >0.7242</td>\n",
       "            </tr>\n",
       "            <tr>\n",
       "                                <td id=\"T_e35baf66_909c_11ea_b432_107b4493f33brow1_col0\" class=\"data row1 col0\" >nvd_conv-0</td>\n",
       "                        <td id=\"T_e35baf66_909c_11ea_b432_107b4493f33brow1_col1\" class=\"data row1 col1\" >2</td>\n",
       "                        <td id=\"T_e35baf66_909c_11ea_b432_107b4493f33brow1_col2\" class=\"data row1 col2\" >208,164</td>\n",
       "                        <td id=\"T_e35baf66_909c_11ea_b432_107b4493f33brow1_col3\" class=\"data row1 col3\" >1755.92</td>\n",
       "                        <td id=\"T_e35baf66_909c_11ea_b432_107b4493f33brow1_col4\" class=\"data row1 col4\" >0.6698</td>\n",
       "            </tr>\n",
       "            <tr>\n",
       "                                <td id=\"T_e35baf66_909c_11ea_b432_107b4493f33brow2_col0\" class=\"data row2 col0\" >parb_sad-0</td>\n",
       "                        <td id=\"T_e35baf66_909c_11ea_b432_107b4493f33brow2_col1\" class=\"data row2 col1\" >1</td>\n",
       "                        <td id=\"T_e35baf66_909c_11ea_b432_107b4493f33brow2_col2\" class=\"data row2 col2\" >51,633</td>\n",
       "                        <td id=\"T_e35baf66_909c_11ea_b432_107b4493f33brow2_col3\" class=\"data row2 col3\" >2686.45</td>\n",
       "                        <td id=\"T_e35baf66_909c_11ea_b432_107b4493f33brow2_col4\" class=\"data row2 col4\" >0.0061</td>\n",
       "            </tr>\n",
       "            <tr>\n",
       "                                <td id=\"T_e35baf66_909c_11ea_b432_107b4493f33brow3_col0\" class=\"data row3 col0\" >parb_sad-0</td>\n",
       "                        <td id=\"T_e35baf66_909c_11ea_b432_107b4493f33brow3_col1\" class=\"data row3 col1\" >2</td>\n",
       "                        <td id=\"T_e35baf66_909c_11ea_b432_107b4493f33brow3_col2\" class=\"data row3 col2\" >21,556</td>\n",
       "                        <td id=\"T_e35baf66_909c_11ea_b432_107b4493f33brow3_col3\" class=\"data row3 col3\" >203.199</td>\n",
       "                        <td id=\"T_e35baf66_909c_11ea_b432_107b4493f33brow3_col4\" class=\"data row3 col4\" >0.4558</td>\n",
       "            </tr>\n",
       "            <tr>\n",
       "                                <td id=\"T_e35baf66_909c_11ea_b432_107b4493f33brow4_col0\" class=\"data row4 col0\" >parb_sad-0</td>\n",
       "                        <td id=\"T_e35baf66_909c_11ea_b432_107b4493f33brow4_col1\" class=\"data row4 col1\" >3</td>\n",
       "                        <td id=\"T_e35baf66_909c_11ea_b432_107b4493f33brow4_col2\" class=\"data row4 col2\" >12,806</td>\n",
       "                        <td id=\"T_e35baf66_909c_11ea_b432_107b4493f33brow4_col3\" class=\"data row4 col3\" >89.9086</td>\n",
       "                        <td id=\"T_e35baf66_909c_11ea_b432_107b4493f33brow4_col4\" class=\"data row4 col4\" >0.1249</td>\n",
       "            </tr>\n",
       "            <tr>\n",
       "                                <td id=\"T_e35baf66_909c_11ea_b432_107b4493f33brow5_col0\" class=\"data row5 col0\" >parb_sad-1</td>\n",
       "                        <td id=\"T_e35baf66_909c_11ea_b432_107b4493f33brow5_col1\" class=\"data row5 col1\" >1</td>\n",
       "                        <td id=\"T_e35baf66_909c_11ea_b432_107b4493f33brow5_col2\" class=\"data row5 col2\" >3,000,706</td>\n",
       "                        <td id=\"T_e35baf66_909c_11ea_b432_107b4493f33brow5_col3\" class=\"data row5 col3\" >3754.08</td>\n",
       "                        <td id=\"T_e35baf66_909c_11ea_b432_107b4493f33brow5_col4\" class=\"data row5 col4\" >0.1736</td>\n",
       "            </tr>\n",
       "            <tr>\n",
       "                                <td id=\"T_e35baf66_909c_11ea_b432_107b4493f33brow6_col0\" class=\"data row6 col0\" >parb_sad-1</td>\n",
       "                        <td id=\"T_e35baf66_909c_11ea_b432_107b4493f33brow6_col1\" class=\"data row6 col1\" >2</td>\n",
       "                        <td id=\"T_e35baf66_909c_11ea_b432_107b4493f33brow6_col2\" class=\"data row6 col2\" >2,324,970</td>\n",
       "                        <td id=\"T_e35baf66_909c_11ea_b432_107b4493f33brow6_col3\" class=\"data row6 col3\" >153.001</td>\n",
       "                        <td id=\"T_e35baf66_909c_11ea_b432_107b4493f33brow6_col4\" class=\"data row6 col4\" >0.5645</td>\n",
       "            </tr>\n",
       "            <tr>\n",
       "                                <td id=\"T_e35baf66_909c_11ea_b432_107b4493f33brow7_col0\" class=\"data row7 col0\" >parb_sad-1</td>\n",
       "                        <td id=\"T_e35baf66_909c_11ea_b432_107b4493f33brow7_col1\" class=\"data row7 col1\" >3</td>\n",
       "                        <td id=\"T_e35baf66_909c_11ea_b432_107b4493f33brow7_col2\" class=\"data row7 col2\" >541,865</td>\n",
       "                        <td id=\"T_e35baf66_909c_11ea_b432_107b4493f33brow7_col3\" class=\"data row7 col3\" >172.562</td>\n",
       "                        <td id=\"T_e35baf66_909c_11ea_b432_107b4493f33brow7_col4\" class=\"data row7 col4\" >0.5842</td>\n",
       "            </tr>\n",
       "    </tbody></table>"
      ],
      "text/plain": [
       "<pandas.io.formats.style.Styler at 0x7fee68226518>"
      ]
     },
     "execution_count": 5,
     "metadata": {},
     "output_type": "execute_result"
    }
   ],
   "source": [
    "col_seq = ['pair_str', '1_kidx', 'runtime',\n",
    "           'ipc',\n",
    "           'avg_dram_bw', \n",
    "          ]\n",
    "\n",
    "draw_table(df_seq, col_seq).format({\n",
    "    'runtime': '{:,}',\n",
    "    'avg_dram_bw':'{:.4f}', \n",
    "    'sp_busy': '{:.2f}',\n",
    "    'dp_busy': '{:.2f}',\n",
    "    'int_busy': '{:.2f}',\n",
    "    'tensor_busy': '{:.2f}',\n",
    "    'sfu_busy': '{:.2f}',\n",
    "})"
   ]
  },
  {
   "cell_type": "markdown",
   "metadata": {},
   "source": [
    "# Intra"
   ]
  },
  {
   "cell_type": "code",
   "execution_count": 8,
   "metadata": {
    "scrolled": false
   },
   "outputs": [],
   "source": [
    "gen_intra = os.path.join(SCRIPT_PATH, 'gen_tables/gen_table_intra.py')\n",
    "intra_file = os.path.join(CSV_PATH, 'intra-multi.csv')\n",
    "intra_pkl = os.path.join(PKL_PATH, 'intra-multi.pkl')\n",
    "\n",
    "%run $gen_intra --out_intra $intra_pkl --seq $seq_pkl --csv $intra_file\n",
    "\n",
    "df_intra = pd.read_pickle(intra_pkl)\n",
    "df_intra.sort_values(['pair_str', '1_kidx'], inplace=True)\n",
    "# col_intra = ['pair_str', '1_kidx', 'regs', 'thread_count', 'smem', 'intra']\n",
    "# draw_table(df_intra, col_intra)"
   ]
  },
  {
   "cell_type": "code",
   "execution_count": 9,
   "metadata": {},
   "outputs": [],
   "source": [
    "col_prod = ['pair_str_x', '1_kidx_x', 'pair_str_y', '1_kidx_y',\n",
    "            'norm_ipc_x', 'norm_ipc_y', 'diff_mflat', 'sum_ipc', \n",
    "            'intra_x', 'intra_y', \n",
    "           'sum_comp', 'sum_dram',]\n",
    "find_pair = os.path.join(SCRIPT_PATH, 'gen_tables/gen_pair_configs.py')\n",
    "pairs = df_seq.apply(lambda row: ':'.join([row['pair_str'], str(row['1_kidx'])]), axis=1)"
   ]
  },
  {
   "cell_type": "code",
   "execution_count": 10,
   "metadata": {},
   "outputs": [
    {
     "data": {
      "application/vnd.jupyter.widget-view+json": {
       "model_id": "e1d81d7bad6f46a0b09b4b55a237516c",
       "version_major": 2,
       "version_minor": 0
      },
      "text/plain": [
       "Dropdown(description='App 1:', index=6, options=('nvd_conv-0:1', 'nvd_conv-0:2', 'parb_sad-0:1', 'parb_sad-0:2…"
      ]
     },
     "metadata": {},
     "output_type": "display_data"
    },
    {
     "data": {
      "application/vnd.jupyter.widget-view+json": {
       "model_id": "4d6ee30a02a746ada0a78536caa61f42",
       "version_major": 2,
       "version_minor": 0
      },
      "text/plain": [
       "Dropdown(description='App 2:', index=1, options=('nvd_conv-0:1', 'nvd_conv-0:2', 'parb_sad-0:1', 'parb_sad-0:2…"
      ]
     },
     "metadata": {},
     "output_type": "display_data"
    },
    {
     "data": {
      "application/vnd.jupyter.widget-view+json": {
       "model_id": "b5f8b35c1ad54da99d5536a20933120c",
       "version_major": 2,
       "version_minor": 0
      },
      "text/plain": [
       "FloatSlider(value=0.75, continuous_update=False, description='QoS:', max=0.95, min=0.1, step=0.05)"
      ]
     },
     "metadata": {},
     "output_type": "display_data"
    },
    {
     "data": {
      "application/vnd.jupyter.widget-view+json": {
       "model_id": "9dd6a3b0155b4118a1555929c772594c",
       "version_major": 2,
       "version_minor": 0
      },
      "text/plain": [
       "Button(button_style='info', description='Calculate', style=ButtonStyle())"
      ]
     },
     "metadata": {},
     "output_type": "display_data"
    },
    {
     "name": "stdout",
     "output_type": "stream",
     "text": [
      "Index(['level_0', 'index', 'pair_str_x', 'config_x', 'gpusim_version_x',\n",
      "       'jobId_x', 'stall_icnt_to_l2_x', 'stall_l2_to_icnt_x',\n",
      "       'stall_core_ldst_x', 'l1D_miss_rate_x',\n",
      "       ...\n",
      "       'cta_ratio_y', 'thread_ratio_y', 'smem_ratio_y', 'reg_ratio_y',\n",
      "       'diff_mflat', 'sum_ipc', 'sum_comp', 'sum_dram', 'penalized', 'config'],\n",
      "      dtype='object', length=105)\n"
     ]
    },
    {
     "data": {
      "text/html": [
       "<style  type=\"text/css\" >\n",
       "    #T_44829714_909d_11ea_b432_107b4493f33b tr:nth-of-type(odd) {\n",
       "          background: #eee;\n",
       "    }    #T_44829714_909d_11ea_b432_107b4493f33b tr:nth-of-type(even) {\n",
       "          background: white;\n",
       "    }    #T_44829714_909d_11ea_b432_107b4493f33b th {\n",
       "          background: #606060;\n",
       "          color: white;\n",
       "          font-family: verdana;\n",
       "          font-size: 90%;\n",
       "    }    #T_44829714_909d_11ea_b432_107b4493f33b td {\n",
       "          font-family: verdana;\n",
       "          font-size: 90%;\n",
       "          font-weight: bold;\n",
       "    }    #T_44829714_909d_11ea_b432_107b4493f33b tr:hover {\n",
       "          background-color: #ffffcc;\n",
       "    }</style><table id=\"T_44829714_909d_11ea_b432_107b4493f33b\" ><thead>    <tr>        <th class=\"blank level0\" ></th>        <th class=\"col_heading level0 col0\" >pair_str_x</th>        <th class=\"col_heading level0 col1\" >1_kidx_x</th>        <th class=\"col_heading level0 col2\" >pair_str_y</th>        <th class=\"col_heading level0 col3\" >1_kidx_y</th>        <th class=\"col_heading level0 col4\" >norm_ipc_x</th>        <th class=\"col_heading level0 col5\" >norm_ipc_y</th>        <th class=\"col_heading level0 col6\" >diff_mflat</th>        <th class=\"col_heading level0 col7\" >sum_ipc</th>        <th class=\"col_heading level0 col8\" >intra_x</th>        <th class=\"col_heading level0 col9\" >intra_y</th>        <th class=\"col_heading level0 col10\" >sum_comp</th>        <th class=\"col_heading level0 col11\" >sum_dram</th>    </tr></thead><tbody>\n",
       "                <tr>\n",
       "                        <th id=\"T_44829714_909d_11ea_b432_107b4493f33blevel0_row0\" class=\"row_heading level0 row0\" >0</th>\n",
       "                        <td id=\"T_44829714_909d_11ea_b432_107b4493f33brow0_col0\" class=\"data row0 col0\" >parb_sad-1</td>\n",
       "                        <td id=\"T_44829714_909d_11ea_b432_107b4493f33brow0_col1\" class=\"data row0 col1\" >2</td>\n",
       "                        <td id=\"T_44829714_909d_11ea_b432_107b4493f33brow0_col2\" class=\"data row0 col2\" >nvd_conv-0</td>\n",
       "                        <td id=\"T_44829714_909d_11ea_b432_107b4493f33brow0_col3\" class=\"data row0 col3\" >2</td>\n",
       "                        <td id=\"T_44829714_909d_11ea_b432_107b4493f33brow0_col4\" class=\"data row0 col4\" >1.34946</td>\n",
       "                        <td id=\"T_44829714_909d_11ea_b432_107b4493f33brow0_col5\" class=\"data row0 col5\" >1.08257</td>\n",
       "                        <td id=\"T_44829714_909d_11ea_b432_107b4493f33brow0_col6\" class=\"data row0 col6\" >66</td>\n",
       "                        <td id=\"T_44829714_909d_11ea_b432_107b4493f33brow0_col7\" class=\"data row0 col7\" >2.43204</td>\n",
       "                        <td id=\"T_44829714_909d_11ea_b432_107b4493f33brow0_col8\" class=\"data row0 col8\" >2</td>\n",
       "                        <td id=\"T_44829714_909d_11ea_b432_107b4493f33brow0_col9\" class=\"data row0 col9\" >10</td>\n",
       "                        <td id=\"T_44829714_909d_11ea_b432_107b4493f33brow0_col10\" class=\"data row0 col10\" >0.228164</td>\n",
       "                        <td id=\"T_44829714_909d_11ea_b432_107b4493f33brow0_col11\" class=\"data row0 col11\" >1.93421</td>\n",
       "            </tr>\n",
       "            <tr>\n",
       "                        <th id=\"T_44829714_909d_11ea_b432_107b4493f33blevel0_row1\" class=\"row_heading level0 row1\" >1</th>\n",
       "                        <td id=\"T_44829714_909d_11ea_b432_107b4493f33brow1_col0\" class=\"data row1 col0\" >parb_sad-1</td>\n",
       "                        <td id=\"T_44829714_909d_11ea_b432_107b4493f33brow1_col1\" class=\"data row1 col1\" >2</td>\n",
       "                        <td id=\"T_44829714_909d_11ea_b432_107b4493f33brow1_col2\" class=\"data row1 col2\" >nvd_conv-0</td>\n",
       "                        <td id=\"T_44829714_909d_11ea_b432_107b4493f33brow1_col3\" class=\"data row1 col3\" >2</td>\n",
       "                        <td id=\"T_44829714_909d_11ea_b432_107b4493f33brow1_col4\" class=\"data row1 col4\" >1.34946</td>\n",
       "                        <td id=\"T_44829714_909d_11ea_b432_107b4493f33brow1_col5\" class=\"data row1 col5\" >1.16624</td>\n",
       "                        <td id=\"T_44829714_909d_11ea_b432_107b4493f33brow1_col6\" class=\"data row1 col6\" >85</td>\n",
       "                        <td id=\"T_44829714_909d_11ea_b432_107b4493f33brow1_col7\" class=\"data row1 col7\" >2.5157</td>\n",
       "                        <td id=\"T_44829714_909d_11ea_b432_107b4493f33brow1_col8\" class=\"data row1 col8\" >2</td>\n",
       "                        <td id=\"T_44829714_909d_11ea_b432_107b4493f33brow1_col9\" class=\"data row1 col9\" >8</td>\n",
       "                        <td id=\"T_44829714_909d_11ea_b432_107b4493f33brow1_col10\" class=\"data row1 col10\" >0.243977</td>\n",
       "                        <td id=\"T_44829714_909d_11ea_b432_107b4493f33brow1_col11\" class=\"data row1 col11\" >1.93639</td>\n",
       "            </tr>\n",
       "            <tr>\n",
       "                        <th id=\"T_44829714_909d_11ea_b432_107b4493f33blevel0_row2\" class=\"row_heading level0 row2\" >2</th>\n",
       "                        <td id=\"T_44829714_909d_11ea_b432_107b4493f33brow2_col0\" class=\"data row2 col0\" >parb_sad-1</td>\n",
       "                        <td id=\"T_44829714_909d_11ea_b432_107b4493f33brow2_col1\" class=\"data row2 col1\" >2</td>\n",
       "                        <td id=\"T_44829714_909d_11ea_b432_107b4493f33brow2_col2\" class=\"data row2 col2\" >nvd_conv-0</td>\n",
       "                        <td id=\"T_44829714_909d_11ea_b432_107b4493f33brow2_col3\" class=\"data row2 col3\" >2</td>\n",
       "                        <td id=\"T_44829714_909d_11ea_b432_107b4493f33brow2_col4\" class=\"data row2 col4\" >1.34946</td>\n",
       "                        <td id=\"T_44829714_909d_11ea_b432_107b4493f33brow2_col5\" class=\"data row2 col5\" >1.14596</td>\n",
       "                        <td id=\"T_44829714_909d_11ea_b432_107b4493f33brow2_col6\" class=\"data row2 col6\" >205</td>\n",
       "                        <td id=\"T_44829714_909d_11ea_b432_107b4493f33brow2_col7\" class=\"data row2 col7\" >2.49542</td>\n",
       "                        <td id=\"T_44829714_909d_11ea_b432_107b4493f33brow2_col8\" class=\"data row2 col8\" >2</td>\n",
       "                        <td id=\"T_44829714_909d_11ea_b432_107b4493f33brow2_col9\" class=\"data row2 col9\" >6</td>\n",
       "                        <td id=\"T_44829714_909d_11ea_b432_107b4493f33brow2_col10\" class=\"data row2 col10\" >0.238842</td>\n",
       "                        <td id=\"T_44829714_909d_11ea_b432_107b4493f33brow2_col11\" class=\"data row2 col11\" >1.934</td>\n",
       "            </tr>\n",
       "            <tr>\n",
       "                        <th id=\"T_44829714_909d_11ea_b432_107b4493f33blevel0_row3\" class=\"row_heading level0 row3\" >3</th>\n",
       "                        <td id=\"T_44829714_909d_11ea_b432_107b4493f33brow3_col0\" class=\"data row3 col0\" >parb_sad-1</td>\n",
       "                        <td id=\"T_44829714_909d_11ea_b432_107b4493f33brow3_col1\" class=\"data row3 col1\" >2</td>\n",
       "                        <td id=\"T_44829714_909d_11ea_b432_107b4493f33brow3_col2\" class=\"data row3 col2\" >nvd_conv-0</td>\n",
       "                        <td id=\"T_44829714_909d_11ea_b432_107b4493f33brow3_col3\" class=\"data row3 col3\" >2</td>\n",
       "                        <td id=\"T_44829714_909d_11ea_b432_107b4493f33brow3_col4\" class=\"data row3 col4\" >1.27252</td>\n",
       "                        <td id=\"T_44829714_909d_11ea_b432_107b4493f33brow3_col5\" class=\"data row3 col5\" >1.16624</td>\n",
       "                        <td id=\"T_44829714_909d_11ea_b432_107b4493f33brow3_col6\" class=\"data row3 col6\" >858</td>\n",
       "                        <td id=\"T_44829714_909d_11ea_b432_107b4493f33brow3_col7\" class=\"data row3 col7\" >2.43876</td>\n",
       "                        <td id=\"T_44829714_909d_11ea_b432_107b4493f33brow3_col8\" class=\"data row3 col8\" >4</td>\n",
       "                        <td id=\"T_44829714_909d_11ea_b432_107b4493f33brow3_col9\" class=\"data row3 col9\" >8</td>\n",
       "                        <td id=\"T_44829714_909d_11ea_b432_107b4493f33brow3_col10\" class=\"data row3 col10\" >0.242732</td>\n",
       "                        <td id=\"T_44829714_909d_11ea_b432_107b4493f33brow3_col11\" class=\"data row3 col11\" >1.93615</td>\n",
       "            </tr>\n",
       "    </tbody></table>"
      ],
      "text/plain": [
       "<IPython.core.display.HTML object>"
      ]
     },
     "metadata": {},
     "output_type": "display_data"
    }
   ],
   "source": [
    "app1 = widgets.Dropdown(\n",
    "    options=pairs,\n",
    "    value=pairs[0],\n",
    "    rows=5,\n",
    "    description='App 1:',\n",
    "    disabled=False\n",
    ")\n",
    "\n",
    "app2 = widgets.Dropdown(\n",
    "    options=pairs,\n",
    "    value=pairs[0],\n",
    "    rows=5,\n",
    "    description='App 2:',\n",
    "    disabled=False\n",
    ")\n",
    "\n",
    "qos = widgets.FloatSlider(\n",
    "    value=0.75,\n",
    "    min=0.1,\n",
    "    max=0.95,\n",
    "    step=0.05,\n",
    "    description='QoS:',\n",
    "    disabled=False,\n",
    "    continuous_update=False,\n",
    "    orientation='horizontal',\n",
    "    readout=True,\n",
    "    readout_format='.2f',\n",
    ")\n",
    "\n",
    "button = widgets.Button(description='Calculate', button_style='info')\n",
    "\n",
    "def show_widgets():\n",
    "    display(app1)\n",
    "    display(app2)\n",
    "    display(qos)\n",
    "    display(button)\n",
    "    \n",
    "show_widgets()\n",
    "\n",
    "def onclick(b):\n",
    "    clear_output()\n",
    "    show_widgets()\n",
    "    %run $find_pair --app $app1.value $app2.value --qos $qos.value --intra_pkl $intra_pkl --top\n",
    "    \n",
    "    df_prod = pd.read_pickle(os.path.join(PKL_PATH, 'pair_candidates.pkl'))\n",
    "    print(df_prod.columns)\n",
    "#     sns.lineplot('diff_mflat', 'sum_ipc', data=df_prod)\n",
    "   \n",
    "    display(HTML(draw_table(df_prod, col_prod, False).render()))\n",
    "    \n",
    "    \n",
    "button.on_click(onclick)"
   ]
  },
  {
   "cell_type": "markdown",
   "metadata": {},
   "source": [
    "# CTX Ratio"
   ]
  },
  {
   "cell_type": "code",
   "execution_count": 103,
   "metadata": {},
   "outputs": [
    {
     "name": "stdout",
     "output_type": "stream",
     "text": [
      "/home/serinatan/project/GPU-Virtualization-Benchmarks/util/data/scripts/gen_tables/gen_table_pair.py\n"
     ]
    }
   ],
   "source": [
    "gen_pair = os.path.join(SCRIPT_PATH, 'gen_tables/gen_table_pair.py')\n",
    "ctx_csv = os.path.join(HOME, 'data/csv/ctx.csv')\n",
    "output = os.path.join(PKL_PATH, 'pair_ctx.pkl')\n",
    "\n",
    "print(gen_pair)"
   ]
  },
  {
   "cell_type": "code",
   "execution_count": 104,
   "metadata": {
    "scrolled": false
   },
   "outputs": [
    {
     "name": "stdout",
     "output_type": "stream",
     "text": [
      "Index(['pair_str', 'config', 'gpusim_version', 'jobId', 'stall_icnt_to_l2',\n",
      "       'stall_l2_to_icnt', 'stall_core_ldst', 'l1D_miss_rate', 'l2_miss_rate',\n",
      "       'l2_rshr_entry_fail', 'l2_rshr_merge_fail', 'l2_total_accesses',\n",
      "       'mem_count', 'empty_warp', 'stall_warp', 'idle_warp', 'scoreboard_warp',\n",
      "       'tot_warp_insn', 'runtime', 'instructions', 'l2_bw', 'avg_mem_lat',\n",
      "       'avg_core_to_l2', 'avg_l2_to_core', 'avg_mrq_latency', 'dram_eff',\n",
      "       'dram_bw', 'row_buffer_locality', 'mem_idle', 'total_cmd'],\n",
      "      dtype='object')\n"
     ]
    }
   ],
   "source": [
    "%run $gen_pair --csv $ctx_csv --output $output --seq_pkl $seq_pkl --qos 0.5 --multi --how ctx"
   ]
  },
  {
   "cell_type": "code",
   "execution_count": 105,
   "metadata": {},
   "outputs": [
    {
     "data": {
      "text/html": [
       "<style  type=\"text/css\" >\n",
       "    #T_e703edfe_90ce_11ea_b432_107b4493f33b tr:nth-of-type(odd) {\n",
       "          background: #eee;\n",
       "    }    #T_e703edfe_90ce_11ea_b432_107b4493f33b tr:nth-of-type(even) {\n",
       "          background: white;\n",
       "    }    #T_e703edfe_90ce_11ea_b432_107b4493f33b th {\n",
       "          background: #606060;\n",
       "          color: white;\n",
       "          font-family: verdana;\n",
       "          font-size: 90%;\n",
       "    }    #T_e703edfe_90ce_11ea_b432_107b4493f33b td {\n",
       "          font-family: verdana;\n",
       "          font-size: 90%;\n",
       "          font-weight: bold;\n",
       "    }    #T_e703edfe_90ce_11ea_b432_107b4493f33b tr:hover {\n",
       "          background-color: #ffffcc;\n",
       "    }</style><table id=\"T_e703edfe_90ce_11ea_b432_107b4493f33b\" ><thead>    <tr>        <th class=\"col_heading level0 col0\" >1_bench</th>        <th class=\"col_heading level0 col1\" >2_bench</th>        <th class=\"col_heading level0 col2\" >1_ctx</th>        <th class=\"col_heading level0 col3\" >2_ctx</th>        <th class=\"col_heading level0 col4\" >runtime</th>        <th class=\"col_heading level0 col5\" >norm_runtime</th>    </tr></thead><tbody>\n",
       "                <tr>\n",
       "                                <td id=\"T_e703edfe_90ce_11ea_b432_107b4493f33brow0_col0\" class=\"data row0 col0\" >parb_sad-0</td>\n",
       "                        <td id=\"T_e703edfe_90ce_11ea_b432_107b4493f33brow0_col1\" class=\"data row0 col1\" >nvd_conv-0</td>\n",
       "                        <td id=\"T_e703edfe_90ce_11ea_b432_107b4493f33brow0_col2\" class=\"data row0 col2\" >0.5</td>\n",
       "                        <td id=\"T_e703edfe_90ce_11ea_b432_107b4493f33brow0_col3\" class=\"data row0 col3\" >0.5</td>\n",
       "                        <td id=\"T_e703edfe_90ce_11ea_b432_107b4493f33brow0_col4\" class=\"data row0 col4\" >[[], [79904, 60179, 39817, 54554, 51112, 36158, 51233, 49403, 35035, 44531, 24691, 9164], [222775, 257227]]</td>\n",
       "                        <td id=\"T_e703edfe_90ce_11ea_b432_107b4493f33brow0_col5\" class=\"data row0 col5\" >[[], [1.5475374276141227, 2.7917517164594545, 3.1092456660940186, 1.0565723471423314, 2.371126368528484, 2.8235202248945805, 0.9922530164817074, 2.2918444980515864, 2.7358269561143214, 0.8624523076327155, 1.1454351456670997, 0.7156020615336561], [1.1703686970044025, 1.2356939720604907]]</td>\n",
       "            </tr>\n",
       "            <tr>\n",
       "                                <td id=\"T_e703edfe_90ce_11ea_b432_107b4493f33brow1_col0\" class=\"data row1 col0\" >parb_sad-0</td>\n",
       "                        <td id=\"T_e703edfe_90ce_11ea_b432_107b4493f33brow1_col1\" class=\"data row1 col1\" >nvd_conv-0</td>\n",
       "                        <td id=\"T_e703edfe_90ce_11ea_b432_107b4493f33brow1_col2\" class=\"data row1 col2\" >0.25</td>\n",
       "                        <td id=\"T_e703edfe_90ce_11ea_b432_107b4493f33brow1_col3\" class=\"data row1 col3\" >0.75</td>\n",
       "                        <td id=\"T_e703edfe_90ce_11ea_b432_107b4493f33brow1_col4\" class=\"data row1 col4\" >[[], [120682, 65436, 37453, 88098, 53440, 44124, 74405, 24826, 9068], [224169, 250737]]</td>\n",
       "                        <td id=\"T_e703edfe_90ce_11ea_b432_107b4493f33brow1_col5\" class=\"data row1 col5\" >[[], [2.3373036623864585, 3.0356281313787346, 2.9246446977979073, 1.706234384986346, 2.479124141770273, 3.4455723879431517, 1.4410357716963957, 1.1516979031360177, 0.708105575511479], [1.177692202620491, 1.2045166311177726]]</td>\n",
       "            </tr>\n",
       "            <tr>\n",
       "                                <td id=\"T_e703edfe_90ce_11ea_b432_107b4493f33brow2_col0\" class=\"data row2 col0\" >parb_sad-0</td>\n",
       "                        <td id=\"T_e703edfe_90ce_11ea_b432_107b4493f33brow2_col1\" class=\"data row2 col1\" >nvd_conv-0</td>\n",
       "                        <td id=\"T_e703edfe_90ce_11ea_b432_107b4493f33brow2_col2\" class=\"data row2 col2\" >0.75</td>\n",
       "                        <td id=\"T_e703edfe_90ce_11ea_b432_107b4493f33brow2_col3\" class=\"data row2 col3\" >0.25</td>\n",
       "                        <td id=\"T_e703edfe_90ce_11ea_b432_107b4493f33brow2_col4\" class=\"data row2 col4\" >[[], [57535, 58037, 41430, 48948, 41217, 17930, 41243, 39681, 22359, 41004, 39197, 22264, 41731, 28251, 9066], [233726, 296690]]</td>\n",
       "                        <td id=\"T_e703edfe_90ce_11ea_b432_107b4493f33brow2_col5\" class=\"data row2 col5\" >[[], [1.1143067418124069, 2.6923826312859527, 3.2352022489458068, 0.9479983731334611, 1.9120894414548153, 1.400124941433703, 0.7987721031123506, 1.8408331786973464, 1.7459784476026863, 0.7941432804601708, 1.818380033401373, 1.7385600499765734, 0.8082234230046675, 1.310586379662275, 0.7079493987193503], [1.2279007701764155, 1.4252704598297496]]</td>\n",
       "            </tr>\n",
       "            <tr>\n",
       "                                <td id=\"T_e703edfe_90ce_11ea_b432_107b4493f33brow3_col0\" class=\"data row3 col0\" >parb_sad-1</td>\n",
       "                        <td id=\"T_e703edfe_90ce_11ea_b432_107b4493f33brow3_col1\" class=\"data row3 col1\" >nvd_conv-0</td>\n",
       "                        <td id=\"T_e703edfe_90ce_11ea_b432_107b4493f33brow3_col2\" class=\"data row3 col2\" >0.5</td>\n",
       "                        <td id=\"T_e703edfe_90ce_11ea_b432_107b4493f33brow3_col3\" class=\"data row3 col3\" >0.5</td>\n",
       "                        <td id=\"T_e703edfe_90ce_11ea_b432_107b4493f33brow3_col4\" class=\"data row3 col4\" >[[], [4815039, 3784634, 907171], [208799, 236771, 209355, 228803, 207294, 228246, 206345, 232239, 206359, 228128, 207729, 228746, 204581, 229212, 209619, 228169, 206378, 226733, 206028, 229401, 204865, 228913, 446775, 485604, 459607, 479317, 457192, 475391, 453561, 471411, 402902, 441135, 239744, 178062]]</td>\n",
       "                        <td id=\"T_e703edfe_90ce_11ea_b432_107b4493f33brow3_col5\" class=\"data row3 col5\" >[[], [1.6046353758082266, 1.6278205740289122, 1.6741642290976535], [1.0969445115736607, 1.1374252992832574, 1.099865508074769, 1.099147787321535, 1.0890378573755162, 1.0964720124517207, 1.0840521996784802, 1.115654003574105, 1.084125749950091, 1.0959051517073077, 1.0913231693862755, 1.0988739647585557, 1.0747848654555388, 1.1011125843085259, 1.1012524560537127, 1.0961021117964682, 1.0842255681758481, 1.089203704771238, 1.0823868113855821, 1.1020205222805095, 1.0762768852510691, 1.0996762168290386, 2.3471730427747364, 2.3327952960166023, 2.414587120296723, 2.302593147710459, 2.4018996984438865, 2.2837330181971907, 2.3828239101425823, 2.264613477834784, 2.1166822523194604, 2.1191704617513114, 1.2595168797873346, 0.855392863319306]]</td>\n",
       "            </tr>\n",
       "            <tr>\n",
       "                                <td id=\"T_e703edfe_90ce_11ea_b432_107b4493f33brow4_col0\" class=\"data row4 col0\" >parb_sad-1</td>\n",
       "                        <td id=\"T_e703edfe_90ce_11ea_b432_107b4493f33brow4_col1\" class=\"data row4 col1\" >nvd_conv-0</td>\n",
       "                        <td id=\"T_e703edfe_90ce_11ea_b432_107b4493f33brow4_col2\" class=\"data row4 col2\" >0.25</td>\n",
       "                        <td id=\"T_e703edfe_90ce_11ea_b432_107b4493f33brow4_col3\" class=\"data row4 col3\" >0.75</td>\n",
       "                        <td id=\"T_e703edfe_90ce_11ea_b432_107b4493f33brow4_col4\" class=\"data row4 col4\" >[[], [7749491, 3638755, 882465], [202694, 232685, 206124, 223150, 204791, 226408, 205894, 222317, 206189, 227482, 207217, 222947, 206305, 224576, 207279, 223934, 206650, 225307, 204890, 224163, 205903, 223824, 206071, 224222, 205646, 225442, 206160, 225503, 205242, 224183, 207350, 225487, 206430, 223286, 206456, 235325, 439520, 442850, 423767, 435910, 422453, 437138, 426656, 438107, 370630, 416983, 303195, 195664]]</td>\n",
       "                        <td id=\"T_e703edfe_90ce_11ea_b432_107b4493f33brow4_col5\" class=\"data row4 col5\" >[[], [2.5825559051769815, 1.565076108508927, 1.6285698467330423], [1.0648713395605898, 1.117796545031802, 1.082891156105198, 1.0719913145404585, 1.0758881195296985, 1.0876424357717953, 1.0816828302144517, 1.0679896619972713, 1.0832326395091045, 1.0928018293268769, 1.0886333308816576, 1.0710161219038834, 1.083842056045307, 1.078841682519552, 1.0889590535130762, 1.0757575757575757, 1.0856545448814265, 1.0823533367921447, 1.0764082250218023, 1.0768576699141061, 1.0817301125319156, 1.075229146250072, 1.0826127157912433, 1.0771411002863127, 1.0803799396887772, 1.08300186391499, 1.0830802853750539, 1.083294902096424, 1.0782574889937273, 1.0769537480063796, 1.0893320584619588, 1.0832180396226052, 1.0844987548989735, 1.0726446455679175, 1.084635348260536, 1.1304788532118906, 2.309058241307934, 2.1274091581637555, 2.226298424973469, 2.094070060144886, 2.2193952066237275, 2.0999692550104725, 2.241476048879409, 2.1046242385811187, 1.9471383690752628, 2.003146557521954, 1.5928624714992698, 0.9399511923291252]]</td>\n",
       "            </tr>\n",
       "            <tr>\n",
       "                                <td id=\"T_e703edfe_90ce_11ea_b432_107b4493f33brow5_col0\" class=\"data row5 col0\" >parb_sad-1</td>\n",
       "                        <td id=\"T_e703edfe_90ce_11ea_b432_107b4493f33brow5_col1\" class=\"data row5 col1\" >nvd_conv-0</td>\n",
       "                        <td id=\"T_e703edfe_90ce_11ea_b432_107b4493f33brow5_col2\" class=\"data row5 col2\" >0.75</td>\n",
       "                        <td id=\"T_e703edfe_90ce_11ea_b432_107b4493f33brow5_col3\" class=\"data row5 col3\" >0.25</td>\n",
       "                        <td id=\"T_e703edfe_90ce_11ea_b432_107b4493f33brow5_col4\" class=\"data row5 col4\" >[[], [3746237, 3352967, 825521], [224531, 270732, 211348, 257990, 209074, 258738, 209492, 256824, 208760, 258727, 209841, 258275, 209321, 257639, 208736, 298611, 474230, 746666, 476775, 742456, 477074, 682868, 459221, 217433]]</td>\n",
       "                        <td id=\"T_e703edfe_90ce_11ea_b432_107b4493f33brow5_col5\" class=\"data row5 col5\" >[[], [1.248451864327928, 1.442154952537022, 1.5234809408247443], [1.1795940025007092, 1.300570703868104, 1.1103359145976275, 1.239359351280721, 1.0983892490517269, 1.242952671931746, 1.1005852500183875, 1.2337579985011817, 1.0967396215313165, 1.2428998289809958, 1.1024187532178245, 1.2407284640956169, 1.0996868859865718, 1.2376731807613228, 1.0966135353514126, 1.4344987605926096, 2.4914103789940425, 3.5869122422705173, 2.504780767654692, 3.5666878038469667, 2.5063515913126624, 3.2804327357275995, 2.4125592342366007, 1.0445273918641071]]</td>\n",
       "            </tr>\n",
       "    </tbody></table>"
      ],
      "text/plain": [
       "<pandas.io.formats.style.Styler at 0x7fede8b8d240>"
      ]
     },
     "execution_count": 105,
     "metadata": {},
     "output_type": "execute_result"
    }
   ],
   "source": [
    "df_ctx= pd.read_pickle(output)\n",
    "\n",
    "col_ctx = ['1_bench', '2_bench', '1_ctx', '2_ctx', 'runtime', 'norm_runtime']\n",
    "draw_table(df_ctx, col_ctx)"
   ]
  },
  {
   "cell_type": "code",
   "execution_count": 109,
   "metadata": {},
   "outputs": [],
   "source": [
    "pair_series = df_ctx.iloc[3]\n",
    "runtime = pair_series['runtime']\n",
    "s1_runtime = runtime[1]\n",
    "s2_runtime = runtime[2]\n",
    "\n",
    "norm_runtime = pair_series['norm_runtime']\n",
    "s1_norm = norm_runtime[1]\n",
    "s2_norm = norm_runtime[2]\n",
    "\n",
    "def get_from_to(duration):\n",
    "    time_series = [0]\n",
    "\n",
    "    for d in duration:\n",
    "        new_elem = time_series[-1] + d\n",
    "        time_series.append(new_elem)\n",
    "        \n",
    "    time_series = np.array(time_series)\n",
    "    return time_series[0:-1], time_series[1:]\n",
    "\n",
    "s1_from, s1_to = get_from_to(s1_runtime)\n",
    "s1 = np.repeat(\"1\", s1_from.shape[0])\n",
    "k1 = np.arange(1, const.multi_kernel_app[pair_series['1_bench']]+1)\n",
    "k1 = np.resize(k1, s1_from.shape[0])\n",
    "k1 = ['{}:{}'.format('1', k) for k in k1]\n",
    "\n",
    "s2_from, s2_to = get_from_to(s2_runtime)\n",
    "s2 = np.repeat(\"2\", s2_from.shape[0])\n",
    "k2 = np.arange(1, const.multi_kernel_app[pair_series['2_bench']]+1)\n",
    "k2 = np.resize(k2, s2_from.shape[0]).astype(str)\n",
    "k2 = ['{}:{}'.format('2', k) for k in k2]\n",
    "\n",
    "col_from = np.concatenate((s1_from, s2_from))\n",
    "col_to = np.concatenate((s1_to, s2_to))\n",
    "col_stream = np.concatenate((s1, s2))\n",
    "col_kernel = np.concatenate((k1, k2))\n",
    "col_norm = np.concatenate((s1_norm, s2_norm))\n",
    "\n"
   ]
  },
  {
   "cell_type": "code",
   "execution_count": 108,
   "metadata": {},
   "outputs": [
    {
     "data": {
      "text/html": [
       "\n",
       "<div id=\"altair-viz-9943746e11424dc092dc92d8405ee7de\"></div>\n",
       "<script type=\"text/javascript\">\n",
       "  (function(spec, embedOpt){\n",
       "    let outputDiv = document.currentScript.previousElementSibling;\n",
       "    if (outputDiv.id !== \"altair-viz-9943746e11424dc092dc92d8405ee7de\") {\n",
       "      outputDiv = document.getElementById(\"altair-viz-9943746e11424dc092dc92d8405ee7de\");\n",
       "    }\n",
       "    const paths = {\n",
       "      \"vega\": \"https://cdn.jsdelivr.net/npm//vega@5?noext\",\n",
       "      \"vega-lib\": \"https://cdn.jsdelivr.net/npm//vega-lib?noext\",\n",
       "      \"vega-lite\": \"https://cdn.jsdelivr.net/npm//vega-lite@4.8.1?noext\",\n",
       "      \"vega-embed\": \"https://cdn.jsdelivr.net/npm//vega-embed@6?noext\",\n",
       "    };\n",
       "\n",
       "    function loadScript(lib) {\n",
       "      return new Promise(function(resolve, reject) {\n",
       "        var s = document.createElement('script');\n",
       "        s.src = paths[lib];\n",
       "        s.async = true;\n",
       "        s.onload = () => resolve(paths[lib]);\n",
       "        s.onerror = () => reject(`Error loading script: ${paths[lib]}`);\n",
       "        document.getElementsByTagName(\"head\")[0].appendChild(s);\n",
       "      });\n",
       "    }\n",
       "\n",
       "    function showError(err) {\n",
       "      outputDiv.innerHTML = `<div class=\"error\" style=\"color:red;\">${err}</div>`;\n",
       "      throw err;\n",
       "    }\n",
       "\n",
       "    function displayChart(vegaEmbed) {\n",
       "      vegaEmbed(outputDiv, spec, embedOpt)\n",
       "        .catch(err => showError(`Javascript Error: ${err.message}<br>This usually means there's a typo in your chart specification. See the javascript console for the full traceback.`));\n",
       "    }\n",
       "\n",
       "    if(typeof define === \"function\" && define.amd) {\n",
       "      requirejs.config({paths});\n",
       "      require([\"vega-embed\"], displayChart, err => showError(`Error loading script: ${err.message}`));\n",
       "    } else if (typeof vegaEmbed === \"function\") {\n",
       "      displayChart(vegaEmbed);\n",
       "    } else {\n",
       "      loadScript(\"vega\")\n",
       "        .then(() => loadScript(\"vega-lite\"))\n",
       "        .then(() => loadScript(\"vega-embed\"))\n",
       "        .catch(showError)\n",
       "        .then(() => displayChart(vegaEmbed));\n",
       "    }\n",
       "  })({\"config\": {\"view\": {\"continuousWidth\": 400, \"continuousHeight\": 300}}, \"layer\": [{\"data\": {\"name\": \"data-7f08bccf2a3943f3e1ac466d0648bc78\"}, \"mark\": \"bar\", \"encoding\": {\"color\": {\"type\": \"nominal\", \"field\": \"kernel\", \"scale\": {\"scheme\": \"dark2\"}}, \"x\": {\"type\": \"quantitative\", \"field\": \"start\"}, \"x2\": {\"field\": \"end\"}, \"y\": {\"type\": \"nominal\", \"field\": \"stream\"}}, \"height\": 100, \"width\": 900}, {\"data\": {\"name\": \"data-7f08bccf2a3943f3e1ac466d0648bc78\"}, \"mark\": {\"type\": \"text\", \"align\": \"center\", \"baseline\": \"middle\", \"color\": \"white\", \"fontSize\": 12}, \"encoding\": {\"text\": {\"type\": \"quantitative\", \"field\": \"norm\"}, \"x\": {\"type\": \"quantitative\", \"field\": \"position\"}, \"y\": {\"type\": \"nominal\", \"field\": \"stream\", \"title\": null}}}], \"data\": {\"name\": \"data-00d8cc2297196a9c64d02d8cab0e0e69\"}, \"$schema\": \"https://vega.github.io/schema/vega-lite/v4.8.1.json\", \"datasets\": {\"data-00d8cc2297196a9c64d02d8cab0e0e69\": [{\"Org\": \"school\", \"variable\": \"rose\", \"percent\": 25, \"position\": 12.5}, {\"Org\": \"school\", \"variable\": \"dropped\", \"percent\": 25, \"position\": 37.5}, {\"Org\": \"school\", \"variable\": \"maintained\", \"percent\": 25, \"position\": 62.5}, {\"Org\": \"school\", \"variable\": \"failed\", \"percent\": 25, \"position\": 87.5}, {\"Org\": \"board\", \"variable\": \"rose\", \"percent\": 25, \"position\": 12.5}, {\"Org\": \"board\", \"variable\": \"dropped\", \"percent\": 25, \"position\": 37.5}, {\"Org\": \"board\", \"variable\": \"maintained\", \"percent\": 25, \"position\": 62.5}, {\"Org\": \"board\", \"variable\": \"failed\", \"percent\": 25, \"position\": 87.5}], \"data-7f08bccf2a3943f3e1ac466d0648bc78\": [{\"start\": 0, \"end\": 4815039, \"stream\": \"1\", \"kernel\": \"1:1\", \"position\": 2407519.5, \"norm\": 1.6}, {\"start\": 4815039, \"end\": 8599673, \"stream\": \"1\", \"kernel\": \"1:2\", \"position\": 6707356.0, \"norm\": 1.63}, {\"start\": 8599673, \"end\": 9506844, \"stream\": \"1\", \"kernel\": \"1:3\", \"position\": 9053258.5, \"norm\": 1.67}, {\"start\": 0, \"end\": 208799, \"stream\": \"2\", \"kernel\": \"2:1\", \"position\": 104399.5, \"norm\": 1.1}, {\"start\": 208799, \"end\": 445570, \"stream\": \"2\", \"kernel\": \"2:2\", \"position\": 327184.5, \"norm\": 1.14}, {\"start\": 445570, \"end\": 654925, \"stream\": \"2\", \"kernel\": \"2:1\", \"position\": 550247.5, \"norm\": 1.1}, {\"start\": 654925, \"end\": 883728, \"stream\": \"2\", \"kernel\": \"2:2\", \"position\": 769326.5, \"norm\": 1.1}, {\"start\": 883728, \"end\": 1091022, \"stream\": \"2\", \"kernel\": \"2:1\", \"position\": 987375.0, \"norm\": 1.09}, {\"start\": 1091022, \"end\": 1319268, \"stream\": \"2\", \"kernel\": \"2:2\", \"position\": 1205145.0, \"norm\": 1.1}, {\"start\": 1319268, \"end\": 1525613, \"stream\": \"2\", \"kernel\": \"2:1\", \"position\": 1422440.5, \"norm\": 1.08}, {\"start\": 1525613, \"end\": 1757852, \"stream\": \"2\", \"kernel\": \"2:2\", \"position\": 1641732.5, \"norm\": 1.12}, {\"start\": 1757852, \"end\": 1964211, \"stream\": \"2\", \"kernel\": \"2:1\", \"position\": 1861031.5, \"norm\": 1.08}, {\"start\": 1964211, \"end\": 2192339, \"stream\": \"2\", \"kernel\": \"2:2\", \"position\": 2078275.0, \"norm\": 1.1}, {\"start\": 2192339, \"end\": 2400068, \"stream\": \"2\", \"kernel\": \"2:1\", \"position\": 2296203.5, \"norm\": 1.09}, {\"start\": 2400068, \"end\": 2628814, \"stream\": \"2\", \"kernel\": \"2:2\", \"position\": 2514441.0, \"norm\": 1.1}, {\"start\": 2628814, \"end\": 2833395, \"stream\": \"2\", \"kernel\": \"2:1\", \"position\": 2731104.5, \"norm\": 1.07}, {\"start\": 2833395, \"end\": 3062607, \"stream\": \"2\", \"kernel\": \"2:2\", \"position\": 2948001.0, \"norm\": 1.1}, {\"start\": 3062607, \"end\": 3272226, \"stream\": \"2\", \"kernel\": \"2:1\", \"position\": 3167416.5, \"norm\": 1.1}, {\"start\": 3272226, \"end\": 3500395, \"stream\": \"2\", \"kernel\": \"2:2\", \"position\": 3386310.5, \"norm\": 1.1}, {\"start\": 3500395, \"end\": 3706773, \"stream\": \"2\", \"kernel\": \"2:1\", \"position\": 3603584.0, \"norm\": 1.08}, {\"start\": 3706773, \"end\": 3933506, \"stream\": \"2\", \"kernel\": \"2:2\", \"position\": 3820139.5, \"norm\": 1.09}, {\"start\": 3933506, \"end\": 4139534, \"stream\": \"2\", \"kernel\": \"2:1\", \"position\": 4036520.0, \"norm\": 1.08}, {\"start\": 4139534, \"end\": 4368935, \"stream\": \"2\", \"kernel\": \"2:2\", \"position\": 4254234.5, \"norm\": 1.1}, {\"start\": 4368935, \"end\": 4573800, \"stream\": \"2\", \"kernel\": \"2:1\", \"position\": 4471367.5, \"norm\": 1.08}, {\"start\": 4573800, \"end\": 4802713, \"stream\": \"2\", \"kernel\": \"2:2\", \"position\": 4688256.5, \"norm\": 1.1}, {\"start\": 4802713, \"end\": 5249488, \"stream\": \"2\", \"kernel\": \"2:1\", \"position\": 5026100.5, \"norm\": 2.35}, {\"start\": 5249488, \"end\": 5735092, \"stream\": \"2\", \"kernel\": \"2:2\", \"position\": 5492290.0, \"norm\": 2.33}, {\"start\": 5735092, \"end\": 6194699, \"stream\": \"2\", \"kernel\": \"2:1\", \"position\": 5964895.5, \"norm\": 2.41}, {\"start\": 6194699, \"end\": 6674016, \"stream\": \"2\", \"kernel\": \"2:2\", \"position\": 6434357.5, \"norm\": 2.3}, {\"start\": 6674016, \"end\": 7131208, \"stream\": \"2\", \"kernel\": \"2:1\", \"position\": 6902612.0, \"norm\": 2.4}, {\"start\": 7131208, \"end\": 7606599, \"stream\": \"2\", \"kernel\": \"2:2\", \"position\": 7368903.5, \"norm\": 2.28}, {\"start\": 7606599, \"end\": 8060160, \"stream\": \"2\", \"kernel\": \"2:1\", \"position\": 7833379.5, \"norm\": 2.38}, {\"start\": 8060160, \"end\": 8531571, \"stream\": \"2\", \"kernel\": \"2:2\", \"position\": 8295865.5, \"norm\": 2.26}, {\"start\": 8531571, \"end\": 8934473, \"stream\": \"2\", \"kernel\": \"2:1\", \"position\": 8733022.0, \"norm\": 2.12}, {\"start\": 8934473, \"end\": 9375608, \"stream\": \"2\", \"kernel\": \"2:2\", \"position\": 9155040.5, \"norm\": 2.12}, {\"start\": 9375608, \"end\": 9615352, \"stream\": \"2\", \"kernel\": \"2:1\", \"position\": 9495480.0, \"norm\": 1.26}, {\"start\": 9615352, \"end\": 9793414, \"stream\": \"2\", \"kernel\": \"2:2\", \"position\": 9704383.0, \"norm\": 0.86}]}}, {\"mode\": \"vega-lite\"});\n",
       "</script>"
      ],
      "text/plain": [
       "alt.LayerChart(...)"
      ]
     },
     "execution_count": 108,
     "metadata": {},
     "output_type": "execute_result"
    }
   ],
   "source": [
    "alt.renderers.enable('default')\n",
    "\n",
    "data = pd.DataFrame()\n",
    "data[\"start\"] = col_from\n",
    "data[\"end\"] = col_to\n",
    "data[\"stream\"] = col_stream\n",
    "data[\"kernel\"] = col_kernel\n",
    "data['position'] = (data['start'] + data['end']) / 2\n",
    "data['norm'] = col_norm \n",
    "data['norm'] = data['norm'].round(2)\n",
    "\n",
    "\n",
    "bars = alt.Chart(data).mark_bar().encode(\n",
    "    x=\"start\",\n",
    "    x2=\"end\",\n",
    "    y=\"stream\",\n",
    "    color=alt.Color('kernel', scale=alt.Scale(scheme='dark2'))\n",
    ").properties(\n",
    "    width=900,\n",
    "    height=100\n",
    ")\n",
    "\n",
    "text=alt.Chart(data).mark_text(\n",
    "    align='center', \n",
    "    baseline='middle',\n",
    "    color='white',\n",
    "    fontSize=12\n",
    ").encode(\n",
    "    y=alt.Y('stream', title=None),\n",
    "    x='position',\n",
    "    text='norm'\n",
    ")\n",
    "\n",
    "alt.layer(bars, text, data=df)"
   ]
  },
  {
   "cell_type": "code",
   "execution_count": null,
   "metadata": {},
   "outputs": [],
   "source": []
  }
 ],
 "metadata": {
  "kernelspec": {
   "display_name": "Python 3",
   "language": "python",
   "name": "python3"
  },
  "language_info": {
   "codemirror_mode": {
    "name": "ipython",
    "version": 3
   },
   "file_extension": ".py",
   "mimetype": "text/x-python",
   "name": "python",
   "nbconvert_exporter": "python",
   "pygments_lexer": "ipython3",
   "version": "3.6.8"
  }
 },
 "nbformat": 4,
 "nbformat_minor": 4
}
