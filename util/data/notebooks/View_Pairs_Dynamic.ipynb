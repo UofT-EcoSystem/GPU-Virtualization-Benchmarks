{
 "cells": [
  {
   "cell_type": "code",
   "execution_count": 501,
   "metadata": {},
   "outputs": [
    {
     "name": "stdout",
     "output_type": "stream",
     "text": [
      "The autoreload extension is already loaded. To reload it, use:\n",
      "  %reload_ext autoreload\n"
     ]
    }
   ],
   "source": [
    "%load_ext autoreload\n",
    "%autoreload 2\n",
    "\n",
    "import pandas as pd\n",
    "import os\n",
    "import sys\n",
    "from ipywidgets import widgets\n",
    "from IPython.display import display, HTML\n",
    "from IPython.display import clear_output\n",
    "import matplotlib.pyplot as plt\n",
    "import seaborn as sns\n",
    "import scipy\n",
    "\n",
    "# Customized modules\n",
    "HOME = '/home/serinatan/project/GPU-Virtualization-Benchmarks/util'\n",
    "if HOME not in sys.path:\n",
    "    sys.path.append(HOME)\n",
    "\n",
    "import data.scripts.common.format as fmt\n",
    "import data.scripts.common.constants as const\n",
    "import data.scripts.gen_tables.gen_pair_configs as gen_pair\n",
    "import data.scripts.gen_tables.gen_table_pair as gen_table_pair\n",
    "import data.scripts.predict.predict_slowdown as predict\n",
    "\n",
    "SCRIPT_PATH = os.path.join(HOME, 'data/scripts') \n",
    "PKL_PATH = os.path.join(HOME, 'data/pickles') \n",
    "CSV_PATH = os.path.join(HOME, 'data/csv')"
   ]
  },
  {
   "cell_type": "code",
   "execution_count": 212,
   "metadata": {},
   "outputs": [],
   "source": [
    "def draw_table(df, cols, hide_index=True):\n",
    "    if hide_index:\n",
    "        return df[cols].style.set_table_styles(fmt.table_style).hide_index()\n",
    "    else:\n",
    "        return df[cols].style.set_table_styles(fmt.table_style)"
   ]
  },
  {
   "cell_type": "markdown",
   "metadata": {},
   "source": [
    "# Pair - dynamic"
   ]
  },
  {
   "cell_type": "code",
   "execution_count": 491,
   "metadata": {
    "scrolled": false
   },
   "outputs": [],
   "source": [
    "gen_pair = os.path.join(SCRIPT_PATH, 'gen_tables/gen_table_pair.py')\n",
    "baseline = 'seq'\n",
    "seq_pkl = os.path.join(PKL_PATH, 'seq.pkl')\n",
    "intra_pkl = os.path.join(PKL_PATH, 'intra.pkl')\n",
    "csv = os.path.join(HOME, 'data/csv/pair_dynamic.csv')\n",
    "output = os.path.join(PKL_PATH, 'pair_dynamic_seq.pkl')\n",
    "\n",
    "%run $gen_pair --csv $csv --output $output --seq_pkl $seq_pkl --intra_pkl $intra_pkl "
   ]
  },
  {
   "cell_type": "code",
   "execution_count": 492,
   "metadata": {},
   "outputs": [
    {
     "name": "stdout",
     "output_type": "stream",
     "text": [
      "(1845, 211)\n",
      "(1845, 211)\n"
     ]
    }
   ],
   "source": [
    "df_dynamic = pd.read_pickle(output)\n",
    "df_dynamic.sort_values(['1_bench', '2_bench'], inplace=True)\n",
    "df_dynamic.reset_index(inplace=True, drop=True)\n",
    "print(df_dynamic.shape)\n",
    "\n",
    "# FIXME: drop any rows with zero fairness\n",
    "df_dynamic = df_dynamic[df_dynamic['fairness'] > 0]\n",
    "print(df_dynamic.shape)\n"
   ]
  },
  {
   "cell_type": "markdown",
   "metadata": {},
   "source": [
    "# Prediction Model"
   ]
  },
  {
   "cell_type": "code",
   "execution_count": 493,
   "metadata": {
    "scrolled": false
   },
   "outputs": [
    {
     "name": "stdout",
     "output_type": "stream",
     "text": [
      "X invalid? False\n",
      "y invalid? False\n",
      "X invalid? False\n",
      "y invalid? False\n",
      "(3690, 7) (3690,)\n",
      "K-fold l1 error: 0.03251559658985103\n",
      "K-fold l1 error: 0.03337581143397477\n",
      "K-fold l1 error: 0.035463499219757985\n",
      "K-fold l1 error: 0.03515640283580544\n",
      "K-fold l1 error: 0.0323043302955595\n"
     ]
    }
   ],
   "source": [
    "X, y = predict.prepare_datasets(df_dynamic, cc=False)\n",
    "model = predict.train(X, y)"
   ]
  },
  {
   "cell_type": "code",
   "execution_count": 494,
   "metadata": {},
   "outputs": [
    {
     "data": {
      "image/png": "[encoded data removed]",
      "text/plain": [
       "<Figure size 460.8x316.8 with 1 Axes>"
      ]
     },
     "metadata": {
      "needs_background": "light"
     },
     "output_type": "display_data"
    }
   ],
   "source": [
    "plt.scatter(y, model.predict(X))\n",
    "plt.plot(y, y)\n",
    "plt.show()"
   ]
  },
  {
   "cell_type": "code",
   "execution_count": 495,
   "metadata": {},
   "outputs": [
    {
     "data": {
      "image/png": "[encoded data removed]",
      "text/plain": [
       "<Figure size 460.8x316.8 with 1 Axes>"
      ]
     },
     "metadata": {
      "needs_background": "light"
     },
     "output_type": "display_data"
    }
   ],
   "source": [
    "predict.plot_importance(model)"
   ]
  },
  {
   "cell_type": "code",
   "execution_count": 496,
   "metadata": {
    "scrolled": false
   },
   "outputs": [],
   "source": [
    "df_dynamic['1_predicted'] = predict.predict_from_df(model, df_dynamic, 'x')\n",
    "df_dynamic['2_predicted'] = predict.predict_from_df(model, df_dynamic, 'y')\n",
    "\n",
    "df_dynamic['1_delta'] = df_dynamic['1_predicted'] - df_dynamic['1_sld']\n",
    "df_dynamic['2_delta'] = df_dynamic['2_predicted'] - df_dynamic['2_sld']"
   ]
  },
  {
   "cell_type": "code",
   "execution_count": 529,
   "metadata": {
    "scrolled": false
   },
   "outputs": [
    {
     "data": {
      "text/html": [
       "<style  type=\"text/css\" >\n",
       "    #T_94ee12e0_51ce_11ea_926a_107b4493f33b tr:nth-of-type(odd) {\n",
       "          background: #eee;\n",
       "    }    #T_94ee12e0_51ce_11ea_926a_107b4493f33b tr:nth-of-type(even) {\n",
       "          background: white;\n",
       "    }    #T_94ee12e0_51ce_11ea_926a_107b4493f33b th {\n",
       "          background: #606060;\n",
       "          color: white;\n",
       "          font-family: verdana;\n",
       "          font-size: 90%;\n",
       "    }    #T_94ee12e0_51ce_11ea_926a_107b4493f33b td {\n",
       "          font-family: verdana;\n",
       "          font-size: 90%;\n",
       "          font-weight: bold;\n",
       "    }    #T_94ee12e0_51ce_11ea_926a_107b4493f33b tr:hover {\n",
       "          background-color: #ffffcc;\n",
       "    }    #T_94ee12e0_51ce_11ea_926a_107b4493f33brow2_col8 {\n",
       "            background-color:  yellow;\n",
       "        }    #T_94ee12e0_51ce_11ea_926a_107b4493f33brow4_col8 {\n",
       "            background-color:  yellow;\n",
       "        }    #T_94ee12e0_51ce_11ea_926a_107b4493f33brow4_col11 {\n",
       "            background-color:  yellow;\n",
       "        }</style><table id=\"T_94ee12e0_51ce_11ea_926a_107b4493f33b\" ><thead>    <tr>        <th class=\"blank level0\" ></th>        <th class=\"col_heading level0 col0\" >1_bench</th>        <th class=\"col_heading level0 col1\" >intra_x</th>        <th class=\"col_heading level0 col2\" >l2_x</th>        <th class=\"col_heading level0 col3\" >2_bench</th>        <th class=\"col_heading level0 col4\" >intra_y</th>        <th class=\"col_heading level0 col5\" >l2_y</th>        <th class=\"col_heading level0 col6\" >1_sld</th>        <th class=\"col_heading level0 col7\" >1_predicted</th>        <th class=\"col_heading level0 col8\" >1_delta</th>        <th class=\"col_heading level0 col9\" >2_sld</th>        <th class=\"col_heading level0 col10\" >2_predicted</th>        <th class=\"col_heading level0 col11\" >2_delta</th>        <th class=\"col_heading level0 col12\" >ws</th>        <th class=\"col_heading level0 col13\" >fairness</th>    </tr></thead><tbody>\n",
       "                <tr>\n",
       "                        <th id=\"T_94ee12e0_51ce_11ea_926a_107b4493f33blevel0_row0\" class=\"row_heading level0 row0\" >4</th>\n",
       "                        <td id=\"T_94ee12e0_51ce_11ea_926a_107b4493f33brow0_col0\" class=\"data row0 col0\" >parb_lbm-0</td>\n",
       "                        <td id=\"T_94ee12e0_51ce_11ea_926a_107b4493f33brow0_col1\" class=\"data row0 col1\" >6</td>\n",
       "                        <td id=\"T_94ee12e0_51ce_11ea_926a_107b4493f33brow0_col2\" class=\"data row0 col2\" >0.5</td>\n",
       "                        <td id=\"T_94ee12e0_51ce_11ea_926a_107b4493f33brow0_col3\" class=\"data row0 col3\" >rod_lavamd-0</td>\n",
       "                        <td id=\"T_94ee12e0_51ce_11ea_926a_107b4493f33brow0_col4\" class=\"data row0 col4\" >5</td>\n",
       "                        <td id=\"T_94ee12e0_51ce_11ea_926a_107b4493f33brow0_col5\" class=\"data row0 col5\" >0.5</td>\n",
       "                        <td id=\"T_94ee12e0_51ce_11ea_926a_107b4493f33brow0_col6\" class=\"data row0 col6\" >0.929835</td>\n",
       "                        <td id=\"T_94ee12e0_51ce_11ea_926a_107b4493f33brow0_col7\" class=\"data row0 col7\" >0.899812</td>\n",
       "                        <td id=\"T_94ee12e0_51ce_11ea_926a_107b4493f33brow0_col8\" class=\"data row0 col8\" >-0.0300228</td>\n",
       "                        <td id=\"T_94ee12e0_51ce_11ea_926a_107b4493f33brow0_col9\" class=\"data row0 col9\" >1.00899</td>\n",
       "                        <td id=\"T_94ee12e0_51ce_11ea_926a_107b4493f33brow0_col10\" class=\"data row0 col10\" >0.952623</td>\n",
       "                        <td id=\"T_94ee12e0_51ce_11ea_926a_107b4493f33brow0_col11\" class=\"data row0 col11\" >-0.0563625</td>\n",
       "                        <td id=\"T_94ee12e0_51ce_11ea_926a_107b4493f33brow0_col12\" class=\"data row0 col12\" >1.93882</td>\n",
       "                        <td id=\"T_94ee12e0_51ce_11ea_926a_107b4493f33brow0_col13\" class=\"data row0 col13\" >0.921554</td>\n",
       "            </tr>\n",
       "            <tr>\n",
       "                        <th id=\"T_94ee12e0_51ce_11ea_926a_107b4493f33blevel0_row1\" class=\"row_heading level0 row1\" >13</th>\n",
       "                        <td id=\"T_94ee12e0_51ce_11ea_926a_107b4493f33brow1_col0\" class=\"data row1 col0\" >parb_cutcp-0</td>\n",
       "                        <td id=\"T_94ee12e0_51ce_11ea_926a_107b4493f33brow1_col1\" class=\"data row1 col1\" >2</td>\n",
       "                        <td id=\"T_94ee12e0_51ce_11ea_926a_107b4493f33brow1_col2\" class=\"data row1 col2\" >0.25</td>\n",
       "                        <td id=\"T_94ee12e0_51ce_11ea_926a_107b4493f33brow1_col3\" class=\"data row1 col3\" >rod_lavamd-0</td>\n",
       "                        <td id=\"T_94ee12e0_51ce_11ea_926a_107b4493f33brow1_col4\" class=\"data row1 col4\" >2</td>\n",
       "                        <td id=\"T_94ee12e0_51ce_11ea_926a_107b4493f33brow1_col5\" class=\"data row1 col5\" >0.75</td>\n",
       "                        <td id=\"T_94ee12e0_51ce_11ea_926a_107b4493f33brow1_col6\" class=\"data row1 col6\" >0.903037</td>\n",
       "                        <td id=\"T_94ee12e0_51ce_11ea_926a_107b4493f33brow1_col7\" class=\"data row1 col7\" >0.864357</td>\n",
       "                        <td id=\"T_94ee12e0_51ce_11ea_926a_107b4493f33brow1_col8\" class=\"data row1 col8\" >-0.0386792</td>\n",
       "                        <td id=\"T_94ee12e0_51ce_11ea_926a_107b4493f33brow1_col9\" class=\"data row1 col9\" >0.876262</td>\n",
       "                        <td id=\"T_94ee12e0_51ce_11ea_926a_107b4493f33brow1_col10\" class=\"data row1 col10\" >0.883603</td>\n",
       "                        <td id=\"T_94ee12e0_51ce_11ea_926a_107b4493f33brow1_col11\" class=\"data row1 col11\" >0.00734042</td>\n",
       "                        <td id=\"T_94ee12e0_51ce_11ea_926a_107b4493f33brow1_col12\" class=\"data row1 col12\" >1.7793</td>\n",
       "                        <td id=\"T_94ee12e0_51ce_11ea_926a_107b4493f33brow1_col13\" class=\"data row1 col13\" >0.970351</td>\n",
       "            </tr>\n",
       "            <tr>\n",
       "                        <th id=\"T_94ee12e0_51ce_11ea_926a_107b4493f33blevel0_row2\" class=\"row_heading level0 row2\" >14</th>\n",
       "                        <td id=\"T_94ee12e0_51ce_11ea_926a_107b4493f33brow2_col0\" class=\"data row2 col0\" >cut_wmma-0</td>\n",
       "                        <td id=\"T_94ee12e0_51ce_11ea_926a_107b4493f33brow2_col1\" class=\"data row2 col1\" >2</td>\n",
       "                        <td id=\"T_94ee12e0_51ce_11ea_926a_107b4493f33brow2_col2\" class=\"data row2 col2\" >0.75</td>\n",
       "                        <td id=\"T_94ee12e0_51ce_11ea_926a_107b4493f33brow2_col3\" class=\"data row2 col3\" >rod_lavamd-0</td>\n",
       "                        <td id=\"T_94ee12e0_51ce_11ea_926a_107b4493f33brow2_col4\" class=\"data row2 col4\" >2</td>\n",
       "                        <td id=\"T_94ee12e0_51ce_11ea_926a_107b4493f33brow2_col5\" class=\"data row2 col5\" >0.25</td>\n",
       "                        <td id=\"T_94ee12e0_51ce_11ea_926a_107b4493f33brow2_col6\" class=\"data row2 col6\" >0.944537</td>\n",
       "                        <td id=\"T_94ee12e0_51ce_11ea_926a_107b4493f33brow2_col7\" class=\"data row2 col7\" >0.837331</td>\n",
       "                        <td id=\"T_94ee12e0_51ce_11ea_926a_107b4493f33brow2_col8\" class=\"data row2 col8\" >-0.107206</td>\n",
       "                        <td id=\"T_94ee12e0_51ce_11ea_926a_107b4493f33brow2_col9\" class=\"data row2 col9\" >0.826648</td>\n",
       "                        <td id=\"T_94ee12e0_51ce_11ea_926a_107b4493f33brow2_col10\" class=\"data row2 col10\" >0.825857</td>\n",
       "                        <td id=\"T_94ee12e0_51ce_11ea_926a_107b4493f33brow2_col11\" class=\"data row2 col11\" >-0.000791497</td>\n",
       "                        <td id=\"T_94ee12e0_51ce_11ea_926a_107b4493f33brow2_col12\" class=\"data row2 col12\" >1.77118</td>\n",
       "                        <td id=\"T_94ee12e0_51ce_11ea_926a_107b4493f33brow2_col13\" class=\"data row2 col13\" >0.875189</td>\n",
       "            </tr>\n",
       "            <tr>\n",
       "                        <th id=\"T_94ee12e0_51ce_11ea_926a_107b4493f33blevel0_row3\" class=\"row_heading level0 row3\" >21</th>\n",
       "                        <td id=\"T_94ee12e0_51ce_11ea_926a_107b4493f33brow3_col0\" class=\"data row3 col0\" >parb_stencil-0</td>\n",
       "                        <td id=\"T_94ee12e0_51ce_11ea_926a_107b4493f33brow3_col1\" class=\"data row3 col1\" >5</td>\n",
       "                        <td id=\"T_94ee12e0_51ce_11ea_926a_107b4493f33brow3_col2\" class=\"data row3 col2\" >0.5</td>\n",
       "                        <td id=\"T_94ee12e0_51ce_11ea_926a_107b4493f33brow3_col3\" class=\"data row3 col3\" >rod_lavamd-0</td>\n",
       "                        <td id=\"T_94ee12e0_51ce_11ea_926a_107b4493f33brow3_col4\" class=\"data row3 col4\" >3</td>\n",
       "                        <td id=\"T_94ee12e0_51ce_11ea_926a_107b4493f33brow3_col5\" class=\"data row3 col5\" >0.5</td>\n",
       "                        <td id=\"T_94ee12e0_51ce_11ea_926a_107b4493f33brow3_col6\" class=\"data row3 col6\" >0.857657</td>\n",
       "                        <td id=\"T_94ee12e0_51ce_11ea_926a_107b4493f33brow3_col7\" class=\"data row3 col7\" >0.87618</td>\n",
       "                        <td id=\"T_94ee12e0_51ce_11ea_926a_107b4493f33brow3_col8\" class=\"data row3 col8\" >0.0185227</td>\n",
       "                        <td id=\"T_94ee12e0_51ce_11ea_926a_107b4493f33brow3_col9\" class=\"data row3 col9\" >0.745233</td>\n",
       "                        <td id=\"T_94ee12e0_51ce_11ea_926a_107b4493f33brow3_col10\" class=\"data row3 col10\" >0.810347</td>\n",
       "                        <td id=\"T_94ee12e0_51ce_11ea_926a_107b4493f33brow3_col11\" class=\"data row3 col11\" >0.0651144</td>\n",
       "                        <td id=\"T_94ee12e0_51ce_11ea_926a_107b4493f33brow3_col12\" class=\"data row3 col12\" >1.60289</td>\n",
       "                        <td id=\"T_94ee12e0_51ce_11ea_926a_107b4493f33brow3_col13\" class=\"data row3 col13\" >0.868917</td>\n",
       "            </tr>\n",
       "            <tr>\n",
       "                        <th id=\"T_94ee12e0_51ce_11ea_926a_107b4493f33blevel0_row4\" class=\"row_heading level0 row4\" >37</th>\n",
       "                        <td id=\"T_94ee12e0_51ce_11ea_926a_107b4493f33brow4_col0\" class=\"data row4 col0\" >cut_sgemm-1</td>\n",
       "                        <td id=\"T_94ee12e0_51ce_11ea_926a_107b4493f33brow4_col1\" class=\"data row4 col1\" >1</td>\n",
       "                        <td id=\"T_94ee12e0_51ce_11ea_926a_107b4493f33brow4_col2\" class=\"data row4 col2\" >0.25</td>\n",
       "                        <td id=\"T_94ee12e0_51ce_11ea_926a_107b4493f33brow4_col3\" class=\"data row4 col3\" >rod_lavamd-0</td>\n",
       "                        <td id=\"T_94ee12e0_51ce_11ea_926a_107b4493f33brow4_col4\" class=\"data row4 col4\" >2</td>\n",
       "                        <td id=\"T_94ee12e0_51ce_11ea_926a_107b4493f33brow4_col5\" class=\"data row4 col5\" >0.75</td>\n",
       "                        <td id=\"T_94ee12e0_51ce_11ea_926a_107b4493f33brow4_col6\" class=\"data row4 col6\" >0.618032</td>\n",
       "                        <td id=\"T_94ee12e0_51ce_11ea_926a_107b4493f33brow4_col7\" class=\"data row4 col7\" >0.80279</td>\n",
       "                        <td id=\"T_94ee12e0_51ce_11ea_926a_107b4493f33brow4_col8\" class=\"data row4 col8\" >0.184758</td>\n",
       "                        <td id=\"T_94ee12e0_51ce_11ea_926a_107b4493f33brow4_col9\" class=\"data row4 col9\" >0.623773</td>\n",
       "                        <td id=\"T_94ee12e0_51ce_11ea_926a_107b4493f33brow4_col10\" class=\"data row4 col10\" >0.792842</td>\n",
       "                        <td id=\"T_94ee12e0_51ce_11ea_926a_107b4493f33brow4_col11\" class=\"data row4 col11\" >0.169069</td>\n",
       "                        <td id=\"T_94ee12e0_51ce_11ea_926a_107b4493f33brow4_col12\" class=\"data row4 col12\" >1.24181</td>\n",
       "                        <td id=\"T_94ee12e0_51ce_11ea_926a_107b4493f33brow4_col13\" class=\"data row4 col13\" >0.990796</td>\n",
       "            </tr>\n",
       "    </tbody></table>"
      ],
      "text/plain": [
       "<pandas.io.formats.style.Styler at 0x7f06270956d8>"
      ]
     },
     "execution_count": 529,
     "metadata": {},
     "output_type": "execute_result"
    }
   ],
   "source": [
    "# Only show best performance for each benchmark pair\n",
    "df_dynamic_show = df_dynamic.sort_values('ws', ascending=False).drop_duplicates(['1_bench','2_bench'])\n",
    "df_dynamic_show.reset_index(inplace=True, drop=True)\n",
    "\n",
    "col_dynamic_seq = ['1_bench', 'intra_x', 'l2_x',\n",
    "                   '2_bench', 'intra_y', 'l2_y',\n",
    "#                    'norm_ipc_x', \n",
    "                   '1_sld', '1_predicted',  #'1_infer', \n",
    "                   '1_delta',\n",
    "#                    'diff_rbh_x', 'diff_mflat_x', 'diff_bw_x', 'diff_mpc_x', 'diff_thread_x', 'l2_miss_rate_x',\n",
    "#                    'norm_ipc_y', \n",
    "                   '2_sld', '2_predicted',  #'2_infer', \n",
    "                   '2_delta',\n",
    "                   'ws', 'fairness', \n",
    "#                    'sum_ipc', 'diff_mflat', 'sum_dram',\n",
    "#                    '1_norm_mflat', '2_norm_mflat'\n",
    "                  ]\n",
    "def highlight_error(s):\n",
    "    is_high = np.abs(s) > 0.1\n",
    "    return ['background-color: yellow' if v else '' for v in is_high]\n",
    "\n",
    "draw_table(df_dynamic_show[df_dynamic_show['2_bench']=='rod_lavamd-0'], \n",
    "           #df_dynamic[(df_dynamic['1_delta'] > 0.15)|(df_dynamic['2_delta'] > 0.15)], \n",
    "           col_dynamic_seq, False).apply(highlight_error, subset=['1_delta', '2_delta'])"
   ]
  },
  {
   "cell_type": "markdown",
   "metadata": {},
   "source": [
    "# L2 partition worth it?"
   ]
  },
  {
   "cell_type": "code",
   "execution_count": 522,
   "metadata": {},
   "outputs": [
    {
     "name": "stdout",
     "output_type": "stream",
     "text": [
      "1.5916939808437316 1.5813796047349369\n",
      "0.7997131123163216 0.8017260683214498\n"
     ]
    }
   ],
   "source": [
    "# read csv file unified-l2.csv\n",
    "df_l2 = pd.read_csv(os.path.join(CSV_PATH, 'unified-l2.csv'))\n",
    "\n",
    "# split pair into two benchmarks\n",
    "pair = [re.split(r'-(?=\\D)', p) for p in df_l2['pair_str']]\n",
    "df_bench = pd.DataFrame(pair, columns=['1_bench', '2_bench'])\n",
    "df_l2 = pd.concat([df_bench, df_l2], axis=1)\n",
    "\n",
    "df_seq = pd.read_pickle(os.path.join(PKL_PATH, 'seq.pkl'))\n",
    "df_l2 = gen_table_pair.evaluate_df_pair(df_l2, df_seq)\n",
    "\n",
    "l2_keep_col = ['1_bench', '2_bench', '1_sld', '2_sld', 'ws', 'fairness']\n",
    "df_yes_l2 = df_dynamic_show[l2_keep_col]\n",
    "df_l2 = df_l2[l2_keep_col]\n",
    "\n",
    "df_merge = pd.merge(df_l2, df_yes_l2, on=['1_bench', '2_bench'])\n",
    "# draw_table(df_merge, df_merge.columns)\n",
    "\n",
    "from scipy.stats import mstats\n",
    "yes_ws = mstats.gmean(df_merge['ws_y'])\n",
    "no_ws = mstats.gmean(df_merge['ws_x'])\n",
    "yes_fair = mstats.gmean(df_merge['fairness_y'])\n",
    "no_fair = mstats.gmean(df_merge['fairness_x'])\n",
    "\n",
    "print(yes_ws, no_ws)\n",
    "print(yes_fair, no_fair)"
   ]
  },
  {
   "cell_type": "code",
   "execution_count": null,
   "metadata": {},
   "outputs": [],
   "source": []
  }
 ],
 "metadata": {
  "kernelspec": {
   "display_name": "Python 3",
   "language": "python",
   "name": "python3"
  },
  "language_info": {
   "codemirror_mode": {
    "name": "ipython",
    "version": 3
   },
   "file_extension": ".py",
   "mimetype": "text/x-python",
   "name": "python",
   "nbconvert_exporter": "python",
   "pygments_lexer": "ipython3",
   "version": "3.6.8"
  }
 },
 "nbformat": 4,
 "nbformat_minor": 2
}
